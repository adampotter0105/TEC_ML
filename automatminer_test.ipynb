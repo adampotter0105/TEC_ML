{
 "cells": [
  {
   "cell_type": "code",
   "execution_count": 1,
   "id": "initial_id",
   "metadata": {
    "collapsed": true,
    "ExecuteTime": {
     "end_time": "2023-11-14T22:09:51.119012700Z",
     "start_time": "2023-11-14T22:09:46.108118900Z"
    }
   },
   "outputs": [],
   "source": [
    "API_KEY = \"O2aTxtQ6kG5hCglB32JznFNCPtOJCYt5C0ToTGkvu39ePrMV\"\n",
    "import pandas as pd\n",
    "import numpy as np\n",
    "import tqdm\n",
    "from matminer.data_retrieval.retrieve_MPDS import MPDSDataRetrieval\n",
    "from matminer.figrecipes.plot import PlotlyFig"
   ]
  },
  {
   "cell_type": "code",
   "execution_count": 2,
   "outputs": [],
   "source": [
    "def calculate_lengths(ase_obj, limit=4):\n",
    "    \"\"\"\n",
    "    Short helper function to get bond lengths between element A\n",
    "    and element B.\n",
    "    \"\"\"\n",
    "    assert elA != elB\n",
    "    lengths = []\n",
    "    all_lengths = ase_obj.get_all_distances()\n",
    "\n",
    "    for n, atom in enumerate(ase_obj):\n",
    "        for m, neighbor in enumerate(ase_obj):\n",
    "            if neighbor.symbol != atom.symbol:\n",
    "                dist = round(all_lengths[n][m], 2) # NB occurrence <-> rounding\n",
    "                if dist < limit:\n",
    "                    lengths.append(dist)\n",
    "    return lengths"
   ],
   "metadata": {
    "collapsed": false,
    "ExecuteTime": {
     "end_time": "2023-11-14T22:09:51.142092700Z",
     "start_time": "2023-11-14T22:09:51.126746600Z"
    }
   },
   "id": "5fed465d7a748509"
  },
  {
   "cell_type": "code",
   "execution_count": 3,
   "outputs": [
    {
     "name": "stdout",
     "output_type": "stream",
     "text": [
      "\t50%\r\n",
      "Got 1597 hits\r\n"
     ]
    }
   ],
   "source": [
    "client = MPDSDataRetrieval(api_key=API_KEY)\n",
    "\n",
    "answer = client.get_data(criteria={ \"props\": \"linear thermal expansion coefficient\", \"classes\": \"oxide\"},\n",
    "                         fields={'S':['phase_id', 'entry', 'chemical_formula', 'cell_abc']})\n"
   ],
   "metadata": {
    "collapsed": false,
    "ExecuteTime": {
     "end_time": "2023-11-14T22:15:29.127119500Z",
     "start_time": "2023-11-14T22:15:22.617380600Z"
    }
   },
   "id": "a713036517ba7efe"
  },
  {
   "cell_type": "code",
   "execution_count": 6,
   "outputs": [
    {
     "name": "stderr",
     "output_type": "stream",
     "text": [
      "100%|██████████| 1597/1597 [00:00<?, ?it/s]\n"
     ]
    }
   ],
   "source": [
    "crystals = []\n",
    "for item in tqdm.tqdm(answer):\n",
    "    crystal = MPDSDataRetrieval.compile_crystal(item, 'ase')\n",
    "    if not crystal: continue\n",
    "    crystals.append(crystal)"
   ],
   "metadata": {
    "collapsed": false,
    "ExecuteTime": {
     "end_time": "2023-11-14T22:48:38.444443Z",
     "start_time": "2023-11-14T22:48:38.401112500Z"
    }
   },
   "id": "c734922641367852"
  },
  {
   "cell_type": "code",
   "execution_count": 7,
   "outputs": [
    {
     "data": {
      "text/plain": "[]"
     },
     "execution_count": 7,
     "metadata": {},
     "output_type": "execute_result"
    }
   ],
   "source": [],
   "metadata": {
    "collapsed": false,
    "ExecuteTime": {
     "end_time": "2023-11-14T22:48:51.073052500Z",
     "start_time": "2023-11-14T22:48:51.028002200Z"
    }
   },
   "id": "74fca6fcff3b2460"
  },
  {
   "cell_type": "code",
   "execution_count": null,
   "outputs": [],
   "source": [
    "lengths = []\n",
    "for item in crystals:\n",
    "    lengths.extend(calculate_lengths(item))\n",
    "\n",
    "tec = []\n",
    "\n",
    "\n",
    "data = {\"tec\": tec, \"lengths\": lengths}\n",
    "\n",
    "dfrm = pd.DataFrame(data, columns=['length'])\n",
    "dfrm['occurrence'] = dfrm.groupby('tec')['tec'].transform('count')\n",
    "dfrm.drop_duplicates('tec', inplace=True)\n",
    "pf = PlotlyFig(dfrm, mode='notebook', x_title=\"TEC (10e-6/K)\")\n",
    "pf.histogram(cols=['tec'], n_bins=30)"
   ],
   "metadata": {
    "collapsed": false
   },
   "id": "cde27e9433b2833f"
  },
  {
   "cell_type": "code",
   "execution_count": null,
   "outputs": [],
   "source": [
    "## AUTOMATMINER ##\n",
    "from matminer.datasets import load_dataset\n",
    "\n",
    "df = load_dataset(\"matbench_expt_gap\")\n",
    "\n",
    "# Let's look at our dataset\n",
    "df.describe()\n",
    "df[\"composition\"].unique().shape[0]"
   ],
   "metadata": {
    "collapsed": false
   },
   "id": "e102e3e519bdc59d"
  },
  {
   "cell_type": "code",
   "execution_count": null,
   "outputs": [],
   "source": [
    "from sklearn.model_selection import train_test_split\n",
    "\n",
    "train_df, test_df = train_test_split(df, test_size=0.2, shuffle=True, random_state=20191014)"
   ],
   "metadata": {
    "collapsed": false
   },
   "id": "d2f2099005b7ca5f"
  },
  {
   "cell_type": "code",
   "execution_count": null,
   "outputs": [],
   "source": [
    "target = \"tec\"\n",
    "prediction_df = test_df.drop(columns=[target])\n",
    "prediction_df.head()"
   ],
   "metadata": {
    "collapsed": false
   },
   "id": "d05b1c8abdafaa9b"
  },
  {
   "cell_type": "code",
   "execution_count": null,
   "outputs": [],
   "source": [
    "prediction_df.describe()"
   ],
   "metadata": {
    "collapsed": false
   },
   "id": "df5fbc536bee1b89"
  },
  {
   "cell_type": "code",
   "execution_count": null,
   "outputs": [],
   "source": [
    "from automatminer import MatPipe\n",
    "\n",
    "pipe = MatPipe.from_preset(\"express\")"
   ],
   "metadata": {
    "collapsed": false
   },
   "id": "b2a1d28bfed91e9"
  },
  {
   "cell_type": "code",
   "execution_count": null,
   "outputs": [],
   "source": [
    "pipe.fit(train_df, target)"
   ],
   "metadata": {
    "collapsed": false
   },
   "id": "18acf36d21f41e5e"
  },
  {
   "cell_type": "code",
   "execution_count": null,
   "outputs": [],
   "source": [
    "prediction_df = pipe.predict(prediction_df)"
   ],
   "metadata": {
    "collapsed": false
   },
   "id": "84dd90fb5e6f1655"
  },
  {
   "cell_type": "code",
   "execution_count": null,
   "outputs": [],
   "source": [
    "prediction_df.head()"
   ],
   "metadata": {
    "collapsed": false
   },
   "id": "fcc2777cd4789282"
  },
  {
   "cell_type": "code",
   "execution_count": null,
   "outputs": [],
   "source": [
    "# SCORE PREDICTIONS\n",
    "from sklearn.metrics import mean_absolute_error\n",
    "from sklearn.dummy import DummyRegressor\n",
    "\n",
    "# fit the dummy\n",
    "dr = DummyRegressor()\n",
    "dr.fit(train_df[\"composition\"], train_df[target])\n",
    "dummy_test = dr.predict(test_df[\"composition\"])\n",
    "\n",
    "\n",
    "# Score dummy and MatPipe\n",
    "true = test_df[target]\n",
    "matpipe_test = prediction_df[target + \" predicted\"]\n",
    "\n",
    "mae_matpipe = mean_absolute_error(true, matpipe_test)\n",
    "mae_dummy = mean_absolute_error(true, dummy_test)\n",
    "\n",
    "print(\"Dummy MAE: {} eV\".format(mae_dummy))\n",
    "print(\"MatPipe MAE: {} eV\".format(mae_matpipe))"
   ],
   "metadata": {
    "collapsed": false
   },
   "id": "4934a2456014dcf3"
  },
  {
   "cell_type": "code",
   "execution_count": null,
   "outputs": [],
   "source": [
    "# Examine inside pipeline\n",
    "import pprint\n",
    "\n",
    "# Get a summary and save a copy to json\n",
    "summary = pipe.summarize(filename=\"MatPipe_predict_experimental_TEC_composition_summary.json\")\n",
    "\n",
    "pprint.pprint(summary)"
   ],
   "metadata": {
    "collapsed": false
   },
   "id": "f9b1fbcde02f3779"
  },
  {
   "cell_type": "code",
   "execution_count": null,
   "outputs": [],
   "source": [
    "print(pipe.learner.best_pipeline)"
   ],
   "metadata": {
    "collapsed": false
   },
   "id": "3bbb83f0452e8e40"
  },
  {
   "cell_type": "code",
   "execution_count": null,
   "outputs": [],
   "source": [
    "print(pipe.autofeaturizer.featurizers[\"composition\"])"
   ],
   "metadata": {
    "collapsed": false
   },
   "id": "a44da4159fbc61cc"
  },
  {
   "cell_type": "code",
   "execution_count": null,
   "outputs": [],
   "source": [
    "# Save to File\n",
    "filename = \"MatPipe_predict_experimental_TEC_from_composition.p\"\n",
    "pipe.save(filename)"
   ],
   "metadata": {
    "collapsed": false
   },
   "id": "f59aa556c9c2d730"
  },
  {
   "cell_type": "code",
   "execution_count": null,
   "outputs": [],
   "source": [
    "# Load from file\n",
    "pipe_loaded = MatPipe.load(filename)"
   ],
   "metadata": {
    "collapsed": false
   },
   "id": "9f7cfc3ecd2158dc"
  }
 ],
 "metadata": {
  "kernelspec": {
   "display_name": "Python 3",
   "language": "python",
   "name": "python3"
  },
  "language_info": {
   "codemirror_mode": {
    "name": "ipython",
    "version": 2
   },
   "file_extension": ".py",
   "mimetype": "text/x-python",
   "name": "python",
   "nbconvert_exporter": "python",
   "pygments_lexer": "ipython2",
   "version": "2.7.6"
  }
 },
 "nbformat": 4,
 "nbformat_minor": 5
}

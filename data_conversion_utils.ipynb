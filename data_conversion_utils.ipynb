{
 "cells": [
  {
   "cell_type": "markdown",
   "source": [
    "## Convert Lattice Constant Polynomial fit to TEC"
   ],
   "metadata": {
    "collapsed": false
   },
   "id": "6840f55b9c600645"
  },
  {
   "cell_type": "code",
   "execution_count": 19,
   "outputs": [
    {
     "name": "stdout",
     "output_type": "stream",
     "text": [
      "8.758990930529876\n",
      "8.758990930529877e-06\n"
     ]
    }
   ],
   "source": [
    "T_ref = 150\n",
    "T_tec = 150\n",
    "\n",
    "# ASSUMING ORTHORHOMBIC OR CUBIC\n",
    "a = [3.839, 2.39e-5, 1.56e-8]\n",
    "b = [3.839, 2.39e-5, 1.56e-8]\n",
    "c = [35.575, 3.43e-4, 2.11e-7]\n",
    "\n",
    "def poly_fill(coeffs, T):\n",
    "    out = 0\n",
    "    for i in range(len(coeffs)):\n",
    "        out += coeffs[i] * T**i\n",
    "    return out\n",
    "\n",
    "def poly_deriv(coeffs, T):\n",
    "    d_coeffs = []\n",
    "    for i in range(1,len(coeffs)):\n",
    "        d_coeffs.append(coeffs[i]*i)\n",
    "    return poly_fill(d_coeffs,  T)\n",
    "\n",
    "tec_a = poly_deriv(a, T_tec)/poly_fill(a, T_ref)\n",
    "tec_b = poly_deriv(b, T_tec)/poly_fill(b, T_ref)\n",
    "tec_c = poly_deriv(c, T_tec)/poly_fill(c, T_ref)\n",
    "TEC = (tec_a + tec_b + tec_c)/3\n",
    "print(TEC*10**6)\n",
    "print(TEC)"
   ],
   "metadata": {
    "collapsed": false,
    "ExecuteTime": {
     "end_time": "2023-12-02T04:21:34.289395900Z",
     "start_time": "2023-12-02T04:21:34.264893100Z"
    }
   },
   "id": "6bc3f61a28aa7bb4"
  },
  {
   "cell_type": "code",
   "execution_count": null,
   "outputs": [],
   "source": [],
   "metadata": {
    "collapsed": false
   },
   "id": "7f1fc76e350eb7db"
  }
 ],
 "metadata": {
  "kernelspec": {
   "display_name": "Python 3",
   "language": "python",
   "name": "python3"
  },
  "language_info": {
   "codemirror_mode": {
    "name": "ipython",
    "version": 2
   },
   "file_extension": ".py",
   "mimetype": "text/x-python",
   "name": "python",
   "nbconvert_exporter": "python",
   "pygments_lexer": "ipython2",
   "version": "2.7.6"
  }
 },
 "nbformat": 4,
 "nbformat_minor": 5
}

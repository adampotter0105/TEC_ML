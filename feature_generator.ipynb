{
 "cells": [
  {
   "cell_type": "code",
   "execution_count": 1,
   "id": "b8dd23f5d53b0d7f",
   "metadata": {
    "ExecuteTime": {
     "end_time": "2023-12-01T22:31:38.913286700Z",
     "start_time": "2023-12-01T22:31:32.331415800Z"
    }
   },
   "outputs": [],
   "source": [
    "from pathlib import Path\n",
    "import numpy as np\n",
    "import pandas as pd\n",
    "import timeit\n",
    "from pymatgen.io.cif import CifParser\n",
    "from matminer.featurizers.site import GaussianSymmFunc, SiteElementalProperty,AGNIFingerprints\n",
    "import os\n",
    "\n",
    "BOND_MAX_DIST = 3.0  # Max distance for a bond in angstroms\n"
   ]
  },
  {
   "cell_type": "code",
   "execution_count": 2,
   "id": "b47056a4e4a29279",
   "metadata": {
    "ExecuteTime": {
     "end_time": "2023-12-01T22:31:38.944631500Z",
     "start_time": "2023-12-01T22:31:38.913286700Z"
    }
   },
   "outputs": [],
   "source": [
    "def featurize_dataset(cifs: list, verbose=False, saveto: str = \"features.csv\") -> pd.DataFrame:\n",
    "    \"\"\"Featurize crystal structures using elemetal, geometric, and chemical descriptors for local environments.\n",
    "\n",
    "    :params cifs: list of paths to crystal structure in cif format\n",
    "    :params verbos: prints each step of the processing\n",
    "    :params saveto: filename to save the generated features\n",
    "    \"\"\"\n",
    "    \n",
    "    ## Process Input Files\n",
    "    if verbose: print(\"Parsing CIFs\")\n",
    "    features = {}\n",
    "    for cif in cifs:\n",
    "        structure = CifParser(cif).get_structures()[0]\n",
    "        structure_name = Path(cif).name\n",
    "        features[structure_name] = {}\n",
    "        features[structure_name][\"structure\"] = structure\n",
    "        features[structure_name][\"structure_name\"] = Path(cif).name\n",
    "        features[structure_name][\"structure_path\"] = str(Path(cif).parent)\n",
    "    data = pd.DataFrame.from_dict(features).T\n",
    "    \n",
    "    ### SITE PROPERTIES ###\n",
    "    # These will be paired as features\n",
    "    ## 1. Initialize the dictionary for each site\n",
    "    #  TODO: Combine these into one big loop with easily expandable features\n",
    "    if verbose: print(\"Assembling site property dictionary\")\n",
    "    site_features = {}\n",
    "    for index, row in data.iterrows():\n",
    "        structure = row[\"structure\"]\n",
    "        for atomidx in range(structure.num_sites):\n",
    "            site_name = \"%s_%i\" % (index, atomidx)\n",
    "            site_features[site_name] = {}\n",
    "            site_features[site_name] = {\"structure_name\": row[\"structure_name\"]}\n",
    "            site_features[site_name].update({\"structure_path\": row[\"structure_path\"]})\n",
    "    \n",
    "    ## 1. Site Elemental Property\n",
    "    if verbose: print(\"site elemental properties\")\n",
    "    property_list = (\"Number\", \"AtomicWeight\", \"Row\", \"Column\", \"Electronegativity\", \"CovalentRadius\")\n",
    "    SEP = SiteElementalProperty(properties=property_list)\n",
    "    colnames = SEP._generate_column_labels(multiindex=False, return_errors=False)\n",
    "    for index, row in data.iterrows():\n",
    "        structure = row[\"structure\"]\n",
    "        if verbose: print(index)\n",
    "        for atomidx in range(structure.num_sites):\n",
    "            feat = SEP.featurize(structure, idx=atomidx)\n",
    "            site_name = \"%s_%i\" % (index, atomidx)\n",
    "            site_features[site_name].update(dict(zip(colnames, feat)))\n",
    "\n",
    "    ## 2. AGNI\n",
    "    if verbose: print(\"AGNI\")\n",
    "    property_list = (\"Number\", \"AtomicWeight\", \"Row\", \"Column\", \"Electronegativity\", \"CovalentRadius\")\n",
    "    AGNI = AGNIFingerprints(cutoff=5, directions=[None])\n",
    "    colnames = AGNI._generate_column_labels(multiindex=False, return_errors=False)\n",
    "    for index, row in data.iterrows():\n",
    "        structure = row[\"structure\"]\n",
    "        if verbose: print(index)\n",
    "        for atomidx in range(structure.num_sites):\n",
    "            feat = AGNI.featurize(structure, idx=atomidx)\n",
    "            site_name = \"%s_%i\" % (index, atomidx)\n",
    "            site_features[site_name].update(dict(zip(colnames, feat)))\n",
    "\n",
    "    ## 3. Gaussian Symmetry Functions \n",
    "    if verbose: print(\"GSF\")\n",
    "    GSF = GaussianSymmFunc(cutoff=5)\n",
    "    colnames = GSF._generate_column_labels(multiindex=False, return_errors=False)\n",
    "    for index, row in data.iterrows():\n",
    "        structure = row[\"structure\"]\n",
    "        if verbose: print(index)\n",
    "        for atomidx in range(structure.num_sites):\n",
    "            feat = GSF.featurize(structure, idx=atomidx)\n",
    "            site_name = \"%s_%i\" % (index, atomidx)\n",
    "            site_features[site_name].update(dict(zip(colnames, feat)))\n",
    "\n",
    " \n",
    "    ### BOND PAIRS AND BOND PROPERTIES ###\n",
    "    if verbose: print(\"Generating bond library\")\n",
    "    structures_bonds = {}  # Store bond pairs\n",
    "    bond_properties = {}  # Store bond properties\n",
    "    for index, row in data.iterrows():\n",
    "        if verbose: print(index)\n",
    "        structure = row[\"structure\"]\n",
    "        structures_bonds[index] = []\n",
    "        bond_properties[index] = []\n",
    "        neighbors = structure.get_neighbor_list(BOND_MAX_DIST)  # (center_indices, points_indices, offset_vectors, distances)\n",
    "        for bond in range(len(neighbors[0])):\n",
    "            if neighbors[0][bond] < neighbors[1][bond]:  # Don't double count bonds\n",
    "                # Bonded indices\n",
    "                structures_bonds[index].append((neighbors[0][bond], neighbors[1][bond]))\n",
    "                # Bond properties (coord-num, bond-len)\n",
    "                coord_num = list(neighbors[0]).count(neighbors[0][bond])\n",
    "                bond_properties[index].append((coord_num, neighbors[3][bond]))\n",
    "\n",
    "    # Build Dataframe by bonds\n",
    "    if verbose: print(\"Copying over data to final dataframe\")\n",
    "    delta_properties = [\"site Electronegativity\", \"site AtomicWeight\"]  # For these properties, take the difference as a feature\n",
    "    bond_features = {}  # Final dictionary for saving features format: bond_features['material_bond#'][\"feature_name\"] = data\n",
    "    for index, row in data.iterrows():\n",
    "        bond_len_sum = 0\n",
    "        if verbose: print(index)\n",
    "        for bond_idx in range(len(structures_bonds[index])):\n",
    "            bond = structures_bonds[index][bond_idx]\n",
    "            bond_name = \"%s_Atom%i_Bond%i\" % (index, bond[0], bond_idx)\n",
    "            bond_features[bond_name] = {}\n",
    "            site1_name = \"%s_%i\" % (index, bond[0])\n",
    "            site2_name = \"%s_%i\" % (index, bond[1])\n",
    "            \n",
    "            # Add Site features to dictionary\n",
    "            # Order putting heavier element first\n",
    "            # TODO: this works but is not very efficient, save data directly to final dataframe in the end?\n",
    "            site_feat_labels = site_features[site1_name].keys()\n",
    "            site_feat_labels = [k for k in site_feat_labels if k not in [\"structure_path\", \"structure_name\"]]\n",
    "            bond_features[bond_name][\"structure_name\"] = site_features[site1_name][\"structure_name\"]\n",
    "            bond_features[bond_name][\"structure_path\"] = site_features[site1_name][\"structure_path\"]\n",
    "            if site_features[site1_name][\"site AtomicWeight\"] > site_features[site2_name][\"site AtomicWeight\"]:\n",
    "                for k in site_feat_labels:\n",
    "                    if k in delta_properties:\n",
    "                        bond_features[bond_name][k+\"_diff\"] = site_features[site1_name][k] - site_features[site2_name][k]\n",
    "                    bond_features[bond_name][k+\"_atom1\"] = site_features[site1_name][k]\n",
    "                    bond_features[bond_name][k+\"_atom2\"] = site_features[site2_name][k]\n",
    "            else:\n",
    "                for k in site_feat_labels:\n",
    "                    if k in delta_properties:\n",
    "                        bond_features[bond_name][k+\"_diff\"] = site_features[site2_name][k] - site_features[site1_name][k]\n",
    "                    bond_features[bond_name][k+\"_atom1\"] = site_features[site2_name][k]\n",
    "                    bond_features[bond_name][k+\"_atom2\"] = site_features[site1_name][k]\n",
    "                    \n",
    "            # Insert bond properties        \n",
    "            coord_num, bond_len = bond_properties[index][bond_idx]\n",
    "            bond_features[bond_name][\"coordination_number\"] = coord_num\n",
    "            bond_features[bond_name][\"bond_length\"] = bond_len\n",
    "            bond_len_sum += bond_len\n",
    "            \n",
    "        # Now add each bond's fraction of lattice volume\n",
    "        for bond_idx in range(len(structures_bonds[index])):\n",
    "            bond = structures_bonds[index][bond_idx]\n",
    "            bond_name = \"%s_Atom%i_Bond%i\" % (index, bond[0], bond_idx)\n",
    "            _, bond_len = bond_properties[index][bond_idx]\n",
    "            bond_features[bond_name][\"volume_fraction\"] = bond_len/bond_len_sum\n",
    "    \n",
    "    ### SAVE FILE\n",
    "    df_features = pd.DataFrame.from_dict(bond_features).T\n",
    "    if os.path.isfile(saveto):  # Append\n",
    "        df_features.to_csv(saveto, mode='a', header=False)\n",
    "    else:  # New file\n",
    "        df_features.to_csv(saveto)\n",
    "\n",
    "    return df_features\n"
   ]
  },
  {
   "cell_type": "markdown",
   "source": [
    "## Test Featurizing with a single file"
   ],
   "metadata": {
    "collapsed": false
   },
   "id": "78038e3161c7b03c"
  },
  {
   "cell_type": "code",
   "execution_count": 3,
   "outputs": [
    {
     "data": {
      "text/plain": "                               structure_name   structure_path  \\\n15284_super.cif_Atom0_Bond0   15284_super.cif  supercells_data   \n15284_super.cif_Atom0_Bond1   15284_super.cif  supercells_data   \n15284_super.cif_Atom0_Bond2   15284_super.cif  supercells_data   \n15284_super.cif_Atom0_Bond3   15284_super.cif  supercells_data   \n15284_super.cif_Atom0_Bond4   15284_super.cif  supercells_data   \n15284_super.cif_Atom0_Bond5   15284_super.cif  supercells_data   \n15284_super.cif_Atom0_Bond6   15284_super.cif  supercells_data   \n15284_super.cif_Atom0_Bond7   15284_super.cif  supercells_data   \n15284_super.cif_Atom0_Bond8   15284_super.cif  supercells_data   \n15284_super.cif_Atom0_Bond9   15284_super.cif  supercells_data   \n15284_super.cif_Atom0_Bond10  15284_super.cif  supercells_data   \n15284_super.cif_Atom0_Bond11  15284_super.cif  supercells_data   \n15284_super.cif_Atom1_Bond12  15284_super.cif  supercells_data   \n15284_super.cif_Atom1_Bond13  15284_super.cif  supercells_data   \n15284_super.cif_Atom1_Bond14  15284_super.cif  supercells_data   \n15284_super.cif_Atom1_Bond15  15284_super.cif  supercells_data   \n15284_super.cif_Atom1_Bond16  15284_super.cif  supercells_data   \n15284_super.cif_Atom1_Bond17  15284_super.cif  supercells_data   \n15284_super.cif_Atom2_Bond18  15284_super.cif  supercells_data   \n15284_super.cif_Atom2_Bond19  15284_super.cif  supercells_data   \n15284_super.cif_Atom2_Bond20  15284_super.cif  supercells_data   \n15284_super.cif_Atom2_Bond21  15284_super.cif  supercells_data   \n15284_super.cif_Atom2_Bond22  15284_super.cif  supercells_data   \n15284_super.cif_Atom2_Bond23  15284_super.cif  supercells_data   \n15284_super.cif_Atom2_Bond24  15284_super.cif  supercells_data   \n15284_super.cif_Atom2_Bond25  15284_super.cif  supercells_data   \n15284_super.cif_Atom3_Bond26  15284_super.cif  supercells_data   \n15284_super.cif_Atom3_Bond27  15284_super.cif  supercells_data   \n15284_super.cif_Atom3_Bond28  15284_super.cif  supercells_data   \n15284_super.cif_Atom3_Bond29  15284_super.cif  supercells_data   \n\n                             site Number_atom1 site Number_atom2  \\\n15284_super.cif_Atom0_Bond0               57.0               8.0   \n15284_super.cif_Atom0_Bond1               57.0               8.0   \n15284_super.cif_Atom0_Bond2               57.0               8.0   \n15284_super.cif_Atom0_Bond3               57.0               8.0   \n15284_super.cif_Atom0_Bond4               57.0               8.0   \n15284_super.cif_Atom0_Bond5               57.0               8.0   \n15284_super.cif_Atom0_Bond6               57.0               8.0   \n15284_super.cif_Atom0_Bond7               57.0               8.0   \n15284_super.cif_Atom0_Bond8               57.0               8.0   \n15284_super.cif_Atom0_Bond9               57.0               8.0   \n15284_super.cif_Atom0_Bond10              57.0               8.0   \n15284_super.cif_Atom0_Bond11              57.0               8.0   \n15284_super.cif_Atom1_Bond12              26.0               8.0   \n15284_super.cif_Atom1_Bond13              26.0               8.0   \n15284_super.cif_Atom1_Bond14              26.0               8.0   \n15284_super.cif_Atom1_Bond15              26.0               8.0   \n15284_super.cif_Atom1_Bond16              26.0               8.0   \n15284_super.cif_Atom1_Bond17              26.0               8.0   \n15284_super.cif_Atom2_Bond18               8.0               8.0   \n15284_super.cif_Atom2_Bond19               8.0               8.0   \n15284_super.cif_Atom2_Bond20               8.0               8.0   \n15284_super.cif_Atom2_Bond21               8.0               8.0   \n15284_super.cif_Atom2_Bond22               8.0               8.0   \n15284_super.cif_Atom2_Bond23               8.0               8.0   \n15284_super.cif_Atom2_Bond24               8.0               8.0   \n15284_super.cif_Atom2_Bond25               8.0               8.0   \n15284_super.cif_Atom3_Bond26               8.0               8.0   \n15284_super.cif_Atom3_Bond27               8.0               8.0   \n15284_super.cif_Atom3_Bond28               8.0               8.0   \n15284_super.cif_Atom3_Bond29               8.0               8.0   \n\n                             site AtomicWeight_diff site AtomicWeight_atom1  \\\n15284_super.cif_Atom0_Bond0               122.90607               138.90547   \n15284_super.cif_Atom0_Bond1               122.90607               138.90547   \n15284_super.cif_Atom0_Bond2               122.90607               138.90547   \n15284_super.cif_Atom0_Bond3               122.90607               138.90547   \n15284_super.cif_Atom0_Bond4               122.90607               138.90547   \n15284_super.cif_Atom0_Bond5               122.90607               138.90547   \n15284_super.cif_Atom0_Bond6               122.90607               138.90547   \n15284_super.cif_Atom0_Bond7               122.90607               138.90547   \n15284_super.cif_Atom0_Bond8               122.90607               138.90547   \n15284_super.cif_Atom0_Bond9               122.90607               138.90547   \n15284_super.cif_Atom0_Bond10              122.90607               138.90547   \n15284_super.cif_Atom0_Bond11              122.90607               138.90547   \n15284_super.cif_Atom1_Bond12                39.8456                  55.845   \n15284_super.cif_Atom1_Bond13                39.8456                  55.845   \n15284_super.cif_Atom1_Bond14                39.8456                  55.845   \n15284_super.cif_Atom1_Bond15                39.8456                  55.845   \n15284_super.cif_Atom1_Bond16                39.8456                  55.845   \n15284_super.cif_Atom1_Bond17                39.8456                  55.845   \n15284_super.cif_Atom2_Bond18                    0.0                 15.9994   \n15284_super.cif_Atom2_Bond19                    0.0                 15.9994   \n15284_super.cif_Atom2_Bond20                    0.0                 15.9994   \n15284_super.cif_Atom2_Bond21                    0.0                 15.9994   \n15284_super.cif_Atom2_Bond22                    0.0                 15.9994   \n15284_super.cif_Atom2_Bond23                    0.0                 15.9994   \n15284_super.cif_Atom2_Bond24                    0.0                 15.9994   \n15284_super.cif_Atom2_Bond25                    0.0                 15.9994   \n15284_super.cif_Atom3_Bond26                    0.0                 15.9994   \n15284_super.cif_Atom3_Bond27                    0.0                 15.9994   \n15284_super.cif_Atom3_Bond28                    0.0                 15.9994   \n15284_super.cif_Atom3_Bond29                    0.0                 15.9994   \n\n                             site AtomicWeight_atom2 site Row_atom1  \\\n15284_super.cif_Atom0_Bond0                  15.9994            6.0   \n15284_super.cif_Atom0_Bond1                  15.9994            6.0   \n15284_super.cif_Atom0_Bond2                  15.9994            6.0   \n15284_super.cif_Atom0_Bond3                  15.9994            6.0   \n15284_super.cif_Atom0_Bond4                  15.9994            6.0   \n15284_super.cif_Atom0_Bond5                  15.9994            6.0   \n15284_super.cif_Atom0_Bond6                  15.9994            6.0   \n15284_super.cif_Atom0_Bond7                  15.9994            6.0   \n15284_super.cif_Atom0_Bond8                  15.9994            6.0   \n15284_super.cif_Atom0_Bond9                  15.9994            6.0   \n15284_super.cif_Atom0_Bond10                 15.9994            6.0   \n15284_super.cif_Atom0_Bond11                 15.9994            6.0   \n15284_super.cif_Atom1_Bond12                 15.9994            4.0   \n15284_super.cif_Atom1_Bond13                 15.9994            4.0   \n15284_super.cif_Atom1_Bond14                 15.9994            4.0   \n15284_super.cif_Atom1_Bond15                 15.9994            4.0   \n15284_super.cif_Atom1_Bond16                 15.9994            4.0   \n15284_super.cif_Atom1_Bond17                 15.9994            4.0   \n15284_super.cif_Atom2_Bond18                 15.9994            2.0   \n15284_super.cif_Atom2_Bond19                 15.9994            2.0   \n15284_super.cif_Atom2_Bond20                 15.9994            2.0   \n15284_super.cif_Atom2_Bond21                 15.9994            2.0   \n15284_super.cif_Atom2_Bond22                 15.9994            2.0   \n15284_super.cif_Atom2_Bond23                 15.9994            2.0   \n15284_super.cif_Atom2_Bond24                 15.9994            2.0   \n15284_super.cif_Atom2_Bond25                 15.9994            2.0   \n15284_super.cif_Atom3_Bond26                 15.9994            2.0   \n15284_super.cif_Atom3_Bond27                 15.9994            2.0   \n15284_super.cif_Atom3_Bond28                 15.9994            2.0   \n15284_super.cif_Atom3_Bond29                 15.9994            2.0   \n\n                             site Row_atom2 site Column_atom1  ...  \\\n15284_super.cif_Atom0_Bond0             2.0               3.0  ...   \n15284_super.cif_Atom0_Bond1             2.0               3.0  ...   \n15284_super.cif_Atom0_Bond2             2.0               3.0  ...   \n15284_super.cif_Atom0_Bond3             2.0               3.0  ...   \n15284_super.cif_Atom0_Bond4             2.0               3.0  ...   \n15284_super.cif_Atom0_Bond5             2.0               3.0  ...   \n15284_super.cif_Atom0_Bond6             2.0               3.0  ...   \n15284_super.cif_Atom0_Bond7             2.0               3.0  ...   \n15284_super.cif_Atom0_Bond8             2.0               3.0  ...   \n15284_super.cif_Atom0_Bond9             2.0               3.0  ...   \n15284_super.cif_Atom0_Bond10            2.0               3.0  ...   \n15284_super.cif_Atom0_Bond11            2.0               3.0  ...   \n15284_super.cif_Atom1_Bond12            2.0               8.0  ...   \n15284_super.cif_Atom1_Bond13            2.0               8.0  ...   \n15284_super.cif_Atom1_Bond14            2.0               8.0  ...   \n15284_super.cif_Atom1_Bond15            2.0               8.0  ...   \n15284_super.cif_Atom1_Bond16            2.0               8.0  ...   \n15284_super.cif_Atom1_Bond17            2.0               8.0  ...   \n15284_super.cif_Atom2_Bond18            2.0              16.0  ...   \n15284_super.cif_Atom2_Bond19            2.0              16.0  ...   \n15284_super.cif_Atom2_Bond20            2.0              16.0  ...   \n15284_super.cif_Atom2_Bond21            2.0              16.0  ...   \n15284_super.cif_Atom2_Bond22            2.0              16.0  ...   \n15284_super.cif_Atom2_Bond23            2.0              16.0  ...   \n15284_super.cif_Atom2_Bond24            2.0              16.0  ...   \n15284_super.cif_Atom2_Bond25            2.0              16.0  ...   \n15284_super.cif_Atom3_Bond26            2.0              16.0  ...   \n15284_super.cif_Atom3_Bond27            2.0              16.0  ...   \n15284_super.cif_Atom3_Bond28            2.0              16.0  ...   \n15284_super.cif_Atom3_Bond29            2.0              16.0  ...   \n\n                             G4_0.005_1.0_1.0_atom2 G4_0.005_1.0_-1.0_atom1  \\\n15284_super.cif_Atom0_Bond0                 7.58149                1.915664   \n15284_super.cif_Atom0_Bond1                 7.58149                1.915664   \n15284_super.cif_Atom0_Bond2                 7.58149                1.915664   \n15284_super.cif_Atom0_Bond3                 7.58149                1.915664   \n15284_super.cif_Atom0_Bond4                 7.58149                1.915664   \n15284_super.cif_Atom0_Bond5                 7.58149                1.915664   \n15284_super.cif_Atom0_Bond6                 7.58149                1.915664   \n15284_super.cif_Atom0_Bond7                 7.58149                1.915664   \n15284_super.cif_Atom0_Bond8                 7.58149                1.915664   \n15284_super.cif_Atom0_Bond9                 7.58149                1.915664   \n15284_super.cif_Atom0_Bond10                7.58149                1.915664   \n15284_super.cif_Atom0_Bond11                7.58149                1.915664   \n15284_super.cif_Atom1_Bond12                7.58149                 3.59042   \n15284_super.cif_Atom1_Bond13                7.58149                 3.59042   \n15284_super.cif_Atom1_Bond14                7.58149                 3.59042   \n15284_super.cif_Atom1_Bond15                7.58149                 3.59042   \n15284_super.cif_Atom1_Bond16                7.58149                 3.59042   \n15284_super.cif_Atom1_Bond17                7.58149                 3.59042   \n15284_super.cif_Atom2_Bond18                7.58149                2.622812   \n15284_super.cif_Atom2_Bond19                7.58149                2.622812   \n15284_super.cif_Atom2_Bond20                7.58149                2.622812   \n15284_super.cif_Atom2_Bond21                7.58149                2.622812   \n15284_super.cif_Atom2_Bond22                7.58149                2.622812   \n15284_super.cif_Atom2_Bond23                7.58149                2.622812   \n15284_super.cif_Atom2_Bond24                7.58149                2.622812   \n15284_super.cif_Atom2_Bond25                7.58149                2.622812   \n15284_super.cif_Atom3_Bond26                7.58149                2.622812   \n15284_super.cif_Atom3_Bond27                7.58149                2.622812   \n15284_super.cif_Atom3_Bond28                7.58149                2.622812   \n15284_super.cif_Atom3_Bond29                7.58149                2.622812   \n\n                             G4_0.005_1.0_-1.0_atom2 G4_0.005_4.0_1.0_atom1  \\\n15284_super.cif_Atom0_Bond0                 2.622812               4.123305   \n15284_super.cif_Atom0_Bond1                 2.622812               4.123305   \n15284_super.cif_Atom0_Bond2                 2.622812               4.123305   \n15284_super.cif_Atom0_Bond3                 2.622812               4.123305   \n15284_super.cif_Atom0_Bond4                 2.622812               4.123305   \n15284_super.cif_Atom0_Bond5                 2.622812               4.123305   \n15284_super.cif_Atom0_Bond6                 2.622812               4.123305   \n15284_super.cif_Atom0_Bond7                 2.622812               4.123305   \n15284_super.cif_Atom0_Bond8                 2.622812               4.123305   \n15284_super.cif_Atom0_Bond9                 2.622812               4.123305   \n15284_super.cif_Atom0_Bond10                2.622812               4.123305   \n15284_super.cif_Atom0_Bond11                2.622812               4.123305   \n15284_super.cif_Atom1_Bond12                2.622812               3.157582   \n15284_super.cif_Atom1_Bond13                2.622812               3.157582   \n15284_super.cif_Atom1_Bond14                2.622812               3.157582   \n15284_super.cif_Atom1_Bond15                2.622812               3.157582   \n15284_super.cif_Atom1_Bond16                2.622812               3.157582   \n15284_super.cif_Atom1_Bond17                2.622812               3.157582   \n15284_super.cif_Atom2_Bond18                2.622812               3.895691   \n15284_super.cif_Atom2_Bond19                2.622812               3.895691   \n15284_super.cif_Atom2_Bond20                2.622812               3.895691   \n15284_super.cif_Atom2_Bond21                2.622812               3.895691   \n15284_super.cif_Atom2_Bond22                2.622812               3.895691   \n15284_super.cif_Atom2_Bond23                2.622812               3.895691   \n15284_super.cif_Atom2_Bond24                2.622812               3.895691   \n15284_super.cif_Atom2_Bond25                2.622812               3.895691   \n15284_super.cif_Atom3_Bond26                2.622812               3.895691   \n15284_super.cif_Atom3_Bond27                2.622812               3.895691   \n15284_super.cif_Atom3_Bond28                2.622812               3.895691   \n15284_super.cif_Atom3_Bond29                2.622812               3.895691   \n\n                             G4_0.005_4.0_1.0_atom2 G4_0.005_4.0_-1.0_atom1  \\\n15284_super.cif_Atom0_Bond0                3.895691                0.084964   \n15284_super.cif_Atom0_Bond1                3.895691                0.084964   \n15284_super.cif_Atom0_Bond2                3.895691                0.084964   \n15284_super.cif_Atom0_Bond3                3.895691                0.084964   \n15284_super.cif_Atom0_Bond4                3.895691                0.084964   \n15284_super.cif_Atom0_Bond5                3.895691                0.084964   \n15284_super.cif_Atom0_Bond6                3.895691                0.084964   \n15284_super.cif_Atom0_Bond7                3.895691                0.084964   \n15284_super.cif_Atom0_Bond8                3.895691                0.084964   \n15284_super.cif_Atom0_Bond9                3.895691                0.084964   \n15284_super.cif_Atom0_Bond10               3.895691                0.084964   \n15284_super.cif_Atom0_Bond11               3.895691                0.084964   \n15284_super.cif_Atom1_Bond12               3.895691                0.623596   \n15284_super.cif_Atom1_Bond13               3.895691                0.623596   \n15284_super.cif_Atom1_Bond14               3.895691                0.623596   \n15284_super.cif_Atom1_Bond15               3.895691                0.623596   \n15284_super.cif_Atom1_Bond16               3.895691                0.623596   \n15284_super.cif_Atom1_Bond17               3.895691                0.623596   \n15284_super.cif_Atom2_Bond18               3.895691                0.327758   \n15284_super.cif_Atom2_Bond19               3.895691                0.327758   \n15284_super.cif_Atom2_Bond20               3.895691                0.327758   \n15284_super.cif_Atom2_Bond21               3.895691                0.327758   \n15284_super.cif_Atom2_Bond22               3.895691                0.327758   \n15284_super.cif_Atom2_Bond23               3.895691                0.327758   \n15284_super.cif_Atom2_Bond24               3.895691                0.327758   \n15284_super.cif_Atom2_Bond25               3.895691                0.327758   \n15284_super.cif_Atom3_Bond26               3.895691                0.327758   \n15284_super.cif_Atom3_Bond27               3.895691                0.327758   \n15284_super.cif_Atom3_Bond28               3.895691                0.327758   \n15284_super.cif_Atom3_Bond29               3.895691                0.327758   \n\n                             G4_0.005_4.0_-1.0_atom2 coordination_number  \\\n15284_super.cif_Atom0_Bond0                 0.327758                  12   \n15284_super.cif_Atom0_Bond1                 0.327758                  12   \n15284_super.cif_Atom0_Bond2                 0.327758                  12   \n15284_super.cif_Atom0_Bond3                 0.327758                  12   \n15284_super.cif_Atom0_Bond4                 0.327758                  12   \n15284_super.cif_Atom0_Bond5                 0.327758                  12   \n15284_super.cif_Atom0_Bond6                 0.327758                  12   \n15284_super.cif_Atom0_Bond7                 0.327758                  12   \n15284_super.cif_Atom0_Bond8                 0.327758                  12   \n15284_super.cif_Atom0_Bond9                 0.327758                  12   \n15284_super.cif_Atom0_Bond10                0.327758                  12   \n15284_super.cif_Atom0_Bond11                0.327758                  12   \n15284_super.cif_Atom1_Bond12                0.327758                   6   \n15284_super.cif_Atom1_Bond13                0.327758                   6   \n15284_super.cif_Atom1_Bond14                0.327758                   6   \n15284_super.cif_Atom1_Bond15                0.327758                   6   \n15284_super.cif_Atom1_Bond16                0.327758                   6   \n15284_super.cif_Atom1_Bond17                0.327758                   6   \n15284_super.cif_Atom2_Bond18                0.327758                  14   \n15284_super.cif_Atom2_Bond19                0.327758                  14   \n15284_super.cif_Atom2_Bond20                0.327758                  14   \n15284_super.cif_Atom2_Bond21                0.327758                  14   \n15284_super.cif_Atom2_Bond22                0.327758                  14   \n15284_super.cif_Atom2_Bond23                0.327758                  14   \n15284_super.cif_Atom2_Bond24                0.327758                  14   \n15284_super.cif_Atom2_Bond25                0.327758                  14   \n15284_super.cif_Atom3_Bond26                0.327758                  14   \n15284_super.cif_Atom3_Bond27                0.327758                  14   \n15284_super.cif_Atom3_Bond28                0.327758                  14   \n15284_super.cif_Atom3_Bond29                0.327758                  14   \n\n                             bond_length volume_fraction  \n15284_super.cif_Atom0_Bond0     2.757009        0.035407  \n15284_super.cif_Atom0_Bond1     2.757009        0.035407  \n15284_super.cif_Atom0_Bond2     2.757009        0.035407  \n15284_super.cif_Atom0_Bond3     2.757009        0.035407  \n15284_super.cif_Atom0_Bond4     2.757009        0.035407  \n15284_super.cif_Atom0_Bond5     2.757009        0.035407  \n15284_super.cif_Atom0_Bond6     2.757009        0.035407  \n15284_super.cif_Atom0_Bond7     2.757009        0.035407  \n15284_super.cif_Atom0_Bond8     2.757009        0.035407  \n15284_super.cif_Atom0_Bond9     2.757009        0.035407  \n15284_super.cif_Atom0_Bond10    2.757009        0.035407  \n15284_super.cif_Atom0_Bond11    2.757009        0.035407  \n15284_super.cif_Atom1_Bond12      1.9495        0.025037  \n15284_super.cif_Atom1_Bond13      1.9495        0.025037  \n15284_super.cif_Atom1_Bond14      1.9495        0.025037  \n15284_super.cif_Atom1_Bond15      1.9495        0.025037  \n15284_super.cif_Atom1_Bond16      1.9495        0.025037  \n15284_super.cif_Atom1_Bond17      1.9495        0.025037  \n15284_super.cif_Atom2_Bond18    2.757009        0.035407  \n15284_super.cif_Atom2_Bond19    2.757009        0.035407  \n15284_super.cif_Atom2_Bond20    2.757009        0.035407  \n15284_super.cif_Atom2_Bond21    2.757009        0.035407  \n15284_super.cif_Atom2_Bond22    2.757009        0.035407  \n15284_super.cif_Atom2_Bond23    2.757009        0.035407  \n15284_super.cif_Atom2_Bond24    2.757009        0.035407  \n15284_super.cif_Atom2_Bond25    2.757009        0.035407  \n15284_super.cif_Atom3_Bond26    2.757009        0.035407  \n15284_super.cif_Atom3_Bond27    2.757009        0.035407  \n15284_super.cif_Atom3_Bond28    2.757009        0.035407  \n15284_super.cif_Atom3_Bond29    2.757009        0.035407  \n\n[30 rows x 51 columns]",
      "text/html": "<div>\n<style scoped>\n    .dataframe tbody tr th:only-of-type {\n        vertical-align: middle;\n    }\n\n    .dataframe tbody tr th {\n        vertical-align: top;\n    }\n\n    .dataframe thead th {\n        text-align: right;\n    }\n</style>\n<table border=\"1\" class=\"dataframe\">\n  <thead>\n    <tr style=\"text-align: right;\">\n      <th></th>\n      <th>structure_name</th>\n      <th>structure_path</th>\n      <th>site Number_atom1</th>\n      <th>site Number_atom2</th>\n      <th>site AtomicWeight_diff</th>\n      <th>site AtomicWeight_atom1</th>\n      <th>site AtomicWeight_atom2</th>\n      <th>site Row_atom1</th>\n      <th>site Row_atom2</th>\n      <th>site Column_atom1</th>\n      <th>...</th>\n      <th>G4_0.005_1.0_1.0_atom2</th>\n      <th>G4_0.005_1.0_-1.0_atom1</th>\n      <th>G4_0.005_1.0_-1.0_atom2</th>\n      <th>G4_0.005_4.0_1.0_atom1</th>\n      <th>G4_0.005_4.0_1.0_atom2</th>\n      <th>G4_0.005_4.0_-1.0_atom1</th>\n      <th>G4_0.005_4.0_-1.0_atom2</th>\n      <th>coordination_number</th>\n      <th>bond_length</th>\n      <th>volume_fraction</th>\n    </tr>\n  </thead>\n  <tbody>\n    <tr>\n      <th>15284_super.cif_Atom0_Bond0</th>\n      <td>15284_super.cif</td>\n      <td>supercells_data</td>\n      <td>57.0</td>\n      <td>8.0</td>\n      <td>122.90607</td>\n      <td>138.90547</td>\n      <td>15.9994</td>\n      <td>6.0</td>\n      <td>2.0</td>\n      <td>3.0</td>\n      <td>...</td>\n      <td>7.58149</td>\n      <td>1.915664</td>\n      <td>2.622812</td>\n      <td>4.123305</td>\n      <td>3.895691</td>\n      <td>0.084964</td>\n      <td>0.327758</td>\n      <td>12</td>\n      <td>2.757009</td>\n      <td>0.035407</td>\n    </tr>\n    <tr>\n      <th>15284_super.cif_Atom0_Bond1</th>\n      <td>15284_super.cif</td>\n      <td>supercells_data</td>\n      <td>57.0</td>\n      <td>8.0</td>\n      <td>122.90607</td>\n      <td>138.90547</td>\n      <td>15.9994</td>\n      <td>6.0</td>\n      <td>2.0</td>\n      <td>3.0</td>\n      <td>...</td>\n      <td>7.58149</td>\n      <td>1.915664</td>\n      <td>2.622812</td>\n      <td>4.123305</td>\n      <td>3.895691</td>\n      <td>0.084964</td>\n      <td>0.327758</td>\n      <td>12</td>\n      <td>2.757009</td>\n      <td>0.035407</td>\n    </tr>\n    <tr>\n      <th>15284_super.cif_Atom0_Bond2</th>\n      <td>15284_super.cif</td>\n      <td>supercells_data</td>\n      <td>57.0</td>\n      <td>8.0</td>\n      <td>122.90607</td>\n      <td>138.90547</td>\n      <td>15.9994</td>\n      <td>6.0</td>\n      <td>2.0</td>\n      <td>3.0</td>\n      <td>...</td>\n      <td>7.58149</td>\n      <td>1.915664</td>\n      <td>2.622812</td>\n      <td>4.123305</td>\n      <td>3.895691</td>\n      <td>0.084964</td>\n      <td>0.327758</td>\n      <td>12</td>\n      <td>2.757009</td>\n      <td>0.035407</td>\n    </tr>\n    <tr>\n      <th>15284_super.cif_Atom0_Bond3</th>\n      <td>15284_super.cif</td>\n      <td>supercells_data</td>\n      <td>57.0</td>\n      <td>8.0</td>\n      <td>122.90607</td>\n      <td>138.90547</td>\n      <td>15.9994</td>\n      <td>6.0</td>\n      <td>2.0</td>\n      <td>3.0</td>\n      <td>...</td>\n      <td>7.58149</td>\n      <td>1.915664</td>\n      <td>2.622812</td>\n      <td>4.123305</td>\n      <td>3.895691</td>\n      <td>0.084964</td>\n      <td>0.327758</td>\n      <td>12</td>\n      <td>2.757009</td>\n      <td>0.035407</td>\n    </tr>\n    <tr>\n      <th>15284_super.cif_Atom0_Bond4</th>\n      <td>15284_super.cif</td>\n      <td>supercells_data</td>\n      <td>57.0</td>\n      <td>8.0</td>\n      <td>122.90607</td>\n      <td>138.90547</td>\n      <td>15.9994</td>\n      <td>6.0</td>\n      <td>2.0</td>\n      <td>3.0</td>\n      <td>...</td>\n      <td>7.58149</td>\n      <td>1.915664</td>\n      <td>2.622812</td>\n      <td>4.123305</td>\n      <td>3.895691</td>\n      <td>0.084964</td>\n      <td>0.327758</td>\n      <td>12</td>\n      <td>2.757009</td>\n      <td>0.035407</td>\n    </tr>\n    <tr>\n      <th>15284_super.cif_Atom0_Bond5</th>\n      <td>15284_super.cif</td>\n      <td>supercells_data</td>\n      <td>57.0</td>\n      <td>8.0</td>\n      <td>122.90607</td>\n      <td>138.90547</td>\n      <td>15.9994</td>\n      <td>6.0</td>\n      <td>2.0</td>\n      <td>3.0</td>\n      <td>...</td>\n      <td>7.58149</td>\n      <td>1.915664</td>\n      <td>2.622812</td>\n      <td>4.123305</td>\n      <td>3.895691</td>\n      <td>0.084964</td>\n      <td>0.327758</td>\n      <td>12</td>\n      <td>2.757009</td>\n      <td>0.035407</td>\n    </tr>\n    <tr>\n      <th>15284_super.cif_Atom0_Bond6</th>\n      <td>15284_super.cif</td>\n      <td>supercells_data</td>\n      <td>57.0</td>\n      <td>8.0</td>\n      <td>122.90607</td>\n      <td>138.90547</td>\n      <td>15.9994</td>\n      <td>6.0</td>\n      <td>2.0</td>\n      <td>3.0</td>\n      <td>...</td>\n      <td>7.58149</td>\n      <td>1.915664</td>\n      <td>2.622812</td>\n      <td>4.123305</td>\n      <td>3.895691</td>\n      <td>0.084964</td>\n      <td>0.327758</td>\n      <td>12</td>\n      <td>2.757009</td>\n      <td>0.035407</td>\n    </tr>\n    <tr>\n      <th>15284_super.cif_Atom0_Bond7</th>\n      <td>15284_super.cif</td>\n      <td>supercells_data</td>\n      <td>57.0</td>\n      <td>8.0</td>\n      <td>122.90607</td>\n      <td>138.90547</td>\n      <td>15.9994</td>\n      <td>6.0</td>\n      <td>2.0</td>\n      <td>3.0</td>\n      <td>...</td>\n      <td>7.58149</td>\n      <td>1.915664</td>\n      <td>2.622812</td>\n      <td>4.123305</td>\n      <td>3.895691</td>\n      <td>0.084964</td>\n      <td>0.327758</td>\n      <td>12</td>\n      <td>2.757009</td>\n      <td>0.035407</td>\n    </tr>\n    <tr>\n      <th>15284_super.cif_Atom0_Bond8</th>\n      <td>15284_super.cif</td>\n      <td>supercells_data</td>\n      <td>57.0</td>\n      <td>8.0</td>\n      <td>122.90607</td>\n      <td>138.90547</td>\n      <td>15.9994</td>\n      <td>6.0</td>\n      <td>2.0</td>\n      <td>3.0</td>\n      <td>...</td>\n      <td>7.58149</td>\n      <td>1.915664</td>\n      <td>2.622812</td>\n      <td>4.123305</td>\n      <td>3.895691</td>\n      <td>0.084964</td>\n      <td>0.327758</td>\n      <td>12</td>\n      <td>2.757009</td>\n      <td>0.035407</td>\n    </tr>\n    <tr>\n      <th>15284_super.cif_Atom0_Bond9</th>\n      <td>15284_super.cif</td>\n      <td>supercells_data</td>\n      <td>57.0</td>\n      <td>8.0</td>\n      <td>122.90607</td>\n      <td>138.90547</td>\n      <td>15.9994</td>\n      <td>6.0</td>\n      <td>2.0</td>\n      <td>3.0</td>\n      <td>...</td>\n      <td>7.58149</td>\n      <td>1.915664</td>\n      <td>2.622812</td>\n      <td>4.123305</td>\n      <td>3.895691</td>\n      <td>0.084964</td>\n      <td>0.327758</td>\n      <td>12</td>\n      <td>2.757009</td>\n      <td>0.035407</td>\n    </tr>\n    <tr>\n      <th>15284_super.cif_Atom0_Bond10</th>\n      <td>15284_super.cif</td>\n      <td>supercells_data</td>\n      <td>57.0</td>\n      <td>8.0</td>\n      <td>122.90607</td>\n      <td>138.90547</td>\n      <td>15.9994</td>\n      <td>6.0</td>\n      <td>2.0</td>\n      <td>3.0</td>\n      <td>...</td>\n      <td>7.58149</td>\n      <td>1.915664</td>\n      <td>2.622812</td>\n      <td>4.123305</td>\n      <td>3.895691</td>\n      <td>0.084964</td>\n      <td>0.327758</td>\n      <td>12</td>\n      <td>2.757009</td>\n      <td>0.035407</td>\n    </tr>\n    <tr>\n      <th>15284_super.cif_Atom0_Bond11</th>\n      <td>15284_super.cif</td>\n      <td>supercells_data</td>\n      <td>57.0</td>\n      <td>8.0</td>\n      <td>122.90607</td>\n      <td>138.90547</td>\n      <td>15.9994</td>\n      <td>6.0</td>\n      <td>2.0</td>\n      <td>3.0</td>\n      <td>...</td>\n      <td>7.58149</td>\n      <td>1.915664</td>\n      <td>2.622812</td>\n      <td>4.123305</td>\n      <td>3.895691</td>\n      <td>0.084964</td>\n      <td>0.327758</td>\n      <td>12</td>\n      <td>2.757009</td>\n      <td>0.035407</td>\n    </tr>\n    <tr>\n      <th>15284_super.cif_Atom1_Bond12</th>\n      <td>15284_super.cif</td>\n      <td>supercells_data</td>\n      <td>26.0</td>\n      <td>8.0</td>\n      <td>39.8456</td>\n      <td>55.845</td>\n      <td>15.9994</td>\n      <td>4.0</td>\n      <td>2.0</td>\n      <td>8.0</td>\n      <td>...</td>\n      <td>7.58149</td>\n      <td>3.59042</td>\n      <td>2.622812</td>\n      <td>3.157582</td>\n      <td>3.895691</td>\n      <td>0.623596</td>\n      <td>0.327758</td>\n      <td>6</td>\n      <td>1.9495</td>\n      <td>0.025037</td>\n    </tr>\n    <tr>\n      <th>15284_super.cif_Atom1_Bond13</th>\n      <td>15284_super.cif</td>\n      <td>supercells_data</td>\n      <td>26.0</td>\n      <td>8.0</td>\n      <td>39.8456</td>\n      <td>55.845</td>\n      <td>15.9994</td>\n      <td>4.0</td>\n      <td>2.0</td>\n      <td>8.0</td>\n      <td>...</td>\n      <td>7.58149</td>\n      <td>3.59042</td>\n      <td>2.622812</td>\n      <td>3.157582</td>\n      <td>3.895691</td>\n      <td>0.623596</td>\n      <td>0.327758</td>\n      <td>6</td>\n      <td>1.9495</td>\n      <td>0.025037</td>\n    </tr>\n    <tr>\n      <th>15284_super.cif_Atom1_Bond14</th>\n      <td>15284_super.cif</td>\n      <td>supercells_data</td>\n      <td>26.0</td>\n      <td>8.0</td>\n      <td>39.8456</td>\n      <td>55.845</td>\n      <td>15.9994</td>\n      <td>4.0</td>\n      <td>2.0</td>\n      <td>8.0</td>\n      <td>...</td>\n      <td>7.58149</td>\n      <td>3.59042</td>\n      <td>2.622812</td>\n      <td>3.157582</td>\n      <td>3.895691</td>\n      <td>0.623596</td>\n      <td>0.327758</td>\n      <td>6</td>\n      <td>1.9495</td>\n      <td>0.025037</td>\n    </tr>\n    <tr>\n      <th>15284_super.cif_Atom1_Bond15</th>\n      <td>15284_super.cif</td>\n      <td>supercells_data</td>\n      <td>26.0</td>\n      <td>8.0</td>\n      <td>39.8456</td>\n      <td>55.845</td>\n      <td>15.9994</td>\n      <td>4.0</td>\n      <td>2.0</td>\n      <td>8.0</td>\n      <td>...</td>\n      <td>7.58149</td>\n      <td>3.59042</td>\n      <td>2.622812</td>\n      <td>3.157582</td>\n      <td>3.895691</td>\n      <td>0.623596</td>\n      <td>0.327758</td>\n      <td>6</td>\n      <td>1.9495</td>\n      <td>0.025037</td>\n    </tr>\n    <tr>\n      <th>15284_super.cif_Atom1_Bond16</th>\n      <td>15284_super.cif</td>\n      <td>supercells_data</td>\n      <td>26.0</td>\n      <td>8.0</td>\n      <td>39.8456</td>\n      <td>55.845</td>\n      <td>15.9994</td>\n      <td>4.0</td>\n      <td>2.0</td>\n      <td>8.0</td>\n      <td>...</td>\n      <td>7.58149</td>\n      <td>3.59042</td>\n      <td>2.622812</td>\n      <td>3.157582</td>\n      <td>3.895691</td>\n      <td>0.623596</td>\n      <td>0.327758</td>\n      <td>6</td>\n      <td>1.9495</td>\n      <td>0.025037</td>\n    </tr>\n    <tr>\n      <th>15284_super.cif_Atom1_Bond17</th>\n      <td>15284_super.cif</td>\n      <td>supercells_data</td>\n      <td>26.0</td>\n      <td>8.0</td>\n      <td>39.8456</td>\n      <td>55.845</td>\n      <td>15.9994</td>\n      <td>4.0</td>\n      <td>2.0</td>\n      <td>8.0</td>\n      <td>...</td>\n      <td>7.58149</td>\n      <td>3.59042</td>\n      <td>2.622812</td>\n      <td>3.157582</td>\n      <td>3.895691</td>\n      <td>0.623596</td>\n      <td>0.327758</td>\n      <td>6</td>\n      <td>1.9495</td>\n      <td>0.025037</td>\n    </tr>\n    <tr>\n      <th>15284_super.cif_Atom2_Bond18</th>\n      <td>15284_super.cif</td>\n      <td>supercells_data</td>\n      <td>8.0</td>\n      <td>8.0</td>\n      <td>0.0</td>\n      <td>15.9994</td>\n      <td>15.9994</td>\n      <td>2.0</td>\n      <td>2.0</td>\n      <td>16.0</td>\n      <td>...</td>\n      <td>7.58149</td>\n      <td>2.622812</td>\n      <td>2.622812</td>\n      <td>3.895691</td>\n      <td>3.895691</td>\n      <td>0.327758</td>\n      <td>0.327758</td>\n      <td>14</td>\n      <td>2.757009</td>\n      <td>0.035407</td>\n    </tr>\n    <tr>\n      <th>15284_super.cif_Atom2_Bond19</th>\n      <td>15284_super.cif</td>\n      <td>supercells_data</td>\n      <td>8.0</td>\n      <td>8.0</td>\n      <td>0.0</td>\n      <td>15.9994</td>\n      <td>15.9994</td>\n      <td>2.0</td>\n      <td>2.0</td>\n      <td>16.0</td>\n      <td>...</td>\n      <td>7.58149</td>\n      <td>2.622812</td>\n      <td>2.622812</td>\n      <td>3.895691</td>\n      <td>3.895691</td>\n      <td>0.327758</td>\n      <td>0.327758</td>\n      <td>14</td>\n      <td>2.757009</td>\n      <td>0.035407</td>\n    </tr>\n    <tr>\n      <th>15284_super.cif_Atom2_Bond20</th>\n      <td>15284_super.cif</td>\n      <td>supercells_data</td>\n      <td>8.0</td>\n      <td>8.0</td>\n      <td>0.0</td>\n      <td>15.9994</td>\n      <td>15.9994</td>\n      <td>2.0</td>\n      <td>2.0</td>\n      <td>16.0</td>\n      <td>...</td>\n      <td>7.58149</td>\n      <td>2.622812</td>\n      <td>2.622812</td>\n      <td>3.895691</td>\n      <td>3.895691</td>\n      <td>0.327758</td>\n      <td>0.327758</td>\n      <td>14</td>\n      <td>2.757009</td>\n      <td>0.035407</td>\n    </tr>\n    <tr>\n      <th>15284_super.cif_Atom2_Bond21</th>\n      <td>15284_super.cif</td>\n      <td>supercells_data</td>\n      <td>8.0</td>\n      <td>8.0</td>\n      <td>0.0</td>\n      <td>15.9994</td>\n      <td>15.9994</td>\n      <td>2.0</td>\n      <td>2.0</td>\n      <td>16.0</td>\n      <td>...</td>\n      <td>7.58149</td>\n      <td>2.622812</td>\n      <td>2.622812</td>\n      <td>3.895691</td>\n      <td>3.895691</td>\n      <td>0.327758</td>\n      <td>0.327758</td>\n      <td>14</td>\n      <td>2.757009</td>\n      <td>0.035407</td>\n    </tr>\n    <tr>\n      <th>15284_super.cif_Atom2_Bond22</th>\n      <td>15284_super.cif</td>\n      <td>supercells_data</td>\n      <td>8.0</td>\n      <td>8.0</td>\n      <td>0.0</td>\n      <td>15.9994</td>\n      <td>15.9994</td>\n      <td>2.0</td>\n      <td>2.0</td>\n      <td>16.0</td>\n      <td>...</td>\n      <td>7.58149</td>\n      <td>2.622812</td>\n      <td>2.622812</td>\n      <td>3.895691</td>\n      <td>3.895691</td>\n      <td>0.327758</td>\n      <td>0.327758</td>\n      <td>14</td>\n      <td>2.757009</td>\n      <td>0.035407</td>\n    </tr>\n    <tr>\n      <th>15284_super.cif_Atom2_Bond23</th>\n      <td>15284_super.cif</td>\n      <td>supercells_data</td>\n      <td>8.0</td>\n      <td>8.0</td>\n      <td>0.0</td>\n      <td>15.9994</td>\n      <td>15.9994</td>\n      <td>2.0</td>\n      <td>2.0</td>\n      <td>16.0</td>\n      <td>...</td>\n      <td>7.58149</td>\n      <td>2.622812</td>\n      <td>2.622812</td>\n      <td>3.895691</td>\n      <td>3.895691</td>\n      <td>0.327758</td>\n      <td>0.327758</td>\n      <td>14</td>\n      <td>2.757009</td>\n      <td>0.035407</td>\n    </tr>\n    <tr>\n      <th>15284_super.cif_Atom2_Bond24</th>\n      <td>15284_super.cif</td>\n      <td>supercells_data</td>\n      <td>8.0</td>\n      <td>8.0</td>\n      <td>0.0</td>\n      <td>15.9994</td>\n      <td>15.9994</td>\n      <td>2.0</td>\n      <td>2.0</td>\n      <td>16.0</td>\n      <td>...</td>\n      <td>7.58149</td>\n      <td>2.622812</td>\n      <td>2.622812</td>\n      <td>3.895691</td>\n      <td>3.895691</td>\n      <td>0.327758</td>\n      <td>0.327758</td>\n      <td>14</td>\n      <td>2.757009</td>\n      <td>0.035407</td>\n    </tr>\n    <tr>\n      <th>15284_super.cif_Atom2_Bond25</th>\n      <td>15284_super.cif</td>\n      <td>supercells_data</td>\n      <td>8.0</td>\n      <td>8.0</td>\n      <td>0.0</td>\n      <td>15.9994</td>\n      <td>15.9994</td>\n      <td>2.0</td>\n      <td>2.0</td>\n      <td>16.0</td>\n      <td>...</td>\n      <td>7.58149</td>\n      <td>2.622812</td>\n      <td>2.622812</td>\n      <td>3.895691</td>\n      <td>3.895691</td>\n      <td>0.327758</td>\n      <td>0.327758</td>\n      <td>14</td>\n      <td>2.757009</td>\n      <td>0.035407</td>\n    </tr>\n    <tr>\n      <th>15284_super.cif_Atom3_Bond26</th>\n      <td>15284_super.cif</td>\n      <td>supercells_data</td>\n      <td>8.0</td>\n      <td>8.0</td>\n      <td>0.0</td>\n      <td>15.9994</td>\n      <td>15.9994</td>\n      <td>2.0</td>\n      <td>2.0</td>\n      <td>16.0</td>\n      <td>...</td>\n      <td>7.58149</td>\n      <td>2.622812</td>\n      <td>2.622812</td>\n      <td>3.895691</td>\n      <td>3.895691</td>\n      <td>0.327758</td>\n      <td>0.327758</td>\n      <td>14</td>\n      <td>2.757009</td>\n      <td>0.035407</td>\n    </tr>\n    <tr>\n      <th>15284_super.cif_Atom3_Bond27</th>\n      <td>15284_super.cif</td>\n      <td>supercells_data</td>\n      <td>8.0</td>\n      <td>8.0</td>\n      <td>0.0</td>\n      <td>15.9994</td>\n      <td>15.9994</td>\n      <td>2.0</td>\n      <td>2.0</td>\n      <td>16.0</td>\n      <td>...</td>\n      <td>7.58149</td>\n      <td>2.622812</td>\n      <td>2.622812</td>\n      <td>3.895691</td>\n      <td>3.895691</td>\n      <td>0.327758</td>\n      <td>0.327758</td>\n      <td>14</td>\n      <td>2.757009</td>\n      <td>0.035407</td>\n    </tr>\n    <tr>\n      <th>15284_super.cif_Atom3_Bond28</th>\n      <td>15284_super.cif</td>\n      <td>supercells_data</td>\n      <td>8.0</td>\n      <td>8.0</td>\n      <td>0.0</td>\n      <td>15.9994</td>\n      <td>15.9994</td>\n      <td>2.0</td>\n      <td>2.0</td>\n      <td>16.0</td>\n      <td>...</td>\n      <td>7.58149</td>\n      <td>2.622812</td>\n      <td>2.622812</td>\n      <td>3.895691</td>\n      <td>3.895691</td>\n      <td>0.327758</td>\n      <td>0.327758</td>\n      <td>14</td>\n      <td>2.757009</td>\n      <td>0.035407</td>\n    </tr>\n    <tr>\n      <th>15284_super.cif_Atom3_Bond29</th>\n      <td>15284_super.cif</td>\n      <td>supercells_data</td>\n      <td>8.0</td>\n      <td>8.0</td>\n      <td>0.0</td>\n      <td>15.9994</td>\n      <td>15.9994</td>\n      <td>2.0</td>\n      <td>2.0</td>\n      <td>16.0</td>\n      <td>...</td>\n      <td>7.58149</td>\n      <td>2.622812</td>\n      <td>2.622812</td>\n      <td>3.895691</td>\n      <td>3.895691</td>\n      <td>0.327758</td>\n      <td>0.327758</td>\n      <td>14</td>\n      <td>2.757009</td>\n      <td>0.035407</td>\n    </tr>\n  </tbody>\n</table>\n<p>30 rows × 51 columns</p>\n</div>"
     },
     "execution_count": 3,
     "metadata": {},
     "output_type": "execute_result"
    }
   ],
   "source": [
    "featurize_dataset(['supercells_data/15284_super.cif'], saveto='test_feat.csv')"
   ],
   "metadata": {
    "collapsed": false,
    "ExecuteTime": {
     "end_time": "2023-12-01T22:31:39.103086200Z",
     "start_time": "2023-12-01T22:31:38.944631500Z"
    }
   },
   "id": "73d5c26124ce597d"
  },
  {
   "cell_type": "markdown",
   "source": [
    "## Featurize all data in target folder in a batch system to manage memory better\n",
    "Note: be sure to delete any previous features.csv files as the function will append if the file exists"
   ],
   "metadata": {
    "collapsed": false
   },
   "id": "9c09c9490dfc700a"
  },
  {
   "cell_type": "code",
   "execution_count": null,
   "outputs": [
    {
     "name": "stdout",
     "output_type": "stream",
     "text": [
      "109 Batches Total: \n",
      "Starting batch  0\n"
     ]
    },
    {
     "name": "stderr",
     "output_type": "stream",
     "text": [
      "C:\\Users\\adamp\\anaconda3\\lib\\site-packages\\pymatgen\\io\\cif.py:1197: UserWarning: Issues encountered while parsing CIF: Some fractional coordinates rounded to ideal values to avoid issues with finite precision.\n",
      "  warnings.warn(\"Issues encountered while parsing CIF: \" + \"\\n\".join(self.warnings))\n"
     ]
    },
    {
     "name": "stdout",
     "output_type": "stream",
     "text": [
      "Time elapsed:  20.856205199845135\n",
      "Starting batch  1\n"
     ]
    },
    {
     "name": "stderr",
     "output_type": "stream",
     "text": [
      "C:\\Users\\adamp\\anaconda3\\lib\\site-packages\\pymatgen\\io\\cif.py:1197: UserWarning: Issues encountered while parsing CIF: Some fractional coordinates rounded to ideal values to avoid issues with finite precision.\n",
      "  warnings.warn(\"Issues encountered while parsing CIF: \" + \"\\n\".join(self.warnings))\n"
     ]
    },
    {
     "name": "stdout",
     "output_type": "stream",
     "text": [
      "Time elapsed:  47.80316250026226\n",
      "Starting batch  2\n"
     ]
    },
    {
     "name": "stderr",
     "output_type": "stream",
     "text": [
      "C:\\Users\\adamp\\anaconda3\\lib\\site-packages\\pymatgen\\io\\cif.py:1197: UserWarning: Issues encountered while parsing CIF: Some fractional coordinates rounded to ideal values to avoid issues with finite precision.\n",
      "  warnings.warn(\"Issues encountered while parsing CIF: \" + \"\\n\".join(self.warnings))\n"
     ]
    },
    {
     "name": "stdout",
     "output_type": "stream",
     "text": [
      "Time elapsed:  59.030629500281066\n",
      "Starting batch  3\n"
     ]
    },
    {
     "name": "stderr",
     "output_type": "stream",
     "text": [
      "C:\\Users\\adamp\\anaconda3\\lib\\site-packages\\pymatgen\\io\\cif.py:1197: UserWarning: Issues encountered while parsing CIF: Some fractional coordinates rounded to ideal values to avoid issues with finite precision.\n",
      "  warnings.warn(\"Issues encountered while parsing CIF: \" + \"\\n\".join(self.warnings))\n"
     ]
    },
    {
     "name": "stdout",
     "output_type": "stream",
     "text": [
      "Time elapsed:  67.9972182996571\n",
      "Starting batch  4\n"
     ]
    },
    {
     "name": "stderr",
     "output_type": "stream",
     "text": [
      "C:\\Users\\adamp\\anaconda3\\lib\\site-packages\\pymatgen\\io\\cif.py:1197: UserWarning: Issues encountered while parsing CIF: Some fractional coordinates rounded to ideal values to avoid issues with finite precision.\n",
      "  warnings.warn(\"Issues encountered while parsing CIF: \" + \"\\n\".join(self.warnings))\n"
     ]
    },
    {
     "name": "stdout",
     "output_type": "stream",
     "text": [
      "Time elapsed:  56.73128689965233\n",
      "Starting batch  5\n"
     ]
    },
    {
     "name": "stderr",
     "output_type": "stream",
     "text": [
      "C:\\Users\\adamp\\anaconda3\\lib\\site-packages\\pymatgen\\io\\cif.py:1197: UserWarning: Issues encountered while parsing CIF: Some fractional coordinates rounded to ideal values to avoid issues with finite precision.\n",
      "  warnings.warn(\"Issues encountered while parsing CIF: \" + \"\\n\".join(self.warnings))\n"
     ]
    },
    {
     "name": "stdout",
     "output_type": "stream",
     "text": [
      "Time elapsed:  6.015937899705023\n",
      "Starting batch  6\n"
     ]
    },
    {
     "name": "stderr",
     "output_type": "stream",
     "text": [
      "C:\\Users\\adamp\\anaconda3\\lib\\site-packages\\pymatgen\\io\\cif.py:1197: UserWarning: Issues encountered while parsing CIF: Some fractional coordinates rounded to ideal values to avoid issues with finite precision.\n",
      "  warnings.warn(\"Issues encountered while parsing CIF: \" + \"\\n\".join(self.warnings))\n"
     ]
    },
    {
     "name": "stdout",
     "output_type": "stream",
     "text": [
      "Time elapsed:  145.4959821999073\n",
      "Starting batch  7\n"
     ]
    },
    {
     "name": "stderr",
     "output_type": "stream",
     "text": [
      "C:\\Users\\adamp\\anaconda3\\lib\\site-packages\\pymatgen\\io\\cif.py:1197: UserWarning: Issues encountered while parsing CIF: Some fractional coordinates rounded to ideal values to avoid issues with finite precision.\n",
      "  warnings.warn(\"Issues encountered while parsing CIF: \" + \"\\n\".join(self.warnings))\n"
     ]
    },
    {
     "name": "stdout",
     "output_type": "stream",
     "text": [
      "Time elapsed:  37.22448859969154\n",
      "Starting batch  8\n"
     ]
    },
    {
     "name": "stderr",
     "output_type": "stream",
     "text": [
      "C:\\Users\\adamp\\anaconda3\\lib\\site-packages\\pymatgen\\io\\cif.py:1197: UserWarning: Issues encountered while parsing CIF: Some fractional coordinates rounded to ideal values to avoid issues with finite precision.\n",
      "  warnings.warn(\"Issues encountered while parsing CIF: \" + \"\\n\".join(self.warnings))\n"
     ]
    },
    {
     "name": "stdout",
     "output_type": "stream",
     "text": [
      "Time elapsed:  29.74734769994393\n",
      "Starting batch  9\n"
     ]
    },
    {
     "name": "stderr",
     "output_type": "stream",
     "text": [
      "C:\\Users\\adamp\\anaconda3\\lib\\site-packages\\pymatgen\\io\\cif.py:1197: UserWarning: Issues encountered while parsing CIF: Some fractional coordinates rounded to ideal values to avoid issues with finite precision.\n",
      "  warnings.warn(\"Issues encountered while parsing CIF: \" + \"\\n\".join(self.warnings))\n"
     ]
    },
    {
     "name": "stdout",
     "output_type": "stream",
     "text": [
      "Time elapsed:  1.9083008002489805\n",
      "Starting batch  10\n"
     ]
    },
    {
     "name": "stderr",
     "output_type": "stream",
     "text": [
      "C:\\Users\\adamp\\anaconda3\\lib\\site-packages\\pymatgen\\io\\cif.py:1197: UserWarning: Issues encountered while parsing CIF: Some fractional coordinates rounded to ideal values to avoid issues with finite precision.\n",
      "  warnings.warn(\"Issues encountered while parsing CIF: \" + \"\\n\".join(self.warnings))\n"
     ]
    },
    {
     "name": "stdout",
     "output_type": "stream",
     "text": [
      "Time elapsed:  185.4771854998544\n",
      "Starting batch  11\n"
     ]
    },
    {
     "name": "stderr",
     "output_type": "stream",
     "text": [
      "C:\\Users\\adamp\\anaconda3\\lib\\site-packages\\pymatgen\\io\\cif.py:1197: UserWarning: Issues encountered while parsing CIF: Some fractional coordinates rounded to ideal values to avoid issues with finite precision.\n",
      "  warnings.warn(\"Issues encountered while parsing CIF: \" + \"\\n\".join(self.warnings))\n"
     ]
    },
    {
     "name": "stdout",
     "output_type": "stream",
     "text": [
      "Time elapsed:  56.13609299995005\n",
      "Starting batch  12\n"
     ]
    },
    {
     "name": "stderr",
     "output_type": "stream",
     "text": [
      "C:\\Users\\adamp\\anaconda3\\lib\\site-packages\\pymatgen\\io\\cif.py:1197: UserWarning: Issues encountered while parsing CIF: Some fractional coordinates rounded to ideal values to avoid issues with finite precision.\n",
      "  warnings.warn(\"Issues encountered while parsing CIF: \" + \"\\n\".join(self.warnings))\n"
     ]
    },
    {
     "name": "stdout",
     "output_type": "stream",
     "text": [
      "Time elapsed:  8.526850999798626\n",
      "Starting batch  13\n",
      "Time elapsed:  18.775653299875557\n",
      "Starting batch  14\n"
     ]
    },
    {
     "name": "stderr",
     "output_type": "stream",
     "text": [
      "C:\\Users\\adamp\\anaconda3\\lib\\site-packages\\pymatgen\\io\\cif.py:1197: UserWarning: Issues encountered while parsing CIF: Some fractional coordinates rounded to ideal values to avoid issues with finite precision.\n",
      "  warnings.warn(\"Issues encountered while parsing CIF: \" + \"\\n\".join(self.warnings))\n"
     ]
    },
    {
     "name": "stdout",
     "output_type": "stream",
     "text": [
      "Time elapsed:  23.64539139997214\n",
      "Starting batch  15\n"
     ]
    },
    {
     "name": "stderr",
     "output_type": "stream",
     "text": [
      "C:\\Users\\adamp\\anaconda3\\lib\\site-packages\\pymatgen\\io\\cif.py:1197: UserWarning: Issues encountered while parsing CIF: Some fractional coordinates rounded to ideal values to avoid issues with finite precision.\n",
      "  warnings.warn(\"Issues encountered while parsing CIF: \" + \"\\n\".join(self.warnings))\n"
     ]
    },
    {
     "name": "stdout",
     "output_type": "stream",
     "text": [
      "Time elapsed:  6.346043900121003\n",
      "Starting batch  16\n"
     ]
    },
    {
     "name": "stderr",
     "output_type": "stream",
     "text": [
      "C:\\Users\\adamp\\anaconda3\\lib\\site-packages\\pymatgen\\io\\cif.py:1197: UserWarning: Issues encountered while parsing CIF: Some fractional coordinates rounded to ideal values to avoid issues with finite precision.\n",
      "  warnings.warn(\"Issues encountered while parsing CIF: \" + \"\\n\".join(self.warnings))\n"
     ]
    },
    {
     "name": "stdout",
     "output_type": "stream",
     "text": [
      "Time elapsed:  24.374488700181246\n",
      "Starting batch  17\n"
     ]
    },
    {
     "name": "stderr",
     "output_type": "stream",
     "text": [
      "C:\\Users\\adamp\\anaconda3\\lib\\site-packages\\pymatgen\\io\\cif.py:1197: UserWarning: Issues encountered while parsing CIF: Some fractional coordinates rounded to ideal values to avoid issues with finite precision.\n",
      "  warnings.warn(\"Issues encountered while parsing CIF: \" + \"\\n\".join(self.warnings))\n"
     ]
    },
    {
     "name": "stdout",
     "output_type": "stream",
     "text": [
      "Time elapsed:  33.59329480025917\n",
      "Starting batch  18\n"
     ]
    },
    {
     "name": "stderr",
     "output_type": "stream",
     "text": [
      "C:\\Users\\adamp\\anaconda3\\lib\\site-packages\\pymatgen\\io\\cif.py:1197: UserWarning: Issues encountered while parsing CIF: Some fractional coordinates rounded to ideal values to avoid issues with finite precision.\n",
      "  warnings.warn(\"Issues encountered while parsing CIF: \" + \"\\n\".join(self.warnings))\n"
     ]
    },
    {
     "name": "stdout",
     "output_type": "stream",
     "text": [
      "Time elapsed:  5.493805999867618\n",
      "Starting batch  19\n",
      "Time elapsed:  66.1142989997752\n",
      "Starting batch  20\n"
     ]
    },
    {
     "name": "stderr",
     "output_type": "stream",
     "text": [
      "C:\\Users\\adamp\\anaconda3\\lib\\site-packages\\pymatgen\\io\\cif.py:1197: UserWarning: Issues encountered while parsing CIF: Some fractional coordinates rounded to ideal values to avoid issues with finite precision.\n",
      "  warnings.warn(\"Issues encountered while parsing CIF: \" + \"\\n\".join(self.warnings))\n"
     ]
    },
    {
     "name": "stdout",
     "output_type": "stream",
     "text": [
      "Time elapsed:  88.58087999979034\n",
      "Starting batch  21\n",
      "Time elapsed:  146.08759950008243\n",
      "Starting batch  22\n",
      "Time elapsed:  5.398895199876279\n",
      "Starting batch  23\n"
     ]
    },
    {
     "name": "stderr",
     "output_type": "stream",
     "text": [
      "C:\\Users\\adamp\\anaconda3\\lib\\site-packages\\pymatgen\\io\\cif.py:1197: UserWarning: Issues encountered while parsing CIF: Some fractional coordinates rounded to ideal values to avoid issues with finite precision.\n",
      "  warnings.warn(\"Issues encountered while parsing CIF: \" + \"\\n\".join(self.warnings))\n"
     ]
    },
    {
     "name": "stdout",
     "output_type": "stream",
     "text": [
      "Time elapsed:  133.94540790002793\n",
      "Starting batch  24\n"
     ]
    },
    {
     "name": "stderr",
     "output_type": "stream",
     "text": [
      "C:\\Users\\adamp\\anaconda3\\lib\\site-packages\\pymatgen\\io\\cif.py:1197: UserWarning: Issues encountered while parsing CIF: Some fractional coordinates rounded to ideal values to avoid issues with finite precision.\n",
      "  warnings.warn(\"Issues encountered while parsing CIF: \" + \"\\n\".join(self.warnings))\n"
     ]
    },
    {
     "name": "stdout",
     "output_type": "stream",
     "text": [
      "Time elapsed:  44.863856999669224\n",
      "Starting batch  25\n"
     ]
    },
    {
     "name": "stderr",
     "output_type": "stream",
     "text": [
      "C:\\Users\\adamp\\anaconda3\\lib\\site-packages\\pymatgen\\io\\cif.py:1197: UserWarning: Issues encountered while parsing CIF: Some fractional coordinates rounded to ideal values to avoid issues with finite precision.\n",
      "  warnings.warn(\"Issues encountered while parsing CIF: \" + \"\\n\".join(self.warnings))\n"
     ]
    },
    {
     "name": "stdout",
     "output_type": "stream",
     "text": [
      "Time elapsed:  0.4100621002726257\n",
      "Starting batch  26\n"
     ]
    },
    {
     "name": "stderr",
     "output_type": "stream",
     "text": [
      "C:\\Users\\adamp\\anaconda3\\lib\\site-packages\\pymatgen\\io\\cif.py:1197: UserWarning: Issues encountered while parsing CIF: Some fractional coordinates rounded to ideal values to avoid issues with finite precision.\n",
      "  warnings.warn(\"Issues encountered while parsing CIF: \" + \"\\n\".join(self.warnings))\n"
     ]
    },
    {
     "name": "stdout",
     "output_type": "stream",
     "text": [
      "Time elapsed:  1.599288999568671\n",
      "Starting batch  27\n",
      "Time elapsed:  7.2087146998383105\n",
      "Starting batch  28\n"
     ]
    },
    {
     "name": "stderr",
     "output_type": "stream",
     "text": [
      "C:\\Users\\adamp\\anaconda3\\lib\\site-packages\\pymatgen\\io\\cif.py:1197: UserWarning: Issues encountered while parsing CIF: Some fractional coordinates rounded to ideal values to avoid issues with finite precision.\n",
      "  warnings.warn(\"Issues encountered while parsing CIF: \" + \"\\n\".join(self.warnings))\n"
     ]
    },
    {
     "name": "stdout",
     "output_type": "stream",
     "text": [
      "Time elapsed:  69.9626413998194\n",
      "Starting batch  29\n",
      "Time elapsed:  0.3762924997135997\n",
      "Starting batch  30\n"
     ]
    },
    {
     "name": "stderr",
     "output_type": "stream",
     "text": [
      "C:\\Users\\adamp\\anaconda3\\lib\\site-packages\\pymatgen\\io\\cif.py:1197: UserWarning: Issues encountered while parsing CIF: Some fractional coordinates rounded to ideal values to avoid issues with finite precision.\n",
      "  warnings.warn(\"Issues encountered while parsing CIF: \" + \"\\n\".join(self.warnings))\n"
     ]
    },
    {
     "name": "stdout",
     "output_type": "stream",
     "text": [
      "Time elapsed:  5.541683999821544\n",
      "Starting batch  31\n"
     ]
    },
    {
     "name": "stderr",
     "output_type": "stream",
     "text": [
      "C:\\Users\\adamp\\anaconda3\\lib\\site-packages\\pymatgen\\io\\cif.py:1197: UserWarning: Issues encountered while parsing CIF: Some fractional coordinates rounded to ideal values to avoid issues with finite precision.\n",
      "  warnings.warn(\"Issues encountered while parsing CIF: \" + \"\\n\".join(self.warnings))\n"
     ]
    },
    {
     "name": "stdout",
     "output_type": "stream",
     "text": [
      "Time elapsed:  1.940760999917984\n",
      "Starting batch  32\n"
     ]
    },
    {
     "name": "stderr",
     "output_type": "stream",
     "text": [
      "C:\\Users\\adamp\\anaconda3\\lib\\site-packages\\pymatgen\\io\\cif.py:1197: UserWarning: Issues encountered while parsing CIF: Some fractional coordinates rounded to ideal values to avoid issues with finite precision.\n",
      "  warnings.warn(\"Issues encountered while parsing CIF: \" + \"\\n\".join(self.warnings))\n"
     ]
    },
    {
     "name": "stdout",
     "output_type": "stream",
     "text": [
      "Time elapsed:  3.7302537001669407\n",
      "Starting batch  33\n",
      "Time elapsed:  0.4993479000404477\n",
      "Starting batch  34\n"
     ]
    },
    {
     "name": "stderr",
     "output_type": "stream",
     "text": [
      "C:\\Users\\adamp\\anaconda3\\lib\\site-packages\\pymatgen\\io\\cif.py:1197: UserWarning: Issues encountered while parsing CIF: Some fractional coordinates rounded to ideal values to avoid issues with finite precision.\n",
      "  warnings.warn(\"Issues encountered while parsing CIF: \" + \"\\n\".join(self.warnings))\n"
     ]
    },
    {
     "name": "stdout",
     "output_type": "stream",
     "text": [
      "Time elapsed:  2.3459218996576965\n",
      "Starting batch  35\n"
     ]
    },
    {
     "name": "stderr",
     "output_type": "stream",
     "text": [
      "C:\\Users\\adamp\\anaconda3\\lib\\site-packages\\pymatgen\\io\\cif.py:1197: UserWarning: Issues encountered while parsing CIF: Some fractional coordinates rounded to ideal values to avoid issues with finite precision.\n",
      "  warnings.warn(\"Issues encountered while parsing CIF: \" + \"\\n\".join(self.warnings))\n"
     ]
    },
    {
     "name": "stdout",
     "output_type": "stream",
     "text": [
      "Time elapsed:  0.5682883998379111\n",
      "Starting batch  36\n"
     ]
    },
    {
     "name": "stderr",
     "output_type": "stream",
     "text": [
      "C:\\Users\\adamp\\anaconda3\\lib\\site-packages\\pymatgen\\io\\cif.py:1197: UserWarning: Issues encountered while parsing CIF: Some fractional coordinates rounded to ideal values to avoid issues with finite precision.\n",
      "  warnings.warn(\"Issues encountered while parsing CIF: \" + \"\\n\".join(self.warnings))\n"
     ]
    },
    {
     "name": "stdout",
     "output_type": "stream",
     "text": [
      "Time elapsed:  93.98562220018357\n",
      "Starting batch  37\n"
     ]
    },
    {
     "name": "stderr",
     "output_type": "stream",
     "text": [
      "C:\\Users\\adamp\\anaconda3\\lib\\site-packages\\pymatgen\\io\\cif.py:1197: UserWarning: Issues encountered while parsing CIF: Some fractional coordinates rounded to ideal values to avoid issues with finite precision.\n",
      "  warnings.warn(\"Issues encountered while parsing CIF: \" + \"\\n\".join(self.warnings))\n"
     ]
    },
    {
     "name": "stdout",
     "output_type": "stream",
     "text": [
      "Time elapsed:  7.509525400120765\n",
      "Starting batch  38\n"
     ]
    },
    {
     "name": "stderr",
     "output_type": "stream",
     "text": [
      "C:\\Users\\adamp\\anaconda3\\lib\\site-packages\\pymatgen\\io\\cif.py:1197: UserWarning: Issues encountered while parsing CIF: Some fractional coordinates rounded to ideal values to avoid issues with finite precision.\n",
      "  warnings.warn(\"Issues encountered while parsing CIF: \" + \"\\n\".join(self.warnings))\n"
     ]
    },
    {
     "name": "stdout",
     "output_type": "stream",
     "text": [
      "Time elapsed:  5.192387399729341\n",
      "Starting batch  39\n"
     ]
    },
    {
     "name": "stderr",
     "output_type": "stream",
     "text": [
      "C:\\Users\\adamp\\anaconda3\\lib\\site-packages\\pymatgen\\io\\cif.py:1197: UserWarning: Issues encountered while parsing CIF: Some fractional coordinates rounded to ideal values to avoid issues with finite precision.\n",
      "  warnings.warn(\"Issues encountered while parsing CIF: \" + \"\\n\".join(self.warnings))\n"
     ]
    },
    {
     "name": "stdout",
     "output_type": "stream",
     "text": [
      "Time elapsed:  6.293244400061667\n",
      "Starting batch  40\n"
     ]
    },
    {
     "name": "stderr",
     "output_type": "stream",
     "text": [
      "C:\\Users\\adamp\\anaconda3\\lib\\site-packages\\pymatgen\\io\\cif.py:1197: UserWarning: Issues encountered while parsing CIF: Some fractional coordinates rounded to ideal values to avoid issues with finite precision.\n",
      "  warnings.warn(\"Issues encountered while parsing CIF: \" + \"\\n\".join(self.warnings))\n"
     ]
    },
    {
     "name": "stdout",
     "output_type": "stream",
     "text": [
      "Time elapsed:  3.3400213001295924\n",
      "Starting batch  41\n"
     ]
    },
    {
     "name": "stderr",
     "output_type": "stream",
     "text": [
      "C:\\Users\\adamp\\anaconda3\\lib\\site-packages\\pymatgen\\io\\cif.py:1197: UserWarning: Issues encountered while parsing CIF: Some fractional coordinates rounded to ideal values to avoid issues with finite precision.\n",
      "  warnings.warn(\"Issues encountered while parsing CIF: \" + \"\\n\".join(self.warnings))\n"
     ]
    },
    {
     "name": "stdout",
     "output_type": "stream",
     "text": [
      "Time elapsed:  9.860672499984503\n",
      "Starting batch  42\n"
     ]
    },
    {
     "name": "stderr",
     "output_type": "stream",
     "text": [
      "C:\\Users\\adamp\\anaconda3\\lib\\site-packages\\pymatgen\\io\\cif.py:1197: UserWarning: Issues encountered while parsing CIF: Some fractional coordinates rounded to ideal values to avoid issues with finite precision.\n",
      "  warnings.warn(\"Issues encountered while parsing CIF: \" + \"\\n\".join(self.warnings))\n"
     ]
    },
    {
     "name": "stdout",
     "output_type": "stream",
     "text": [
      "Time elapsed:  3.5662551997229457\n",
      "Starting batch  43\n"
     ]
    },
    {
     "name": "stderr",
     "output_type": "stream",
     "text": [
      "C:\\Users\\adamp\\anaconda3\\lib\\site-packages\\pymatgen\\io\\cif.py:1197: UserWarning: Issues encountered while parsing CIF: Some fractional coordinates rounded to ideal values to avoid issues with finite precision.\n",
      "  warnings.warn(\"Issues encountered while parsing CIF: \" + \"\\n\".join(self.warnings))\n"
     ]
    },
    {
     "name": "stdout",
     "output_type": "stream",
     "text": [
      "Time elapsed:  14.059765900019556\n",
      "Starting batch  44\n"
     ]
    },
    {
     "name": "stderr",
     "output_type": "stream",
     "text": [
      "C:\\Users\\adamp\\anaconda3\\lib\\site-packages\\pymatgen\\io\\cif.py:1197: UserWarning: Issues encountered while parsing CIF: Some fractional coordinates rounded to ideal values to avoid issues with finite precision.\n",
      "  warnings.warn(\"Issues encountered while parsing CIF: \" + \"\\n\".join(self.warnings))\n"
     ]
    },
    {
     "name": "stdout",
     "output_type": "stream",
     "text": [
      "Time elapsed:  23.603835800196975\n",
      "Starting batch  45\n"
     ]
    },
    {
     "name": "stderr",
     "output_type": "stream",
     "text": [
      "C:\\Users\\adamp\\anaconda3\\lib\\site-packages\\pymatgen\\io\\cif.py:1197: UserWarning: Issues encountered while parsing CIF: Some fractional coordinates rounded to ideal values to avoid issues with finite precision.\n",
      "  warnings.warn(\"Issues encountered while parsing CIF: \" + \"\\n\".join(self.warnings))\n"
     ]
    },
    {
     "name": "stdout",
     "output_type": "stream",
     "text": [
      "Time elapsed:  3.2147532999515533\n",
      "Starting batch  46\n"
     ]
    },
    {
     "name": "stderr",
     "output_type": "stream",
     "text": [
      "C:\\Users\\adamp\\anaconda3\\lib\\site-packages\\pymatgen\\io\\cif.py:1197: UserWarning: Issues encountered while parsing CIF: Some fractional coordinates rounded to ideal values to avoid issues with finite precision.\n",
      "  warnings.warn(\"Issues encountered while parsing CIF: \" + \"\\n\".join(self.warnings))\n"
     ]
    },
    {
     "name": "stdout",
     "output_type": "stream",
     "text": [
      "Time elapsed:  10.556929100304842\n",
      "Starting batch  47\n"
     ]
    },
    {
     "name": "stderr",
     "output_type": "stream",
     "text": [
      "C:\\Users\\adamp\\anaconda3\\lib\\site-packages\\pymatgen\\io\\cif.py:1197: UserWarning: Issues encountered while parsing CIF: Some fractional coordinates rounded to ideal values to avoid issues with finite precision.\n",
      "  warnings.warn(\"Issues encountered while parsing CIF: \" + \"\\n\".join(self.warnings))\n"
     ]
    },
    {
     "name": "stdout",
     "output_type": "stream",
     "text": [
      "Time elapsed:  2.508479599840939\n",
      "Starting batch  48\n",
      "Time elapsed:  0.63538320036605\n",
      "Starting batch  49\n"
     ]
    },
    {
     "name": "stderr",
     "output_type": "stream",
     "text": [
      "C:\\Users\\adamp\\anaconda3\\lib\\site-packages\\pymatgen\\io\\cif.py:1197: UserWarning: Issues encountered while parsing CIF: Some fractional coordinates rounded to ideal values to avoid issues with finite precision.\n",
      "  warnings.warn(\"Issues encountered while parsing CIF: \" + \"\\n\".join(self.warnings))\n"
     ]
    },
    {
     "name": "stdout",
     "output_type": "stream",
     "text": [
      "Time elapsed:  10.749301200266927\n",
      "Starting batch  50\n"
     ]
    },
    {
     "name": "stderr",
     "output_type": "stream",
     "text": [
      "C:\\Users\\adamp\\anaconda3\\lib\\site-packages\\pymatgen\\io\\cif.py:1197: UserWarning: Issues encountered while parsing CIF: Some fractional coordinates rounded to ideal values to avoid issues with finite precision.\n",
      "  warnings.warn(\"Issues encountered while parsing CIF: \" + \"\\n\".join(self.warnings))\n"
     ]
    },
    {
     "name": "stdout",
     "output_type": "stream",
     "text": [
      "Time elapsed:  6.564462899696082\n",
      "Starting batch  51\n"
     ]
    },
    {
     "name": "stderr",
     "output_type": "stream",
     "text": [
      "C:\\Users\\adamp\\anaconda3\\lib\\site-packages\\pymatgen\\io\\cif.py:1197: UserWarning: Issues encountered while parsing CIF: Some fractional coordinates rounded to ideal values to avoid issues with finite precision.\n",
      "  warnings.warn(\"Issues encountered while parsing CIF: \" + \"\\n\".join(self.warnings))\n"
     ]
    },
    {
     "name": "stdout",
     "output_type": "stream",
     "text": [
      "Time elapsed:  16.131281400099397\n",
      "Starting batch  52\n"
     ]
    },
    {
     "name": "stderr",
     "output_type": "stream",
     "text": [
      "C:\\Users\\adamp\\anaconda3\\lib\\site-packages\\pymatgen\\io\\cif.py:1197: UserWarning: Issues encountered while parsing CIF: Some fractional coordinates rounded to ideal values to avoid issues with finite precision.\n",
      "  warnings.warn(\"Issues encountered while parsing CIF: \" + \"\\n\".join(self.warnings))\n"
     ]
    },
    {
     "name": "stdout",
     "output_type": "stream",
     "text": [
      "Time elapsed:  148.86897530034184\n",
      "Starting batch  53\n"
     ]
    },
    {
     "name": "stderr",
     "output_type": "stream",
     "text": [
      "C:\\Users\\adamp\\anaconda3\\lib\\site-packages\\pymatgen\\io\\cif.py:1197: UserWarning: Issues encountered while parsing CIF: Some fractional coordinates rounded to ideal values to avoid issues with finite precision.\n",
      "  warnings.warn(\"Issues encountered while parsing CIF: \" + \"\\n\".join(self.warnings))\n"
     ]
    },
    {
     "name": "stdout",
     "output_type": "stream",
     "text": [
      "Time elapsed:  50.85999820008874\n",
      "Starting batch  54\n"
     ]
    },
    {
     "name": "stderr",
     "output_type": "stream",
     "text": [
      "C:\\Users\\adamp\\anaconda3\\lib\\site-packages\\pymatgen\\io\\cif.py:1197: UserWarning: Issues encountered while parsing CIF: Some fractional coordinates rounded to ideal values to avoid issues with finite precision.\n",
      "  warnings.warn(\"Issues encountered while parsing CIF: \" + \"\\n\".join(self.warnings))\n"
     ]
    },
    {
     "name": "stdout",
     "output_type": "stream",
     "text": [
      "Time elapsed:  22.025266599841416\n",
      "Starting batch  55\n"
     ]
    },
    {
     "name": "stderr",
     "output_type": "stream",
     "text": [
      "C:\\Users\\adamp\\anaconda3\\lib\\site-packages\\pymatgen\\io\\cif.py:1197: UserWarning: Issues encountered while parsing CIF: Some fractional coordinates rounded to ideal values to avoid issues with finite precision.\n",
      "  warnings.warn(\"Issues encountered while parsing CIF: \" + \"\\n\".join(self.warnings))\n"
     ]
    },
    {
     "name": "stdout",
     "output_type": "stream",
     "text": [
      "Time elapsed:  66.78832860011607\n",
      "Starting batch  56\n"
     ]
    },
    {
     "name": "stderr",
     "output_type": "stream",
     "text": [
      "C:\\Users\\adamp\\anaconda3\\lib\\site-packages\\pymatgen\\io\\cif.py:1197: UserWarning: Issues encountered while parsing CIF: Some fractional coordinates rounded to ideal values to avoid issues with finite precision.\n",
      "  warnings.warn(\"Issues encountered while parsing CIF: \" + \"\\n\".join(self.warnings))\n"
     ]
    },
    {
     "name": "stdout",
     "output_type": "stream",
     "text": [
      "Time elapsed:  8.56251489976421\n",
      "Starting batch  57\n"
     ]
    },
    {
     "name": "stderr",
     "output_type": "stream",
     "text": [
      "C:\\Users\\adamp\\anaconda3\\lib\\site-packages\\pymatgen\\io\\cif.py:1197: UserWarning: Issues encountered while parsing CIF: Some fractional coordinates rounded to ideal values to avoid issues with finite precision.\n",
      "  warnings.warn(\"Issues encountered while parsing CIF: \" + \"\\n\".join(self.warnings))\n"
     ]
    },
    {
     "name": "stdout",
     "output_type": "stream",
     "text": [
      "Time elapsed:  16.320733800064772\n",
      "Starting batch  58\n"
     ]
    },
    {
     "name": "stderr",
     "output_type": "stream",
     "text": [
      "C:\\Users\\adamp\\anaconda3\\lib\\site-packages\\pymatgen\\io\\cif.py:1197: UserWarning: Issues encountered while parsing CIF: Some fractional coordinates rounded to ideal values to avoid issues with finite precision.\n",
      "  warnings.warn(\"Issues encountered while parsing CIF: \" + \"\\n\".join(self.warnings))\n"
     ]
    },
    {
     "name": "stdout",
     "output_type": "stream",
     "text": [
      "Time elapsed:  35.33846260001883\n",
      "Starting batch  59\n",
      "Time elapsed:  19.85931109962985\n",
      "Starting batch  60\n"
     ]
    },
    {
     "name": "stderr",
     "output_type": "stream",
     "text": [
      "C:\\Users\\adamp\\anaconda3\\lib\\site-packages\\pymatgen\\io\\cif.py:1197: UserWarning: Issues encountered while parsing CIF: Some fractional coordinates rounded to ideal values to avoid issues with finite precision.\n",
      "  warnings.warn(\"Issues encountered while parsing CIF: \" + \"\\n\".join(self.warnings))\n"
     ]
    },
    {
     "name": "stdout",
     "output_type": "stream",
     "text": [
      "Time elapsed:  37.710362900048494\n",
      "Starting batch  61\n"
     ]
    },
    {
     "name": "stderr",
     "output_type": "stream",
     "text": [
      "C:\\Users\\adamp\\anaconda3\\lib\\site-packages\\pymatgen\\io\\cif.py:1197: UserWarning: Issues encountered while parsing CIF: Some fractional coordinates rounded to ideal values to avoid issues with finite precision.\n",
      "  warnings.warn(\"Issues encountered while parsing CIF: \" + \"\\n\".join(self.warnings))\n"
     ]
    },
    {
     "name": "stdout",
     "output_type": "stream",
     "text": [
      "Time elapsed:  11.647609300445765\n",
      "Starting batch  62\n"
     ]
    },
    {
     "name": "stderr",
     "output_type": "stream",
     "text": [
      "C:\\Users\\adamp\\anaconda3\\lib\\site-packages\\pymatgen\\io\\cif.py:1197: UserWarning: Issues encountered while parsing CIF: Some fractional coordinates rounded to ideal values to avoid issues with finite precision.\n",
      "  warnings.warn(\"Issues encountered while parsing CIF: \" + \"\\n\".join(self.warnings))\n"
     ]
    },
    {
     "name": "stdout",
     "output_type": "stream",
     "text": [
      "Time elapsed:  30.26305399974808\n",
      "Starting batch  63\n"
     ]
    },
    {
     "name": "stderr",
     "output_type": "stream",
     "text": [
      "C:\\Users\\adamp\\anaconda3\\lib\\site-packages\\pymatgen\\io\\cif.py:1197: UserWarning: Issues encountered while parsing CIF: Some fractional coordinates rounded to ideal values to avoid issues with finite precision.\n",
      "  warnings.warn(\"Issues encountered while parsing CIF: \" + \"\\n\".join(self.warnings))\n"
     ]
    },
    {
     "name": "stdout",
     "output_type": "stream",
     "text": [
      "Time elapsed:  14.046133500058204\n",
      "Starting batch  64\n"
     ]
    },
    {
     "name": "stderr",
     "output_type": "stream",
     "text": [
      "C:\\Users\\adamp\\anaconda3\\lib\\site-packages\\pymatgen\\io\\cif.py:1197: UserWarning: Issues encountered while parsing CIF: Some fractional coordinates rounded to ideal values to avoid issues with finite precision.\n",
      "  warnings.warn(\"Issues encountered while parsing CIF: \" + \"\\n\".join(self.warnings))\n"
     ]
    },
    {
     "name": "stdout",
     "output_type": "stream",
     "text": [
      "Time elapsed:  5729.689133600332\n",
      "Starting batch  65\n"
     ]
    },
    {
     "name": "stderr",
     "output_type": "stream",
     "text": [
      "C:\\Users\\adamp\\anaconda3\\lib\\site-packages\\pymatgen\\io\\cif.py:1197: UserWarning: Issues encountered while parsing CIF: Some fractional coordinates rounded to ideal values to avoid issues with finite precision.\n",
      "  warnings.warn(\"Issues encountered while parsing CIF: \" + \"\\n\".join(self.warnings))\n"
     ]
    }
   ],
   "source": [
    "# Batching files to reduce memory use\n",
    "BATCH_SIZE = 5\n",
    "\n",
    "# Load all CIF files in directory\n",
    "file_type = \"_super.cif\"  # Use files with this ending in input_dir\n",
    "input_dir = \"supercells_data/\"  # Input data directory\n",
    "output_dir = \"features/\"  # Output directory\n",
    "filename = \"features.csv\"  # Output filename for features\n",
    "\n",
    "if not os.path.isdir(output_dir):\n",
    "    os.mkdir(output_dir)\n",
    "elif os.path.isdir(output_dir+filename):\n",
    "    os.remove(output_dir+filename)  # Remove existing file\n",
    "\n",
    "files = os.listdir(input_dir)\n",
    "cif_files = [input_dir+file for file in files if file.endswith(file_type)]\n",
    "\n",
    "# Featurize all sturctures\n",
    "n_batches = int(np.ceil(len(cif_files)/BATCH_SIZE))\n",
    "if os.path.isfile(filename):  # Clean up any previous runs\n",
    "    os.remove(filename)\n",
    "    \n",
    "print(\"{} Batches Total: \".format(n_batches))\n",
    "for b in range(n_batches):\n",
    "    print(\"Starting batch \", b)\n",
    "    # Define which files to \n",
    "    idx_start = int(b*BATCH_SIZE)\n",
    "    idx_end = int(min((b+1)*BATCH_SIZE, len(cif_files)))\n",
    "    start = timeit.default_timer()\n",
    "    data_frame = featurize_dataset(cif_files[idx_start:idx_end], saveto=output_dir+filename)\n",
    "    print(\"Time elapsed: \", timeit.default_timer() - start)\n",
    "\n",
    "print(\"Files processed: \", len(cif_files))"
   ],
   "metadata": {
    "collapsed": false,
    "is_executing": true,
    "ExecuteTime": {
     "start_time": "2023-12-01T22:31:39.103086200Z"
    }
   },
   "id": "9f4b24a27d79356c"
  },
  {
   "cell_type": "code",
   "execution_count": null,
   "id": "10b0813d37aa1dc",
   "metadata": {
    "is_executing": true
   },
   "outputs": [],
   "source": [
    "   ## 1. Bag of Bonds\n",
    "\"\"\"\n",
    "print(\"bag of bonds\")\n",
    "BB = BagofBonds()\n",
    "for index, row in data.iterrows():\n",
    "    structure = row[\"structure\"]\n",
    "    if verbos:\n",
    "        print(index)\n",
    "    BB.fit([structure])\n",
    "    feat = BB.bag(structure)\n",
    "    print(feat)\n",
    "    site = list(feat.keys())\n",
    "    print(site[0])\n",
    "    print(structure[site])\n",
    "\n",
    "print(\"bond fraction\")\n",
    "BF = BondFractions()\n",
    "for index, row in data.iterrows():\n",
    "    structure = row[\"structure\"]\n",
    "    if verbos:\n",
    "        print(index)\n",
    "    feat = BF.fit_transform([structure])\n",
    "    #print(feat)\n",
    "    #print(BF.feature_labels())\n",
    "\"\"\"\n",
    "## 5. site difference stats \n",
    "\"\"\"\n",
    "print(\"LPD\")\n",
    "LPD = LocalPropertyStatsNew(properties=property_list)\n",
    "colnames = LPD._generate_column_labels(multiindex=False, return_errors=False)\n",
    "for index, row in data.iterrows():\n",
    "    structure = row[\"structure\"]\n",
    "    if verbos:\n",
    "        print(index)\n",
    "    for atomidx in range(structure.num_sites):\n",
    "        feat = LPD.featurize(structure, idx=atomidx)\n",
    "        site_name = \"%s_%i\" % (index, atomidx)\n",
    "        site_features[site_name].update(dict(zip(colnames, feat)))\n",
    "\"\"\"\n",
    "    "
   ]
  },
  {
   "cell_type": "code",
   "execution_count": null,
   "outputs": [],
   "source": [],
   "metadata": {
    "collapsed": false
   },
   "id": "5109281f431353c"
  }
 ],
 "metadata": {
  "kernelspec": {
   "display_name": "Python 3 (ipykernel)",
   "language": "python",
   "name": "python3"
  },
  "language_info": {
   "codemirror_mode": {
    "name": "ipython",
    "version": 3
   },
   "file_extension": ".py",
   "mimetype": "text/x-python",
   "name": "python",
   "nbconvert_exporter": "python",
   "pygments_lexer": "ipython3",
   "version": "3.10.9"
  }
 },
 "nbformat": 4,
 "nbformat_minor": 5
}

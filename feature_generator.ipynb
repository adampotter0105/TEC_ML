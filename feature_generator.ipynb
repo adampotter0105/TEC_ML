{
 "cells": [
  {
   "cell_type": "code",
   "execution_count": 4,
   "id": "b8dd23f5d53b0d7f",
   "metadata": {
    "ExecuteTime": {
     "end_time": "2023-11-20T19:51:23.908600Z",
     "start_time": "2023-11-20T19:51:23.896094100Z"
    }
   },
   "outputs": [],
   "source": [
    "#import string\n",
    "from pathlib import Path\n",
    "import numpy as np\n",
    "import pandas as pd\n",
    "import sys, os\n",
    "import timeit\n",
    "#from typing import List\n",
    "from pymatgen.io.cif import CifParser\n",
    "# Old paper features\n",
    "#from matminer.featurizers.base import BaseFeaturizer\n",
    "from matminer.featurizers.site import GaussianSymmFunc, SiteElementalProperty,AGNIFingerprints\n",
    "#from matminer.utils.data import MagpieData\n",
    "from pymatgen.analysis.local_env import VoronoiNN\n",
    "import os\n",
    "\n",
    "BOND_MAX_DIST = 2.6  # Max distance for a bond in angstroms\n",
    "# New Features\n",
    "#rom matminer.featurizers.structure.bonding import BagofBonds, BondFractions, GlobalInstabilityIndex, StructuralHeterogeneity, MinimumRelativeDistances\n",
    "#from matminer.featurizers.structure.matrix import CoulombMatrix, SineCoulombMatrix, OrbitalFieldMatrix\n",
    "#from pymatgen.analysis import local_env\n"
   ]
  },
  {
   "cell_type": "code",
   "execution_count": 13,
   "id": "b47056a4e4a29279",
   "metadata": {
    "ExecuteTime": {
     "end_time": "2023-11-20T19:58:51.324350600Z",
     "start_time": "2023-11-20T19:58:51.293080900Z"
    }
   },
   "outputs": [],
   "source": [
    "def featurize_dataset(cifs: list, verbos=False, saveto: str = \"features.csv\") -> pd.DataFrame:\n",
    "    \"\"\"Featurize crystal structures using elemetal, geometric, and chemical descriptors for local environments.\n",
    "\n",
    "    :params cifs: list of paths to crystal structure in cif format\n",
    "    :params verbos: printing the steps\n",
    "    :params saveto: filename to save the generated features\n",
    "    \"\"\"\n",
    "    \n",
    "    ## Process Input Files\n",
    "    print(\"Parsing CIFs\")\n",
    "    features = {}\n",
    "    for cif in cifs:\n",
    "        structure = CifParser(cif).get_structures()[0]\n",
    "        structure_name = Path(cif).name\n",
    "        features[structure_name] = {}\n",
    "        features[structure_name][\"structure\"] = structure\n",
    "        features[structure_name][\"structure_name\"] = Path(cif).name\n",
    "        features[structure_name][\"structure_path\"] = str(Path(cif).parent)\n",
    "    data = pd.DataFrame.from_dict(features).T\n",
    "    \n",
    "    ### SITE PROPERTIES ###\n",
    "    # These will be paired as features\n",
    "    ## 1. Initialize the dictionary for each site\n",
    "    #  TODO: Combine these into one big loop with easily expandable features\n",
    "    print(\"Assembling site property dictionary\")\n",
    "    site_features = {}\n",
    "    for index, row in data.iterrows():\n",
    "        structure = row[\"structure\"]\n",
    "        for atomidx in range(structure.num_sites):\n",
    "            site_name = \"%s_%i\" % (index, atomidx)\n",
    "            site_features[site_name] = {}\n",
    "            site_features[site_name] = {\"structure_name\": row[\"structure_name\"]}\n",
    "            site_features[site_name].update({\"structure_path\": row[\"structure_path\"]})\n",
    "    \n",
    "    ## 1. Site Elemental Property\n",
    "    print(\"site elemental properties\")\n",
    "    property_list = (\"Number\", \"AtomicWeight\", \"Row\", \"Column\", \"Electronegativity\", \"CovalentRadius\")\n",
    "    SEP = SiteElementalProperty(properties=property_list)\n",
    "    colnames = SEP._generate_column_labels(multiindex=False, return_errors=False)\n",
    "    for index, row in data.iterrows():\n",
    "        structure = row[\"structure\"]\n",
    "        if verbos:\n",
    "            print(index)\n",
    "        for atomidx in range(structure.num_sites):\n",
    "            feat = SEP.featurize(structure, idx=atomidx)\n",
    "            site_name = \"%s_%i\" % (index, atomidx)\n",
    "            site_features[site_name].update(dict(zip(colnames, feat)))\n",
    "\n",
    "    ## 2. AGNI\n",
    "    print(\"AGNI\")\n",
    "    property_list = (\"Number\", \"AtomicWeight\", \"Row\", \"Column\", \"Electronegativity\", \"CovalentRadius\")\n",
    "    AGNI = AGNIFingerprints(cutoff=5, directions=[None])\n",
    "    colnames = AGNI._generate_column_labels(multiindex=False, return_errors=False)\n",
    "    for index, row in data.iterrows():\n",
    "        structure = row[\"structure\"]\n",
    "        if verbos:\n",
    "            print(index)\n",
    "        for atomidx in range(structure.num_sites):\n",
    "            feat = AGNI.featurize(structure, idx=atomidx)\n",
    "            site_name = \"%s_%i\" % (index, atomidx)\n",
    "            site_features[site_name].update(dict(zip(colnames, feat)))\n",
    "\n",
    "    ## 3. Gaussian Symmetry Functions \n",
    "    print(\"GSF\")\n",
    "    GSF = GaussianSymmFunc(cutoff=5)\n",
    "    colnames = GSF._generate_column_labels(multiindex=False, return_errors=False)\n",
    "    for index, row in data.iterrows():\n",
    "        structure = row[\"structure\"]\n",
    "        if verbos:\n",
    "            print(index)\n",
    "        for atomidx in range(structure.num_sites):\n",
    "            feat = GSF.featurize(structure, idx=atomidx)\n",
    "            site_name = \"%s_%i\" % (index, atomidx)\n",
    "            site_features[site_name].update(dict(zip(colnames, feat)))\n",
    "\n",
    " \n",
    "    ### BOND PAIRS AND BOND PROPERTIES ###\n",
    "    print(\"Generating bond library\")\n",
    "    structures_bonds = {}  # Store bond pairs\n",
    "    bond_properties = {}  # Store bond properties\n",
    "    for index, row in data.iterrows():\n",
    "        if verbos:\n",
    "            print(index)\n",
    "        structure = row[\"structure\"]\n",
    "        structures_bonds[index] = []\n",
    "        bond_properties[index] = []\n",
    "        neighbors = structure.get_neighbor_list(BOND_MAX_DIST)  # (center_indices, points_indices, offset_vectors, distances)\n",
    "        for bond in range(len(neighbors[0])):\n",
    "            if neighbors[0][bond] < neighbors[1][bond]:  # Don't double count bonds\n",
    "                # Bonded indices\n",
    "                structures_bonds[index].append((neighbors[0][bond], neighbors[1][bond]))\n",
    "                # Bond properties (coord-num, bond-len)\n",
    "                coord_num = list(neighbors[0]).count(neighbors[0][bond])\n",
    "                bond_properties[index].append((coord_num, neighbors[3][bond]))\n",
    "    \n",
    "    \"\"\"\n",
    "    print(\"Generating bond library\")\n",
    "    # Structures_bonds is a list for each structure, each containing a list of tuples indicating bonded indices\n",
    "    structures_bonds = {}  # Store bond pairs\n",
    "    bond_properties = {}  # Store bond properties\n",
    "    for index, row in data.iterrows():\n",
    "        print(index)\n",
    "        structure = row[\"structure\"]\n",
    "        voronoi = VoronoiNN()\n",
    "        structures_bonds[index] = []  \n",
    "        bond_properties[index] = []\n",
    "        for atomidx in range(structure.num_sites):\n",
    "            bonded_atoms = voronoi.get_nn_info(structure, atomidx)\n",
    "            # Get Bond Information Here\n",
    "            # Bond Index Pairs\n",
    "            structures_bonds[index] += [(atomidx, info['site_index']) for info in bonded_atoms if info['site_index']>atomidx]\n",
    "            # Bond properties\n",
    "            bond_properties[index] += [(info['poly_info']['n_verts'], info['poly_info']['face_dist']) for info in bonded_atoms if info['site_index']>atomidx]\n",
    "    print(structures_bonds)\n",
    "    print(bond_properties)\n",
    "    \"\"\"\n",
    "    \n",
    "    # Build Dataframe by bonds\n",
    "    print(\"Copying over data to final dataframe\")\n",
    "    delta_properties = [\"site Electronegativity\", \"site AtomicWeight\"]  # For these properties, take the difference as a feature\n",
    "    bond_features = {}  # Final dictionary for saving features format: bond_features['material_bond#'][\"feature_name\"] = data\n",
    "    for index, row in data.iterrows():\n",
    "        bond_len_sum = 0\n",
    "        if verbos:\n",
    "            print(index)\n",
    "        for bond_idx in range(len(structures_bonds[index])):\n",
    "            bond = structures_bonds[index][bond_idx]\n",
    "            bond_name = \"%s_Atom%i_Bond%i\" % (index, bond[0], bond_idx)\n",
    "            bond_features[bond_name] = {}\n",
    "            site1_name = \"%s_%i\" % (index, bond[0])\n",
    "            site2_name = \"%s_%i\" % (index, bond[1])\n",
    "            \n",
    "            # Add Site features to dictionary\n",
    "            # Order putting heavier element first\n",
    "            # TODO: this is not very efficient, save data directly to final dataframe in the end?\n",
    "            site_feat_labels = site_features[site1_name].keys()\n",
    "            site_feat_labels = [k for k in site_feat_labels if k not in [\"structure_path\", \"structure_name\"]]\n",
    "            bond_features[bond_name][\"structure_name\"] = site_features[site1_name][\"structure_name\"]\n",
    "            bond_features[bond_name][\"structure_path\"] = site_features[site1_name][\"structure_path\"]\n",
    "            if site_features[site1_name][\"site AtomicWeight\"] > site_features[site2_name][\"site AtomicWeight\"]:\n",
    "                for k in site_feat_labels:\n",
    "                    if k in delta_properties:\n",
    "                        bond_features[bond_name][k+\"_diff\"] = site_features[site1_name][k] - site_features[site2_name][k]\n",
    "                    bond_features[bond_name][k+\"_atom1\"] = site_features[site1_name][k]\n",
    "                    bond_features[bond_name][k+\"_atom2\"] = site_features[site2_name][k]\n",
    "            else:\n",
    "                for k in site_feat_labels:\n",
    "                    if k in delta_properties:\n",
    "                        bond_features[bond_name][k+\"_diff\"] = site_features[site2_name][k] - site_features[site1_name][k]\n",
    "                    bond_features[bond_name][k+\"_atom1\"] = site_features[site2_name][k]\n",
    "                    bond_features[bond_name][k+\"_atom2\"] = site_features[site1_name][k]\n",
    "                    \n",
    "            # Insert bond properties        \n",
    "            coord_num, bond_len = bond_properties[index][bond_idx]\n",
    "            bond_features[bond_name][\"coordination_number\"] = coord_num\n",
    "            bond_features[bond_name][\"bond_length\"] = bond_len\n",
    "            bond_len_sum += bond_len\n",
    "            \n",
    "        # Now add each bond's fraction of lattice volume\n",
    "        for bond_idx in range(len(structures_bonds[index])):\n",
    "            bond = structures_bonds[index][bond_idx]\n",
    "            bond_name = \"%s_Atom%i_Bond%i\" % (index, bond[0], bond_idx)\n",
    "            _, bond_len = bond_properties[index][bond_idx]\n",
    "            bond_features[bond_name][\"volume_fraction\"] = bond_len/bond_len_sum\n",
    "    \n",
    "    ### SAVE FILE\n",
    "    print(\"Saving to File!\")\n",
    "    df_features = pd.DataFrame.from_dict(bond_features).T\n",
    "    if os.path.isfile(saveto):  # Append\n",
    "        df_features.to_csv(saveto, mode='a', index=False, header=False)\n",
    "    else:  # New file\n",
    "        df_features.to_csv(saveto)\n",
    "\n",
    "    return df_features\n"
   ]
  },
  {
   "cell_type": "code",
   "execution_count": 14,
   "outputs": [
    {
     "name": "stdout",
     "output_type": "stream",
     "text": [
      "Parsing CIFs\n",
      "Assembling site property dictionary\n",
      "site elemental properties\n",
      "AGNI\n",
      "GSF\n",
      "Generating bond library\n",
      "Copying over data to final dataframe\n",
      "Saving to File!\n"
     ]
    },
    {
     "data": {
      "text/plain": "                              structure_name   structure_path  \\\n15284_super.cif_Atom1_Bond0  15284_super.cif  supercells_data   \n15284_super.cif_Atom1_Bond1  15284_super.cif  supercells_data   \n15284_super.cif_Atom1_Bond2  15284_super.cif  supercells_data   \n15284_super.cif_Atom1_Bond3  15284_super.cif  supercells_data   \n15284_super.cif_Atom1_Bond4  15284_super.cif  supercells_data   \n15284_super.cif_Atom1_Bond5  15284_super.cif  supercells_data   \n\n                            site Number_atom1 site Number_atom2  \\\n15284_super.cif_Atom1_Bond0              26.0               8.0   \n15284_super.cif_Atom1_Bond1              26.0               8.0   \n15284_super.cif_Atom1_Bond2              26.0               8.0   \n15284_super.cif_Atom1_Bond3              26.0               8.0   \n15284_super.cif_Atom1_Bond4              26.0               8.0   \n15284_super.cif_Atom1_Bond5              26.0               8.0   \n\n                            site AtomicWeight_diff site AtomicWeight_atom1  \\\n15284_super.cif_Atom1_Bond0                39.8456                  55.845   \n15284_super.cif_Atom1_Bond1                39.8456                  55.845   \n15284_super.cif_Atom1_Bond2                39.8456                  55.845   \n15284_super.cif_Atom1_Bond3                39.8456                  55.845   \n15284_super.cif_Atom1_Bond4                39.8456                  55.845   \n15284_super.cif_Atom1_Bond5                39.8456                  55.845   \n\n                            site AtomicWeight_atom2 site Row_atom1  \\\n15284_super.cif_Atom1_Bond0                 15.9994            4.0   \n15284_super.cif_Atom1_Bond1                 15.9994            4.0   \n15284_super.cif_Atom1_Bond2                 15.9994            4.0   \n15284_super.cif_Atom1_Bond3                 15.9994            4.0   \n15284_super.cif_Atom1_Bond4                 15.9994            4.0   \n15284_super.cif_Atom1_Bond5                 15.9994            4.0   \n\n                            site Row_atom2 site Column_atom1  ...  \\\n15284_super.cif_Atom1_Bond0            2.0               8.0  ...   \n15284_super.cif_Atom1_Bond1            2.0               8.0  ...   \n15284_super.cif_Atom1_Bond2            2.0               8.0  ...   \n15284_super.cif_Atom1_Bond3            2.0               8.0  ...   \n15284_super.cif_Atom1_Bond4            2.0               8.0  ...   \n15284_super.cif_Atom1_Bond5            2.0               8.0  ...   \n\n                            G4_0.005_1.0_1.0_atom2 G4_0.005_1.0_-1.0_atom1  \\\n15284_super.cif_Atom1_Bond0                7.58149                 3.59042   \n15284_super.cif_Atom1_Bond1                7.58149                 3.59042   \n15284_super.cif_Atom1_Bond2                7.58149                 3.59042   \n15284_super.cif_Atom1_Bond3                7.58149                 3.59042   \n15284_super.cif_Atom1_Bond4                7.58149                 3.59042   \n15284_super.cif_Atom1_Bond5                7.58149                 3.59042   \n\n                            G4_0.005_1.0_-1.0_atom2 G4_0.005_4.0_1.0_atom1  \\\n15284_super.cif_Atom1_Bond0                2.622812               3.157582   \n15284_super.cif_Atom1_Bond1                2.622812               3.157582   \n15284_super.cif_Atom1_Bond2                2.622812               3.157582   \n15284_super.cif_Atom1_Bond3                2.622812               3.157582   \n15284_super.cif_Atom1_Bond4                2.622812               3.157582   \n15284_super.cif_Atom1_Bond5                2.622812               3.157582   \n\n                            G4_0.005_4.0_1.0_atom2 G4_0.005_4.0_-1.0_atom1  \\\n15284_super.cif_Atom1_Bond0               3.895691                0.623596   \n15284_super.cif_Atom1_Bond1               3.895691                0.623596   \n15284_super.cif_Atom1_Bond2               3.895691                0.623596   \n15284_super.cif_Atom1_Bond3               3.895691                0.623596   \n15284_super.cif_Atom1_Bond4               3.895691                0.623596   \n15284_super.cif_Atom1_Bond5               3.895691                0.623596   \n\n                            G4_0.005_4.0_-1.0_atom2 coordination_number  \\\n15284_super.cif_Atom1_Bond0                0.327758                   6   \n15284_super.cif_Atom1_Bond1                0.327758                   6   \n15284_super.cif_Atom1_Bond2                0.327758                   6   \n15284_super.cif_Atom1_Bond3                0.327758                   6   \n15284_super.cif_Atom1_Bond4                0.327758                   6   \n15284_super.cif_Atom1_Bond5                0.327758                   6   \n\n                            bond_length volume_fraction  \n15284_super.cif_Atom1_Bond0      1.9495        0.166667  \n15284_super.cif_Atom1_Bond1      1.9495        0.166667  \n15284_super.cif_Atom1_Bond2      1.9495        0.166667  \n15284_super.cif_Atom1_Bond3      1.9495        0.166667  \n15284_super.cif_Atom1_Bond4      1.9495        0.166667  \n15284_super.cif_Atom1_Bond5      1.9495        0.166667  \n\n[6 rows x 51 columns]",
      "text/html": "<div>\n<style scoped>\n    .dataframe tbody tr th:only-of-type {\n        vertical-align: middle;\n    }\n\n    .dataframe tbody tr th {\n        vertical-align: top;\n    }\n\n    .dataframe thead th {\n        text-align: right;\n    }\n</style>\n<table border=\"1\" class=\"dataframe\">\n  <thead>\n    <tr style=\"text-align: right;\">\n      <th></th>\n      <th>structure_name</th>\n      <th>structure_path</th>\n      <th>site Number_atom1</th>\n      <th>site Number_atom2</th>\n      <th>site AtomicWeight_diff</th>\n      <th>site AtomicWeight_atom1</th>\n      <th>site AtomicWeight_atom2</th>\n      <th>site Row_atom1</th>\n      <th>site Row_atom2</th>\n      <th>site Column_atom1</th>\n      <th>...</th>\n      <th>G4_0.005_1.0_1.0_atom2</th>\n      <th>G4_0.005_1.0_-1.0_atom1</th>\n      <th>G4_0.005_1.0_-1.0_atom2</th>\n      <th>G4_0.005_4.0_1.0_atom1</th>\n      <th>G4_0.005_4.0_1.0_atom2</th>\n      <th>G4_0.005_4.0_-1.0_atom1</th>\n      <th>G4_0.005_4.0_-1.0_atom2</th>\n      <th>coordination_number</th>\n      <th>bond_length</th>\n      <th>volume_fraction</th>\n    </tr>\n  </thead>\n  <tbody>\n    <tr>\n      <th>15284_super.cif_Atom1_Bond0</th>\n      <td>15284_super.cif</td>\n      <td>supercells_data</td>\n      <td>26.0</td>\n      <td>8.0</td>\n      <td>39.8456</td>\n      <td>55.845</td>\n      <td>15.9994</td>\n      <td>4.0</td>\n      <td>2.0</td>\n      <td>8.0</td>\n      <td>...</td>\n      <td>7.58149</td>\n      <td>3.59042</td>\n      <td>2.622812</td>\n      <td>3.157582</td>\n      <td>3.895691</td>\n      <td>0.623596</td>\n      <td>0.327758</td>\n      <td>6</td>\n      <td>1.9495</td>\n      <td>0.166667</td>\n    </tr>\n    <tr>\n      <th>15284_super.cif_Atom1_Bond1</th>\n      <td>15284_super.cif</td>\n      <td>supercells_data</td>\n      <td>26.0</td>\n      <td>8.0</td>\n      <td>39.8456</td>\n      <td>55.845</td>\n      <td>15.9994</td>\n      <td>4.0</td>\n      <td>2.0</td>\n      <td>8.0</td>\n      <td>...</td>\n      <td>7.58149</td>\n      <td>3.59042</td>\n      <td>2.622812</td>\n      <td>3.157582</td>\n      <td>3.895691</td>\n      <td>0.623596</td>\n      <td>0.327758</td>\n      <td>6</td>\n      <td>1.9495</td>\n      <td>0.166667</td>\n    </tr>\n    <tr>\n      <th>15284_super.cif_Atom1_Bond2</th>\n      <td>15284_super.cif</td>\n      <td>supercells_data</td>\n      <td>26.0</td>\n      <td>8.0</td>\n      <td>39.8456</td>\n      <td>55.845</td>\n      <td>15.9994</td>\n      <td>4.0</td>\n      <td>2.0</td>\n      <td>8.0</td>\n      <td>...</td>\n      <td>7.58149</td>\n      <td>3.59042</td>\n      <td>2.622812</td>\n      <td>3.157582</td>\n      <td>3.895691</td>\n      <td>0.623596</td>\n      <td>0.327758</td>\n      <td>6</td>\n      <td>1.9495</td>\n      <td>0.166667</td>\n    </tr>\n    <tr>\n      <th>15284_super.cif_Atom1_Bond3</th>\n      <td>15284_super.cif</td>\n      <td>supercells_data</td>\n      <td>26.0</td>\n      <td>8.0</td>\n      <td>39.8456</td>\n      <td>55.845</td>\n      <td>15.9994</td>\n      <td>4.0</td>\n      <td>2.0</td>\n      <td>8.0</td>\n      <td>...</td>\n      <td>7.58149</td>\n      <td>3.59042</td>\n      <td>2.622812</td>\n      <td>3.157582</td>\n      <td>3.895691</td>\n      <td>0.623596</td>\n      <td>0.327758</td>\n      <td>6</td>\n      <td>1.9495</td>\n      <td>0.166667</td>\n    </tr>\n    <tr>\n      <th>15284_super.cif_Atom1_Bond4</th>\n      <td>15284_super.cif</td>\n      <td>supercells_data</td>\n      <td>26.0</td>\n      <td>8.0</td>\n      <td>39.8456</td>\n      <td>55.845</td>\n      <td>15.9994</td>\n      <td>4.0</td>\n      <td>2.0</td>\n      <td>8.0</td>\n      <td>...</td>\n      <td>7.58149</td>\n      <td>3.59042</td>\n      <td>2.622812</td>\n      <td>3.157582</td>\n      <td>3.895691</td>\n      <td>0.623596</td>\n      <td>0.327758</td>\n      <td>6</td>\n      <td>1.9495</td>\n      <td>0.166667</td>\n    </tr>\n    <tr>\n      <th>15284_super.cif_Atom1_Bond5</th>\n      <td>15284_super.cif</td>\n      <td>supercells_data</td>\n      <td>26.0</td>\n      <td>8.0</td>\n      <td>39.8456</td>\n      <td>55.845</td>\n      <td>15.9994</td>\n      <td>4.0</td>\n      <td>2.0</td>\n      <td>8.0</td>\n      <td>...</td>\n      <td>7.58149</td>\n      <td>3.59042</td>\n      <td>2.622812</td>\n      <td>3.157582</td>\n      <td>3.895691</td>\n      <td>0.623596</td>\n      <td>0.327758</td>\n      <td>6</td>\n      <td>1.9495</td>\n      <td>0.166667</td>\n    </tr>\n  </tbody>\n</table>\n<p>6 rows × 51 columns</p>\n</div>"
     },
     "execution_count": 14,
     "metadata": {},
     "output_type": "execute_result"
    }
   ],
   "source": [
    "featurize_dataset(['supercells_data/15284_super.cif'], saveto='test_feat.csv')"
   ],
   "metadata": {
    "collapsed": false,
    "ExecuteTime": {
     "end_time": "2023-11-20T19:58:52.630812Z",
     "start_time": "2023-11-20T19:58:52.520655400Z"
    }
   },
   "id": "73d5c26124ce597d"
  },
  {
   "cell_type": "code",
   "execution_count": null,
   "outputs": [
    {
     "name": "stdout",
     "output_type": "stream",
     "text": [
      "Starting batch  0\n",
      "Parsing CIFs\n"
     ]
    },
    {
     "name": "stderr",
     "output_type": "stream",
     "text": [
      "C:\\Users\\adamp\\anaconda3\\lib\\site-packages\\pymatgen\\io\\cif.py:1197: UserWarning: Issues encountered while parsing CIF: Some fractional coordinates rounded to ideal values to avoid issues with finite precision.\n",
      "  warnings.warn(\"Issues encountered while parsing CIF: \" + \"\\n\".join(self.warnings))\n"
     ]
    },
    {
     "name": "stdout",
     "output_type": "stream",
     "text": [
      "Assembling site property dictionary\n",
      "site elemental properties\n",
      "AGNI\n",
      "GSF\n",
      "Generating bond library\n",
      "Copying over data to final dataframe\n",
      "Saving to File!\n",
      "Time elapsed:  15.442842999938875\n",
      "Starting batch  1\n",
      "Parsing CIFs\n"
     ]
    },
    {
     "name": "stderr",
     "output_type": "stream",
     "text": [
      "C:\\Users\\adamp\\anaconda3\\lib\\site-packages\\pymatgen\\io\\cif.py:1197: UserWarning: Issues encountered while parsing CIF: Some fractional coordinates rounded to ideal values to avoid issues with finite precision.\n",
      "  warnings.warn(\"Issues encountered while parsing CIF: \" + \"\\n\".join(self.warnings))\n"
     ]
    },
    {
     "name": "stdout",
     "output_type": "stream",
     "text": [
      "Assembling site property dictionary\n",
      "site elemental properties\n",
      "AGNI\n",
      "GSF\n",
      "Generating bond library\n",
      "Copying over data to final dataframe\n",
      "Saving to File!\n",
      "Time elapsed:  31.007436299696565\n",
      "Starting batch  2\n",
      "Parsing CIFs\n"
     ]
    },
    {
     "name": "stderr",
     "output_type": "stream",
     "text": [
      "C:\\Users\\adamp\\anaconda3\\lib\\site-packages\\pymatgen\\io\\cif.py:1197: UserWarning: Issues encountered while parsing CIF: Some fractional coordinates rounded to ideal values to avoid issues with finite precision.\n",
      "  warnings.warn(\"Issues encountered while parsing CIF: \" + \"\\n\".join(self.warnings))\n"
     ]
    },
    {
     "name": "stdout",
     "output_type": "stream",
     "text": [
      "Assembling site property dictionary\n",
      "site elemental properties\n",
      "AGNI\n",
      "GSF\n",
      "Generating bond library\n",
      "Copying over data to final dataframe\n",
      "Saving to File!\n",
      "Time elapsed:  49.9479780998081\n",
      "Starting batch  3\n",
      "Parsing CIFs\n"
     ]
    },
    {
     "name": "stderr",
     "output_type": "stream",
     "text": [
      "C:\\Users\\adamp\\anaconda3\\lib\\site-packages\\pymatgen\\io\\cif.py:1197: UserWarning: Issues encountered while parsing CIF: Some fractional coordinates rounded to ideal values to avoid issues with finite precision.\n",
      "  warnings.warn(\"Issues encountered while parsing CIF: \" + \"\\n\".join(self.warnings))\n"
     ]
    },
    {
     "name": "stdout",
     "output_type": "stream",
     "text": [
      "Assembling site property dictionary\n",
      "site elemental properties\n",
      "AGNI\n",
      "GSF\n",
      "Generating bond library\n",
      "Copying over data to final dataframe\n",
      "Saving to File!\n",
      "Time elapsed:  47.11997690005228\n",
      "Starting batch  4\n",
      "Parsing CIFs\n"
     ]
    },
    {
     "name": "stderr",
     "output_type": "stream",
     "text": [
      "C:\\Users\\adamp\\anaconda3\\lib\\site-packages\\pymatgen\\io\\cif.py:1197: UserWarning: Issues encountered while parsing CIF: Some fractional coordinates rounded to ideal values to avoid issues with finite precision.\n",
      "  warnings.warn(\"Issues encountered while parsing CIF: \" + \"\\n\".join(self.warnings))\n"
     ]
    },
    {
     "name": "stdout",
     "output_type": "stream",
     "text": [
      "Assembling site property dictionary\n",
      "site elemental properties\n",
      "AGNI\n",
      "GSF\n",
      "Generating bond library\n",
      "Copying over data to final dataframe\n",
      "Saving to File!\n",
      "Time elapsed:  32.37097760010511\n",
      "Starting batch  5\n",
      "Parsing CIFs\n"
     ]
    },
    {
     "name": "stderr",
     "output_type": "stream",
     "text": [
      "C:\\Users\\adamp\\anaconda3\\lib\\site-packages\\pymatgen\\io\\cif.py:1197: UserWarning: Issues encountered while parsing CIF: Some fractional coordinates rounded to ideal values to avoid issues with finite precision.\n",
      "  warnings.warn(\"Issues encountered while parsing CIF: \" + \"\\n\".join(self.warnings))\n"
     ]
    },
    {
     "name": "stdout",
     "output_type": "stream",
     "text": [
      "Assembling site property dictionary\n",
      "site elemental properties\n",
      "AGNI\n",
      "GSF\n",
      "Generating bond library\n",
      "Copying over data to final dataframe\n",
      "Saving to File!\n",
      "Time elapsed:  4.87524739978835\n",
      "Starting batch  6\n",
      "Parsing CIFs\n"
     ]
    },
    {
     "name": "stderr",
     "output_type": "stream",
     "text": [
      "C:\\Users\\adamp\\anaconda3\\lib\\site-packages\\pymatgen\\io\\cif.py:1197: UserWarning: Issues encountered while parsing CIF: Some fractional coordinates rounded to ideal values to avoid issues with finite precision.\n",
      "  warnings.warn(\"Issues encountered while parsing CIF: \" + \"\\n\".join(self.warnings))\n"
     ]
    },
    {
     "name": "stdout",
     "output_type": "stream",
     "text": [
      "Assembling site property dictionary\n",
      "site elemental properties\n",
      "AGNI\n",
      "GSF\n",
      "Generating bond library\n",
      "Copying over data to final dataframe\n",
      "Saving to File!\n",
      "Time elapsed:  102.89528529997915\n",
      "Starting batch  7\n",
      "Parsing CIFs\n"
     ]
    },
    {
     "name": "stderr",
     "output_type": "stream",
     "text": [
      "C:\\Users\\adamp\\anaconda3\\lib\\site-packages\\pymatgen\\io\\cif.py:1197: UserWarning: Issues encountered while parsing CIF: Some fractional coordinates rounded to ideal values to avoid issues with finite precision.\n",
      "  warnings.warn(\"Issues encountered while parsing CIF: \" + \"\\n\".join(self.warnings))\n"
     ]
    },
    {
     "name": "stdout",
     "output_type": "stream",
     "text": [
      "Assembling site property dictionary\n",
      "site elemental properties\n",
      "AGNI\n",
      "GSF\n",
      "Generating bond library\n",
      "Copying over data to final dataframe\n",
      "Saving to File!\n",
      "Time elapsed:  27.152877000160515\n",
      "Starting batch  8\n",
      "Parsing CIFs\n"
     ]
    },
    {
     "name": "stderr",
     "output_type": "stream",
     "text": [
      "C:\\Users\\adamp\\anaconda3\\lib\\site-packages\\pymatgen\\io\\cif.py:1197: UserWarning: Issues encountered while parsing CIF: Some fractional coordinates rounded to ideal values to avoid issues with finite precision.\n",
      "  warnings.warn(\"Issues encountered while parsing CIF: \" + \"\\n\".join(self.warnings))\n"
     ]
    },
    {
     "name": "stdout",
     "output_type": "stream",
     "text": [
      "Assembling site property dictionary\n",
      "site elemental properties\n",
      "AGNI\n",
      "GSF\n",
      "Generating bond library\n",
      "Copying over data to final dataframe\n",
      "Saving to File!\n",
      "Time elapsed:  23.650380699895322\n",
      "Starting batch  9\n",
      "Parsing CIFs\n",
      "Assembling site property dictionary\n",
      "site elemental properties\n",
      "AGNI\n"
     ]
    },
    {
     "name": "stderr",
     "output_type": "stream",
     "text": [
      "C:\\Users\\adamp\\anaconda3\\lib\\site-packages\\pymatgen\\io\\cif.py:1197: UserWarning: Issues encountered while parsing CIF: Some fractional coordinates rounded to ideal values to avoid issues with finite precision.\n",
      "  warnings.warn(\"Issues encountered while parsing CIF: \" + \"\\n\".join(self.warnings))\n"
     ]
    },
    {
     "name": "stdout",
     "output_type": "stream",
     "text": [
      "GSF\n",
      "Generating bond library\n",
      "Copying over data to final dataframe\n",
      "Saving to File!\n",
      "Time elapsed:  1.6389628001488745\n",
      "Starting batch  10\n",
      "Parsing CIFs\n"
     ]
    },
    {
     "name": "stderr",
     "output_type": "stream",
     "text": [
      "C:\\Users\\adamp\\anaconda3\\lib\\site-packages\\pymatgen\\io\\cif.py:1197: UserWarning: Issues encountered while parsing CIF: Some fractional coordinates rounded to ideal values to avoid issues with finite precision.\n",
      "  warnings.warn(\"Issues encountered while parsing CIF: \" + \"\\n\".join(self.warnings))\n"
     ]
    },
    {
     "name": "stdout",
     "output_type": "stream",
     "text": [
      "Assembling site property dictionary\n",
      "site elemental properties\n",
      "AGNI\n",
      "GSF\n",
      "Generating bond library\n",
      "Copying over data to final dataframe\n",
      "Saving to File!\n",
      "Time elapsed:  140.2957760002464\n",
      "Starting batch  11\n",
      "Parsing CIFs\n"
     ]
    },
    {
     "name": "stderr",
     "output_type": "stream",
     "text": [
      "C:\\Users\\adamp\\anaconda3\\lib\\site-packages\\pymatgen\\io\\cif.py:1197: UserWarning: Issues encountered while parsing CIF: Some fractional coordinates rounded to ideal values to avoid issues with finite precision.\n",
      "  warnings.warn(\"Issues encountered while parsing CIF: \" + \"\\n\".join(self.warnings))\n"
     ]
    },
    {
     "name": "stdout",
     "output_type": "stream",
     "text": [
      "Assembling site property dictionary\n",
      "site elemental properties\n",
      "AGNI\n",
      "GSF\n",
      "Generating bond library\n",
      "Copying over data to final dataframe\n",
      "Saving to File!\n",
      "Time elapsed:  45.16629830002785\n",
      "Starting batch  12\n",
      "Parsing CIFs\n"
     ]
    },
    {
     "name": "stderr",
     "output_type": "stream",
     "text": [
      "C:\\Users\\adamp\\anaconda3\\lib\\site-packages\\pymatgen\\io\\cif.py:1197: UserWarning: Issues encountered while parsing CIF: Some fractional coordinates rounded to ideal values to avoid issues with finite precision.\n",
      "  warnings.warn(\"Issues encountered while parsing CIF: \" + \"\\n\".join(self.warnings))\n"
     ]
    },
    {
     "name": "stdout",
     "output_type": "stream",
     "text": [
      "Assembling site property dictionary\n",
      "site elemental properties\n",
      "AGNI\n",
      "GSF\n",
      "Generating bond library\n",
      "Copying over data to final dataframe\n",
      "Saving to File!\n",
      "Time elapsed:  7.207724799867719\n",
      "Starting batch  13\n",
      "Parsing CIFs\n",
      "Assembling site property dictionary\n",
      "site elemental properties\n",
      "AGNI\n",
      "GSF\n",
      "Generating bond library\n",
      "Copying over data to final dataframe\n",
      "Saving to File!\n",
      "Time elapsed:  15.936213300097734\n",
      "Starting batch  14\n",
      "Parsing CIFs\n"
     ]
    },
    {
     "name": "stderr",
     "output_type": "stream",
     "text": [
      "C:\\Users\\adamp\\anaconda3\\lib\\site-packages\\pymatgen\\io\\cif.py:1197: UserWarning: Issues encountered while parsing CIF: Some fractional coordinates rounded to ideal values to avoid issues with finite precision.\n",
      "  warnings.warn(\"Issues encountered while parsing CIF: \" + \"\\n\".join(self.warnings))\n"
     ]
    },
    {
     "name": "stdout",
     "output_type": "stream",
     "text": [
      "Assembling site property dictionary\n",
      "site elemental properties\n",
      "AGNI\n",
      "GSF\n",
      "Generating bond library\n",
      "Copying over data to final dataframe\n",
      "Saving to File!\n",
      "Time elapsed:  16.289230400230736\n",
      "Starting batch  15\n",
      "Parsing CIFs\n"
     ]
    },
    {
     "name": "stderr",
     "output_type": "stream",
     "text": [
      "C:\\Users\\adamp\\anaconda3\\lib\\site-packages\\pymatgen\\io\\cif.py:1197: UserWarning: Issues encountered while parsing CIF: Some fractional coordinates rounded to ideal values to avoid issues with finite precision.\n",
      "  warnings.warn(\"Issues encountered while parsing CIF: \" + \"\\n\".join(self.warnings))\n"
     ]
    },
    {
     "name": "stdout",
     "output_type": "stream",
     "text": [
      "Assembling site property dictionary\n",
      "site elemental properties\n",
      "AGNI\n",
      "GSF\n",
      "Generating bond library\n",
      "Copying over data to final dataframe\n",
      "Saving to File!\n",
      "Time elapsed:  5.394885099958628\n",
      "Starting batch  16\n",
      "Parsing CIFs\n"
     ]
    },
    {
     "name": "stderr",
     "output_type": "stream",
     "text": [
      "C:\\Users\\adamp\\anaconda3\\lib\\site-packages\\pymatgen\\io\\cif.py:1197: UserWarning: Issues encountered while parsing CIF: Some fractional coordinates rounded to ideal values to avoid issues with finite precision.\n",
      "  warnings.warn(\"Issues encountered while parsing CIF: \" + \"\\n\".join(self.warnings))\n"
     ]
    },
    {
     "name": "stdout",
     "output_type": "stream",
     "text": [
      "Assembling site property dictionary\n",
      "site elemental properties\n",
      "AGNI\n",
      "GSF\n",
      "Generating bond library\n",
      "Copying over data to final dataframe\n",
      "Saving to File!\n",
      "Time elapsed:  19.407546299975365\n",
      "Starting batch  17\n",
      "Parsing CIFs\n"
     ]
    },
    {
     "name": "stderr",
     "output_type": "stream",
     "text": [
      "C:\\Users\\adamp\\anaconda3\\lib\\site-packages\\pymatgen\\io\\cif.py:1197: UserWarning: Issues encountered while parsing CIF: Some fractional coordinates rounded to ideal values to avoid issues with finite precision.\n",
      "  warnings.warn(\"Issues encountered while parsing CIF: \" + \"\\n\".join(self.warnings))\n"
     ]
    },
    {
     "name": "stdout",
     "output_type": "stream",
     "text": [
      "Assembling site property dictionary\n",
      "site elemental properties\n",
      "AGNI\n",
      "GSF\n",
      "Generating bond library\n",
      "Copying over data to final dataframe\n",
      "Saving to File!\n",
      "Time elapsed:  26.56329660024494\n",
      "Starting batch  18\n",
      "Parsing CIFs\n"
     ]
    },
    {
     "name": "stderr",
     "output_type": "stream",
     "text": [
      "C:\\Users\\adamp\\anaconda3\\lib\\site-packages\\pymatgen\\io\\cif.py:1197: UserWarning: Issues encountered while parsing CIF: Some fractional coordinates rounded to ideal values to avoid issues with finite precision.\n",
      "  warnings.warn(\"Issues encountered while parsing CIF: \" + \"\\n\".join(self.warnings))\n"
     ]
    },
    {
     "name": "stdout",
     "output_type": "stream",
     "text": [
      "Assembling site property dictionary\n",
      "site elemental properties\n",
      "AGNI\n",
      "GSF\n",
      "Generating bond library\n",
      "Copying over data to final dataframe\n",
      "Saving to File!\n",
      "Time elapsed:  5.364182699937373\n",
      "Starting batch  19\n",
      "Parsing CIFs\n",
      "Assembling site property dictionary\n",
      "site elemental properties\n",
      "AGNI\n",
      "GSF\n",
      "Generating bond library\n",
      "Copying over data to final dataframe\n",
      "Saving to File!\n",
      "Time elapsed:  47.72055110009387\n",
      "Starting batch  20\n",
      "Parsing CIFs\n"
     ]
    },
    {
     "name": "stderr",
     "output_type": "stream",
     "text": [
      "C:\\Users\\adamp\\anaconda3\\lib\\site-packages\\pymatgen\\io\\cif.py:1197: UserWarning: Issues encountered while parsing CIF: Some fractional coordinates rounded to ideal values to avoid issues with finite precision.\n",
      "  warnings.warn(\"Issues encountered while parsing CIF: \" + \"\\n\".join(self.warnings))\n"
     ]
    },
    {
     "name": "stdout",
     "output_type": "stream",
     "text": [
      "Assembling site property dictionary\n",
      "site elemental properties\n",
      "AGNI\n",
      "GSF\n",
      "Generating bond library\n",
      "Copying over data to final dataframe\n",
      "Saving to File!\n",
      "Time elapsed:  55.15368110034615\n",
      "Starting batch  21\n",
      "Parsing CIFs\n",
      "Assembling site property dictionary\n",
      "site elemental properties\n",
      "AGNI\n",
      "GSF\n",
      "Generating bond library\n",
      "Copying over data to final dataframe\n",
      "Saving to File!\n",
      "Time elapsed:  123.79684560000896\n",
      "Starting batch  22\n",
      "Parsing CIFs\n",
      "Assembling site property dictionary\n",
      "site elemental properties\n",
      "AGNI\n",
      "GSF\n",
      "Generating bond library\n",
      "Copying over data to final dataframe\n",
      "Saving to File!\n",
      "Time elapsed:  4.735278400126845\n",
      "Starting batch  23\n",
      "Parsing CIFs\n"
     ]
    },
    {
     "name": "stderr",
     "output_type": "stream",
     "text": [
      "C:\\Users\\adamp\\anaconda3\\lib\\site-packages\\pymatgen\\io\\cif.py:1197: UserWarning: Issues encountered while parsing CIF: Some fractional coordinates rounded to ideal values to avoid issues with finite precision.\n",
      "  warnings.warn(\"Issues encountered while parsing CIF: \" + \"\\n\".join(self.warnings))\n"
     ]
    },
    {
     "name": "stdout",
     "output_type": "stream",
     "text": [
      "Assembling site property dictionary\n",
      "site elemental properties\n",
      "AGNI\n",
      "GSF\n",
      "Generating bond library\n",
      "Copying over data to final dataframe\n",
      "Saving to File!\n",
      "Time elapsed:  97.06251950003207\n",
      "Starting batch  24\n",
      "Parsing CIFs\n"
     ]
    },
    {
     "name": "stderr",
     "output_type": "stream",
     "text": [
      "C:\\Users\\adamp\\anaconda3\\lib\\site-packages\\pymatgen\\io\\cif.py:1197: UserWarning: Issues encountered while parsing CIF: Some fractional coordinates rounded to ideal values to avoid issues with finite precision.\n",
      "  warnings.warn(\"Issues encountered while parsing CIF: \" + \"\\n\".join(self.warnings))\n"
     ]
    },
    {
     "name": "stdout",
     "output_type": "stream",
     "text": [
      "Assembling site property dictionary\n",
      "site elemental properties\n",
      "AGNI\n",
      "GSF\n",
      "Generating bond library\n",
      "Copying over data to final dataframe\n",
      "Saving to File!\n",
      "Time elapsed:  34.117110799998045\n",
      "Starting batch  25\n",
      "Parsing CIFs\n",
      "Assembling site property dictionary\n",
      "site elemental properties\n",
      "AGNI\n",
      "GSF\n"
     ]
    },
    {
     "name": "stderr",
     "output_type": "stream",
     "text": [
      "C:\\Users\\adamp\\anaconda3\\lib\\site-packages\\pymatgen\\io\\cif.py:1197: UserWarning: Issues encountered while parsing CIF: Some fractional coordinates rounded to ideal values to avoid issues with finite precision.\n",
      "  warnings.warn(\"Issues encountered while parsing CIF: \" + \"\\n\".join(self.warnings))\n"
     ]
    },
    {
     "name": "stdout",
     "output_type": "stream",
     "text": [
      "Generating bond library\n",
      "Copying over data to final dataframe\n",
      "Saving to File!\n",
      "Time elapsed:  0.3593379999510944\n",
      "Starting batch  26\n",
      "Parsing CIFs\n",
      "Assembling site property dictionary\n",
      "site elemental properties\n",
      "AGNI\n"
     ]
    },
    {
     "name": "stderr",
     "output_type": "stream",
     "text": [
      "C:\\Users\\adamp\\anaconda3\\lib\\site-packages\\pymatgen\\io\\cif.py:1197: UserWarning: Issues encountered while parsing CIF: Some fractional coordinates rounded to ideal values to avoid issues with finite precision.\n",
      "  warnings.warn(\"Issues encountered while parsing CIF: \" + \"\\n\".join(self.warnings))\n"
     ]
    },
    {
     "name": "stdout",
     "output_type": "stream",
     "text": [
      "GSF\n",
      "Generating bond library\n",
      "Copying over data to final dataframe\n",
      "Saving to File!\n",
      "Time elapsed:  1.4443439999595284\n",
      "Starting batch  27\n",
      "Parsing CIFs\n",
      "Assembling site property dictionary\n",
      "site elemental properties\n",
      "AGNI\n",
      "GSF\n",
      "Generating bond library\n",
      "Copying over data to final dataframe\n",
      "Saving to File!\n",
      "Time elapsed:  6.009114700369537\n",
      "Starting batch  28\n",
      "Parsing CIFs\n"
     ]
    },
    {
     "name": "stderr",
     "output_type": "stream",
     "text": [
      "C:\\Users\\adamp\\anaconda3\\lib\\site-packages\\pymatgen\\io\\cif.py:1197: UserWarning: Issues encountered while parsing CIF: Some fractional coordinates rounded to ideal values to avoid issues with finite precision.\n",
      "  warnings.warn(\"Issues encountered while parsing CIF: \" + \"\\n\".join(self.warnings))\n"
     ]
    },
    {
     "name": "stdout",
     "output_type": "stream",
     "text": [
      "Assembling site property dictionary\n",
      "site elemental properties\n",
      "AGNI\n",
      "GSF\n",
      "Generating bond library\n",
      "Copying over data to final dataframe\n",
      "Saving to File!\n",
      "Time elapsed:  40.69459229987115\n",
      "Starting batch  29\n",
      "Parsing CIFs\n",
      "Assembling site property dictionary\n",
      "site elemental properties\n",
      "AGNI\n",
      "GSF\n",
      "Generating bond library\n",
      "Copying over data to final dataframe\n",
      "Saving to File!\n",
      "Time elapsed:  0.32250559981912374\n",
      "Starting batch  30\n",
      "Parsing CIFs\n"
     ]
    },
    {
     "name": "stderr",
     "output_type": "stream",
     "text": [
      "C:\\Users\\adamp\\anaconda3\\lib\\site-packages\\pymatgen\\io\\cif.py:1197: UserWarning: Issues encountered while parsing CIF: Some fractional coordinates rounded to ideal values to avoid issues with finite precision.\n",
      "  warnings.warn(\"Issues encountered while parsing CIF: \" + \"\\n\".join(self.warnings))\n"
     ]
    },
    {
     "name": "stdout",
     "output_type": "stream",
     "text": [
      "Assembling site property dictionary\n",
      "site elemental properties\n",
      "AGNI\n",
      "GSF\n",
      "Generating bond library\n",
      "Copying over data to final dataframe\n",
      "Saving to File!\n",
      "Time elapsed:  5.304924699943513\n",
      "Starting batch  31\n",
      "Parsing CIFs\n"
     ]
    },
    {
     "name": "stderr",
     "output_type": "stream",
     "text": [
      "C:\\Users\\adamp\\anaconda3\\lib\\site-packages\\pymatgen\\io\\cif.py:1197: UserWarning: Issues encountered while parsing CIF: Some fractional coordinates rounded to ideal values to avoid issues with finite precision.\n",
      "  warnings.warn(\"Issues encountered while parsing CIF: \" + \"\\n\".join(self.warnings))\n"
     ]
    },
    {
     "name": "stdout",
     "output_type": "stream",
     "text": [
      "Assembling site property dictionary\n",
      "site elemental properties\n",
      "AGNI\n",
      "GSF\n",
      "Generating bond library\n",
      "Copying over data to final dataframe\n",
      "Saving to File!\n",
      "Time elapsed:  1.8563999002799392\n",
      "Starting batch  32\n",
      "Parsing CIFs\n"
     ]
    },
    {
     "name": "stderr",
     "output_type": "stream",
     "text": [
      "C:\\Users\\adamp\\anaconda3\\lib\\site-packages\\pymatgen\\io\\cif.py:1197: UserWarning: Issues encountered while parsing CIF: Some fractional coordinates rounded to ideal values to avoid issues with finite precision.\n",
      "  warnings.warn(\"Issues encountered while parsing CIF: \" + \"\\n\".join(self.warnings))\n"
     ]
    },
    {
     "name": "stdout",
     "output_type": "stream",
     "text": [
      "Assembling site property dictionary\n",
      "site elemental properties\n",
      "AGNI\n",
      "GSF\n",
      "Generating bond library\n",
      "Copying over data to final dataframe\n",
      "Saving to File!\n",
      "Time elapsed:  4.282810499891639\n",
      "Starting batch  33\n",
      "Parsing CIFs\n",
      "Assembling site property dictionary\n",
      "site elemental properties\n",
      "AGNI\n",
      "GSF\n",
      "Generating bond library\n",
      "Copying over data to final dataframe\n",
      "Saving to File!\n",
      "Time elapsed:  0.44840400014072657\n",
      "Starting batch  34\n",
      "Parsing CIFs\n",
      "Assembling site property dictionary\n",
      "site elemental properties\n"
     ]
    },
    {
     "name": "stderr",
     "output_type": "stream",
     "text": [
      "C:\\Users\\adamp\\anaconda3\\lib\\site-packages\\pymatgen\\io\\cif.py:1197: UserWarning: Issues encountered while parsing CIF: Some fractional coordinates rounded to ideal values to avoid issues with finite precision.\n",
      "  warnings.warn(\"Issues encountered while parsing CIF: \" + \"\\n\".join(self.warnings))\n"
     ]
    },
    {
     "name": "stdout",
     "output_type": "stream",
     "text": [
      "AGNI\n",
      "GSF\n",
      "Generating bond library\n",
      "Copying over data to final dataframe\n",
      "Saving to File!\n",
      "Time elapsed:  2.132695899810642\n",
      "Starting batch  35\n",
      "Parsing CIFs\n"
     ]
    },
    {
     "name": "stderr",
     "output_type": "stream",
     "text": [
      "C:\\Users\\adamp\\anaconda3\\lib\\site-packages\\pymatgen\\io\\cif.py:1197: UserWarning: Issues encountered while parsing CIF: Some fractional coordinates rounded to ideal values to avoid issues with finite precision.\n",
      "  warnings.warn(\"Issues encountered while parsing CIF: \" + \"\\n\".join(self.warnings))\n"
     ]
    },
    {
     "name": "stdout",
     "output_type": "stream",
     "text": [
      "Assembling site property dictionary\n",
      "site elemental properties\n",
      "AGNI\n",
      "GSF\n",
      "Generating bond library\n",
      "Copying over data to final dataframe\n",
      "Saving to File!\n",
      "Time elapsed:  0.528914200142026\n",
      "Starting batch  36\n",
      "Parsing CIFs\n"
     ]
    },
    {
     "name": "stderr",
     "output_type": "stream",
     "text": [
      "C:\\Users\\adamp\\anaconda3\\lib\\site-packages\\pymatgen\\io\\cif.py:1197: UserWarning: Issues encountered while parsing CIF: Some fractional coordinates rounded to ideal values to avoid issues with finite precision.\n",
      "  warnings.warn(\"Issues encountered while parsing CIF: \" + \"\\n\".join(self.warnings))\n"
     ]
    },
    {
     "name": "stdout",
     "output_type": "stream",
     "text": [
      "Assembling site property dictionary\n",
      "site elemental properties\n",
      "AGNI\n",
      "GSF\n",
      "Generating bond library\n",
      "Copying over data to final dataframe\n",
      "Saving to File!\n",
      "Time elapsed:  75.1154147000052\n",
      "Starting batch  37\n",
      "Parsing CIFs\n"
     ]
    },
    {
     "name": "stderr",
     "output_type": "stream",
     "text": [
      "C:\\Users\\adamp\\anaconda3\\lib\\site-packages\\pymatgen\\io\\cif.py:1197: UserWarning: Issues encountered while parsing CIF: Some fractional coordinates rounded to ideal values to avoid issues with finite precision.\n",
      "  warnings.warn(\"Issues encountered while parsing CIF: \" + \"\\n\".join(self.warnings))\n"
     ]
    },
    {
     "name": "stdout",
     "output_type": "stream",
     "text": [
      "Assembling site property dictionary\n",
      "site elemental properties\n",
      "AGNI\n",
      "GSF\n",
      "Generating bond library\n",
      "Copying over data to final dataframe\n",
      "Saving to File!\n",
      "Time elapsed:  6.215857999864966\n",
      "Starting batch  38\n",
      "Parsing CIFs\n"
     ]
    },
    {
     "name": "stderr",
     "output_type": "stream",
     "text": [
      "C:\\Users\\adamp\\anaconda3\\lib\\site-packages\\pymatgen\\io\\cif.py:1197: UserWarning: Issues encountered while parsing CIF: Some fractional coordinates rounded to ideal values to avoid issues with finite precision.\n",
      "  warnings.warn(\"Issues encountered while parsing CIF: \" + \"\\n\".join(self.warnings))\n"
     ]
    },
    {
     "name": "stdout",
     "output_type": "stream",
     "text": [
      "Assembling site property dictionary\n",
      "site elemental properties\n",
      "AGNI\n",
      "GSF\n",
      "Generating bond library\n",
      "Copying over data to final dataframe\n",
      "Saving to File!\n",
      "Time elapsed:  4.365175699815154\n",
      "Starting batch  39\n",
      "Parsing CIFs\n"
     ]
    },
    {
     "name": "stderr",
     "output_type": "stream",
     "text": [
      "C:\\Users\\adamp\\anaconda3\\lib\\site-packages\\pymatgen\\io\\cif.py:1197: UserWarning: Issues encountered while parsing CIF: Some fractional coordinates rounded to ideal values to avoid issues with finite precision.\n",
      "  warnings.warn(\"Issues encountered while parsing CIF: \" + \"\\n\".join(self.warnings))\n"
     ]
    },
    {
     "name": "stdout",
     "output_type": "stream",
     "text": [
      "Assembling site property dictionary\n",
      "site elemental properties\n",
      "AGNI\n",
      "GSF\n",
      "Generating bond library\n",
      "Copying over data to final dataframe\n",
      "Saving to File!\n",
      "Time elapsed:  5.029151199851185\n",
      "Starting batch  40\n",
      "Parsing CIFs\n"
     ]
    },
    {
     "name": "stderr",
     "output_type": "stream",
     "text": [
      "C:\\Users\\adamp\\anaconda3\\lib\\site-packages\\pymatgen\\io\\cif.py:1197: UserWarning: Issues encountered while parsing CIF: Some fractional coordinates rounded to ideal values to avoid issues with finite precision.\n",
      "  warnings.warn(\"Issues encountered while parsing CIF: \" + \"\\n\".join(self.warnings))\n"
     ]
    },
    {
     "name": "stdout",
     "output_type": "stream",
     "text": [
      "Assembling site property dictionary\n",
      "site elemental properties\n",
      "AGNI\n",
      "GSF\n",
      "Generating bond library\n",
      "Copying over data to final dataframe\n",
      "Saving to File!\n",
      "Time elapsed:  2.9736298001371324\n",
      "Starting batch  41\n",
      "Parsing CIFs\n"
     ]
    },
    {
     "name": "stderr",
     "output_type": "stream",
     "text": [
      "C:\\Users\\adamp\\anaconda3\\lib\\site-packages\\pymatgen\\io\\cif.py:1197: UserWarning: Issues encountered while parsing CIF: Some fractional coordinates rounded to ideal values to avoid issues with finite precision.\n",
      "  warnings.warn(\"Issues encountered while parsing CIF: \" + \"\\n\".join(self.warnings))\n"
     ]
    },
    {
     "name": "stdout",
     "output_type": "stream",
     "text": [
      "Assembling site property dictionary\n",
      "site elemental properties\n",
      "AGNI\n",
      "GSF\n",
      "Generating bond library\n",
      "Copying over data to final dataframe\n",
      "Saving to File!\n",
      "Time elapsed:  8.0625428003259\n",
      "Starting batch  42\n",
      "Parsing CIFs\n"
     ]
    },
    {
     "name": "stderr",
     "output_type": "stream",
     "text": [
      "C:\\Users\\adamp\\anaconda3\\lib\\site-packages\\pymatgen\\io\\cif.py:1197: UserWarning: Issues encountered while parsing CIF: Some fractional coordinates rounded to ideal values to avoid issues with finite precision.\n",
      "  warnings.warn(\"Issues encountered while parsing CIF: \" + \"\\n\".join(self.warnings))\n"
     ]
    },
    {
     "name": "stdout",
     "output_type": "stream",
     "text": [
      "Assembling site property dictionary\n",
      "site elemental properties\n",
      "AGNI\n",
      "GSF\n",
      "Generating bond library\n",
      "Copying over data to final dataframe\n",
      "Saving to File!\n",
      "Time elapsed:  2.7649218002334237\n",
      "Starting batch  43\n",
      "Parsing CIFs\n"
     ]
    },
    {
     "name": "stderr",
     "output_type": "stream",
     "text": [
      "C:\\Users\\adamp\\anaconda3\\lib\\site-packages\\pymatgen\\io\\cif.py:1197: UserWarning: Issues encountered while parsing CIF: Some fractional coordinates rounded to ideal values to avoid issues with finite precision.\n",
      "  warnings.warn(\"Issues encountered while parsing CIF: \" + \"\\n\".join(self.warnings))\n"
     ]
    },
    {
     "name": "stdout",
     "output_type": "stream",
     "text": [
      "Assembling site property dictionary\n",
      "site elemental properties\n",
      "AGNI\n",
      "GSF\n",
      "Generating bond library\n",
      "Copying over data to final dataframe\n",
      "Saving to File!\n",
      "Time elapsed:  11.296341300010681\n",
      "Starting batch  44\n",
      "Parsing CIFs\n"
     ]
    },
    {
     "name": "stderr",
     "output_type": "stream",
     "text": [
      "C:\\Users\\adamp\\anaconda3\\lib\\site-packages\\pymatgen\\io\\cif.py:1197: UserWarning: Issues encountered while parsing CIF: Some fractional coordinates rounded to ideal values to avoid issues with finite precision.\n",
      "  warnings.warn(\"Issues encountered while parsing CIF: \" + \"\\n\".join(self.warnings))\n"
     ]
    },
    {
     "name": "stdout",
     "output_type": "stream",
     "text": [
      "Assembling site property dictionary\n",
      "site elemental properties\n",
      "AGNI\n",
      "GSF\n",
      "Generating bond library\n",
      "Copying over data to final dataframe\n",
      "Saving to File!\n",
      "Time elapsed:  18.46152909984812\n",
      "Starting batch  45\n",
      "Parsing CIFs\n"
     ]
    },
    {
     "name": "stderr",
     "output_type": "stream",
     "text": [
      "C:\\Users\\adamp\\anaconda3\\lib\\site-packages\\pymatgen\\io\\cif.py:1197: UserWarning: Issues encountered while parsing CIF: Some fractional coordinates rounded to ideal values to avoid issues with finite precision.\n",
      "  warnings.warn(\"Issues encountered while parsing CIF: \" + \"\\n\".join(self.warnings))\n"
     ]
    },
    {
     "name": "stdout",
     "output_type": "stream",
     "text": [
      "Assembling site property dictionary\n",
      "site elemental properties\n",
      "AGNI\n",
      "GSF\n",
      "Generating bond library\n",
      "Copying over data to final dataframe\n",
      "Saving to File!\n",
      "Time elapsed:  2.8527250001206994\n",
      "Starting batch  46\n",
      "Parsing CIFs\n"
     ]
    },
    {
     "name": "stderr",
     "output_type": "stream",
     "text": [
      "C:\\Users\\adamp\\anaconda3\\lib\\site-packages\\pymatgen\\io\\cif.py:1197: UserWarning: Issues encountered while parsing CIF: Some fractional coordinates rounded to ideal values to avoid issues with finite precision.\n",
      "  warnings.warn(\"Issues encountered while parsing CIF: \" + \"\\n\".join(self.warnings))\n"
     ]
    },
    {
     "name": "stdout",
     "output_type": "stream",
     "text": [
      "Assembling site property dictionary\n",
      "site elemental properties\n",
      "AGNI\n",
      "GSF\n",
      "Generating bond library\n",
      "Copying over data to final dataframe\n",
      "Saving to File!\n",
      "Time elapsed:  8.543749999720603\n",
      "Starting batch  47\n",
      "Parsing CIFs\n"
     ]
    },
    {
     "name": "stderr",
     "output_type": "stream",
     "text": [
      "C:\\Users\\adamp\\anaconda3\\lib\\site-packages\\pymatgen\\io\\cif.py:1197: UserWarning: Issues encountered while parsing CIF: Some fractional coordinates rounded to ideal values to avoid issues with finite precision.\n",
      "  warnings.warn(\"Issues encountered while parsing CIF: \" + \"\\n\".join(self.warnings))\n"
     ]
    },
    {
     "name": "stdout",
     "output_type": "stream",
     "text": [
      "Assembling site property dictionary\n",
      "site elemental properties\n",
      "AGNI\n",
      "GSF\n",
      "Generating bond library\n",
      "Copying over data to final dataframe\n",
      "Saving to File!\n",
      "Time elapsed:  2.256372299976647\n",
      "Starting batch  48\n",
      "Parsing CIFs\n",
      "Assembling site property dictionary\n",
      "site elemental properties\n",
      "AGNI\n",
      "GSF\n",
      "Generating bond library\n",
      "Copying over data to final dataframe\n",
      "Saving to File!\n",
      "Time elapsed:  0.5945496000349522\n",
      "Starting batch  49\n",
      "Parsing CIFs\n"
     ]
    },
    {
     "name": "stderr",
     "output_type": "stream",
     "text": [
      "C:\\Users\\adamp\\anaconda3\\lib\\site-packages\\pymatgen\\io\\cif.py:1197: UserWarning: Issues encountered while parsing CIF: Some fractional coordinates rounded to ideal values to avoid issues with finite precision.\n",
      "  warnings.warn(\"Issues encountered while parsing CIF: \" + \"\\n\".join(self.warnings))\n"
     ]
    },
    {
     "name": "stdout",
     "output_type": "stream",
     "text": [
      "Assembling site property dictionary\n",
      "site elemental properties\n",
      "AGNI\n",
      "GSF\n",
      "Generating bond library\n",
      "Copying over data to final dataframe\n",
      "Saving to File!\n",
      "Time elapsed:  9.369598200079054\n",
      "Starting batch  50\n",
      "Parsing CIFs\n"
     ]
    },
    {
     "name": "stderr",
     "output_type": "stream",
     "text": [
      "C:\\Users\\adamp\\anaconda3\\lib\\site-packages\\pymatgen\\io\\cif.py:1197: UserWarning: Issues encountered while parsing CIF: Some fractional coordinates rounded to ideal values to avoid issues with finite precision.\n",
      "  warnings.warn(\"Issues encountered while parsing CIF: \" + \"\\n\".join(self.warnings))\n"
     ]
    },
    {
     "name": "stdout",
     "output_type": "stream",
     "text": [
      "Assembling site property dictionary\n",
      "site elemental properties\n",
      "AGNI\n",
      "GSF\n",
      "Generating bond library\n",
      "Copying over data to final dataframe\n",
      "Saving to File!\n",
      "Time elapsed:  5.411290899850428\n",
      "Starting batch  51\n",
      "Parsing CIFs\n"
     ]
    },
    {
     "name": "stderr",
     "output_type": "stream",
     "text": [
      "C:\\Users\\adamp\\anaconda3\\lib\\site-packages\\pymatgen\\io\\cif.py:1197: UserWarning: Issues encountered while parsing CIF: Some fractional coordinates rounded to ideal values to avoid issues with finite precision.\n",
      "  warnings.warn(\"Issues encountered while parsing CIF: \" + \"\\n\".join(self.warnings))\n"
     ]
    },
    {
     "name": "stdout",
     "output_type": "stream",
     "text": [
      "Assembling site property dictionary\n",
      "site elemental properties\n",
      "AGNI\n",
      "GSF\n",
      "Generating bond library\n",
      "Copying over data to final dataframe\n",
      "Saving to File!\n",
      "Time elapsed:  13.266949099954218\n",
      "Starting batch  52\n",
      "Parsing CIFs\n"
     ]
    },
    {
     "name": "stderr",
     "output_type": "stream",
     "text": [
      "C:\\Users\\adamp\\anaconda3\\lib\\site-packages\\pymatgen\\io\\cif.py:1197: UserWarning: Issues encountered while parsing CIF: Some fractional coordinates rounded to ideal values to avoid issues with finite precision.\n",
      "  warnings.warn(\"Issues encountered while parsing CIF: \" + \"\\n\".join(self.warnings))\n"
     ]
    },
    {
     "name": "stdout",
     "output_type": "stream",
     "text": [
      "Assembling site property dictionary\n",
      "site elemental properties\n",
      "AGNI\n",
      "GSF\n",
      "Generating bond library\n",
      "Copying over data to final dataframe\n",
      "Saving to File!\n",
      "Time elapsed:  90.94156059995294\n",
      "Starting batch  53\n",
      "Parsing CIFs\n"
     ]
    },
    {
     "name": "stderr",
     "output_type": "stream",
     "text": [
      "C:\\Users\\adamp\\anaconda3\\lib\\site-packages\\pymatgen\\io\\cif.py:1197: UserWarning: Issues encountered while parsing CIF: Some fractional coordinates rounded to ideal values to avoid issues with finite precision.\n",
      "  warnings.warn(\"Issues encountered while parsing CIF: \" + \"\\n\".join(self.warnings))\n"
     ]
    },
    {
     "name": "stdout",
     "output_type": "stream",
     "text": [
      "Assembling site property dictionary\n",
      "site elemental properties\n",
      "AGNI\n",
      "GSF\n",
      "Generating bond library\n",
      "Copying over data to final dataframe\n",
      "Saving to File!\n",
      "Time elapsed:  38.70517749991268\n",
      "Starting batch  54\n",
      "Parsing CIFs\n"
     ]
    },
    {
     "name": "stderr",
     "output_type": "stream",
     "text": [
      "C:\\Users\\adamp\\anaconda3\\lib\\site-packages\\pymatgen\\io\\cif.py:1197: UserWarning: Issues encountered while parsing CIF: Some fractional coordinates rounded to ideal values to avoid issues with finite precision.\n",
      "  warnings.warn(\"Issues encountered while parsing CIF: \" + \"\\n\".join(self.warnings))\n"
     ]
    },
    {
     "name": "stdout",
     "output_type": "stream",
     "text": [
      "Assembling site property dictionary\n",
      "site elemental properties\n",
      "AGNI\n",
      "GSF\n",
      "Generating bond library\n",
      "Copying over data to final dataframe\n",
      "Saving to File!\n",
      "Time elapsed:  13.896633100230247\n",
      "Starting batch  55\n",
      "Parsing CIFs\n"
     ]
    },
    {
     "name": "stderr",
     "output_type": "stream",
     "text": [
      "C:\\Users\\adamp\\anaconda3\\lib\\site-packages\\pymatgen\\io\\cif.py:1197: UserWarning: Issues encountered while parsing CIF: Some fractional coordinates rounded to ideal values to avoid issues with finite precision.\n",
      "  warnings.warn(\"Issues encountered while parsing CIF: \" + \"\\n\".join(self.warnings))\n"
     ]
    },
    {
     "name": "stdout",
     "output_type": "stream",
     "text": [
      "Assembling site property dictionary\n",
      "site elemental properties\n",
      "AGNI\n",
      "GSF\n",
      "Generating bond library\n",
      "Copying over data to final dataframe\n",
      "Saving to File!\n",
      "Time elapsed:  41.8086150996387\n",
      "Starting batch  56\n",
      "Parsing CIFs\n"
     ]
    },
    {
     "name": "stderr",
     "output_type": "stream",
     "text": [
      "C:\\Users\\adamp\\anaconda3\\lib\\site-packages\\pymatgen\\io\\cif.py:1197: UserWarning: Issues encountered while parsing CIF: Some fractional coordinates rounded to ideal values to avoid issues with finite precision.\n",
      "  warnings.warn(\"Issues encountered while parsing CIF: \" + \"\\n\".join(self.warnings))\n"
     ]
    },
    {
     "name": "stdout",
     "output_type": "stream",
     "text": [
      "Assembling site property dictionary\n",
      "site elemental properties\n",
      "AGNI\n",
      "GSF\n",
      "Generating bond library\n",
      "Copying over data to final dataframe\n",
      "Saving to File!\n",
      "Time elapsed:  7.077391400001943\n",
      "Starting batch  57\n",
      "Parsing CIFs\n"
     ]
    },
    {
     "name": "stderr",
     "output_type": "stream",
     "text": [
      "C:\\Users\\adamp\\anaconda3\\lib\\site-packages\\pymatgen\\io\\cif.py:1197: UserWarning: Issues encountered while parsing CIF: Some fractional coordinates rounded to ideal values to avoid issues with finite precision.\n",
      "  warnings.warn(\"Issues encountered while parsing CIF: \" + \"\\n\".join(self.warnings))\n"
     ]
    },
    {
     "name": "stdout",
     "output_type": "stream",
     "text": [
      "Assembling site property dictionary\n",
      "site elemental properties\n",
      "AGNI\n",
      "GSF\n",
      "Generating bond library\n",
      "Copying over data to final dataframe\n",
      "Saving to File!\n",
      "Time elapsed:  12.96621309965849\n",
      "Starting batch  58\n",
      "Parsing CIFs\n"
     ]
    },
    {
     "name": "stderr",
     "output_type": "stream",
     "text": [
      "C:\\Users\\adamp\\anaconda3\\lib\\site-packages\\pymatgen\\io\\cif.py:1197: UserWarning: Issues encountered while parsing CIF: Some fractional coordinates rounded to ideal values to avoid issues with finite precision.\n",
      "  warnings.warn(\"Issues encountered while parsing CIF: \" + \"\\n\".join(self.warnings))\n"
     ]
    },
    {
     "name": "stdout",
     "output_type": "stream",
     "text": [
      "Assembling site property dictionary\n",
      "site elemental properties\n",
      "AGNI\n",
      "GSF\n",
      "Generating bond library\n",
      "Copying over data to final dataframe\n",
      "Saving to File!\n",
      "Time elapsed:  41.71295880014077\n",
      "Starting batch  59\n",
      "Parsing CIFs\n",
      "Assembling site property dictionary\n",
      "site elemental properties\n",
      "AGNI\n",
      "GSF\n",
      "Generating bond library\n",
      "Copying over data to final dataframe\n",
      "Saving to File!\n",
      "Time elapsed:  18.908360099885613\n",
      "Starting batch  60\n",
      "Parsing CIFs\n"
     ]
    },
    {
     "name": "stderr",
     "output_type": "stream",
     "text": [
      "C:\\Users\\adamp\\anaconda3\\lib\\site-packages\\pymatgen\\io\\cif.py:1197: UserWarning: Issues encountered while parsing CIF: Some fractional coordinates rounded to ideal values to avoid issues with finite precision.\n",
      "  warnings.warn(\"Issues encountered while parsing CIF: \" + \"\\n\".join(self.warnings))\n"
     ]
    },
    {
     "name": "stdout",
     "output_type": "stream",
     "text": [
      "Assembling site property dictionary\n",
      "site elemental properties\n",
      "AGNI\n",
      "GSF\n",
      "Generating bond library\n",
      "Copying over data to final dataframe\n",
      "Saving to File!\n",
      "Time elapsed:  33.1684309002012\n",
      "Starting batch  61\n",
      "Parsing CIFs\n"
     ]
    },
    {
     "name": "stderr",
     "output_type": "stream",
     "text": [
      "C:\\Users\\adamp\\anaconda3\\lib\\site-packages\\pymatgen\\io\\cif.py:1197: UserWarning: Issues encountered while parsing CIF: Some fractional coordinates rounded to ideal values to avoid issues with finite precision.\n",
      "  warnings.warn(\"Issues encountered while parsing CIF: \" + \"\\n\".join(self.warnings))\n"
     ]
    },
    {
     "name": "stdout",
     "output_type": "stream",
     "text": [
      "Assembling site property dictionary\n",
      "site elemental properties\n",
      "AGNI\n",
      "GSF\n",
      "Generating bond library\n",
      "Copying over data to final dataframe\n",
      "Saving to File!\n",
      "Time elapsed:  8.696342699695379\n",
      "Starting batch  62\n",
      "Parsing CIFs\n"
     ]
    },
    {
     "name": "stderr",
     "output_type": "stream",
     "text": [
      "C:\\Users\\adamp\\anaconda3\\lib\\site-packages\\pymatgen\\io\\cif.py:1197: UserWarning: Issues encountered while parsing CIF: Some fractional coordinates rounded to ideal values to avoid issues with finite precision.\n",
      "  warnings.warn(\"Issues encountered while parsing CIF: \" + \"\\n\".join(self.warnings))\n"
     ]
    },
    {
     "name": "stdout",
     "output_type": "stream",
     "text": [
      "Assembling site property dictionary\n",
      "site elemental properties\n",
      "AGNI\n",
      "GSF\n",
      "Generating bond library\n",
      "Copying over data to final dataframe\n",
      "Saving to File!\n",
      "Time elapsed:  22.686417799908668\n",
      "Starting batch  63\n",
      "Parsing CIFs\n"
     ]
    },
    {
     "name": "stderr",
     "output_type": "stream",
     "text": [
      "C:\\Users\\adamp\\anaconda3\\lib\\site-packages\\pymatgen\\io\\cif.py:1197: UserWarning: Issues encountered while parsing CIF: Some fractional coordinates rounded to ideal values to avoid issues with finite precision.\n",
      "  warnings.warn(\"Issues encountered while parsing CIF: \" + \"\\n\".join(self.warnings))\n"
     ]
    },
    {
     "name": "stdout",
     "output_type": "stream",
     "text": [
      "Assembling site property dictionary\n",
      "site elemental properties\n",
      "AGNI\n",
      "GSF\n",
      "Generating bond library\n",
      "Copying over data to final dataframe\n",
      "Saving to File!\n",
      "Time elapsed:  12.355670799966902\n",
      "Starting batch  64\n",
      "Parsing CIFs\n"
     ]
    },
    {
     "name": "stderr",
     "output_type": "stream",
     "text": [
      "C:\\Users\\adamp\\anaconda3\\lib\\site-packages\\pymatgen\\io\\cif.py:1197: UserWarning: Issues encountered while parsing CIF: Some fractional coordinates rounded to ideal values to avoid issues with finite precision.\n",
      "  warnings.warn(\"Issues encountered while parsing CIF: \" + \"\\n\".join(self.warnings))\n"
     ]
    },
    {
     "name": "stdout",
     "output_type": "stream",
     "text": [
      "Assembling site property dictionary\n",
      "site elemental properties\n",
      "AGNI\n",
      "GSF\n",
      "Generating bond library\n",
      "Copying over data to final dataframe\n",
      "Saving to File!\n",
      "Time elapsed:  925.7152229999192\n",
      "Starting batch  65\n",
      "Parsing CIFs\n"
     ]
    },
    {
     "name": "stderr",
     "output_type": "stream",
     "text": [
      "C:\\Users\\adamp\\anaconda3\\lib\\site-packages\\pymatgen\\io\\cif.py:1197: UserWarning: Issues encountered while parsing CIF: Some fractional coordinates rounded to ideal values to avoid issues with finite precision.\n",
      "  warnings.warn(\"Issues encountered while parsing CIF: \" + \"\\n\".join(self.warnings))\n"
     ]
    },
    {
     "name": "stdout",
     "output_type": "stream",
     "text": [
      "Assembling site property dictionary\n",
      "site elemental properties\n",
      "AGNI\n",
      "GSF\n",
      "Generating bond library\n",
      "Copying over data to final dataframe\n",
      "Saving to File!\n",
      "Time elapsed:  10.24521159986034\n",
      "Starting batch  66\n",
      "Parsing CIFs\n"
     ]
    },
    {
     "name": "stderr",
     "output_type": "stream",
     "text": [
      "C:\\Users\\adamp\\anaconda3\\lib\\site-packages\\pymatgen\\io\\cif.py:1197: UserWarning: Issues encountered while parsing CIF: Some fractional coordinates rounded to ideal values to avoid issues with finite precision.\n",
      "  warnings.warn(\"Issues encountered while parsing CIF: \" + \"\\n\".join(self.warnings))\n"
     ]
    },
    {
     "name": "stdout",
     "output_type": "stream",
     "text": [
      "Assembling site property dictionary\n",
      "site elemental properties\n",
      "AGNI\n",
      "GSF\n",
      "Generating bond library\n",
      "Copying over data to final dataframe\n",
      "Saving to File!\n",
      "Time elapsed:  12.236424499657005\n",
      "Starting batch  67\n",
      "Parsing CIFs\n"
     ]
    },
    {
     "name": "stderr",
     "output_type": "stream",
     "text": [
      "C:\\Users\\adamp\\anaconda3\\lib\\site-packages\\pymatgen\\io\\cif.py:1197: UserWarning: Issues encountered while parsing CIF: Some fractional coordinates rounded to ideal values to avoid issues with finite precision.\n",
      "  warnings.warn(\"Issues encountered while parsing CIF: \" + \"\\n\".join(self.warnings))\n"
     ]
    },
    {
     "name": "stdout",
     "output_type": "stream",
     "text": [
      "Assembling site property dictionary\n",
      "site elemental properties\n",
      "AGNI\n",
      "GSF\n",
      "Generating bond library\n",
      "Copying over data to final dataframe\n",
      "Saving to File!\n",
      "Time elapsed:  21.228093899786472\n",
      "Starting batch  68\n",
      "Parsing CIFs\n"
     ]
    },
    {
     "name": "stderr",
     "output_type": "stream",
     "text": [
      "C:\\Users\\adamp\\anaconda3\\lib\\site-packages\\pymatgen\\io\\cif.py:1197: UserWarning: Issues encountered while parsing CIF: Some fractional coordinates rounded to ideal values to avoid issues with finite precision.\n",
      "  warnings.warn(\"Issues encountered while parsing CIF: \" + \"\\n\".join(self.warnings))\n"
     ]
    },
    {
     "name": "stdout",
     "output_type": "stream",
     "text": [
      "Assembling site property dictionary\n",
      "site elemental properties\n",
      "AGNI\n",
      "GSF\n"
     ]
    }
   ],
   "source": [
    "# Batching files to reduce memory use\n",
    "BATCH_SIZE = 5\n",
    "\n",
    "# Load all CIF files in directory\n",
    "file_type = \"_super.cif\"  # Use files with this ending in input_dir\n",
    "input_dir = \"supercells_data/\"  # Input data directory\n",
    "output_dir = \"features/\"  # Output directory\n",
    "filename = \"features.csv\"  # Output filename for features\n",
    "\n",
    "if not os.path.isdir(output_dir):\n",
    "    os.mkdir(output_dir)\n",
    "    \n",
    "files = os.listdir(input_dir)\n",
    "cif_files = [input_dir+file for file in files if file.endswith(file_type)]\n",
    "\n",
    "# Featurize all sturctures\n",
    "n_batches = int(np.ceil(len(cif_files)/BATCH_SIZE))\n",
    "if os.path.isfile(filename):  # Clean up any previous runs\n",
    "    os.remove(filename)\n",
    "    \n",
    "for b in range(n_batches):\n",
    "    print(\"Starting batch \", b)\n",
    "    # Define which files to \n",
    "    idx_start = int(b*BATCH_SIZE)\n",
    "    idx_end = int(min((b+1)*BATCH_SIZE, len(cif_files)))\n",
    "    start = timeit.default_timer()\n",
    "    data_frame = featurize_dataset(cif_files[idx_start:idx_end], saveto=output_dir+filename)\n",
    "    print(\"Time elapsed: \", timeit.default_timer() - start)\n",
    "\n",
    "print(\"Files processed: \", len(cif_files))"
   ],
   "metadata": {
    "collapsed": false,
    "is_executing": true,
    "ExecuteTime": {
     "start_time": "2023-11-20T19:58:52.903383400Z"
    }
   },
   "id": "9f4b24a27d79356c"
  },
  {
   "cell_type": "code",
   "execution_count": 3,
   "id": "10b0813d37aa1dc",
   "metadata": {
    "ExecuteTime": {
     "end_time": "2023-10-27T04:36:50.429352600Z",
     "start_time": "2023-10-27T04:36:50.413806Z"
    }
   },
   "outputs": [],
   "source": [
    "   ## 1. Bag of Bonds\n",
    "\"\"\"\n",
    "print(\"bag of bonds\")\n",
    "BB = BagofBonds()\n",
    "for index, row in data.iterrows():\n",
    "    structure = row[\"structure\"]\n",
    "    if verbos:\n",
    "        print(index)\n",
    "    BB.fit([structure])\n",
    "    feat = BB.bag(structure)\n",
    "    print(feat)\n",
    "    site = list(feat.keys())\n",
    "    print(site[0])\n",
    "    print(structure[site])\n",
    "\n",
    "print(\"bond fraction\")\n",
    "BF = BondFractions()\n",
    "for index, row in data.iterrows():\n",
    "    structure = row[\"structure\"]\n",
    "    if verbos:\n",
    "        print(index)\n",
    "    feat = BF.fit_transform([structure])\n",
    "    #print(feat)\n",
    "    #print(BF.feature_labels())\n",
    "\"\"\"\n",
    "## 5. site difference stats \n",
    "\"\"\"\n",
    "print(\"LPD\")\n",
    "LPD = LocalPropertyStatsNew(properties=property_list)\n",
    "colnames = LPD._generate_column_labels(multiindex=False, return_errors=False)\n",
    "for index, row in data.iterrows():\n",
    "    structure = row[\"structure\"]\n",
    "    if verbos:\n",
    "        print(index)\n",
    "    for atomidx in range(structure.num_sites):\n",
    "        feat = LPD.featurize(structure, idx=atomidx)\n",
    "        site_name = \"%s_%i\" % (index, atomidx)\n",
    "        site_features[site_name].update(dict(zip(colnames, feat)))\n",
    "\"\"\"\n",
    "    "
   ]
  }
 ],
 "metadata": {
  "kernelspec": {
   "display_name": "Python 3 (ipykernel)",
   "language": "python",
   "name": "python3"
  },
  "language_info": {
   "codemirror_mode": {
    "name": "ipython",
    "version": 3
   },
   "file_extension": ".py",
   "mimetype": "text/x-python",
   "name": "python",
   "nbconvert_exporter": "python",
   "pygments_lexer": "ipython3",
   "version": "3.10.9"
  }
 },
 "nbformat": 4,
 "nbformat_minor": 5
}

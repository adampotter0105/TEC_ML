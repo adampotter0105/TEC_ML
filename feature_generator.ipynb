{
 "cells": [
  {
   "cell_type": "code",
   "execution_count": 1,
   "id": "b8dd23f5d53b0d7f",
   "metadata": {
    "ExecuteTime": {
     "end_time": "2023-11-27T03:45:37.440636400Z",
     "start_time": "2023-11-27T03:45:30.991379100Z"
    }
   },
   "outputs": [],
   "source": [
    "#import string\n",
    "from pathlib import Path\n",
    "import numpy as np\n",
    "import pandas as pd\n",
    "import sys, os\n",
    "import timeit\n",
    "#from typing import List\n",
    "from pymatgen.io.cif import CifParser\n",
    "# Old paper features\n",
    "#from matminer.featurizers.base import BaseFeaturizer\n",
    "from matminer.featurizers.site import GaussianSymmFunc, SiteElementalProperty,AGNIFingerprints\n",
    "#from matminer.utils.data import MagpieData\n",
    "from pymatgen.analysis.local_env import VoronoiNN\n",
    "import os\n",
    "\n",
    "BOND_MAX_DIST = 2.6  # Max distance for a bond in angstroms\n",
    "# New Features\n",
    "#rom matminer.featurizers.structure.bonding import BagofBonds, BondFractions, GlobalInstabilityIndex, StructuralHeterogeneity, MinimumRelativeDistances\n",
    "#from matminer.featurizers.structure.matrix import CoulombMatrix, SineCoulombMatrix, OrbitalFieldMatrix\n",
    "#from pymatgen.analysis import local_env\n"
   ]
  },
  {
   "cell_type": "code",
   "execution_count": 8,
   "id": "b47056a4e4a29279",
   "metadata": {
    "ExecuteTime": {
     "end_time": "2023-11-27T03:49:28.806092500Z",
     "start_time": "2023-11-27T03:49:28.774742Z"
    }
   },
   "outputs": [],
   "source": [
    "def featurize_dataset(cifs: list, verbose=False, saveto: str = \"features.csv\") -> pd.DataFrame:\n",
    "    \"\"\"Featurize crystal structures using elemetal, geometric, and chemical descriptors for local environments.\n",
    "\n",
    "    :params cifs: list of paths to crystal structure in cif format\n",
    "    :params verbos: printing the steps\n",
    "    :params saveto: filename to save the generated features\n",
    "    \"\"\"\n",
    "    \n",
    "    ## Process Input Files\n",
    "    if verbose: print(\"Parsing CIFs\")\n",
    "    features = {}\n",
    "    for cif in cifs:\n",
    "        structure = CifParser(cif).get_structures()[0]\n",
    "        structure_name = Path(cif).name\n",
    "        features[structure_name] = {}\n",
    "        features[structure_name][\"structure\"] = structure\n",
    "        features[structure_name][\"structure_name\"] = Path(cif).name\n",
    "        features[structure_name][\"structure_path\"] = str(Path(cif).parent)\n",
    "    data = pd.DataFrame.from_dict(features).T\n",
    "    \n",
    "    ### SITE PROPERTIES ###\n",
    "    # These will be paired as features\n",
    "    ## 1. Initialize the dictionary for each site\n",
    "    #  TODO: Combine these into one big loop with easily expandable features\n",
    "    if verbose: print(\"Assembling site property dictionary\")\n",
    "    site_features = {}\n",
    "    for index, row in data.iterrows():\n",
    "        structure = row[\"structure\"]\n",
    "        for atomidx in range(structure.num_sites):\n",
    "            site_name = \"%s_%i\" % (index, atomidx)\n",
    "            site_features[site_name] = {}\n",
    "            site_features[site_name] = {\"structure_name\": row[\"structure_name\"]}\n",
    "            site_features[site_name].update({\"structure_path\": row[\"structure_path\"]})\n",
    "    \n",
    "    ## 1. Site Elemental Property\n",
    "    if verbose: print(\"site elemental properties\")\n",
    "    property_list = (\"Number\", \"AtomicWeight\", \"Row\", \"Column\", \"Electronegativity\", \"CovalentRadius\")\n",
    "    SEP = SiteElementalProperty(properties=property_list)\n",
    "    colnames = SEP._generate_column_labels(multiindex=False, return_errors=False)\n",
    "    for index, row in data.iterrows():\n",
    "        structure = row[\"structure\"]\n",
    "        if verbose: print(index)\n",
    "        for atomidx in range(structure.num_sites):\n",
    "            feat = SEP.featurize(structure, idx=atomidx)\n",
    "            site_name = \"%s_%i\" % (index, atomidx)\n",
    "            site_features[site_name].update(dict(zip(colnames, feat)))\n",
    "\n",
    "    ## 2. AGNI\n",
    "    if verbose: print(\"AGNI\")\n",
    "    property_list = (\"Number\", \"AtomicWeight\", \"Row\", \"Column\", \"Electronegativity\", \"CovalentRadius\")\n",
    "    AGNI = AGNIFingerprints(cutoff=5, directions=[None])\n",
    "    colnames = AGNI._generate_column_labels(multiindex=False, return_errors=False)\n",
    "    for index, row in data.iterrows():\n",
    "        structure = row[\"structure\"]\n",
    "        if verbose: print(index)\n",
    "        for atomidx in range(structure.num_sites):\n",
    "            feat = AGNI.featurize(structure, idx=atomidx)\n",
    "            site_name = \"%s_%i\" % (index, atomidx)\n",
    "            site_features[site_name].update(dict(zip(colnames, feat)))\n",
    "\n",
    "    ## 3. Gaussian Symmetry Functions \n",
    "    if verbose: print(\"GSF\")\n",
    "    GSF = GaussianSymmFunc(cutoff=5)\n",
    "    colnames = GSF._generate_column_labels(multiindex=False, return_errors=False)\n",
    "    for index, row in data.iterrows():\n",
    "        structure = row[\"structure\"]\n",
    "        if verbose: print(index)\n",
    "        for atomidx in range(structure.num_sites):\n",
    "            feat = GSF.featurize(structure, idx=atomidx)\n",
    "            site_name = \"%s_%i\" % (index, atomidx)\n",
    "            site_features[site_name].update(dict(zip(colnames, feat)))\n",
    "\n",
    " \n",
    "    ### BOND PAIRS AND BOND PROPERTIES ###\n",
    "    if verbose: print(\"Generating bond library\")\n",
    "    structures_bonds = {}  # Store bond pairs\n",
    "    bond_properties = {}  # Store bond properties\n",
    "    for index, row in data.iterrows():\n",
    "        if verbose: print(index)\n",
    "        structure = row[\"structure\"]\n",
    "        structures_bonds[index] = []\n",
    "        bond_properties[index] = []\n",
    "        neighbors = structure.get_neighbor_list(BOND_MAX_DIST)  # (center_indices, points_indices, offset_vectors, distances)\n",
    "        for bond in range(len(neighbors[0])):\n",
    "            if neighbors[0][bond] < neighbors[1][bond]:  # Don't double count bonds\n",
    "                # Bonded indices\n",
    "                structures_bonds[index].append((neighbors[0][bond], neighbors[1][bond]))\n",
    "                # Bond properties (coord-num, bond-len)\n",
    "                coord_num = list(neighbors[0]).count(neighbors[0][bond])\n",
    "                bond_properties[index].append((coord_num, neighbors[3][bond]))\n",
    "\n",
    "    # Build Dataframe by bonds\n",
    "    if verbose: print(\"Copying over data to final dataframe\")\n",
    "    delta_properties = [\"site Electronegativity\", \"site AtomicWeight\"]  # For these properties, take the difference as a feature\n",
    "    bond_features = {}  # Final dictionary for saving features format: bond_features['material_bond#'][\"feature_name\"] = data\n",
    "    for index, row in data.iterrows():\n",
    "        bond_len_sum = 0\n",
    "        if verbose: print(index)\n",
    "        for bond_idx in range(len(structures_bonds[index])):\n",
    "            bond = structures_bonds[index][bond_idx]\n",
    "            bond_name = \"%s_Atom%i_Bond%i\" % (index, bond[0], bond_idx)\n",
    "            bond_features[bond_name] = {}\n",
    "            site1_name = \"%s_%i\" % (index, bond[0])\n",
    "            site2_name = \"%s_%i\" % (index, bond[1])\n",
    "            \n",
    "            # Add Site features to dictionary\n",
    "            # Order putting heavier element first\n",
    "            # TODO: this works but is not very efficient, save data directly to final dataframe in the end?\n",
    "            site_feat_labels = site_features[site1_name].keys()\n",
    "            site_feat_labels = [k for k in site_feat_labels if k not in [\"structure_path\", \"structure_name\"]]\n",
    "            bond_features[bond_name][\"structure_name\"] = site_features[site1_name][\"structure_name\"]\n",
    "            bond_features[bond_name][\"structure_path\"] = site_features[site1_name][\"structure_path\"]\n",
    "            if site_features[site1_name][\"site AtomicWeight\"] > site_features[site2_name][\"site AtomicWeight\"]:\n",
    "                for k in site_feat_labels:\n",
    "                    if k in delta_properties:\n",
    "                        bond_features[bond_name][k+\"_diff\"] = site_features[site1_name][k] - site_features[site2_name][k]\n",
    "                    bond_features[bond_name][k+\"_atom1\"] = site_features[site1_name][k]\n",
    "                    bond_features[bond_name][k+\"_atom2\"] = site_features[site2_name][k]\n",
    "            else:\n",
    "                for k in site_feat_labels:\n",
    "                    if k in delta_properties:\n",
    "                        bond_features[bond_name][k+\"_diff\"] = site_features[site2_name][k] - site_features[site1_name][k]\n",
    "                    bond_features[bond_name][k+\"_atom1\"] = site_features[site2_name][k]\n",
    "                    bond_features[bond_name][k+\"_atom2\"] = site_features[site1_name][k]\n",
    "                    \n",
    "            # Insert bond properties        \n",
    "            coord_num, bond_len = bond_properties[index][bond_idx]\n",
    "            bond_features[bond_name][\"coordination_number\"] = coord_num\n",
    "            bond_features[bond_name][\"bond_length\"] = bond_len\n",
    "            bond_len_sum += bond_len\n",
    "            \n",
    "        # Now add each bond's fraction of lattice volume\n",
    "        for bond_idx in range(len(structures_bonds[index])):\n",
    "            bond = structures_bonds[index][bond_idx]\n",
    "            bond_name = \"%s_Atom%i_Bond%i\" % (index, bond[0], bond_idx)\n",
    "            _, bond_len = bond_properties[index][bond_idx]\n",
    "            bond_features[bond_name][\"volume_fraction\"] = bond_len/bond_len_sum\n",
    "    \n",
    "    ### SAVE FILE\n",
    "    df_features = pd.DataFrame.from_dict(bond_features).T\n",
    "    if os.path.isfile(saveto):  # Append\n",
    "        df_features.to_csv(saveto, mode='a', header=False)\n",
    "    else:  # New file\n",
    "        df_features.to_csv(saveto)\n",
    "\n",
    "    return df_features\n"
   ]
  },
  {
   "cell_type": "markdown",
   "source": [
    "## Test Featurizing with a single file"
   ],
   "metadata": {
    "collapsed": false
   },
   "id": "78038e3161c7b03c"
  },
  {
   "cell_type": "code",
   "execution_count": 9,
   "outputs": [
    {
     "name": "stdout",
     "output_type": "stream",
     "text": [
      "Saving to File!\n"
     ]
    },
    {
     "data": {
      "text/plain": "                              structure_name   structure_path  \\\n15284_super.cif_Atom1_Bond0  15284_super.cif  supercells_data   \n15284_super.cif_Atom1_Bond1  15284_super.cif  supercells_data   \n15284_super.cif_Atom1_Bond2  15284_super.cif  supercells_data   \n15284_super.cif_Atom1_Bond3  15284_super.cif  supercells_data   \n15284_super.cif_Atom1_Bond4  15284_super.cif  supercells_data   \n15284_super.cif_Atom1_Bond5  15284_super.cif  supercells_data   \n\n                            site Number_atom1 site Number_atom2  \\\n15284_super.cif_Atom1_Bond0              26.0               8.0   \n15284_super.cif_Atom1_Bond1              26.0               8.0   \n15284_super.cif_Atom1_Bond2              26.0               8.0   \n15284_super.cif_Atom1_Bond3              26.0               8.0   \n15284_super.cif_Atom1_Bond4              26.0               8.0   \n15284_super.cif_Atom1_Bond5              26.0               8.0   \n\n                            site AtomicWeight_diff site AtomicWeight_atom1  \\\n15284_super.cif_Atom1_Bond0                39.8456                  55.845   \n15284_super.cif_Atom1_Bond1                39.8456                  55.845   \n15284_super.cif_Atom1_Bond2                39.8456                  55.845   \n15284_super.cif_Atom1_Bond3                39.8456                  55.845   \n15284_super.cif_Atom1_Bond4                39.8456                  55.845   \n15284_super.cif_Atom1_Bond5                39.8456                  55.845   \n\n                            site AtomicWeight_atom2 site Row_atom1  \\\n15284_super.cif_Atom1_Bond0                 15.9994            4.0   \n15284_super.cif_Atom1_Bond1                 15.9994            4.0   \n15284_super.cif_Atom1_Bond2                 15.9994            4.0   \n15284_super.cif_Atom1_Bond3                 15.9994            4.0   \n15284_super.cif_Atom1_Bond4                 15.9994            4.0   \n15284_super.cif_Atom1_Bond5                 15.9994            4.0   \n\n                            site Row_atom2 site Column_atom1  ...  \\\n15284_super.cif_Atom1_Bond0            2.0               8.0  ...   \n15284_super.cif_Atom1_Bond1            2.0               8.0  ...   \n15284_super.cif_Atom1_Bond2            2.0               8.0  ...   \n15284_super.cif_Atom1_Bond3            2.0               8.0  ...   \n15284_super.cif_Atom1_Bond4            2.0               8.0  ...   \n15284_super.cif_Atom1_Bond5            2.0               8.0  ...   \n\n                            G4_0.005_1.0_1.0_atom2 G4_0.005_1.0_-1.0_atom1  \\\n15284_super.cif_Atom1_Bond0                7.58149                 3.59042   \n15284_super.cif_Atom1_Bond1                7.58149                 3.59042   \n15284_super.cif_Atom1_Bond2                7.58149                 3.59042   \n15284_super.cif_Atom1_Bond3                7.58149                 3.59042   \n15284_super.cif_Atom1_Bond4                7.58149                 3.59042   \n15284_super.cif_Atom1_Bond5                7.58149                 3.59042   \n\n                            G4_0.005_1.0_-1.0_atom2 G4_0.005_4.0_1.0_atom1  \\\n15284_super.cif_Atom1_Bond0                2.622812               3.157582   \n15284_super.cif_Atom1_Bond1                2.622812               3.157582   \n15284_super.cif_Atom1_Bond2                2.622812               3.157582   \n15284_super.cif_Atom1_Bond3                2.622812               3.157582   \n15284_super.cif_Atom1_Bond4                2.622812               3.157582   \n15284_super.cif_Atom1_Bond5                2.622812               3.157582   \n\n                            G4_0.005_4.0_1.0_atom2 G4_0.005_4.0_-1.0_atom1  \\\n15284_super.cif_Atom1_Bond0               3.895691                0.623596   \n15284_super.cif_Atom1_Bond1               3.895691                0.623596   \n15284_super.cif_Atom1_Bond2               3.895691                0.623596   \n15284_super.cif_Atom1_Bond3               3.895691                0.623596   \n15284_super.cif_Atom1_Bond4               3.895691                0.623596   \n15284_super.cif_Atom1_Bond5               3.895691                0.623596   \n\n                            G4_0.005_4.0_-1.0_atom2 coordination_number  \\\n15284_super.cif_Atom1_Bond0                0.327758                   6   \n15284_super.cif_Atom1_Bond1                0.327758                   6   \n15284_super.cif_Atom1_Bond2                0.327758                   6   \n15284_super.cif_Atom1_Bond3                0.327758                   6   \n15284_super.cif_Atom1_Bond4                0.327758                   6   \n15284_super.cif_Atom1_Bond5                0.327758                   6   \n\n                            bond_length volume_fraction  \n15284_super.cif_Atom1_Bond0      1.9495        0.166667  \n15284_super.cif_Atom1_Bond1      1.9495        0.166667  \n15284_super.cif_Atom1_Bond2      1.9495        0.166667  \n15284_super.cif_Atom1_Bond3      1.9495        0.166667  \n15284_super.cif_Atom1_Bond4      1.9495        0.166667  \n15284_super.cif_Atom1_Bond5      1.9495        0.166667  \n\n[6 rows x 51 columns]",
      "text/html": "<div>\n<style scoped>\n    .dataframe tbody tr th:only-of-type {\n        vertical-align: middle;\n    }\n\n    .dataframe tbody tr th {\n        vertical-align: top;\n    }\n\n    .dataframe thead th {\n        text-align: right;\n    }\n</style>\n<table border=\"1\" class=\"dataframe\">\n  <thead>\n    <tr style=\"text-align: right;\">\n      <th></th>\n      <th>structure_name</th>\n      <th>structure_path</th>\n      <th>site Number_atom1</th>\n      <th>site Number_atom2</th>\n      <th>site AtomicWeight_diff</th>\n      <th>site AtomicWeight_atom1</th>\n      <th>site AtomicWeight_atom2</th>\n      <th>site Row_atom1</th>\n      <th>site Row_atom2</th>\n      <th>site Column_atom1</th>\n      <th>...</th>\n      <th>G4_0.005_1.0_1.0_atom2</th>\n      <th>G4_0.005_1.0_-1.0_atom1</th>\n      <th>G4_0.005_1.0_-1.0_atom2</th>\n      <th>G4_0.005_4.0_1.0_atom1</th>\n      <th>G4_0.005_4.0_1.0_atom2</th>\n      <th>G4_0.005_4.0_-1.0_atom1</th>\n      <th>G4_0.005_4.0_-1.0_atom2</th>\n      <th>coordination_number</th>\n      <th>bond_length</th>\n      <th>volume_fraction</th>\n    </tr>\n  </thead>\n  <tbody>\n    <tr>\n      <th>15284_super.cif_Atom1_Bond0</th>\n      <td>15284_super.cif</td>\n      <td>supercells_data</td>\n      <td>26.0</td>\n      <td>8.0</td>\n      <td>39.8456</td>\n      <td>55.845</td>\n      <td>15.9994</td>\n      <td>4.0</td>\n      <td>2.0</td>\n      <td>8.0</td>\n      <td>...</td>\n      <td>7.58149</td>\n      <td>3.59042</td>\n      <td>2.622812</td>\n      <td>3.157582</td>\n      <td>3.895691</td>\n      <td>0.623596</td>\n      <td>0.327758</td>\n      <td>6</td>\n      <td>1.9495</td>\n      <td>0.166667</td>\n    </tr>\n    <tr>\n      <th>15284_super.cif_Atom1_Bond1</th>\n      <td>15284_super.cif</td>\n      <td>supercells_data</td>\n      <td>26.0</td>\n      <td>8.0</td>\n      <td>39.8456</td>\n      <td>55.845</td>\n      <td>15.9994</td>\n      <td>4.0</td>\n      <td>2.0</td>\n      <td>8.0</td>\n      <td>...</td>\n      <td>7.58149</td>\n      <td>3.59042</td>\n      <td>2.622812</td>\n      <td>3.157582</td>\n      <td>3.895691</td>\n      <td>0.623596</td>\n      <td>0.327758</td>\n      <td>6</td>\n      <td>1.9495</td>\n      <td>0.166667</td>\n    </tr>\n    <tr>\n      <th>15284_super.cif_Atom1_Bond2</th>\n      <td>15284_super.cif</td>\n      <td>supercells_data</td>\n      <td>26.0</td>\n      <td>8.0</td>\n      <td>39.8456</td>\n      <td>55.845</td>\n      <td>15.9994</td>\n      <td>4.0</td>\n      <td>2.0</td>\n      <td>8.0</td>\n      <td>...</td>\n      <td>7.58149</td>\n      <td>3.59042</td>\n      <td>2.622812</td>\n      <td>3.157582</td>\n      <td>3.895691</td>\n      <td>0.623596</td>\n      <td>0.327758</td>\n      <td>6</td>\n      <td>1.9495</td>\n      <td>0.166667</td>\n    </tr>\n    <tr>\n      <th>15284_super.cif_Atom1_Bond3</th>\n      <td>15284_super.cif</td>\n      <td>supercells_data</td>\n      <td>26.0</td>\n      <td>8.0</td>\n      <td>39.8456</td>\n      <td>55.845</td>\n      <td>15.9994</td>\n      <td>4.0</td>\n      <td>2.0</td>\n      <td>8.0</td>\n      <td>...</td>\n      <td>7.58149</td>\n      <td>3.59042</td>\n      <td>2.622812</td>\n      <td>3.157582</td>\n      <td>3.895691</td>\n      <td>0.623596</td>\n      <td>0.327758</td>\n      <td>6</td>\n      <td>1.9495</td>\n      <td>0.166667</td>\n    </tr>\n    <tr>\n      <th>15284_super.cif_Atom1_Bond4</th>\n      <td>15284_super.cif</td>\n      <td>supercells_data</td>\n      <td>26.0</td>\n      <td>8.0</td>\n      <td>39.8456</td>\n      <td>55.845</td>\n      <td>15.9994</td>\n      <td>4.0</td>\n      <td>2.0</td>\n      <td>8.0</td>\n      <td>...</td>\n      <td>7.58149</td>\n      <td>3.59042</td>\n      <td>2.622812</td>\n      <td>3.157582</td>\n      <td>3.895691</td>\n      <td>0.623596</td>\n      <td>0.327758</td>\n      <td>6</td>\n      <td>1.9495</td>\n      <td>0.166667</td>\n    </tr>\n    <tr>\n      <th>15284_super.cif_Atom1_Bond5</th>\n      <td>15284_super.cif</td>\n      <td>supercells_data</td>\n      <td>26.0</td>\n      <td>8.0</td>\n      <td>39.8456</td>\n      <td>55.845</td>\n      <td>15.9994</td>\n      <td>4.0</td>\n      <td>2.0</td>\n      <td>8.0</td>\n      <td>...</td>\n      <td>7.58149</td>\n      <td>3.59042</td>\n      <td>2.622812</td>\n      <td>3.157582</td>\n      <td>3.895691</td>\n      <td>0.623596</td>\n      <td>0.327758</td>\n      <td>6</td>\n      <td>1.9495</td>\n      <td>0.166667</td>\n    </tr>\n  </tbody>\n</table>\n<p>6 rows × 51 columns</p>\n</div>"
     },
     "execution_count": 9,
     "metadata": {},
     "output_type": "execute_result"
    }
   ],
   "source": [
    "featurize_dataset(['supercells_data/15284_super.cif'], saveto='test_feat.csv')"
   ],
   "metadata": {
    "collapsed": false,
    "ExecuteTime": {
     "end_time": "2023-11-27T03:49:29.775540Z",
     "start_time": "2023-11-27T03:49:29.651806400Z"
    }
   },
   "id": "73d5c26124ce597d"
  },
  {
   "cell_type": "markdown",
   "source": [
    "## Featurize all data in target folder in a batch system to manage memory better\n",
    "Note: be sure to delete any previous features.csv files as the function will append if the file exists"
   ],
   "metadata": {
    "collapsed": false
   },
   "id": "9c09c9490dfc700a"
  },
  {
   "cell_type": "code",
   "execution_count": 13,
   "outputs": [
    {
     "name": "stdout",
     "output_type": "stream",
     "text": [
      "109 Batches Total: \n",
      "Starting batch  0\n"
     ]
    },
    {
     "name": "stderr",
     "output_type": "stream",
     "text": [
      "C:\\Users\\adamp\\anaconda3\\lib\\site-packages\\pymatgen\\io\\cif.py:1197: UserWarning: Issues encountered while parsing CIF: Some fractional coordinates rounded to ideal values to avoid issues with finite precision.\n",
      "  warnings.warn(\"Issues encountered while parsing CIF: \" + \"\\n\".join(self.warnings))\n"
     ]
    },
    {
     "name": "stdout",
     "output_type": "stream",
     "text": [
      "Saving to File!\n",
      "Time elapsed:  15.834772899746895\n",
      "Starting batch  1\n"
     ]
    },
    {
     "name": "stderr",
     "output_type": "stream",
     "text": [
      "C:\\Users\\adamp\\anaconda3\\lib\\site-packages\\pymatgen\\io\\cif.py:1197: UserWarning: Issues encountered while parsing CIF: Some fractional coordinates rounded to ideal values to avoid issues with finite precision.\n",
      "  warnings.warn(\"Issues encountered while parsing CIF: \" + \"\\n\".join(self.warnings))\n"
     ]
    },
    {
     "name": "stdout",
     "output_type": "stream",
     "text": [
      "Saving to File!\n",
      "Time elapsed:  30.958941199816763\n",
      "Starting batch  2\n"
     ]
    },
    {
     "name": "stderr",
     "output_type": "stream",
     "text": [
      "C:\\Users\\adamp\\anaconda3\\lib\\site-packages\\pymatgen\\io\\cif.py:1197: UserWarning: Issues encountered while parsing CIF: Some fractional coordinates rounded to ideal values to avoid issues with finite precision.\n",
      "  warnings.warn(\"Issues encountered while parsing CIF: \" + \"\\n\".join(self.warnings))\n"
     ]
    },
    {
     "name": "stdout",
     "output_type": "stream",
     "text": [
      "Saving to File!\n",
      "Time elapsed:  48.47410449991003\n",
      "Starting batch  3\n"
     ]
    },
    {
     "name": "stderr",
     "output_type": "stream",
     "text": [
      "C:\\Users\\adamp\\anaconda3\\lib\\site-packages\\pymatgen\\io\\cif.py:1197: UserWarning: Issues encountered while parsing CIF: Some fractional coordinates rounded to ideal values to avoid issues with finite precision.\n",
      "  warnings.warn(\"Issues encountered while parsing CIF: \" + \"\\n\".join(self.warnings))\n"
     ]
    },
    {
     "name": "stdout",
     "output_type": "stream",
     "text": [
      "Saving to File!\n",
      "Time elapsed:  48.20701939985156\n",
      "Starting batch  4\n"
     ]
    },
    {
     "name": "stderr",
     "output_type": "stream",
     "text": [
      "C:\\Users\\adamp\\anaconda3\\lib\\site-packages\\pymatgen\\io\\cif.py:1197: UserWarning: Issues encountered while parsing CIF: Some fractional coordinates rounded to ideal values to avoid issues with finite precision.\n",
      "  warnings.warn(\"Issues encountered while parsing CIF: \" + \"\\n\".join(self.warnings))\n"
     ]
    },
    {
     "name": "stdout",
     "output_type": "stream",
     "text": [
      "Saving to File!\n",
      "Time elapsed:  33.048618000000715\n",
      "Starting batch  5\n"
     ]
    },
    {
     "name": "stderr",
     "output_type": "stream",
     "text": [
      "C:\\Users\\adamp\\anaconda3\\lib\\site-packages\\pymatgen\\io\\cif.py:1197: UserWarning: Issues encountered while parsing CIF: Some fractional coordinates rounded to ideal values to avoid issues with finite precision.\n",
      "  warnings.warn(\"Issues encountered while parsing CIF: \" + \"\\n\".join(self.warnings))\n"
     ]
    },
    {
     "name": "stdout",
     "output_type": "stream",
     "text": [
      "Saving to File!\n",
      "Time elapsed:  5.007014899980277\n",
      "Starting batch  6\n"
     ]
    },
    {
     "name": "stderr",
     "output_type": "stream",
     "text": [
      "C:\\Users\\adamp\\anaconda3\\lib\\site-packages\\pymatgen\\io\\cif.py:1197: UserWarning: Issues encountered while parsing CIF: Some fractional coordinates rounded to ideal values to avoid issues with finite precision.\n",
      "  warnings.warn(\"Issues encountered while parsing CIF: \" + \"\\n\".join(self.warnings))\n"
     ]
    },
    {
     "name": "stdout",
     "output_type": "stream",
     "text": [
      "Saving to File!\n",
      "Time elapsed:  106.1624608002603\n",
      "Starting batch  7\n"
     ]
    },
    {
     "name": "stderr",
     "output_type": "stream",
     "text": [
      "C:\\Users\\adamp\\anaconda3\\lib\\site-packages\\pymatgen\\io\\cif.py:1197: UserWarning: Issues encountered while parsing CIF: Some fractional coordinates rounded to ideal values to avoid issues with finite precision.\n",
      "  warnings.warn(\"Issues encountered while parsing CIF: \" + \"\\n\".join(self.warnings))\n"
     ]
    },
    {
     "name": "stdout",
     "output_type": "stream",
     "text": [
      "Saving to File!\n",
      "Time elapsed:  28.552425399888307\n",
      "Starting batch  8\n"
     ]
    },
    {
     "name": "stderr",
     "output_type": "stream",
     "text": [
      "C:\\Users\\adamp\\anaconda3\\lib\\site-packages\\pymatgen\\io\\cif.py:1197: UserWarning: Issues encountered while parsing CIF: Some fractional coordinates rounded to ideal values to avoid issues with finite precision.\n",
      "  warnings.warn(\"Issues encountered while parsing CIF: \" + \"\\n\".join(self.warnings))\n"
     ]
    },
    {
     "name": "stdout",
     "output_type": "stream",
     "text": [
      "Saving to File!\n",
      "Time elapsed:  25.434288000222296\n",
      "Starting batch  9\n"
     ]
    },
    {
     "name": "stderr",
     "output_type": "stream",
     "text": [
      "C:\\Users\\adamp\\anaconda3\\lib\\site-packages\\pymatgen\\io\\cif.py:1197: UserWarning: Issues encountered while parsing CIF: Some fractional coordinates rounded to ideal values to avoid issues with finite precision.\n",
      "  warnings.warn(\"Issues encountered while parsing CIF: \" + \"\\n\".join(self.warnings))\n"
     ]
    },
    {
     "name": "stdout",
     "output_type": "stream",
     "text": [
      "Saving to File!\n",
      "Time elapsed:  1.7077071997337043\n",
      "Starting batch  10\n"
     ]
    },
    {
     "name": "stderr",
     "output_type": "stream",
     "text": [
      "C:\\Users\\adamp\\anaconda3\\lib\\site-packages\\pymatgen\\io\\cif.py:1197: UserWarning: Issues encountered while parsing CIF: Some fractional coordinates rounded to ideal values to avoid issues with finite precision.\n",
      "  warnings.warn(\"Issues encountered while parsing CIF: \" + \"\\n\".join(self.warnings))\n"
     ]
    },
    {
     "name": "stdout",
     "output_type": "stream",
     "text": [
      "Saving to File!\n",
      "Time elapsed:  146.22171639977023\n",
      "Starting batch  11\n"
     ]
    },
    {
     "name": "stderr",
     "output_type": "stream",
     "text": [
      "C:\\Users\\adamp\\anaconda3\\lib\\site-packages\\pymatgen\\io\\cif.py:1197: UserWarning: Issues encountered while parsing CIF: Some fractional coordinates rounded to ideal values to avoid issues with finite precision.\n",
      "  warnings.warn(\"Issues encountered while parsing CIF: \" + \"\\n\".join(self.warnings))\n"
     ]
    },
    {
     "name": "stdout",
     "output_type": "stream",
     "text": [
      "Saving to File!\n",
      "Time elapsed:  46.829804399982095\n",
      "Starting batch  12\n"
     ]
    },
    {
     "name": "stderr",
     "output_type": "stream",
     "text": [
      "C:\\Users\\adamp\\anaconda3\\lib\\site-packages\\pymatgen\\io\\cif.py:1197: UserWarning: Issues encountered while parsing CIF: Some fractional coordinates rounded to ideal values to avoid issues with finite precision.\n",
      "  warnings.warn(\"Issues encountered while parsing CIF: \" + \"\\n\".join(self.warnings))\n"
     ]
    },
    {
     "name": "stdout",
     "output_type": "stream",
     "text": [
      "Saving to File!\n",
      "Time elapsed:  7.097039999905974\n",
      "Starting batch  13\n",
      "Saving to File!\n",
      "Time elapsed:  15.988384600263089\n",
      "Starting batch  14\n"
     ]
    },
    {
     "name": "stderr",
     "output_type": "stream",
     "text": [
      "C:\\Users\\adamp\\anaconda3\\lib\\site-packages\\pymatgen\\io\\cif.py:1197: UserWarning: Issues encountered while parsing CIF: Some fractional coordinates rounded to ideal values to avoid issues with finite precision.\n",
      "  warnings.warn(\"Issues encountered while parsing CIF: \" + \"\\n\".join(self.warnings))\n"
     ]
    },
    {
     "name": "stdout",
     "output_type": "stream",
     "text": [
      "Saving to File!\n",
      "Time elapsed:  16.827006600331515\n",
      "Starting batch  15\n"
     ]
    },
    {
     "name": "stderr",
     "output_type": "stream",
     "text": [
      "C:\\Users\\adamp\\anaconda3\\lib\\site-packages\\pymatgen\\io\\cif.py:1197: UserWarning: Issues encountered while parsing CIF: Some fractional coordinates rounded to ideal values to avoid issues with finite precision.\n",
      "  warnings.warn(\"Issues encountered while parsing CIF: \" + \"\\n\".join(self.warnings))\n"
     ]
    },
    {
     "name": "stdout",
     "output_type": "stream",
     "text": [
      "Saving to File!\n",
      "Time elapsed:  5.63878390006721\n",
      "Starting batch  16\n"
     ]
    },
    {
     "name": "stderr",
     "output_type": "stream",
     "text": [
      "C:\\Users\\adamp\\anaconda3\\lib\\site-packages\\pymatgen\\io\\cif.py:1197: UserWarning: Issues encountered while parsing CIF: Some fractional coordinates rounded to ideal values to avoid issues with finite precision.\n",
      "  warnings.warn(\"Issues encountered while parsing CIF: \" + \"\\n\".join(self.warnings))\n"
     ]
    },
    {
     "name": "stdout",
     "output_type": "stream",
     "text": [
      "Saving to File!\n",
      "Time elapsed:  19.854101699776947\n",
      "Starting batch  17\n"
     ]
    },
    {
     "name": "stderr",
     "output_type": "stream",
     "text": [
      "C:\\Users\\adamp\\anaconda3\\lib\\site-packages\\pymatgen\\io\\cif.py:1197: UserWarning: Issues encountered while parsing CIF: Some fractional coordinates rounded to ideal values to avoid issues with finite precision.\n",
      "  warnings.warn(\"Issues encountered while parsing CIF: \" + \"\\n\".join(self.warnings))\n"
     ]
    },
    {
     "name": "stdout",
     "output_type": "stream",
     "text": [
      "Saving to File!\n",
      "Time elapsed:  27.253403400070965\n",
      "Starting batch  18\n"
     ]
    },
    {
     "name": "stderr",
     "output_type": "stream",
     "text": [
      "C:\\Users\\adamp\\anaconda3\\lib\\site-packages\\pymatgen\\io\\cif.py:1197: UserWarning: Issues encountered while parsing CIF: Some fractional coordinates rounded to ideal values to avoid issues with finite precision.\n",
      "  warnings.warn(\"Issues encountered while parsing CIF: \" + \"\\n\".join(self.warnings))\n"
     ]
    },
    {
     "name": "stdout",
     "output_type": "stream",
     "text": [
      "Saving to File!\n",
      "Time elapsed:  5.382491699885577\n",
      "Starting batch  19\n",
      "Saving to File!\n",
      "Time elapsed:  49.7216119999066\n",
      "Starting batch  20\n"
     ]
    },
    {
     "name": "stderr",
     "output_type": "stream",
     "text": [
      "C:\\Users\\adamp\\anaconda3\\lib\\site-packages\\pymatgen\\io\\cif.py:1197: UserWarning: Issues encountered while parsing CIF: Some fractional coordinates rounded to ideal values to avoid issues with finite precision.\n",
      "  warnings.warn(\"Issues encountered while parsing CIF: \" + \"\\n\".join(self.warnings))\n"
     ]
    },
    {
     "name": "stdout",
     "output_type": "stream",
     "text": [
      "Saving to File!\n",
      "Time elapsed:  57.391573700122535\n",
      "Starting batch  21\n",
      "Saving to File!\n",
      "Time elapsed:  125.62258609989658\n",
      "Starting batch  22\n",
      "Saving to File!\n",
      "Time elapsed:  4.8110075001604855\n",
      "Starting batch  23\n"
     ]
    },
    {
     "name": "stderr",
     "output_type": "stream",
     "text": [
      "C:\\Users\\adamp\\anaconda3\\lib\\site-packages\\pymatgen\\io\\cif.py:1197: UserWarning: Issues encountered while parsing CIF: Some fractional coordinates rounded to ideal values to avoid issues with finite precision.\n",
      "  warnings.warn(\"Issues encountered while parsing CIF: \" + \"\\n\".join(self.warnings))\n"
     ]
    },
    {
     "name": "stdout",
     "output_type": "stream",
     "text": [
      "Saving to File!\n",
      "Time elapsed:  100.88134530000389\n",
      "Starting batch  24\n"
     ]
    },
    {
     "name": "stderr",
     "output_type": "stream",
     "text": [
      "C:\\Users\\adamp\\anaconda3\\lib\\site-packages\\pymatgen\\io\\cif.py:1197: UserWarning: Issues encountered while parsing CIF: Some fractional coordinates rounded to ideal values to avoid issues with finite precision.\n",
      "  warnings.warn(\"Issues encountered while parsing CIF: \" + \"\\n\".join(self.warnings))\n"
     ]
    },
    {
     "name": "stdout",
     "output_type": "stream",
     "text": [
      "Saving to File!\n",
      "Time elapsed:  33.50944930035621\n",
      "Starting batch  25\n"
     ]
    },
    {
     "name": "stderr",
     "output_type": "stream",
     "text": [
      "C:\\Users\\adamp\\anaconda3\\lib\\site-packages\\pymatgen\\io\\cif.py:1197: UserWarning: Issues encountered while parsing CIF: Some fractional coordinates rounded to ideal values to avoid issues with finite precision.\n",
      "  warnings.warn(\"Issues encountered while parsing CIF: \" + \"\\n\".join(self.warnings))\n"
     ]
    },
    {
     "name": "stdout",
     "output_type": "stream",
     "text": [
      "Saving to File!\n",
      "Time elapsed:  0.3805967001244426\n",
      "Starting batch  26\n"
     ]
    },
    {
     "name": "stderr",
     "output_type": "stream",
     "text": [
      "C:\\Users\\adamp\\anaconda3\\lib\\site-packages\\pymatgen\\io\\cif.py:1197: UserWarning: Issues encountered while parsing CIF: Some fractional coordinates rounded to ideal values to avoid issues with finite precision.\n",
      "  warnings.warn(\"Issues encountered while parsing CIF: \" + \"\\n\".join(self.warnings))\n"
     ]
    },
    {
     "name": "stdout",
     "output_type": "stream",
     "text": [
      "Saving to File!\n",
      "Time elapsed:  1.439369599800557\n",
      "Starting batch  27\n",
      "Saving to File!\n",
      "Time elapsed:  6.120155700016767\n",
      "Starting batch  28\n"
     ]
    },
    {
     "name": "stderr",
     "output_type": "stream",
     "text": [
      "C:\\Users\\adamp\\anaconda3\\lib\\site-packages\\pymatgen\\io\\cif.py:1197: UserWarning: Issues encountered while parsing CIF: Some fractional coordinates rounded to ideal values to avoid issues with finite precision.\n",
      "  warnings.warn(\"Issues encountered while parsing CIF: \" + \"\\n\".join(self.warnings))\n"
     ]
    },
    {
     "name": "stdout",
     "output_type": "stream",
     "text": [
      "Saving to File!\n",
      "Time elapsed:  43.25491929985583\n",
      "Starting batch  29\n",
      "Saving to File!\n",
      "Time elapsed:  0.3634585998952389\n",
      "Starting batch  30\n"
     ]
    },
    {
     "name": "stderr",
     "output_type": "stream",
     "text": [
      "C:\\Users\\adamp\\anaconda3\\lib\\site-packages\\pymatgen\\io\\cif.py:1197: UserWarning: Issues encountered while parsing CIF: Some fractional coordinates rounded to ideal values to avoid issues with finite precision.\n",
      "  warnings.warn(\"Issues encountered while parsing CIF: \" + \"\\n\".join(self.warnings))\n"
     ]
    },
    {
     "name": "stdout",
     "output_type": "stream",
     "text": [
      "Saving to File!\n",
      "Time elapsed:  5.748871400021017\n",
      "Starting batch  31\n"
     ]
    },
    {
     "name": "stderr",
     "output_type": "stream",
     "text": [
      "C:\\Users\\adamp\\anaconda3\\lib\\site-packages\\pymatgen\\io\\cif.py:1197: UserWarning: Issues encountered while parsing CIF: Some fractional coordinates rounded to ideal values to avoid issues with finite precision.\n",
      "  warnings.warn(\"Issues encountered while parsing CIF: \" + \"\\n\".join(self.warnings))\n"
     ]
    },
    {
     "name": "stdout",
     "output_type": "stream",
     "text": [
      "Saving to File!\n",
      "Time elapsed:  1.9997656997293234\n",
      "Starting batch  32\n"
     ]
    },
    {
     "name": "stderr",
     "output_type": "stream",
     "text": [
      "C:\\Users\\adamp\\anaconda3\\lib\\site-packages\\pymatgen\\io\\cif.py:1197: UserWarning: Issues encountered while parsing CIF: Some fractional coordinates rounded to ideal values to avoid issues with finite precision.\n",
      "  warnings.warn(\"Issues encountered while parsing CIF: \" + \"\\n\".join(self.warnings))\n"
     ]
    },
    {
     "name": "stdout",
     "output_type": "stream",
     "text": [
      "Saving to File!\n",
      "Time elapsed:  4.516792099922895\n",
      "Starting batch  33\n",
      "Saving to File!\n",
      "Time elapsed:  0.48768569994717836\n",
      "Starting batch  34\n"
     ]
    },
    {
     "name": "stderr",
     "output_type": "stream",
     "text": [
      "C:\\Users\\adamp\\anaconda3\\lib\\site-packages\\pymatgen\\io\\cif.py:1197: UserWarning: Issues encountered while parsing CIF: Some fractional coordinates rounded to ideal values to avoid issues with finite precision.\n",
      "  warnings.warn(\"Issues encountered while parsing CIF: \" + \"\\n\".join(self.warnings))\n"
     ]
    },
    {
     "name": "stdout",
     "output_type": "stream",
     "text": [
      "Saving to File!\n",
      "Time elapsed:  2.452595899812877\n",
      "Starting batch  35\n"
     ]
    },
    {
     "name": "stderr",
     "output_type": "stream",
     "text": [
      "C:\\Users\\adamp\\anaconda3\\lib\\site-packages\\pymatgen\\io\\cif.py:1197: UserWarning: Issues encountered while parsing CIF: Some fractional coordinates rounded to ideal values to avoid issues with finite precision.\n",
      "  warnings.warn(\"Issues encountered while parsing CIF: \" + \"\\n\".join(self.warnings))\n"
     ]
    },
    {
     "name": "stdout",
     "output_type": "stream",
     "text": [
      "Saving to File!\n",
      "Time elapsed:  0.5773113998584449\n",
      "Starting batch  36\n"
     ]
    },
    {
     "name": "stderr",
     "output_type": "stream",
     "text": [
      "C:\\Users\\adamp\\anaconda3\\lib\\site-packages\\pymatgen\\io\\cif.py:1197: UserWarning: Issues encountered while parsing CIF: Some fractional coordinates rounded to ideal values to avoid issues with finite precision.\n",
      "  warnings.warn(\"Issues encountered while parsing CIF: \" + \"\\n\".join(self.warnings))\n"
     ]
    },
    {
     "name": "stdout",
     "output_type": "stream",
     "text": [
      "Saving to File!\n",
      "Time elapsed:  78.63905119989067\n",
      "Starting batch  37\n"
     ]
    },
    {
     "name": "stderr",
     "output_type": "stream",
     "text": [
      "C:\\Users\\adamp\\anaconda3\\lib\\site-packages\\pymatgen\\io\\cif.py:1197: UserWarning: Issues encountered while parsing CIF: Some fractional coordinates rounded to ideal values to avoid issues with finite precision.\n",
      "  warnings.warn(\"Issues encountered while parsing CIF: \" + \"\\n\".join(self.warnings))\n"
     ]
    },
    {
     "name": "stdout",
     "output_type": "stream",
     "text": [
      "Saving to File!\n",
      "Time elapsed:  6.222334300167859\n",
      "Starting batch  38\n"
     ]
    },
    {
     "name": "stderr",
     "output_type": "stream",
     "text": [
      "C:\\Users\\adamp\\anaconda3\\lib\\site-packages\\pymatgen\\io\\cif.py:1197: UserWarning: Issues encountered while parsing CIF: Some fractional coordinates rounded to ideal values to avoid issues with finite precision.\n",
      "  warnings.warn(\"Issues encountered while parsing CIF: \" + \"\\n\".join(self.warnings))\n"
     ]
    },
    {
     "name": "stdout",
     "output_type": "stream",
     "text": [
      "Saving to File!\n",
      "Time elapsed:  4.512644799891859\n",
      "Starting batch  39\n"
     ]
    },
    {
     "name": "stderr",
     "output_type": "stream",
     "text": [
      "C:\\Users\\adamp\\anaconda3\\lib\\site-packages\\pymatgen\\io\\cif.py:1197: UserWarning: Issues encountered while parsing CIF: Some fractional coordinates rounded to ideal values to avoid issues with finite precision.\n",
      "  warnings.warn(\"Issues encountered while parsing CIF: \" + \"\\n\".join(self.warnings))\n"
     ]
    },
    {
     "name": "stdout",
     "output_type": "stream",
     "text": [
      "Saving to File!\n",
      "Time elapsed:  5.09362219972536\n",
      "Starting batch  40\n"
     ]
    },
    {
     "name": "stderr",
     "output_type": "stream",
     "text": [
      "C:\\Users\\adamp\\anaconda3\\lib\\site-packages\\pymatgen\\io\\cif.py:1197: UserWarning: Issues encountered while parsing CIF: Some fractional coordinates rounded to ideal values to avoid issues with finite precision.\n",
      "  warnings.warn(\"Issues encountered while parsing CIF: \" + \"\\n\".join(self.warnings))\n"
     ]
    },
    {
     "name": "stdout",
     "output_type": "stream",
     "text": [
      "Saving to File!\n",
      "Time elapsed:  3.043943800032139\n",
      "Starting batch  41\n"
     ]
    },
    {
     "name": "stderr",
     "output_type": "stream",
     "text": [
      "C:\\Users\\adamp\\anaconda3\\lib\\site-packages\\pymatgen\\io\\cif.py:1197: UserWarning: Issues encountered while parsing CIF: Some fractional coordinates rounded to ideal values to avoid issues with finite precision.\n",
      "  warnings.warn(\"Issues encountered while parsing CIF: \" + \"\\n\".join(self.warnings))\n"
     ]
    },
    {
     "name": "stdout",
     "output_type": "stream",
     "text": [
      "Saving to File!\n",
      "Time elapsed:  8.29106150008738\n",
      "Starting batch  42\n"
     ]
    },
    {
     "name": "stderr",
     "output_type": "stream",
     "text": [
      "C:\\Users\\adamp\\anaconda3\\lib\\site-packages\\pymatgen\\io\\cif.py:1197: UserWarning: Issues encountered while parsing CIF: Some fractional coordinates rounded to ideal values to avoid issues with finite precision.\n",
      "  warnings.warn(\"Issues encountered while parsing CIF: \" + \"\\n\".join(self.warnings))\n"
     ]
    },
    {
     "name": "stdout",
     "output_type": "stream",
     "text": [
      "Saving to File!\n",
      "Time elapsed:  2.957256400026381\n",
      "Starting batch  43\n"
     ]
    },
    {
     "name": "stderr",
     "output_type": "stream",
     "text": [
      "C:\\Users\\adamp\\anaconda3\\lib\\site-packages\\pymatgen\\io\\cif.py:1197: UserWarning: Issues encountered while parsing CIF: Some fractional coordinates rounded to ideal values to avoid issues with finite precision.\n",
      "  warnings.warn(\"Issues encountered while parsing CIF: \" + \"\\n\".join(self.warnings))\n"
     ]
    },
    {
     "name": "stdout",
     "output_type": "stream",
     "text": [
      "Saving to File!\n",
      "Time elapsed:  11.922840099781752\n",
      "Starting batch  44\n"
     ]
    },
    {
     "name": "stderr",
     "output_type": "stream",
     "text": [
      "C:\\Users\\adamp\\anaconda3\\lib\\site-packages\\pymatgen\\io\\cif.py:1197: UserWarning: Issues encountered while parsing CIF: Some fractional coordinates rounded to ideal values to avoid issues with finite precision.\n",
      "  warnings.warn(\"Issues encountered while parsing CIF: \" + \"\\n\".join(self.warnings))\n"
     ]
    },
    {
     "name": "stdout",
     "output_type": "stream",
     "text": [
      "Saving to File!\n",
      "Time elapsed:  18.789618300274014\n",
      "Starting batch  45\n"
     ]
    },
    {
     "name": "stderr",
     "output_type": "stream",
     "text": [
      "C:\\Users\\adamp\\anaconda3\\lib\\site-packages\\pymatgen\\io\\cif.py:1197: UserWarning: Issues encountered while parsing CIF: Some fractional coordinates rounded to ideal values to avoid issues with finite precision.\n",
      "  warnings.warn(\"Issues encountered while parsing CIF: \" + \"\\n\".join(self.warnings))\n"
     ]
    },
    {
     "name": "stdout",
     "output_type": "stream",
     "text": [
      "Saving to File!\n",
      "Time elapsed:  3.0222664000466466\n",
      "Starting batch  46\n"
     ]
    },
    {
     "name": "stderr",
     "output_type": "stream",
     "text": [
      "C:\\Users\\adamp\\anaconda3\\lib\\site-packages\\pymatgen\\io\\cif.py:1197: UserWarning: Issues encountered while parsing CIF: Some fractional coordinates rounded to ideal values to avoid issues with finite precision.\n",
      "  warnings.warn(\"Issues encountered while parsing CIF: \" + \"\\n\".join(self.warnings))\n"
     ]
    },
    {
     "name": "stdout",
     "output_type": "stream",
     "text": [
      "Saving to File!\n",
      "Time elapsed:  8.958409099839628\n",
      "Starting batch  47\n"
     ]
    },
    {
     "name": "stderr",
     "output_type": "stream",
     "text": [
      "C:\\Users\\adamp\\anaconda3\\lib\\site-packages\\pymatgen\\io\\cif.py:1197: UserWarning: Issues encountered while parsing CIF: Some fractional coordinates rounded to ideal values to avoid issues with finite precision.\n",
      "  warnings.warn(\"Issues encountered while parsing CIF: \" + \"\\n\".join(self.warnings))\n"
     ]
    },
    {
     "name": "stdout",
     "output_type": "stream",
     "text": [
      "Saving to File!\n",
      "Time elapsed:  2.308460199739784\n",
      "Starting batch  48\n",
      "Saving to File!\n",
      "Time elapsed:  0.6186286001466215\n",
      "Starting batch  49\n"
     ]
    },
    {
     "name": "stderr",
     "output_type": "stream",
     "text": [
      "C:\\Users\\adamp\\anaconda3\\lib\\site-packages\\pymatgen\\io\\cif.py:1197: UserWarning: Issues encountered while parsing CIF: Some fractional coordinates rounded to ideal values to avoid issues with finite precision.\n",
      "  warnings.warn(\"Issues encountered while parsing CIF: \" + \"\\n\".join(self.warnings))\n"
     ]
    },
    {
     "name": "stdout",
     "output_type": "stream",
     "text": [
      "Saving to File!\n",
      "Time elapsed:  9.287925499957055\n",
      "Starting batch  50\n"
     ]
    },
    {
     "name": "stderr",
     "output_type": "stream",
     "text": [
      "C:\\Users\\adamp\\anaconda3\\lib\\site-packages\\pymatgen\\io\\cif.py:1197: UserWarning: Issues encountered while parsing CIF: Some fractional coordinates rounded to ideal values to avoid issues with finite precision.\n",
      "  warnings.warn(\"Issues encountered while parsing CIF: \" + \"\\n\".join(self.warnings))\n"
     ]
    },
    {
     "name": "stdout",
     "output_type": "stream",
     "text": [
      "Saving to File!\n",
      "Time elapsed:  5.649377999827266\n",
      "Starting batch  51\n"
     ]
    },
    {
     "name": "stderr",
     "output_type": "stream",
     "text": [
      "C:\\Users\\adamp\\anaconda3\\lib\\site-packages\\pymatgen\\io\\cif.py:1197: UserWarning: Issues encountered while parsing CIF: Some fractional coordinates rounded to ideal values to avoid issues with finite precision.\n",
      "  warnings.warn(\"Issues encountered while parsing CIF: \" + \"\\n\".join(self.warnings))\n"
     ]
    },
    {
     "name": "stdout",
     "output_type": "stream",
     "text": [
      "Saving to File!\n",
      "Time elapsed:  14.01557550020516\n",
      "Starting batch  52\n"
     ]
    },
    {
     "name": "stderr",
     "output_type": "stream",
     "text": [
      "C:\\Users\\adamp\\anaconda3\\lib\\site-packages\\pymatgen\\io\\cif.py:1197: UserWarning: Issues encountered while parsing CIF: Some fractional coordinates rounded to ideal values to avoid issues with finite precision.\n",
      "  warnings.warn(\"Issues encountered while parsing CIF: \" + \"\\n\".join(self.warnings))\n"
     ]
    },
    {
     "name": "stdout",
     "output_type": "stream",
     "text": [
      "Saving to File!\n",
      "Time elapsed:  96.31988970004022\n",
      "Starting batch  53\n"
     ]
    },
    {
     "name": "stderr",
     "output_type": "stream",
     "text": [
      "C:\\Users\\adamp\\anaconda3\\lib\\site-packages\\pymatgen\\io\\cif.py:1197: UserWarning: Issues encountered while parsing CIF: Some fractional coordinates rounded to ideal values to avoid issues with finite precision.\n",
      "  warnings.warn(\"Issues encountered while parsing CIF: \" + \"\\n\".join(self.warnings))\n"
     ]
    },
    {
     "name": "stdout",
     "output_type": "stream",
     "text": [
      "Saving to File!\n",
      "Time elapsed:  40.57678799983114\n",
      "Starting batch  54\n"
     ]
    },
    {
     "name": "stderr",
     "output_type": "stream",
     "text": [
      "C:\\Users\\adamp\\anaconda3\\lib\\site-packages\\pymatgen\\io\\cif.py:1197: UserWarning: Issues encountered while parsing CIF: Some fractional coordinates rounded to ideal values to avoid issues with finite precision.\n",
      "  warnings.warn(\"Issues encountered while parsing CIF: \" + \"\\n\".join(self.warnings))\n"
     ]
    },
    {
     "name": "stdout",
     "output_type": "stream",
     "text": [
      "Saving to File!\n",
      "Time elapsed:  15.54531899979338\n",
      "Starting batch  55\n"
     ]
    },
    {
     "name": "stderr",
     "output_type": "stream",
     "text": [
      "C:\\Users\\adamp\\anaconda3\\lib\\site-packages\\pymatgen\\io\\cif.py:1197: UserWarning: Issues encountered while parsing CIF: Some fractional coordinates rounded to ideal values to avoid issues with finite precision.\n",
      "  warnings.warn(\"Issues encountered while parsing CIF: \" + \"\\n\".join(self.warnings))\n"
     ]
    },
    {
     "name": "stdout",
     "output_type": "stream",
     "text": [
      "Saving to File!\n",
      "Time elapsed:  44.83042890019715\n",
      "Starting batch  56\n"
     ]
    },
    {
     "name": "stderr",
     "output_type": "stream",
     "text": [
      "C:\\Users\\adamp\\anaconda3\\lib\\site-packages\\pymatgen\\io\\cif.py:1197: UserWarning: Issues encountered while parsing CIF: Some fractional coordinates rounded to ideal values to avoid issues with finite precision.\n",
      "  warnings.warn(\"Issues encountered while parsing CIF: \" + \"\\n\".join(self.warnings))\n"
     ]
    },
    {
     "name": "stdout",
     "output_type": "stream",
     "text": [
      "Saving to File!\n",
      "Time elapsed:  7.615060599986464\n",
      "Starting batch  57\n"
     ]
    },
    {
     "name": "stderr",
     "output_type": "stream",
     "text": [
      "C:\\Users\\adamp\\anaconda3\\lib\\site-packages\\pymatgen\\io\\cif.py:1197: UserWarning: Issues encountered while parsing CIF: Some fractional coordinates rounded to ideal values to avoid issues with finite precision.\n",
      "  warnings.warn(\"Issues encountered while parsing CIF: \" + \"\\n\".join(self.warnings))\n"
     ]
    },
    {
     "name": "stdout",
     "output_type": "stream",
     "text": [
      "Saving to File!\n",
      "Time elapsed:  13.390086700208485\n",
      "Starting batch  58\n"
     ]
    },
    {
     "name": "stderr",
     "output_type": "stream",
     "text": [
      "C:\\Users\\adamp\\anaconda3\\lib\\site-packages\\pymatgen\\io\\cif.py:1197: UserWarning: Issues encountered while parsing CIF: Some fractional coordinates rounded to ideal values to avoid issues with finite precision.\n",
      "  warnings.warn(\"Issues encountered while parsing CIF: \" + \"\\n\".join(self.warnings))\n"
     ]
    },
    {
     "name": "stdout",
     "output_type": "stream",
     "text": [
      "Saving to File!\n",
      "Time elapsed:  43.27200910029933\n",
      "Starting batch  59\n",
      "Saving to File!\n",
      "Time elapsed:  20.076902700122446\n",
      "Starting batch  60\n"
     ]
    },
    {
     "name": "stderr",
     "output_type": "stream",
     "text": [
      "C:\\Users\\adamp\\anaconda3\\lib\\site-packages\\pymatgen\\io\\cif.py:1197: UserWarning: Issues encountered while parsing CIF: Some fractional coordinates rounded to ideal values to avoid issues with finite precision.\n",
      "  warnings.warn(\"Issues encountered while parsing CIF: \" + \"\\n\".join(self.warnings))\n"
     ]
    },
    {
     "name": "stdout",
     "output_type": "stream",
     "text": [
      "Saving to File!\n",
      "Time elapsed:  34.61645309999585\n",
      "Starting batch  61\n"
     ]
    },
    {
     "name": "stderr",
     "output_type": "stream",
     "text": [
      "C:\\Users\\adamp\\anaconda3\\lib\\site-packages\\pymatgen\\io\\cif.py:1197: UserWarning: Issues encountered while parsing CIF: Some fractional coordinates rounded to ideal values to avoid issues with finite precision.\n",
      "  warnings.warn(\"Issues encountered while parsing CIF: \" + \"\\n\".join(self.warnings))\n"
     ]
    },
    {
     "name": "stdout",
     "output_type": "stream",
     "text": [
      "Saving to File!\n",
      "Time elapsed:  9.126204600092024\n",
      "Starting batch  62\n"
     ]
    },
    {
     "name": "stderr",
     "output_type": "stream",
     "text": [
      "C:\\Users\\adamp\\anaconda3\\lib\\site-packages\\pymatgen\\io\\cif.py:1197: UserWarning: Issues encountered while parsing CIF: Some fractional coordinates rounded to ideal values to avoid issues with finite precision.\n",
      "  warnings.warn(\"Issues encountered while parsing CIF: \" + \"\\n\".join(self.warnings))\n"
     ]
    },
    {
     "name": "stdout",
     "output_type": "stream",
     "text": [
      "Saving to File!\n",
      "Time elapsed:  23.914512400049716\n",
      "Starting batch  63\n"
     ]
    },
    {
     "name": "stderr",
     "output_type": "stream",
     "text": [
      "C:\\Users\\adamp\\anaconda3\\lib\\site-packages\\pymatgen\\io\\cif.py:1197: UserWarning: Issues encountered while parsing CIF: Some fractional coordinates rounded to ideal values to avoid issues with finite precision.\n",
      "  warnings.warn(\"Issues encountered while parsing CIF: \" + \"\\n\".join(self.warnings))\n"
     ]
    },
    {
     "name": "stdout",
     "output_type": "stream",
     "text": [
      "Saving to File!\n",
      "Time elapsed:  13.023337999824435\n",
      "Starting batch  64\n"
     ]
    },
    {
     "name": "stderr",
     "output_type": "stream",
     "text": [
      "C:\\Users\\adamp\\anaconda3\\lib\\site-packages\\pymatgen\\io\\cif.py:1197: UserWarning: Issues encountered while parsing CIF: Some fractional coordinates rounded to ideal values to avoid issues with finite precision.\n",
      "  warnings.warn(\"Issues encountered while parsing CIF: \" + \"\\n\".join(self.warnings))\n"
     ]
    },
    {
     "name": "stdout",
     "output_type": "stream",
     "text": [
      "Saving to File!\n",
      "Time elapsed:  37.52907490031794\n",
      "Starting batch  65\n"
     ]
    },
    {
     "name": "stderr",
     "output_type": "stream",
     "text": [
      "C:\\Users\\adamp\\anaconda3\\lib\\site-packages\\pymatgen\\io\\cif.py:1197: UserWarning: Issues encountered while parsing CIF: Some fractional coordinates rounded to ideal values to avoid issues with finite precision.\n",
      "  warnings.warn(\"Issues encountered while parsing CIF: \" + \"\\n\".join(self.warnings))\n"
     ]
    },
    {
     "name": "stdout",
     "output_type": "stream",
     "text": [
      "Saving to File!\n",
      "Time elapsed:  10.156881700269878\n",
      "Starting batch  66\n"
     ]
    },
    {
     "name": "stderr",
     "output_type": "stream",
     "text": [
      "C:\\Users\\adamp\\anaconda3\\lib\\site-packages\\pymatgen\\io\\cif.py:1197: UserWarning: Issues encountered while parsing CIF: Some fractional coordinates rounded to ideal values to avoid issues with finite precision.\n",
      "  warnings.warn(\"Issues encountered while parsing CIF: \" + \"\\n\".join(self.warnings))\n"
     ]
    },
    {
     "name": "stdout",
     "output_type": "stream",
     "text": [
      "Saving to File!\n",
      "Time elapsed:  12.832925300113857\n",
      "Starting batch  67\n"
     ]
    },
    {
     "name": "stderr",
     "output_type": "stream",
     "text": [
      "C:\\Users\\adamp\\anaconda3\\lib\\site-packages\\pymatgen\\io\\cif.py:1197: UserWarning: Issues encountered while parsing CIF: Some fractional coordinates rounded to ideal values to avoid issues with finite precision.\n",
      "  warnings.warn(\"Issues encountered while parsing CIF: \" + \"\\n\".join(self.warnings))\n"
     ]
    },
    {
     "name": "stdout",
     "output_type": "stream",
     "text": [
      "Saving to File!\n",
      "Time elapsed:  22.191649800166488\n",
      "Starting batch  68\n"
     ]
    },
    {
     "name": "stderr",
     "output_type": "stream",
     "text": [
      "C:\\Users\\adamp\\anaconda3\\lib\\site-packages\\pymatgen\\io\\cif.py:1197: UserWarning: Issues encountered while parsing CIF: Some fractional coordinates rounded to ideal values to avoid issues with finite precision.\n",
      "  warnings.warn(\"Issues encountered while parsing CIF: \" + \"\\n\".join(self.warnings))\n"
     ]
    },
    {
     "name": "stdout",
     "output_type": "stream",
     "text": [
      "Saving to File!\n",
      "Time elapsed:  18.311538300011307\n",
      "Starting batch  69\n"
     ]
    },
    {
     "name": "stderr",
     "output_type": "stream",
     "text": [
      "C:\\Users\\adamp\\anaconda3\\lib\\site-packages\\pymatgen\\io\\cif.py:1197: UserWarning: Issues encountered while parsing CIF: Some fractional coordinates rounded to ideal values to avoid issues with finite precision.\n",
      "  warnings.warn(\"Issues encountered while parsing CIF: \" + \"\\n\".join(self.warnings))\n"
     ]
    },
    {
     "name": "stdout",
     "output_type": "stream",
     "text": [
      "Saving to File!\n",
      "Time elapsed:  11.749955200124532\n",
      "Starting batch  70\n"
     ]
    },
    {
     "name": "stderr",
     "output_type": "stream",
     "text": [
      "C:\\Users\\adamp\\anaconda3\\lib\\site-packages\\pymatgen\\io\\cif.py:1197: UserWarning: Issues encountered while parsing CIF: Some fractional coordinates rounded to ideal values to avoid issues with finite precision.\n",
      "  warnings.warn(\"Issues encountered while parsing CIF: \" + \"\\n\".join(self.warnings))\n"
     ]
    },
    {
     "name": "stdout",
     "output_type": "stream",
     "text": [
      "Saving to File!\n",
      "Time elapsed:  22.581083699595183\n",
      "Starting batch  71\n"
     ]
    },
    {
     "name": "stderr",
     "output_type": "stream",
     "text": [
      "C:\\Users\\adamp\\anaconda3\\lib\\site-packages\\pymatgen\\io\\cif.py:1197: UserWarning: Issues encountered while parsing CIF: Some fractional coordinates rounded to ideal values to avoid issues with finite precision.\n",
      "  warnings.warn(\"Issues encountered while parsing CIF: \" + \"\\n\".join(self.warnings))\n"
     ]
    },
    {
     "name": "stdout",
     "output_type": "stream",
     "text": [
      "Saving to File!\n",
      "Time elapsed:  65.76808970002457\n",
      "Starting batch  72\n"
     ]
    },
    {
     "name": "stderr",
     "output_type": "stream",
     "text": [
      "C:\\Users\\adamp\\anaconda3\\lib\\site-packages\\pymatgen\\io\\cif.py:1197: UserWarning: Issues encountered while parsing CIF: Some fractional coordinates rounded to ideal values to avoid issues with finite precision.\n",
      "  warnings.warn(\"Issues encountered while parsing CIF: \" + \"\\n\".join(self.warnings))\n"
     ]
    },
    {
     "name": "stdout",
     "output_type": "stream",
     "text": [
      "Saving to File!\n",
      "Time elapsed:  35.775646999944\n",
      "Starting batch  73\n"
     ]
    },
    {
     "name": "stderr",
     "output_type": "stream",
     "text": [
      "C:\\Users\\adamp\\anaconda3\\lib\\site-packages\\pymatgen\\io\\cif.py:1197: UserWarning: Issues encountered while parsing CIF: Some fractional coordinates rounded to ideal values to avoid issues with finite precision.\n",
      "  warnings.warn(\"Issues encountered while parsing CIF: \" + \"\\n\".join(self.warnings))\n"
     ]
    },
    {
     "name": "stdout",
     "output_type": "stream",
     "text": [
      "Saving to File!\n",
      "Time elapsed:  34.263707200065255\n",
      "Starting batch  74\n"
     ]
    },
    {
     "name": "stderr",
     "output_type": "stream",
     "text": [
      "C:\\Users\\adamp\\anaconda3\\lib\\site-packages\\pymatgen\\io\\cif.py:1197: UserWarning: Issues encountered while parsing CIF: Some fractional coordinates rounded to ideal values to avoid issues with finite precision.\n",
      "  warnings.warn(\"Issues encountered while parsing CIF: \" + \"\\n\".join(self.warnings))\n"
     ]
    },
    {
     "name": "stdout",
     "output_type": "stream",
     "text": [
      "Saving to File!\n",
      "Time elapsed:  95.24871309986338\n",
      "Starting batch  75\n",
      "Saving to File!\n"
     ]
    },
    {
     "name": "stderr",
     "output_type": "stream",
     "text": [
      "C:\\Users\\adamp\\anaconda3\\lib\\site-packages\\pymatgen\\io\\cif.py:1197: UserWarning: Issues encountered while parsing CIF: Some fractional coordinates rounded to ideal values to avoid issues with finite precision.\n",
      "  warnings.warn(\"Issues encountered while parsing CIF: \" + \"\\n\".join(self.warnings))\n"
     ]
    },
    {
     "name": "stdout",
     "output_type": "stream",
     "text": [
      "Time elapsed:  0.2150483001023531\n",
      "Starting batch  76\n"
     ]
    },
    {
     "name": "stderr",
     "output_type": "stream",
     "text": [
      "C:\\Users\\adamp\\anaconda3\\lib\\site-packages\\pymatgen\\io\\cif.py:1197: UserWarning: Issues encountered while parsing CIF: Some fractional coordinates rounded to ideal values to avoid issues with finite precision.\n",
      "  warnings.warn(\"Issues encountered while parsing CIF: \" + \"\\n\".join(self.warnings))\n"
     ]
    },
    {
     "name": "stdout",
     "output_type": "stream",
     "text": [
      "Saving to File!\n",
      "Time elapsed:  8.664956000167876\n",
      "Starting batch  77\n"
     ]
    },
    {
     "name": "stderr",
     "output_type": "stream",
     "text": [
      "C:\\Users\\adamp\\anaconda3\\lib\\site-packages\\pymatgen\\io\\cif.py:1197: UserWarning: Issues encountered while parsing CIF: Some fractional coordinates rounded to ideal values to avoid issues with finite precision.\n",
      "  warnings.warn(\"Issues encountered while parsing CIF: \" + \"\\n\".join(self.warnings))\n"
     ]
    },
    {
     "name": "stdout",
     "output_type": "stream",
     "text": [
      "Saving to File!\n",
      "Time elapsed:  22.760689900256693\n",
      "Starting batch  78\n"
     ]
    },
    {
     "name": "stderr",
     "output_type": "stream",
     "text": [
      "C:\\Users\\adamp\\anaconda3\\lib\\site-packages\\pymatgen\\io\\cif.py:1197: UserWarning: Issues encountered while parsing CIF: Some fractional coordinates rounded to ideal values to avoid issues with finite precision.\n",
      "  warnings.warn(\"Issues encountered while parsing CIF: \" + \"\\n\".join(self.warnings))\n"
     ]
    },
    {
     "name": "stdout",
     "output_type": "stream",
     "text": [
      "Saving to File!\n",
      "Time elapsed:  26.63541720015928\n",
      "Starting batch  79\n"
     ]
    },
    {
     "name": "stderr",
     "output_type": "stream",
     "text": [
      "C:\\Users\\adamp\\anaconda3\\lib\\site-packages\\pymatgen\\io\\cif.py:1197: UserWarning: Issues encountered while parsing CIF: Some fractional coordinates rounded to ideal values to avoid issues with finite precision.\n",
      "  warnings.warn(\"Issues encountered while parsing CIF: \" + \"\\n\".join(self.warnings))\n"
     ]
    },
    {
     "name": "stdout",
     "output_type": "stream",
     "text": [
      "Saving to File!\n",
      "Time elapsed:  19.863362000323832\n",
      "Starting batch  80\n"
     ]
    },
    {
     "name": "stderr",
     "output_type": "stream",
     "text": [
      "C:\\Users\\adamp\\anaconda3\\lib\\site-packages\\pymatgen\\io\\cif.py:1197: UserWarning: Issues encountered while parsing CIF: Some fractional coordinates rounded to ideal values to avoid issues with finite precision.\n",
      "  warnings.warn(\"Issues encountered while parsing CIF: \" + \"\\n\".join(self.warnings))\n"
     ]
    },
    {
     "name": "stdout",
     "output_type": "stream",
     "text": [
      "Saving to File!\n",
      "Time elapsed:  53.760095700155944\n",
      "Starting batch  81\n"
     ]
    },
    {
     "name": "stderr",
     "output_type": "stream",
     "text": [
      "C:\\Users\\adamp\\anaconda3\\lib\\site-packages\\pymatgen\\io\\cif.py:1197: UserWarning: Issues encountered while parsing CIF: Some fractional coordinates rounded to ideal values to avoid issues with finite precision.\n",
      "  warnings.warn(\"Issues encountered while parsing CIF: \" + \"\\n\".join(self.warnings))\n"
     ]
    },
    {
     "name": "stdout",
     "output_type": "stream",
     "text": [
      "Saving to File!\n",
      "Time elapsed:  0.6908510997891426\n",
      "Starting batch  82\n"
     ]
    },
    {
     "name": "stderr",
     "output_type": "stream",
     "text": [
      "C:\\Users\\adamp\\anaconda3\\lib\\site-packages\\pymatgen\\io\\cif.py:1197: UserWarning: Issues encountered while parsing CIF: Some fractional coordinates rounded to ideal values to avoid issues with finite precision.\n",
      "  warnings.warn(\"Issues encountered while parsing CIF: \" + \"\\n\".join(self.warnings))\n"
     ]
    },
    {
     "name": "stdout",
     "output_type": "stream",
     "text": [
      "Saving to File!\n",
      "Time elapsed:  78.32298680022359\n",
      "Starting batch  83\n"
     ]
    },
    {
     "name": "stderr",
     "output_type": "stream",
     "text": [
      "C:\\Users\\adamp\\anaconda3\\lib\\site-packages\\pymatgen\\io\\cif.py:1197: UserWarning: Issues encountered while parsing CIF: Some fractional coordinates rounded to ideal values to avoid issues with finite precision.\n",
      "  warnings.warn(\"Issues encountered while parsing CIF: \" + \"\\n\".join(self.warnings))\n"
     ]
    },
    {
     "name": "stdout",
     "output_type": "stream",
     "text": [
      "Saving to File!\n",
      "Time elapsed:  176.970617600251\n",
      "Starting batch  84\n"
     ]
    },
    {
     "name": "stderr",
     "output_type": "stream",
     "text": [
      "C:\\Users\\adamp\\anaconda3\\lib\\site-packages\\pymatgen\\io\\cif.py:1197: UserWarning: Issues encountered while parsing CIF: Some fractional coordinates rounded to ideal values to avoid issues with finite precision.\n",
      "  warnings.warn(\"Issues encountered while parsing CIF: \" + \"\\n\".join(self.warnings))\n"
     ]
    },
    {
     "name": "stdout",
     "output_type": "stream",
     "text": [
      "Saving to File!\n",
      "Time elapsed:  24.825603100005537\n",
      "Starting batch  85\n"
     ]
    },
    {
     "name": "stderr",
     "output_type": "stream",
     "text": [
      "C:\\Users\\adamp\\anaconda3\\lib\\site-packages\\pymatgen\\io\\cif.py:1197: UserWarning: Issues encountered while parsing CIF: Some fractional coordinates rounded to ideal values to avoid issues with finite precision.\n",
      "  warnings.warn(\"Issues encountered while parsing CIF: \" + \"\\n\".join(self.warnings))\n"
     ]
    },
    {
     "name": "stdout",
     "output_type": "stream",
     "text": [
      "Saving to File!\n",
      "Time elapsed:  59.47477600025013\n",
      "Starting batch  86\n"
     ]
    },
    {
     "name": "stderr",
     "output_type": "stream",
     "text": [
      "C:\\Users\\adamp\\anaconda3\\lib\\site-packages\\pymatgen\\io\\cif.py:1197: UserWarning: Issues encountered while parsing CIF: Some fractional coordinates rounded to ideal values to avoid issues with finite precision.\n",
      "  warnings.warn(\"Issues encountered while parsing CIF: \" + \"\\n\".join(self.warnings))\n"
     ]
    },
    {
     "name": "stdout",
     "output_type": "stream",
     "text": [
      "Saving to File!\n",
      "Time elapsed:  79.92517849989235\n",
      "Starting batch  87\n"
     ]
    },
    {
     "name": "stderr",
     "output_type": "stream",
     "text": [
      "C:\\Users\\adamp\\anaconda3\\lib\\site-packages\\pymatgen\\io\\cif.py:1197: UserWarning: Issues encountered while parsing CIF: Some fractional coordinates rounded to ideal values to avoid issues with finite precision.\n",
      "  warnings.warn(\"Issues encountered while parsing CIF: \" + \"\\n\".join(self.warnings))\n"
     ]
    },
    {
     "name": "stdout",
     "output_type": "stream",
     "text": [
      "Saving to File!\n",
      "Time elapsed:  48.58434840012342\n",
      "Starting batch  88\n"
     ]
    },
    {
     "name": "stderr",
     "output_type": "stream",
     "text": [
      "C:\\Users\\adamp\\anaconda3\\lib\\site-packages\\pymatgen\\io\\cif.py:1197: UserWarning: Issues encountered while parsing CIF: Some fractional coordinates rounded to ideal values to avoid issues with finite precision.\n",
      "  warnings.warn(\"Issues encountered while parsing CIF: \" + \"\\n\".join(self.warnings))\n"
     ]
    },
    {
     "name": "stdout",
     "output_type": "stream",
     "text": [
      "Saving to File!\n",
      "Time elapsed:  36.394547999836504\n",
      "Starting batch  89\n",
      "Saving to File!\n",
      "Time elapsed:  105.56187650002539\n",
      "Starting batch  90\n"
     ]
    },
    {
     "name": "stderr",
     "output_type": "stream",
     "text": [
      "C:\\Users\\adamp\\anaconda3\\lib\\site-packages\\pymatgen\\io\\cif.py:1197: UserWarning: Issues encountered while parsing CIF: Some fractional coordinates rounded to ideal values to avoid issues with finite precision.\n",
      "  warnings.warn(\"Issues encountered while parsing CIF: \" + \"\\n\".join(self.warnings))\n"
     ]
    },
    {
     "name": "stdout",
     "output_type": "stream",
     "text": [
      "Saving to File!\n",
      "Time elapsed:  280.45905769988894\n",
      "Starting batch  91\n"
     ]
    },
    {
     "name": "stderr",
     "output_type": "stream",
     "text": [
      "C:\\Users\\adamp\\anaconda3\\lib\\site-packages\\pymatgen\\io\\cif.py:1197: UserWarning: Issues encountered while parsing CIF: Some fractional coordinates rounded to ideal values to avoid issues with finite precision.\n",
      "  warnings.warn(\"Issues encountered while parsing CIF: \" + \"\\n\".join(self.warnings))\n"
     ]
    },
    {
     "name": "stdout",
     "output_type": "stream",
     "text": [
      "Saving to File!\n",
      "Time elapsed:  28.693943900056183\n",
      "Starting batch  92\n"
     ]
    },
    {
     "name": "stderr",
     "output_type": "stream",
     "text": [
      "C:\\Users\\adamp\\anaconda3\\lib\\site-packages\\pymatgen\\io\\cif.py:1197: UserWarning: Issues encountered while parsing CIF: Some fractional coordinates rounded to ideal values to avoid issues with finite precision.\n",
      "  warnings.warn(\"Issues encountered while parsing CIF: \" + \"\\n\".join(self.warnings))\n"
     ]
    },
    {
     "name": "stdout",
     "output_type": "stream",
     "text": [
      "Saving to File!\n",
      "Time elapsed:  36.03228939976543\n",
      "Starting batch  93\n"
     ]
    },
    {
     "name": "stderr",
     "output_type": "stream",
     "text": [
      "C:\\Users\\adamp\\anaconda3\\lib\\site-packages\\pymatgen\\io\\cif.py:1197: UserWarning: Issues encountered while parsing CIF: Some fractional coordinates rounded to ideal values to avoid issues with finite precision.\n",
      "  warnings.warn(\"Issues encountered while parsing CIF: \" + \"\\n\".join(self.warnings))\n"
     ]
    },
    {
     "name": "stdout",
     "output_type": "stream",
     "text": [
      "Saving to File!\n",
      "Time elapsed:  10.928208800032735\n",
      "Starting batch  94\n"
     ]
    },
    {
     "name": "stderr",
     "output_type": "stream",
     "text": [
      "C:\\Users\\adamp\\anaconda3\\lib\\site-packages\\pymatgen\\io\\cif.py:1197: UserWarning: Issues encountered while parsing CIF: Some fractional coordinates rounded to ideal values to avoid issues with finite precision.\n",
      "  warnings.warn(\"Issues encountered while parsing CIF: \" + \"\\n\".join(self.warnings))\n"
     ]
    },
    {
     "name": "stdout",
     "output_type": "stream",
     "text": [
      "Saving to File!\n",
      "Time elapsed:  5.0170090002939105\n",
      "Starting batch  95\n"
     ]
    },
    {
     "name": "stderr",
     "output_type": "stream",
     "text": [
      "C:\\Users\\adamp\\anaconda3\\lib\\site-packages\\pymatgen\\io\\cif.py:1197: UserWarning: Issues encountered while parsing CIF: Some fractional coordinates rounded to ideal values to avoid issues with finite precision.\n",
      "  warnings.warn(\"Issues encountered while parsing CIF: \" + \"\\n\".join(self.warnings))\n"
     ]
    },
    {
     "name": "stdout",
     "output_type": "stream",
     "text": [
      "Saving to File!\n",
      "Time elapsed:  9.515094999689609\n",
      "Starting batch  96\n"
     ]
    },
    {
     "name": "stderr",
     "output_type": "stream",
     "text": [
      "C:\\Users\\adamp\\anaconda3\\lib\\site-packages\\pymatgen\\io\\cif.py:1197: UserWarning: Issues encountered while parsing CIF: Some fractional coordinates rounded to ideal values to avoid issues with finite precision.\n",
      "  warnings.warn(\"Issues encountered while parsing CIF: \" + \"\\n\".join(self.warnings))\n"
     ]
    },
    {
     "name": "stdout",
     "output_type": "stream",
     "text": [
      "Saving to File!\n",
      "Time elapsed:  3.85476309992373\n",
      "Starting batch  97\n"
     ]
    },
    {
     "name": "stderr",
     "output_type": "stream",
     "text": [
      "C:\\Users\\adamp\\anaconda3\\lib\\site-packages\\pymatgen\\io\\cif.py:1197: UserWarning: Issues encountered while parsing CIF: Some fractional coordinates rounded to ideal values to avoid issues with finite precision.\n",
      "  warnings.warn(\"Issues encountered while parsing CIF: \" + \"\\n\".join(self.warnings))\n"
     ]
    },
    {
     "name": "stdout",
     "output_type": "stream",
     "text": [
      "Saving to File!\n",
      "Time elapsed:  10.25018860027194\n",
      "Starting batch  98\n"
     ]
    },
    {
     "name": "stderr",
     "output_type": "stream",
     "text": [
      "C:\\Users\\adamp\\anaconda3\\lib\\site-packages\\pymatgen\\io\\cif.py:1197: UserWarning: Issues encountered while parsing CIF: Some fractional coordinates rounded to ideal values to avoid issues with finite precision.\n",
      "  warnings.warn(\"Issues encountered while parsing CIF: \" + \"\\n\".join(self.warnings))\n"
     ]
    },
    {
     "name": "stdout",
     "output_type": "stream",
     "text": [
      "Saving to File!\n",
      "Time elapsed:  15.896392999682575\n",
      "Starting batch  99\n"
     ]
    },
    {
     "name": "stderr",
     "output_type": "stream",
     "text": [
      "C:\\Users\\adamp\\anaconda3\\lib\\site-packages\\pymatgen\\io\\cif.py:1197: UserWarning: Issues encountered while parsing CIF: Some fractional coordinates rounded to ideal values to avoid issues with finite precision.\n",
      "  warnings.warn(\"Issues encountered while parsing CIF: \" + \"\\n\".join(self.warnings))\n"
     ]
    },
    {
     "name": "stdout",
     "output_type": "stream",
     "text": [
      "Saving to File!\n",
      "Time elapsed:  50.68608390027657\n",
      "Starting batch  100\n"
     ]
    },
    {
     "name": "stderr",
     "output_type": "stream",
     "text": [
      "C:\\Users\\adamp\\anaconda3\\lib\\site-packages\\pymatgen\\io\\cif.py:1197: UserWarning: Issues encountered while parsing CIF: Some fractional coordinates rounded to ideal values to avoid issues with finite precision.\n",
      "  warnings.warn(\"Issues encountered while parsing CIF: \" + \"\\n\".join(self.warnings))\n"
     ]
    },
    {
     "name": "stdout",
     "output_type": "stream",
     "text": [
      "Saving to File!\n",
      "Time elapsed:  15.241548999678344\n",
      "Starting batch  101\n",
      "Saving to File!\n",
      "Time elapsed:  13.320395899936557\n",
      "Starting batch  102\n"
     ]
    },
    {
     "name": "stderr",
     "output_type": "stream",
     "text": [
      "C:\\Users\\adamp\\anaconda3\\lib\\site-packages\\pymatgen\\io\\cif.py:1197: UserWarning: Issues encountered while parsing CIF: Some fractional coordinates rounded to ideal values to avoid issues with finite precision.\n",
      "  warnings.warn(\"Issues encountered while parsing CIF: \" + \"\\n\".join(self.warnings))\n"
     ]
    },
    {
     "name": "stdout",
     "output_type": "stream",
     "text": [
      "Saving to File!\n",
      "Time elapsed:  103.65178920002654\n",
      "Starting batch  103\n"
     ]
    },
    {
     "name": "stderr",
     "output_type": "stream",
     "text": [
      "C:\\Users\\adamp\\anaconda3\\lib\\site-packages\\pymatgen\\io\\cif.py:1197: UserWarning: Issues encountered while parsing CIF: Some fractional coordinates rounded to ideal values to avoid issues with finite precision.\n",
      "  warnings.warn(\"Issues encountered while parsing CIF: \" + \"\\n\".join(self.warnings))\n"
     ]
    },
    {
     "name": "stdout",
     "output_type": "stream",
     "text": [
      "Saving to File!\n",
      "Time elapsed:  17.01253419974819\n",
      "Starting batch  104\n"
     ]
    },
    {
     "name": "stderr",
     "output_type": "stream",
     "text": [
      "C:\\Users\\adamp\\anaconda3\\lib\\site-packages\\pymatgen\\io\\cif.py:1197: UserWarning: Issues encountered while parsing CIF: Some fractional coordinates rounded to ideal values to avoid issues with finite precision.\n",
      "  warnings.warn(\"Issues encountered while parsing CIF: \" + \"\\n\".join(self.warnings))\n"
     ]
    },
    {
     "name": "stdout",
     "output_type": "stream",
     "text": [
      "Saving to File!\n",
      "Time elapsed:  13.531726500019431\n",
      "Starting batch  105\n"
     ]
    },
    {
     "name": "stderr",
     "output_type": "stream",
     "text": [
      "C:\\Users\\adamp\\anaconda3\\lib\\site-packages\\pymatgen\\io\\cif.py:1197: UserWarning: Issues encountered while parsing CIF: Some fractional coordinates rounded to ideal values to avoid issues with finite precision.\n",
      "  warnings.warn(\"Issues encountered while parsing CIF: \" + \"\\n\".join(self.warnings))\n"
     ]
    },
    {
     "name": "stdout",
     "output_type": "stream",
     "text": [
      "Saving to File!\n",
      "Time elapsed:  20.048045299947262\n",
      "Starting batch  106\n"
     ]
    },
    {
     "name": "stderr",
     "output_type": "stream",
     "text": [
      "C:\\Users\\adamp\\anaconda3\\lib\\site-packages\\pymatgen\\io\\cif.py:1197: UserWarning: Issues encountered while parsing CIF: Some fractional coordinates rounded to ideal values to avoid issues with finite precision.\n",
      "  warnings.warn(\"Issues encountered while parsing CIF: \" + \"\\n\".join(self.warnings))\n"
     ]
    },
    {
     "name": "stdout",
     "output_type": "stream",
     "text": [
      "Saving to File!\n",
      "Time elapsed:  0.8928411998786032\n",
      "Starting batch  107\n"
     ]
    },
    {
     "name": "stderr",
     "output_type": "stream",
     "text": [
      "C:\\Users\\adamp\\anaconda3\\lib\\site-packages\\pymatgen\\io\\cif.py:1197: UserWarning: Issues encountered while parsing CIF: Some fractional coordinates rounded to ideal values to avoid issues with finite precision.\n",
      "  warnings.warn(\"Issues encountered while parsing CIF: \" + \"\\n\".join(self.warnings))\n"
     ]
    },
    {
     "name": "stdout",
     "output_type": "stream",
     "text": [
      "Saving to File!\n",
      "Time elapsed:  3.874232300091535\n",
      "Starting batch  108\n",
      "Saving to File!\n",
      "Time elapsed:  4.528739899862558\n",
      "Files processed:  541\n"
     ]
    }
   ],
   "source": [
    "# Batching files to reduce memory use\n",
    "BATCH_SIZE = 5\n",
    "\n",
    "# Load all CIF files in directory\n",
    "file_type = \"_super.cif\"  # Use files with this ending in input_dir\n",
    "input_dir = \"supercells_data/\"  # Input data directory\n",
    "output_dir = \"features/\"  # Output directory\n",
    "filename = \"features.csv\"  # Output filename for features\n",
    "\n",
    "if not os.path.isdir(output_dir):\n",
    "    os.mkdir(output_dir)\n",
    "elif os.path.isdir(output_dir+filename):\n",
    "    os.remove(output_dir+filename)  # Remove existing file\n",
    "\n",
    "files = os.listdir(input_dir)\n",
    "cif_files = [input_dir+file for file in files if file.endswith(file_type)]\n",
    "\n",
    "# Featurize all sturctures\n",
    "n_batches = int(np.ceil(len(cif_files)/BATCH_SIZE))\n",
    "if os.path.isfile(filename):  # Clean up any previous runs\n",
    "    os.remove(filename)\n",
    "    \n",
    "print(\"{} Batches Total: \".format(n_batches))\n",
    "for b in range(n_batches):\n",
    "    print(\"Starting batch \", b)\n",
    "    # Define which files to \n",
    "    idx_start = int(b*BATCH_SIZE)\n",
    "    idx_end = int(min((b+1)*BATCH_SIZE, len(cif_files)))\n",
    "    start = timeit.default_timer()\n",
    "    data_frame = featurize_dataset(cif_files[idx_start:idx_end], saveto=output_dir+filename)\n",
    "    print(\"Time elapsed: \", timeit.default_timer() - start)\n",
    "\n",
    "print(\"Files processed: \", len(cif_files))"
   ],
   "metadata": {
    "collapsed": false,
    "ExecuteTime": {
     "end_time": "2023-11-27T04:53:51.464265400Z",
     "start_time": "2023-11-27T03:57:39.537501400Z"
    }
   },
   "id": "9f4b24a27d79356c"
  },
  {
   "cell_type": "code",
   "execution_count": 3,
   "id": "10b0813d37aa1dc",
   "metadata": {
    "ExecuteTime": {
     "end_time": "2023-10-27T04:36:50.429352600Z",
     "start_time": "2023-10-27T04:36:50.413806Z"
    }
   },
   "outputs": [],
   "source": [
    "   ## 1. Bag of Bonds\n",
    "\"\"\"\n",
    "print(\"bag of bonds\")\n",
    "BB = BagofBonds()\n",
    "for index, row in data.iterrows():\n",
    "    structure = row[\"structure\"]\n",
    "    if verbos:\n",
    "        print(index)\n",
    "    BB.fit([structure])\n",
    "    feat = BB.bag(structure)\n",
    "    print(feat)\n",
    "    site = list(feat.keys())\n",
    "    print(site[0])\n",
    "    print(structure[site])\n",
    "\n",
    "print(\"bond fraction\")\n",
    "BF = BondFractions()\n",
    "for index, row in data.iterrows():\n",
    "    structure = row[\"structure\"]\n",
    "    if verbos:\n",
    "        print(index)\n",
    "    feat = BF.fit_transform([structure])\n",
    "    #print(feat)\n",
    "    #print(BF.feature_labels())\n",
    "\"\"\"\n",
    "## 5. site difference stats \n",
    "\"\"\"\n",
    "print(\"LPD\")\n",
    "LPD = LocalPropertyStatsNew(properties=property_list)\n",
    "colnames = LPD._generate_column_labels(multiindex=False, return_errors=False)\n",
    "for index, row in data.iterrows():\n",
    "    structure = row[\"structure\"]\n",
    "    if verbos:\n",
    "        print(index)\n",
    "    for atomidx in range(structure.num_sites):\n",
    "        feat = LPD.featurize(structure, idx=atomidx)\n",
    "        site_name = \"%s_%i\" % (index, atomidx)\n",
    "        site_features[site_name].update(dict(zip(colnames, feat)))\n",
    "\"\"\"\n",
    "    "
   ]
  }
 ],
 "metadata": {
  "kernelspec": {
   "display_name": "Python 3 (ipykernel)",
   "language": "python",
   "name": "python3"
  },
  "language_info": {
   "codemirror_mode": {
    "name": "ipython",
    "version": 3
   },
   "file_extension": ".py",
   "mimetype": "text/x-python",
   "name": "python",
   "nbconvert_exporter": "python",
   "pygments_lexer": "ipython3",
   "version": "3.10.9"
  }
 },
 "nbformat": 4,
 "nbformat_minor": 5
}

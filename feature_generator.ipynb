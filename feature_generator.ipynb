{
 "cells": [
  {
   "cell_type": "code",
   "execution_count": 2,
   "id": "b8dd23f5d53b0d7f",
   "metadata": {
    "ExecuteTime": {
     "end_time": "2023-12-06T22:40:28.669753700Z",
     "start_time": "2023-12-06T22:40:21.735308500Z"
    }
   },
   "outputs": [],
   "source": [
    "from pathlib import Path\n",
    "import os\n",
    "import numpy as np\n",
    "import pandas as pd\n",
    "import timeit\n",
    "from pymatgen.io.cif import CifParser\n",
    "# Bond Features\n",
    "from matminer.featurizers.site import GaussianSymmFunc, SiteElementalProperty,AGNIFingerprints\n",
    "\n",
    "# Structure Features\n",
    "from matminer.featurizers.structure.bonding import GlobalInstabilityIndex, StructuralHeterogeneity\n",
    "from matminer.featurizers.structure.composite import JarvisCFID\n",
    "from matminer.featurizers.structure.order import StructuralComplexity, MaximumPackingEfficiency\n",
    "\n",
    "\n",
    "BOND_MAX_DIST = 2.85  # Max distance for a bond in angstroms"
   ]
  },
  {
   "cell_type": "code",
   "execution_count": 3,
   "id": "b47056a4e4a29279",
   "metadata": {
    "ExecuteTime": {
     "end_time": "2023-12-06T22:40:28.704559600Z",
     "start_time": "2023-12-06T22:40:28.687348Z"
    }
   },
   "outputs": [],
   "source": [
    "def featurize_bonds(cifs: list, verbose=False, saveto: str = \"features.csv\") -> pd.DataFrame:\n",
    "    \"\"\"Featurize crystal structures using elemetal, geometric, and chemical descriptors for local environments.\n",
    "\n",
    "    :params cifs: list of paths to crystal structure in cif format\n",
    "    :params verbos: prints each step of the processing\n",
    "    :params saveto: filename to save the generated features\n",
    "    \"\"\"\n",
    "    \n",
    "    ## Process Input Files\n",
    "    if verbose: print(\"Parsing CIFs\")\n",
    "    features = {}\n",
    "    for cif in cifs:\n",
    "        structure = CifParser(cif).get_structures()[0]\n",
    "        structure_name = Path(cif).name\n",
    "        features[structure_name] = {}\n",
    "        features[structure_name][\"structure\"] = structure\n",
    "        features[structure_name][\"structure_name\"] = Path(cif).name\n",
    "        features[structure_name][\"structure_path\"] = str(Path(cif).parent)\n",
    "    data = pd.DataFrame.from_dict(features).T\n",
    "    \n",
    "    ### SITE PROPERTIES ###\n",
    "    # These will be paired as features\n",
    "    ## 1. Initialize the dictionary for each site\n",
    "    if verbose: print(\"Assembling site property dictionary\")\n",
    "    site_features = {}\n",
    "    for index, row in data.iterrows():\n",
    "        structure = row[\"structure\"]\n",
    "        for atomidx in range(structure.num_sites):\n",
    "            site_name = \"%s_%i\" % (index, atomidx)\n",
    "            site_features[site_name] = {}\n",
    "            site_features[site_name] = {\"structure_name\": row[\"structure_name\"]}\n",
    "            site_features[site_name].update({\"structure_path\": row[\"structure_path\"]})\n",
    "\n",
    "    ## Loop through Site featurizers\n",
    "    property_list = (\"Number\", \"AtomicWeight\", \"Row\", \"Column\", \"Electronegativity\", \"CovalentRadius\")  # For SiteElementalProperty function\n",
    "    site_feature_functions = [SiteElementalProperty(properties=property_list), AGNIFingerprints(cutoff=5, directions=[None]), GaussianSymmFunc(cutoff=5)]\n",
    "\n",
    "    for featurizer in site_feature_functions:\n",
    "        if verbose: print(\"Using: \", featurizer)\n",
    "        colnames = featurizer._generate_column_labels(multiindex=False, return_errors=False)\n",
    "        for index, row in data.iterrows():\n",
    "            structure = row[\"structure\"]\n",
    "            if verbose: print(index)\n",
    "            for atomidx in range(structure.num_sites):\n",
    "                feat = featurizer.featurize(structure, idx=atomidx)\n",
    "                site_name = \"%s_%i\" % (index, atomidx)\n",
    "                site_features[site_name].update(dict(zip(colnames, feat)))\n",
    " \n",
    "    ### BOND PAIRS AND BOND PROPERTIES ###\n",
    "    if verbose: print(\"Generating bond library\")\n",
    "    structures_bonds = {}  # Store bond pairs\n",
    "    bond_properties = {}  # Store bond properties\n",
    "    for index, row in data.iterrows():\n",
    "        if verbose: print(index)\n",
    "        structure = row[\"structure\"]\n",
    "        structures_bonds[index] = []\n",
    "        bond_properties[index] = []\n",
    "        neighbors = structure.get_neighbor_list(BOND_MAX_DIST)  # (center_indices, points_indices, offset_vectors, distances)\n",
    "        for bond in range(len(neighbors[0])):\n",
    "            if neighbors[0][bond] < neighbors[1][bond]:  # Don't double count bonds\n",
    "                # Bonded indices\n",
    "                structures_bonds[index].append((neighbors[0][bond], neighbors[1][bond]))\n",
    "                # Bond properties (coord-num, bond-len)\n",
    "                coord_num = list(neighbors[0]).count(neighbors[0][bond])\n",
    "                bond_properties[index].append((coord_num, neighbors[3][bond]))\n",
    "\n",
    "    # Build Dataframe by bonds\n",
    "    if verbose: print(\"Copying over data to final dataframe\")\n",
    "    delta_properties = [\"site Electronegativity\", \"site AtomicWeight\"]  # For these properties, take the difference as a feature\n",
    "    bond_features = {}  # Final dictionary for saving features format: bond_features['material_bond#'][\"feature_name\"] = data\n",
    "    for index, row in data.iterrows():\n",
    "        bond_len_sum = 0\n",
    "        if verbose: print(index)\n",
    "        for bond_idx in range(len(structures_bonds[index])):\n",
    "            bond = structures_bonds[index][bond_idx]\n",
    "            bond_name = \"%s_Atom%i_Bond%i\" % (index, bond[0], bond_idx)\n",
    "            bond_features[bond_name] = {}\n",
    "            site1_name = \"%s_%i\" % (index, bond[0])\n",
    "            site2_name = \"%s_%i\" % (index, bond[1])\n",
    "            \n",
    "            # Add Site features to dictionary\n",
    "            # Order putting heavier element first\n",
    "            # TODO: this works but is not very efficient, save data directly to final dataframe in the end?\n",
    "            site_feat_labels = site_features[site1_name].keys()\n",
    "            site_feat_labels = [k for k in site_feat_labels if k not in [\"structure_path\", \"structure_name\"]]\n",
    "            bond_features[bond_name][\"structure_name\"] = site_features[site1_name][\"structure_name\"]\n",
    "            bond_features[bond_name][\"structure_path\"] = site_features[site1_name][\"structure_path\"]\n",
    "            if site_features[site1_name][\"site AtomicWeight\"] > site_features[site2_name][\"site AtomicWeight\"]:\n",
    "                for k in site_feat_labels:\n",
    "                    if k in delta_properties:\n",
    "                        bond_features[bond_name][k+\"_diff\"] = site_features[site1_name][k] - site_features[site2_name][k]\n",
    "                    bond_features[bond_name][k+\"_atom1\"] = site_features[site1_name][k]\n",
    "                    bond_features[bond_name][k+\"_atom2\"] = site_features[site2_name][k]\n",
    "            else:\n",
    "                for k in site_feat_labels:\n",
    "                    if k in delta_properties:\n",
    "                        bond_features[bond_name][k+\"_diff\"] = site_features[site2_name][k] - site_features[site1_name][k]\n",
    "                    bond_features[bond_name][k+\"_atom1\"] = site_features[site2_name][k]\n",
    "                    bond_features[bond_name][k+\"_atom2\"] = site_features[site1_name][k]\n",
    "                    \n",
    "            # Insert bond properties        \n",
    "            coord_num, bond_len = bond_properties[index][bond_idx]\n",
    "            bond_features[bond_name][\"coordination_number\"] = coord_num\n",
    "            bond_features[bond_name][\"bond_length\"] = bond_len\n",
    "            bond_len_sum += bond_len  # TODO: There's a bug somewhere around here\n",
    "            \n",
    "        # Now add each bond's fraction of lattice volume\n",
    "        for bond_idx in range(len(structures_bonds[index])):\n",
    "            bond = structures_bonds[index][bond_idx]\n",
    "            bond_name = \"%s_Atom%i_Bond%i\" % (index, bond[0], bond_idx)\n",
    "            _, bond_len = bond_properties[index][bond_idx]\n",
    "            bond_features[bond_name][\"volume_fraction\"] = bond_len/bond_len_sum\n",
    "    \n",
    "    ### SAVE FILE\n",
    "    bond_feat_df = pd.DataFrame.from_dict(bond_features).T\n",
    "    if os.path.isfile(saveto+\"_bond.csv\"):  # Append\n",
    "        bond_feat_df.to_csv(saveto+\"_bond.csv\", mode='a', header=False)\n",
    "    else:  # New file\n",
    "        bond_feat_df.to_csv(saveto+\"_bond.csv\")\n",
    "        \n",
    "    return bond_feat_df\n"
   ]
  },
  {
   "cell_type": "code",
   "execution_count": 11,
   "outputs": [],
   "source": [
    "def featurize_structure(cifs: list, verbose=False, saveto: str = \"features.csv\") -> pd.DataFrame:\n",
    "    ## Process Input Files\n",
    "    if verbose: print(\"Parsing CIFs\")\n",
    "    features = {}\n",
    "    for cif in cifs:\n",
    "        structure = CifParser(cif).get_structures()[0]\n",
    "        structure_name = Path(cif).name\n",
    "        features[structure_name] = {}\n",
    "        features[structure_name][\"structure\"] = structure\n",
    "        features[structure_name][\"structure_name\"] = Path(cif).name\n",
    "        features[structure_name][\"structure_path\"] = str(Path(cif).parent)\n",
    "    data = pd.DataFrame.from_dict(features).T\n",
    "    \n",
    "    ### STRUCTURE PROPERTIES ###\n",
    "    ## 1. Initialize the dictionary for each site\n",
    "    if verbose: print(\"Assembling Structure property dictionary\")\n",
    "    structure_features = {}\n",
    "    for index, row in data.iterrows():\n",
    "        structure = row[\"structure\"]\n",
    "        structure_features[index] = {}\n",
    "        structure_features[index] = {\"structure_name\": row[\"structure_name\"]}\n",
    "        structure_features[index].update({\"structure_path\": row[\"structure_path\"]})\n",
    "\n",
    "    ## Structure Featurizers\n",
    "    structure_feature_functions = [ StructuralComplexity(), JarvisCFID(use_chem=False, use_rdf=False, use_chg=False, use_adf=False, use_ddf=False, use_nn=False), MaximumPackingEfficiency()]\n",
    "    # TODO: add [StructuralHeterogeneity(stats=('range', 'avg_dev')), MaximumPackingEfficiency()]\n",
    "    for index, row in data.iterrows():\n",
    "        structure = row[\"structure\"]\n",
    "        for featurizer in structure_feature_functions:\n",
    "            if verbose: print(featurizer)\n",
    "            colnames = featurizer._generate_column_labels(multiindex=False, return_errors=False)\n",
    "            feat = featurizer.featurize(structure)\n",
    "            structure_features[index].update(dict(zip(colnames, feat)))\n",
    "            # TODO: Structural Complexity only first entry, select certain features from others\n",
    "\n",
    "    structure_feat_df = pd.DataFrame.from_dict(structure_features).T\n",
    "    if os.path.isfile(saveto+\"_structure.csv\"):  # Append\n",
    "        structure_feat_df.to_csv(saveto+\"_structure.csv\", mode='a', header=False)\n",
    "    else:  # New file\n",
    "        structure_feat_df.to_csv(saveto+\"_structure.csv\")\n",
    "        \n",
    "    return structure_feat_df"
   ],
   "metadata": {
    "collapsed": false,
    "ExecuteTime": {
     "end_time": "2023-12-06T23:24:38.013234400Z",
     "start_time": "2023-12-06T23:24:38.003209800Z"
    }
   },
   "id": "29b278619c6a9c1a"
  },
  {
   "cell_type": "code",
   "execution_count": 12,
   "outputs": [],
   "source": [
    "def remove_files(filename):\n",
    "    if os.path.isfile(filename+\"_bond.csv\"):  # Clean up any previous runs\n",
    "        os.remove(filename+\"_bond.csv\")\n",
    "    if os.path.isfile(filename+\"_structure.csv\"):  # Clean up any previous runs\n",
    "        os.remove(filename+\"_structure.csv\")"
   ],
   "metadata": {
    "collapsed": false,
    "ExecuteTime": {
     "end_time": "2023-12-06T23:24:38.483475400Z",
     "start_time": "2023-12-06T23:24:38.463283900Z"
    }
   },
   "id": "dd18772683168af2"
  },
  {
   "cell_type": "markdown",
   "source": [
    "## Test Featurizing with a single file"
   ],
   "metadata": {
    "collapsed": false
   },
   "id": "78038e3161c7b03c"
  },
  {
   "cell_type": "code",
   "execution_count": 13,
   "outputs": [
    {
     "data": {
      "text/plain": "                jml_density jml_log_vpa jml_pack_frac   jml_vpa  \\\n15284_super.cif   11.854676    0.763711       2.47272  6.800585   \n\n                max packing efficiency structural complexity per atom  \\\n15284_super.cif                0.44692                       1.370951   \n\n                structural complexity per cell   structure_name  \\\n15284_super.cif                       6.854753  15284_super.cif   \n\n                  structure_path  \n15284_super.cif  supercells_data  ",
      "text/html": "<div>\n<style scoped>\n    .dataframe tbody tr th:only-of-type {\n        vertical-align: middle;\n    }\n\n    .dataframe tbody tr th {\n        vertical-align: top;\n    }\n\n    .dataframe thead th {\n        text-align: right;\n    }\n</style>\n<table border=\"1\" class=\"dataframe\">\n  <thead>\n    <tr style=\"text-align: right;\">\n      <th></th>\n      <th>jml_density</th>\n      <th>jml_log_vpa</th>\n      <th>jml_pack_frac</th>\n      <th>jml_vpa</th>\n      <th>max packing efficiency</th>\n      <th>structural complexity per atom</th>\n      <th>structural complexity per cell</th>\n      <th>structure_name</th>\n      <th>structure_path</th>\n    </tr>\n  </thead>\n  <tbody>\n    <tr>\n      <th>15284_super.cif</th>\n      <td>11.854676</td>\n      <td>0.763711</td>\n      <td>2.47272</td>\n      <td>6.800585</td>\n      <td>0.44692</td>\n      <td>1.370951</td>\n      <td>6.854753</td>\n      <td>15284_super.cif</td>\n      <td>supercells_data</td>\n    </tr>\n  </tbody>\n</table>\n</div>"
     },
     "execution_count": 13,
     "metadata": {},
     "output_type": "execute_result"
    }
   ],
   "source": [
    "remove_files('test_feat')\n",
    "bond_test = featurize_bonds(['supercells_data/15284_super.cif'], saveto='test_feat')\n",
    "struc_test = featurize_structure(['supercells_data/15284_super.cif'], saveto='test_feat')\n",
    "struc_test.head()"
   ],
   "metadata": {
    "collapsed": false,
    "ExecuteTime": {
     "end_time": "2023-12-06T23:24:39.306850Z",
     "start_time": "2023-12-06T23:24:39.000284200Z"
    }
   },
   "id": "73d5c26124ce597d"
  },
  {
   "cell_type": "markdown",
   "source": [
    "## Featurize all data in target folder in a batch system to manage memory better\n",
    "Note: be sure to delete any previous features.csv files as the function will append if the file exists"
   ],
   "metadata": {
    "collapsed": false
   },
   "id": "9c09c9490dfc700a"
  },
  {
   "cell_type": "code",
   "execution_count": null,
   "outputs": [
    {
     "name": "stdout",
     "output_type": "stream",
     "text": [
      "109 Batches Total: \n",
      "Starting batch  0\n"
     ]
    },
    {
     "name": "stderr",
     "output_type": "stream",
     "text": [
      "C:\\Users\\adamp\\anaconda3\\lib\\site-packages\\pymatgen\\io\\cif.py:1197: UserWarning: Issues encountered while parsing CIF: Some fractional coordinates rounded to ideal values to avoid issues with finite precision.\n",
      "  warnings.warn(\"Issues encountered while parsing CIF: \" + \"\\n\".join(self.warnings))\n"
     ]
    },
    {
     "name": "stdout",
     "output_type": "stream",
     "text": [
      "Time elapsed:  106.54788049962372\n",
      "Starting batch  1\n"
     ]
    },
    {
     "name": "stderr",
     "output_type": "stream",
     "text": [
      "C:\\Users\\adamp\\anaconda3\\lib\\site-packages\\pymatgen\\io\\cif.py:1197: UserWarning: Issues encountered while parsing CIF: Some fractional coordinates rounded to ideal values to avoid issues with finite precision.\n",
      "  warnings.warn(\"Issues encountered while parsing CIF: \" + \"\\n\".join(self.warnings))\n"
     ]
    },
    {
     "name": "stdout",
     "output_type": "stream",
     "text": [
      "Time elapsed:  186.8581594005227\n",
      "Starting batch  2\n"
     ]
    },
    {
     "name": "stderr",
     "output_type": "stream",
     "text": [
      "C:\\Users\\adamp\\anaconda3\\lib\\site-packages\\pymatgen\\io\\cif.py:1197: UserWarning: Issues encountered while parsing CIF: Some fractional coordinates rounded to ideal values to avoid issues with finite precision.\n",
      "  warnings.warn(\"Issues encountered while parsing CIF: \" + \"\\n\".join(self.warnings))\n"
     ]
    },
    {
     "name": "stdout",
     "output_type": "stream",
     "text": [
      "Time elapsed:  222.9998145001009\n",
      "Starting batch  3\n"
     ]
    },
    {
     "name": "stderr",
     "output_type": "stream",
     "text": [
      "C:\\Users\\adamp\\anaconda3\\lib\\site-packages\\pymatgen\\io\\cif.py:1197: UserWarning: Issues encountered while parsing CIF: Some fractional coordinates rounded to ideal values to avoid issues with finite precision.\n",
      "  warnings.warn(\"Issues encountered while parsing CIF: \" + \"\\n\".join(self.warnings))\n"
     ]
    },
    {
     "name": "stdout",
     "output_type": "stream",
     "text": [
      "Time elapsed:  213.87902210000902\n",
      "Starting batch  4\n"
     ]
    },
    {
     "name": "stderr",
     "output_type": "stream",
     "text": [
      "C:\\Users\\adamp\\anaconda3\\lib\\site-packages\\pymatgen\\io\\cif.py:1197: UserWarning: Issues encountered while parsing CIF: Some fractional coordinates rounded to ideal values to avoid issues with finite precision.\n",
      "  warnings.warn(\"Issues encountered while parsing CIF: \" + \"\\n\".join(self.warnings))\n"
     ]
    },
    {
     "name": "stdout",
     "output_type": "stream",
     "text": [
      "Time elapsed:  190.0914074005559\n",
      "Starting batch  5\n"
     ]
    },
    {
     "name": "stderr",
     "output_type": "stream",
     "text": [
      "C:\\Users\\adamp\\anaconda3\\lib\\site-packages\\pymatgen\\io\\cif.py:1197: UserWarning: Issues encountered while parsing CIF: Some fractional coordinates rounded to ideal values to avoid issues with finite precision.\n",
      "  warnings.warn(\"Issues encountered while parsing CIF: \" + \"\\n\".join(self.warnings))\n"
     ]
    },
    {
     "name": "stdout",
     "output_type": "stream",
     "text": [
      "Time elapsed:  33.39806959964335\n",
      "Starting batch  6\n"
     ]
    },
    {
     "name": "stderr",
     "output_type": "stream",
     "text": [
      "C:\\Users\\adamp\\anaconda3\\lib\\site-packages\\pymatgen\\io\\cif.py:1197: UserWarning: Issues encountered while parsing CIF: Some fractional coordinates rounded to ideal values to avoid issues with finite precision.\n",
      "  warnings.warn(\"Issues encountered while parsing CIF: \" + \"\\n\".join(self.warnings))\n"
     ]
    },
    {
     "name": "stdout",
     "output_type": "stream",
     "text": [
      "Time elapsed:  345.1488674003631\n",
      "Starting batch  7\n"
     ]
    },
    {
     "name": "stderr",
     "output_type": "stream",
     "text": [
      "C:\\Users\\adamp\\anaconda3\\lib\\site-packages\\pymatgen\\io\\cif.py:1197: UserWarning: Issues encountered while parsing CIF: Some fractional coordinates rounded to ideal values to avoid issues with finite precision.\n",
      "  warnings.warn(\"Issues encountered while parsing CIF: \" + \"\\n\".join(self.warnings))\n"
     ]
    },
    {
     "name": "stdout",
     "output_type": "stream",
     "text": [
      "Time elapsed:  172.22175259981304\n",
      "Starting batch  8\n"
     ]
    },
    {
     "name": "stderr",
     "output_type": "stream",
     "text": [
      "C:\\Users\\adamp\\anaconda3\\lib\\site-packages\\pymatgen\\io\\cif.py:1197: UserWarning: Issues encountered while parsing CIF: Some fractional coordinates rounded to ideal values to avoid issues with finite precision.\n",
      "  warnings.warn(\"Issues encountered while parsing CIF: \" + \"\\n\".join(self.warnings))\n"
     ]
    },
    {
     "name": "stdout",
     "output_type": "stream",
     "text": [
      "Time elapsed:  123.56311890017241\n",
      "Starting batch  9\n"
     ]
    },
    {
     "name": "stderr",
     "output_type": "stream",
     "text": [
      "C:\\Users\\adamp\\anaconda3\\lib\\site-packages\\pymatgen\\io\\cif.py:1197: UserWarning: Issues encountered while parsing CIF: Some fractional coordinates rounded to ideal values to avoid issues with finite precision.\n",
      "  warnings.warn(\"Issues encountered while parsing CIF: \" + \"\\n\".join(self.warnings))\n"
     ]
    },
    {
     "name": "stdout",
     "output_type": "stream",
     "text": [
      "Time elapsed:  14.755867999978364\n",
      "Starting batch  10\n"
     ]
    },
    {
     "name": "stderr",
     "output_type": "stream",
     "text": [
      "C:\\Users\\adamp\\anaconda3\\lib\\site-packages\\pymatgen\\io\\cif.py:1197: UserWarning: Issues encountered while parsing CIF: Some fractional coordinates rounded to ideal values to avoid issues with finite precision.\n",
      "  warnings.warn(\"Issues encountered while parsing CIF: \" + \"\\n\".join(self.warnings))\n"
     ]
    },
    {
     "name": "stdout",
     "output_type": "stream",
     "text": [
      "Time elapsed:  425.2668192004785\n",
      "Starting batch  11\n"
     ]
    },
    {
     "name": "stderr",
     "output_type": "stream",
     "text": [
      "C:\\Users\\adamp\\anaconda3\\lib\\site-packages\\pymatgen\\io\\cif.py:1197: UserWarning: Issues encountered while parsing CIF: Some fractional coordinates rounded to ideal values to avoid issues with finite precision.\n",
      "  warnings.warn(\"Issues encountered while parsing CIF: \" + \"\\n\".join(self.warnings))\n"
     ]
    },
    {
     "name": "stdout",
     "output_type": "stream",
     "text": [
      "Time elapsed:  203.3850723998621\n",
      "Starting batch  12\n"
     ]
    },
    {
     "name": "stderr",
     "output_type": "stream",
     "text": [
      "C:\\Users\\adamp\\anaconda3\\lib\\site-packages\\pymatgen\\io\\cif.py:1197: UserWarning: Issues encountered while parsing CIF: Some fractional coordinates rounded to ideal values to avoid issues with finite precision.\n",
      "  warnings.warn(\"Issues encountered while parsing CIF: \" + \"\\n\".join(self.warnings))\n"
     ]
    },
    {
     "name": "stdout",
     "output_type": "stream",
     "text": [
      "Time elapsed:  49.72375490050763\n",
      "Starting batch  13\n",
      "Time elapsed:  97.50387770030648\n",
      "Starting batch  14\n"
     ]
    },
    {
     "name": "stderr",
     "output_type": "stream",
     "text": [
      "C:\\Users\\adamp\\anaconda3\\lib\\site-packages\\pymatgen\\io\\cif.py:1197: UserWarning: Issues encountered while parsing CIF: Some fractional coordinates rounded to ideal values to avoid issues with finite precision.\n",
      "  warnings.warn(\"Issues encountered while parsing CIF: \" + \"\\n\".join(self.warnings))\n"
     ]
    },
    {
     "name": "stdout",
     "output_type": "stream",
     "text": [
      "Time elapsed:  106.34120159968734\n",
      "Starting batch  15\n"
     ]
    },
    {
     "name": "stderr",
     "output_type": "stream",
     "text": [
      "C:\\Users\\adamp\\anaconda3\\lib\\site-packages\\pymatgen\\io\\cif.py:1197: UserWarning: Issues encountered while parsing CIF: Some fractional coordinates rounded to ideal values to avoid issues with finite precision.\n",
      "  warnings.warn(\"Issues encountered while parsing CIF: \" + \"\\n\".join(self.warnings))\n"
     ]
    },
    {
     "name": "stdout",
     "output_type": "stream",
     "text": [
      "Time elapsed:  36.531112999655306\n",
      "Starting batch  16\n"
     ]
    },
    {
     "name": "stderr",
     "output_type": "stream",
     "text": [
      "C:\\Users\\adamp\\anaconda3\\lib\\site-packages\\pymatgen\\io\\cif.py:1197: UserWarning: Issues encountered while parsing CIF: Some fractional coordinates rounded to ideal values to avoid issues with finite precision.\n",
      "  warnings.warn(\"Issues encountered while parsing CIF: \" + \"\\n\".join(self.warnings))\n"
     ]
    },
    {
     "name": "stdout",
     "output_type": "stream",
     "text": [
      "Time elapsed:  139.92432100046426\n",
      "Starting batch  17\n"
     ]
    },
    {
     "name": "stderr",
     "output_type": "stream",
     "text": [
      "C:\\Users\\adamp\\anaconda3\\lib\\site-packages\\pymatgen\\io\\cif.py:1197: UserWarning: Issues encountered while parsing CIF: Some fractional coordinates rounded to ideal values to avoid issues with finite precision.\n",
      "  warnings.warn(\"Issues encountered while parsing CIF: \" + \"\\n\".join(self.warnings))\n"
     ]
    },
    {
     "name": "stdout",
     "output_type": "stream",
     "text": [
      "Time elapsed:  122.60213569924235\n",
      "Starting batch  18\n"
     ]
    },
    {
     "name": "stderr",
     "output_type": "stream",
     "text": [
      "C:\\Users\\adamp\\anaconda3\\lib\\site-packages\\pymatgen\\io\\cif.py:1197: UserWarning: Issues encountered while parsing CIF: Some fractional coordinates rounded to ideal values to avoid issues with finite precision.\n",
      "  warnings.warn(\"Issues encountered while parsing CIF: \" + \"\\n\".join(self.warnings))\n"
     ]
    },
    {
     "name": "stdout",
     "output_type": "stream",
     "text": [
      "Time elapsed:  34.23407819960266\n",
      "Starting batch  19\n",
      "Time elapsed:  174.12370989937335\n",
      "Starting batch  20\n"
     ]
    },
    {
     "name": "stderr",
     "output_type": "stream",
     "text": [
      "C:\\Users\\adamp\\anaconda3\\lib\\site-packages\\pymatgen\\io\\cif.py:1197: UserWarning: Issues encountered while parsing CIF: Some fractional coordinates rounded to ideal values to avoid issues with finite precision.\n",
      "  warnings.warn(\"Issues encountered while parsing CIF: \" + \"\\n\".join(self.warnings))\n"
     ]
    },
    {
     "name": "stdout",
     "output_type": "stream",
     "text": [
      "Time elapsed:  273.23746789991856\n",
      "Starting batch  21\n",
      "Time elapsed:  362.32868899963796\n",
      "Starting batch  22\n",
      "Time elapsed:  30.405936500057578\n",
      "Starting batch  23\n"
     ]
    },
    {
     "name": "stderr",
     "output_type": "stream",
     "text": [
      "C:\\Users\\adamp\\anaconda3\\lib\\site-packages\\pymatgen\\io\\cif.py:1197: UserWarning: Issues encountered while parsing CIF: Some fractional coordinates rounded to ideal values to avoid issues with finite precision.\n",
      "  warnings.warn(\"Issues encountered while parsing CIF: \" + \"\\n\".join(self.warnings))\n"
     ]
    },
    {
     "name": "stdout",
     "output_type": "stream",
     "text": [
      "Time elapsed:  298.9472751999274\n",
      "Starting batch  24\n"
     ]
    },
    {
     "name": "stderr",
     "output_type": "stream",
     "text": [
      "C:\\Users\\adamp\\anaconda3\\lib\\site-packages\\pymatgen\\io\\cif.py:1197: UserWarning: Issues encountered while parsing CIF: Some fractional coordinates rounded to ideal values to avoid issues with finite precision.\n",
      "  warnings.warn(\"Issues encountered while parsing CIF: \" + \"\\n\".join(self.warnings))\n"
     ]
    },
    {
     "name": "stdout",
     "output_type": "stream",
     "text": [
      "Time elapsed:  177.87313399929553\n",
      "Starting batch  25\n"
     ]
    },
    {
     "name": "stderr",
     "output_type": "stream",
     "text": [
      "C:\\Users\\adamp\\anaconda3\\lib\\site-packages\\pymatgen\\io\\cif.py:1197: UserWarning: Issues encountered while parsing CIF: Some fractional coordinates rounded to ideal values to avoid issues with finite precision.\n",
      "  warnings.warn(\"Issues encountered while parsing CIF: \" + \"\\n\".join(self.warnings))\n"
     ]
    },
    {
     "name": "stdout",
     "output_type": "stream",
     "text": [
      "Time elapsed:  2.415377600118518\n",
      "Starting batch  26\n"
     ]
    },
    {
     "name": "stderr",
     "output_type": "stream",
     "text": [
      "C:\\Users\\adamp\\anaconda3\\lib\\site-packages\\pymatgen\\io\\cif.py:1197: UserWarning: Issues encountered while parsing CIF: Some fractional coordinates rounded to ideal values to avoid issues with finite precision.\n",
      "  warnings.warn(\"Issues encountered while parsing CIF: \" + \"\\n\".join(self.warnings))\n"
     ]
    },
    {
     "name": "stdout",
     "output_type": "stream",
     "text": [
      "Time elapsed:  10.106378600001335\n",
      "Starting batch  27\n",
      "Time elapsed:  43.68761119991541\n",
      "Starting batch  28\n"
     ]
    },
    {
     "name": "stderr",
     "output_type": "stream",
     "text": [
      "C:\\Users\\adamp\\anaconda3\\lib\\site-packages\\pymatgen\\io\\cif.py:1197: UserWarning: Issues encountered while parsing CIF: Some fractional coordinates rounded to ideal values to avoid issues with finite precision.\n",
      "  warnings.warn(\"Issues encountered while parsing CIF: \" + \"\\n\".join(self.warnings))\n"
     ]
    },
    {
     "name": "stdout",
     "output_type": "stream",
     "text": [
      "Time elapsed:  217.42960129957646\n",
      "Starting batch  29\n",
      "Time elapsed:  2.219573499634862\n",
      "Starting batch  30\n"
     ]
    },
    {
     "name": "stderr",
     "output_type": "stream",
     "text": [
      "C:\\Users\\adamp\\anaconda3\\lib\\site-packages\\pymatgen\\io\\cif.py:1197: UserWarning: Issues encountered while parsing CIF: Some fractional coordinates rounded to ideal values to avoid issues with finite precision.\n",
      "  warnings.warn(\"Issues encountered while parsing CIF: \" + \"\\n\".join(self.warnings))\n"
     ]
    },
    {
     "name": "stdout",
     "output_type": "stream",
     "text": [
      "Time elapsed:  34.02298180013895\n",
      "Starting batch  31\n"
     ]
    },
    {
     "name": "stderr",
     "output_type": "stream",
     "text": [
      "C:\\Users\\adamp\\anaconda3\\lib\\site-packages\\pymatgen\\io\\cif.py:1197: UserWarning: Issues encountered while parsing CIF: Some fractional coordinates rounded to ideal values to avoid issues with finite precision.\n",
      "  warnings.warn(\"Issues encountered while parsing CIF: \" + \"\\n\".join(self.warnings))\n"
     ]
    },
    {
     "name": "stdout",
     "output_type": "stream",
     "text": [
      "Time elapsed:  13.486468899995089\n",
      "Starting batch  32\n"
     ]
    },
    {
     "name": "stderr",
     "output_type": "stream",
     "text": [
      "C:\\Users\\adamp\\anaconda3\\lib\\site-packages\\pymatgen\\io\\cif.py:1197: UserWarning: Issues encountered while parsing CIF: Some fractional coordinates rounded to ideal values to avoid issues with finite precision.\n",
      "  warnings.warn(\"Issues encountered while parsing CIF: \" + \"\\n\".join(self.warnings))\n"
     ]
    },
    {
     "name": "stdout",
     "output_type": "stream",
     "text": [
      "Time elapsed:  19.076334999874234\n",
      "Starting batch  33\n",
      "Time elapsed:  2.8200999004766345\n",
      "Starting batch  34\n"
     ]
    },
    {
     "name": "stderr",
     "output_type": "stream",
     "text": [
      "C:\\Users\\adamp\\anaconda3\\lib\\site-packages\\pymatgen\\io\\cif.py:1197: UserWarning: Issues encountered while parsing CIF: Some fractional coordinates rounded to ideal values to avoid issues with finite precision.\n",
      "  warnings.warn(\"Issues encountered while parsing CIF: \" + \"\\n\".join(self.warnings))\n"
     ]
    },
    {
     "name": "stdout",
     "output_type": "stream",
     "text": [
      "Time elapsed:  15.00035039987415\n",
      "Starting batch  35\n"
     ]
    },
    {
     "name": "stderr",
     "output_type": "stream",
     "text": [
      "C:\\Users\\adamp\\anaconda3\\lib\\site-packages\\pymatgen\\io\\cif.py:1197: UserWarning: Issues encountered while parsing CIF: Some fractional coordinates rounded to ideal values to avoid issues with finite precision.\n",
      "  warnings.warn(\"Issues encountered while parsing CIF: \" + \"\\n\".join(self.warnings))\n"
     ]
    },
    {
     "name": "stdout",
     "output_type": "stream",
     "text": [
      "Time elapsed:  4.265710500068963\n",
      "Starting batch  36\n"
     ]
    },
    {
     "name": "stderr",
     "output_type": "stream",
     "text": [
      "C:\\Users\\adamp\\anaconda3\\lib\\site-packages\\pymatgen\\io\\cif.py:1197: UserWarning: Issues encountered while parsing CIF: Some fractional coordinates rounded to ideal values to avoid issues with finite precision.\n",
      "  warnings.warn(\"Issues encountered while parsing CIF: \" + \"\\n\".join(self.warnings))\n"
     ]
    },
    {
     "name": "stdout",
     "output_type": "stream",
     "text": [
      "Time elapsed:  296.9421705994755\n",
      "Starting batch  37\n"
     ]
    },
    {
     "name": "stderr",
     "output_type": "stream",
     "text": [
      "C:\\Users\\adamp\\anaconda3\\lib\\site-packages\\pymatgen\\io\\cif.py:1197: UserWarning: Issues encountered while parsing CIF: Some fractional coordinates rounded to ideal values to avoid issues with finite precision.\n",
      "  warnings.warn(\"Issues encountered while parsing CIF: \" + \"\\n\".join(self.warnings))\n"
     ]
    },
    {
     "name": "stdout",
     "output_type": "stream",
     "text": [
      "Time elapsed:  51.413422600366175\n",
      "Starting batch  38\n"
     ]
    },
    {
     "name": "stderr",
     "output_type": "stream",
     "text": [
      "C:\\Users\\adamp\\anaconda3\\lib\\site-packages\\pymatgen\\io\\cif.py:1197: UserWarning: Issues encountered while parsing CIF: Some fractional coordinates rounded to ideal values to avoid issues with finite precision.\n",
      "  warnings.warn(\"Issues encountered while parsing CIF: \" + \"\\n\".join(self.warnings))\n"
     ]
    },
    {
     "name": "stdout",
     "output_type": "stream",
     "text": [
      "Time elapsed:  38.307588699273765\n",
      "Starting batch  39\n"
     ]
    },
    {
     "name": "stderr",
     "output_type": "stream",
     "text": [
      "C:\\Users\\adamp\\anaconda3\\lib\\site-packages\\pymatgen\\io\\cif.py:1197: UserWarning: Issues encountered while parsing CIF: Some fractional coordinates rounded to ideal values to avoid issues with finite precision.\n",
      "  warnings.warn(\"Issues encountered while parsing CIF: \" + \"\\n\".join(self.warnings))\n"
     ]
    },
    {
     "name": "stdout",
     "output_type": "stream",
     "text": [
      "Time elapsed:  41.57796800043434\n",
      "Starting batch  40\n"
     ]
    },
    {
     "name": "stderr",
     "output_type": "stream",
     "text": [
      "C:\\Users\\adamp\\anaconda3\\lib\\site-packages\\pymatgen\\io\\cif.py:1197: UserWarning: Issues encountered while parsing CIF: Some fractional coordinates rounded to ideal values to avoid issues with finite precision.\n",
      "  warnings.warn(\"Issues encountered while parsing CIF: \" + \"\\n\".join(self.warnings))\n"
     ]
    },
    {
     "name": "stdout",
     "output_type": "stream",
     "text": [
      "Time elapsed:  27.33416340034455\n",
      "Starting batch  41\n"
     ]
    },
    {
     "name": "stderr",
     "output_type": "stream",
     "text": [
      "C:\\Users\\adamp\\anaconda3\\lib\\site-packages\\pymatgen\\io\\cif.py:1197: UserWarning: Issues encountered while parsing CIF: Some fractional coordinates rounded to ideal values to avoid issues with finite precision.\n",
      "  warnings.warn(\"Issues encountered while parsing CIF: \" + \"\\n\".join(self.warnings))\n"
     ]
    },
    {
     "name": "stdout",
     "output_type": "stream",
     "text": [
      "Time elapsed:  67.69070569984615\n",
      "Starting batch  42\n"
     ]
    },
    {
     "name": "stderr",
     "output_type": "stream",
     "text": [
      "C:\\Users\\adamp\\anaconda3\\lib\\site-packages\\pymatgen\\io\\cif.py:1197: UserWarning: Issues encountered while parsing CIF: Some fractional coordinates rounded to ideal values to avoid issues with finite precision.\n",
      "  warnings.warn(\"Issues encountered while parsing CIF: \" + \"\\n\".join(self.warnings))\n"
     ]
    },
    {
     "name": "stdout",
     "output_type": "stream",
     "text": [
      "Time elapsed:  23.027568800374866\n",
      "Starting batch  43\n"
     ]
    },
    {
     "name": "stderr",
     "output_type": "stream",
     "text": [
      "C:\\Users\\adamp\\anaconda3\\lib\\site-packages\\pymatgen\\io\\cif.py:1197: UserWarning: Issues encountered while parsing CIF: Some fractional coordinates rounded to ideal values to avoid issues with finite precision.\n",
      "  warnings.warn(\"Issues encountered while parsing CIF: \" + \"\\n\".join(self.warnings))\n"
     ]
    },
    {
     "name": "stdout",
     "output_type": "stream",
     "text": [
      "Time elapsed:  95.45575390011072\n",
      "Starting batch  44\n"
     ]
    },
    {
     "name": "stderr",
     "output_type": "stream",
     "text": [
      "C:\\Users\\adamp\\anaconda3\\lib\\site-packages\\pymatgen\\io\\cif.py:1197: UserWarning: Issues encountered while parsing CIF: Some fractional coordinates rounded to ideal values to avoid issues with finite precision.\n",
      "  warnings.warn(\"Issues encountered while parsing CIF: \" + \"\\n\".join(self.warnings))\n"
     ]
    },
    {
     "name": "stdout",
     "output_type": "stream",
     "text": [
      "Time elapsed:  90.6120744002983\n",
      "Starting batch  45\n"
     ]
    },
    {
     "name": "stderr",
     "output_type": "stream",
     "text": [
      "C:\\Users\\adamp\\anaconda3\\lib\\site-packages\\pymatgen\\io\\cif.py:1197: UserWarning: Issues encountered while parsing CIF: Some fractional coordinates rounded to ideal values to avoid issues with finite precision.\n",
      "  warnings.warn(\"Issues encountered while parsing CIF: \" + \"\\n\".join(self.warnings))\n"
     ]
    },
    {
     "name": "stdout",
     "output_type": "stream",
     "text": [
      "Time elapsed:  22.40599639993161\n",
      "Starting batch  46\n"
     ]
    },
    {
     "name": "stderr",
     "output_type": "stream",
     "text": [
      "C:\\Users\\adamp\\anaconda3\\lib\\site-packages\\pymatgen\\io\\cif.py:1197: UserWarning: Issues encountered while parsing CIF: Some fractional coordinates rounded to ideal values to avoid issues with finite precision.\n",
      "  warnings.warn(\"Issues encountered while parsing CIF: \" + \"\\n\".join(self.warnings))\n"
     ]
    },
    {
     "name": "stdout",
     "output_type": "stream",
     "text": [
      "Time elapsed:  64.30059000011533\n",
      "Starting batch  47\n"
     ]
    },
    {
     "name": "stderr",
     "output_type": "stream",
     "text": [
      "C:\\Users\\adamp\\anaconda3\\lib\\site-packages\\pymatgen\\io\\cif.py:1197: UserWarning: Issues encountered while parsing CIF: Some fractional coordinates rounded to ideal values to avoid issues with finite precision.\n",
      "  warnings.warn(\"Issues encountered while parsing CIF: \" + \"\\n\".join(self.warnings))\n"
     ]
    },
    {
     "name": "stdout",
     "output_type": "stream",
     "text": [
      "Time elapsed:  17.045019800774753\n",
      "Starting batch  48\n",
      "Time elapsed:  4.838813999667764\n",
      "Starting batch  49\n"
     ]
    },
    {
     "name": "stderr",
     "output_type": "stream",
     "text": [
      "C:\\Users\\adamp\\anaconda3\\lib\\site-packages\\pymatgen\\io\\cif.py:1197: UserWarning: Issues encountered while parsing CIF: Some fractional coordinates rounded to ideal values to avoid issues with finite precision.\n",
      "  warnings.warn(\"Issues encountered while parsing CIF: \" + \"\\n\".join(self.warnings))\n"
     ]
    },
    {
     "name": "stdout",
     "output_type": "stream",
     "text": [
      "Time elapsed:  71.19688769988716\n",
      "Starting batch  50\n"
     ]
    },
    {
     "name": "stderr",
     "output_type": "stream",
     "text": [
      "C:\\Users\\adamp\\anaconda3\\lib\\site-packages\\pymatgen\\io\\cif.py:1197: UserWarning: Issues encountered while parsing CIF: Some fractional coordinates rounded to ideal values to avoid issues with finite precision.\n",
      "  warnings.warn(\"Issues encountered while parsing CIF: \" + \"\\n\".join(self.warnings))\n"
     ]
    },
    {
     "name": "stdout",
     "output_type": "stream",
     "text": [
      "Time elapsed:  45.64385540038347\n",
      "Starting batch  51\n"
     ]
    },
    {
     "name": "stderr",
     "output_type": "stream",
     "text": [
      "C:\\Users\\adamp\\anaconda3\\lib\\site-packages\\pymatgen\\io\\cif.py:1197: UserWarning: Issues encountered while parsing CIF: Some fractional coordinates rounded to ideal values to avoid issues with finite precision.\n",
      "  warnings.warn(\"Issues encountered while parsing CIF: \" + \"\\n\".join(self.warnings))\n"
     ]
    },
    {
     "name": "stdout",
     "output_type": "stream",
     "text": [
      "Time elapsed:  108.03221359942108\n",
      "Starting batch  52\n"
     ]
    },
    {
     "name": "stderr",
     "output_type": "stream",
     "text": [
      "C:\\Users\\adamp\\anaconda3\\lib\\site-packages\\pymatgen\\io\\cif.py:1197: UserWarning: Issues encountered while parsing CIF: Some fractional coordinates rounded to ideal values to avoid issues with finite precision.\n",
      "  warnings.warn(\"Issues encountered while parsing CIF: \" + \"\\n\".join(self.warnings))\n"
     ]
    },
    {
     "name": "stdout",
     "output_type": "stream",
     "text": [
      "Time elapsed:  460.73208730015904\n",
      "Starting batch  53\n"
     ]
    },
    {
     "name": "stderr",
     "output_type": "stream",
     "text": [
      "C:\\Users\\adamp\\anaconda3\\lib\\site-packages\\pymatgen\\io\\cif.py:1197: UserWarning: Issues encountered while parsing CIF: Some fractional coordinates rounded to ideal values to avoid issues with finite precision.\n",
      "  warnings.warn(\"Issues encountered while parsing CIF: \" + \"\\n\".join(self.warnings))\n"
     ]
    },
    {
     "name": "stdout",
     "output_type": "stream",
     "text": [
      "Time elapsed:  243.22957830037922\n",
      "Starting batch  54\n"
     ]
    },
    {
     "name": "stderr",
     "output_type": "stream",
     "text": [
      "C:\\Users\\adamp\\anaconda3\\lib\\site-packages\\pymatgen\\io\\cif.py:1197: UserWarning: Issues encountered while parsing CIF: Some fractional coordinates rounded to ideal values to avoid issues with finite precision.\n",
      "  warnings.warn(\"Issues encountered while parsing CIF: \" + \"\\n\".join(self.warnings))\n"
     ]
    },
    {
     "name": "stdout",
     "output_type": "stream",
     "text": [
      "Time elapsed:  84.74351109936833\n",
      "Starting batch  55\n"
     ]
    },
    {
     "name": "stderr",
     "output_type": "stream",
     "text": [
      "C:\\Users\\adamp\\anaconda3\\lib\\site-packages\\pymatgen\\io\\cif.py:1197: UserWarning: Issues encountered while parsing CIF: Some fractional coordinates rounded to ideal values to avoid issues with finite precision.\n",
      "  warnings.warn(\"Issues encountered while parsing CIF: \" + \"\\n\".join(self.warnings))\n"
     ]
    },
    {
     "name": "stdout",
     "output_type": "stream",
     "text": [
      "Time elapsed:  226.55841069947928\n",
      "Starting batch  56\n"
     ]
    },
    {
     "name": "stderr",
     "output_type": "stream",
     "text": [
      "C:\\Users\\adamp\\anaconda3\\lib\\site-packages\\pymatgen\\io\\cif.py:1197: UserWarning: Issues encountered while parsing CIF: Some fractional coordinates rounded to ideal values to avoid issues with finite precision.\n",
      "  warnings.warn(\"Issues encountered while parsing CIF: \" + \"\\n\".join(self.warnings))\n"
     ]
    },
    {
     "name": "stdout",
     "output_type": "stream",
     "text": [
      "Time elapsed:  50.31738369911909\n",
      "Starting batch  57\n"
     ]
    },
    {
     "name": "stderr",
     "output_type": "stream",
     "text": [
      "C:\\Users\\adamp\\anaconda3\\lib\\site-packages\\pymatgen\\io\\cif.py:1197: UserWarning: Issues encountered while parsing CIF: Some fractional coordinates rounded to ideal values to avoid issues with finite precision.\n",
      "  warnings.warn(\"Issues encountered while parsing CIF: \" + \"\\n\".join(self.warnings))\n"
     ]
    },
    {
     "name": "stdout",
     "output_type": "stream",
     "text": [
      "Time elapsed:  91.00799690000713\n",
      "Starting batch  58\n"
     ]
    },
    {
     "name": "stderr",
     "output_type": "stream",
     "text": [
      "C:\\Users\\adamp\\anaconda3\\lib\\site-packages\\pymatgen\\io\\cif.py:1197: UserWarning: Issues encountered while parsing CIF: Some fractional coordinates rounded to ideal values to avoid issues with finite precision.\n",
      "  warnings.warn(\"Issues encountered while parsing CIF: \" + \"\\n\".join(self.warnings))\n"
     ]
    },
    {
     "name": "stdout",
     "output_type": "stream",
     "text": [
      "Time elapsed:  147.24600119981915\n",
      "Starting batch  59\n",
      "Time elapsed:  101.63020360004157\n",
      "Starting batch  60\n"
     ]
    },
    {
     "name": "stderr",
     "output_type": "stream",
     "text": [
      "C:\\Users\\adamp\\anaconda3\\lib\\site-packages\\pymatgen\\io\\cif.py:1197: UserWarning: Issues encountered while parsing CIF: Some fractional coordinates rounded to ideal values to avoid issues with finite precision.\n",
      "  warnings.warn(\"Issues encountered while parsing CIF: \" + \"\\n\".join(self.warnings))\n"
     ]
    },
    {
     "name": "stdout",
     "output_type": "stream",
     "text": [
      "Time elapsed:  153.64846150018275\n",
      "Starting batch  61\n"
     ]
    },
    {
     "name": "stderr",
     "output_type": "stream",
     "text": [
      "C:\\Users\\adamp\\anaconda3\\lib\\site-packages\\pymatgen\\io\\cif.py:1197: UserWarning: Issues encountered while parsing CIF: Some fractional coordinates rounded to ideal values to avoid issues with finite precision.\n",
      "  warnings.warn(\"Issues encountered while parsing CIF: \" + \"\\n\".join(self.warnings))\n"
     ]
    },
    {
     "name": "stdout",
     "output_type": "stream",
     "text": [
      "Time elapsed:  59.45085039921105\n",
      "Starting batch  62\n"
     ]
    },
    {
     "name": "stderr",
     "output_type": "stream",
     "text": [
      "C:\\Users\\adamp\\anaconda3\\lib\\site-packages\\pymatgen\\io\\cif.py:1197: UserWarning: Issues encountered while parsing CIF: Some fractional coordinates rounded to ideal values to avoid issues with finite precision.\n",
      "  warnings.warn(\"Issues encountered while parsing CIF: \" + \"\\n\".join(self.warnings))\n"
     ]
    },
    {
     "name": "stdout",
     "output_type": "stream",
     "text": [
      "Time elapsed:  136.46887939982116\n",
      "Starting batch  63\n"
     ]
    },
    {
     "name": "stderr",
     "output_type": "stream",
     "text": [
      "C:\\Users\\adamp\\anaconda3\\lib\\site-packages\\pymatgen\\io\\cif.py:1197: UserWarning: Issues encountered while parsing CIF: Some fractional coordinates rounded to ideal values to avoid issues with finite precision.\n",
      "  warnings.warn(\"Issues encountered while parsing CIF: \" + \"\\n\".join(self.warnings))\n"
     ]
    },
    {
     "name": "stdout",
     "output_type": "stream",
     "text": [
      "Time elapsed:  84.23466289974749\n",
      "Starting batch  64\n"
     ]
    },
    {
     "name": "stderr",
     "output_type": "stream",
     "text": [
      "C:\\Users\\adamp\\anaconda3\\lib\\site-packages\\pymatgen\\io\\cif.py:1197: UserWarning: Issues encountered while parsing CIF: Some fractional coordinates rounded to ideal values to avoid issues with finite precision.\n",
      "  warnings.warn(\"Issues encountered while parsing CIF: \" + \"\\n\".join(self.warnings))\n"
     ]
    },
    {
     "name": "stdout",
     "output_type": "stream",
     "text": [
      "Time elapsed:  234.1550519000739\n",
      "Starting batch  65\n"
     ]
    },
    {
     "name": "stderr",
     "output_type": "stream",
     "text": [
      "C:\\Users\\adamp\\anaconda3\\lib\\site-packages\\pymatgen\\io\\cif.py:1197: UserWarning: Issues encountered while parsing CIF: Some fractional coordinates rounded to ideal values to avoid issues with finite precision.\n",
      "  warnings.warn(\"Issues encountered while parsing CIF: \" + \"\\n\".join(self.warnings))\n"
     ]
    },
    {
     "name": "stdout",
     "output_type": "stream",
     "text": [
      "Time elapsed:  76.99335059989244\n",
      "Starting batch  66\n"
     ]
    },
    {
     "name": "stderr",
     "output_type": "stream",
     "text": [
      "C:\\Users\\adamp\\anaconda3\\lib\\site-packages\\pymatgen\\io\\cif.py:1197: UserWarning: Issues encountered while parsing CIF: Some fractional coordinates rounded to ideal values to avoid issues with finite precision.\n",
      "  warnings.warn(\"Issues encountered while parsing CIF: \" + \"\\n\".join(self.warnings))\n"
     ]
    },
    {
     "name": "stdout",
     "output_type": "stream",
     "text": [
      "Time elapsed:  91.30404889956117\n",
      "Starting batch  67\n"
     ]
    },
    {
     "name": "stderr",
     "output_type": "stream",
     "text": [
      "C:\\Users\\adamp\\anaconda3\\lib\\site-packages\\pymatgen\\io\\cif.py:1197: UserWarning: Issues encountered while parsing CIF: Some fractional coordinates rounded to ideal values to avoid issues with finite precision.\n",
      "  warnings.warn(\"Issues encountered while parsing CIF: \" + \"\\n\".join(self.warnings))\n"
     ]
    },
    {
     "name": "stdout",
     "output_type": "stream",
     "text": [
      "Time elapsed:  134.7625331999734\n",
      "Starting batch  68\n"
     ]
    },
    {
     "name": "stderr",
     "output_type": "stream",
     "text": [
      "C:\\Users\\adamp\\anaconda3\\lib\\site-packages\\pymatgen\\io\\cif.py:1197: UserWarning: Issues encountered while parsing CIF: Some fractional coordinates rounded to ideal values to avoid issues with finite precision.\n",
      "  warnings.warn(\"Issues encountered while parsing CIF: \" + \"\\n\".join(self.warnings))\n"
     ]
    },
    {
     "name": "stdout",
     "output_type": "stream",
     "text": [
      "Time elapsed:  109.91594369988889\n",
      "Starting batch  69\n"
     ]
    },
    {
     "name": "stderr",
     "output_type": "stream",
     "text": [
      "C:\\Users\\adamp\\anaconda3\\lib\\site-packages\\pymatgen\\io\\cif.py:1197: UserWarning: Issues encountered while parsing CIF: Some fractional coordinates rounded to ideal values to avoid issues with finite precision.\n",
      "  warnings.warn(\"Issues encountered while parsing CIF: \" + \"\\n\".join(self.warnings))\n"
     ]
    },
    {
     "name": "stdout",
     "output_type": "stream",
     "text": [
      "Time elapsed:  78.8962662992999\n",
      "Starting batch  70\n"
     ]
    },
    {
     "name": "stderr",
     "output_type": "stream",
     "text": [
      "C:\\Users\\adamp\\anaconda3\\lib\\site-packages\\pymatgen\\io\\cif.py:1197: UserWarning: Issues encountered while parsing CIF: Some fractional coordinates rounded to ideal values to avoid issues with finite precision.\n",
      "  warnings.warn(\"Issues encountered while parsing CIF: \" + \"\\n\".join(self.warnings))\n"
     ]
    },
    {
     "name": "stdout",
     "output_type": "stream",
     "text": [
      "Time elapsed:  132.3246817998588\n",
      "Starting batch  71\n"
     ]
    },
    {
     "name": "stderr",
     "output_type": "stream",
     "text": [
      "C:\\Users\\adamp\\anaconda3\\lib\\site-packages\\pymatgen\\io\\cif.py:1197: UserWarning: Issues encountered while parsing CIF: Some fractional coordinates rounded to ideal values to avoid issues with finite precision.\n",
      "  warnings.warn(\"Issues encountered while parsing CIF: \" + \"\\n\".join(self.warnings))\n"
     ]
    },
    {
     "name": "stdout",
     "output_type": "stream",
     "text": [
      "Time elapsed:  308.79970130044967\n",
      "Starting batch  72\n"
     ]
    },
    {
     "name": "stderr",
     "output_type": "stream",
     "text": [
      "C:\\Users\\adamp\\anaconda3\\lib\\site-packages\\pymatgen\\io\\cif.py:1197: UserWarning: Issues encountered while parsing CIF: Some fractional coordinates rounded to ideal values to avoid issues with finite precision.\n",
      "  warnings.warn(\"Issues encountered while parsing CIF: \" + \"\\n\".join(self.warnings))\n"
     ]
    },
    {
     "name": "stdout",
     "output_type": "stream",
     "text": [
      "Time elapsed:  177.49884929973632\n",
      "Starting batch  73\n"
     ]
    },
    {
     "name": "stderr",
     "output_type": "stream",
     "text": [
      "C:\\Users\\adamp\\anaconda3\\lib\\site-packages\\pymatgen\\io\\cif.py:1197: UserWarning: Issues encountered while parsing CIF: Some fractional coordinates rounded to ideal values to avoid issues with finite precision.\n",
      "  warnings.warn(\"Issues encountered while parsing CIF: \" + \"\\n\".join(self.warnings))\n"
     ]
    },
    {
     "name": "stdout",
     "output_type": "stream",
     "text": [
      "Time elapsed:  170.98918209969997\n",
      "Starting batch  74\n"
     ]
    },
    {
     "name": "stderr",
     "output_type": "stream",
     "text": [
      "C:\\Users\\adamp\\anaconda3\\lib\\site-packages\\pymatgen\\io\\cif.py:1197: UserWarning: Issues encountered while parsing CIF: Some fractional coordinates rounded to ideal values to avoid issues with finite precision.\n",
      "  warnings.warn(\"Issues encountered while parsing CIF: \" + \"\\n\".join(self.warnings))\n"
     ]
    },
    {
     "name": "stdout",
     "output_type": "stream",
     "text": [
      "Time elapsed:  294.4138519996777\n",
      "Starting batch  75\n"
     ]
    },
    {
     "name": "stderr",
     "output_type": "stream",
     "text": [
      "C:\\Users\\adamp\\anaconda3\\lib\\site-packages\\pymatgen\\io\\cif.py:1197: UserWarning: Issues encountered while parsing CIF: Some fractional coordinates rounded to ideal values to avoid issues with finite precision.\n",
      "  warnings.warn(\"Issues encountered while parsing CIF: \" + \"\\n\".join(self.warnings))\n"
     ]
    },
    {
     "name": "stdout",
     "output_type": "stream",
     "text": [
      "Time elapsed:  0.7878027996048331\n",
      "Starting batch  76\n"
     ]
    },
    {
     "name": "stderr",
     "output_type": "stream",
     "text": [
      "C:\\Users\\adamp\\anaconda3\\lib\\site-packages\\pymatgen\\io\\cif.py:1197: UserWarning: Issues encountered while parsing CIF: Some fractional coordinates rounded to ideal values to avoid issues with finite precision.\n",
      "  warnings.warn(\"Issues encountered while parsing CIF: \" + \"\\n\".join(self.warnings))\n"
     ]
    },
    {
     "name": "stdout",
     "output_type": "stream",
     "text": [
      "Time elapsed:  57.775939599610865\n",
      "Starting batch  77\n"
     ]
    },
    {
     "name": "stderr",
     "output_type": "stream",
     "text": [
      "C:\\Users\\adamp\\anaconda3\\lib\\site-packages\\pymatgen\\io\\cif.py:1197: UserWarning: Issues encountered while parsing CIF: Some fractional coordinates rounded to ideal values to avoid issues with finite precision.\n",
      "  warnings.warn(\"Issues encountered while parsing CIF: \" + \"\\n\".join(self.warnings))\n"
     ]
    },
    {
     "name": "stdout",
     "output_type": "stream",
     "text": [
      "Time elapsed:  136.3982887994498\n",
      "Starting batch  78\n"
     ]
    },
    {
     "name": "stderr",
     "output_type": "stream",
     "text": [
      "C:\\Users\\adamp\\anaconda3\\lib\\site-packages\\pymatgen\\io\\cif.py:1197: UserWarning: Issues encountered while parsing CIF: Some fractional coordinates rounded to ideal values to avoid issues with finite precision.\n",
      "  warnings.warn(\"Issues encountered while parsing CIF: \" + \"\\n\".join(self.warnings))\n"
     ]
    },
    {
     "name": "stdout",
     "output_type": "stream",
     "text": [
      "Time elapsed:  142.1676896000281\n",
      "Starting batch  79\n"
     ]
    },
    {
     "name": "stderr",
     "output_type": "stream",
     "text": [
      "C:\\Users\\adamp\\anaconda3\\lib\\site-packages\\pymatgen\\io\\cif.py:1197: UserWarning: Issues encountered while parsing CIF: Some fractional coordinates rounded to ideal values to avoid issues with finite precision.\n",
      "  warnings.warn(\"Issues encountered while parsing CIF: \" + \"\\n\".join(self.warnings))\n"
     ]
    }
   ],
   "source": [
    "# Batching files to reduce memory use\n",
    "BATCH_SIZE = 5\n",
    "\n",
    "# Load all CIF files in directory\n",
    "file_type = \"_super.cif\"  # Use files with this ending in input_dir\n",
    "input_dir = \"supercells_data/\"  # Input data directory\n",
    "output_dir = \"features/\"  # Output directory\n",
    "filename = \"features2\"  # Output filename for features, no file extension\n",
    "\n",
    "if not os.path.isdir(output_dir):\n",
    "    os.mkdir(output_dir)\n",
    "elif os.path.isdir(output_dir+filename):\n",
    "    os.remove(output_dir+filename)  # Remove existing file\n",
    "\n",
    "files = os.listdir(input_dir)\n",
    "cif_files = [input_dir+file for file in files if file.endswith(file_type)]\n",
    "\n",
    "# Featurize all structures\n",
    "n_batches = int(np.ceil(len(cif_files)/BATCH_SIZE))\n",
    "# Remove previous output files\n",
    "#remove_files(output_dir+filename)\n",
    "    \n",
    "# Solve in batches to limit memory use\n",
    "print(\"{} Batches Total: \".format(n_batches))\n",
    "for b in range(n_batches):\n",
    "    print(\"Starting batch \", b)\n",
    "    # Define which files are in each batch\n",
    "    idx_start = int(b*BATCH_SIZE)\n",
    "    idx_end = int(min((b+1)*BATCH_SIZE, len(cif_files)))\n",
    "    start = timeit.default_timer()\n",
    "    #bond_df = featurize_bonds(cif_files[idx_start:idx_end], saveto=output_dir+filename, verbose=False)\n",
    "    struc_df = featurize_structure(cif_files[idx_start:idx_end], saveto=output_dir+filename, verbose=False)\n",
    "    print(\"Time elapsed: \", timeit.default_timer() - start)\n",
    "\n",
    "print(\"Files processed: \", len(cif_files))"
   ],
   "metadata": {
    "collapsed": false,
    "is_executing": true,
    "ExecuteTime": {
     "start_time": "2023-12-06T23:24:43.943183200Z"
    }
   },
   "id": "9f4b24a27d79356c"
  },
  {
   "cell_type": "code",
   "execution_count": null,
   "outputs": [],
   "source": [],
   "metadata": {
    "collapsed": false
   },
   "id": "5109281f431353c"
  }
 ],
 "metadata": {
  "kernelspec": {
   "display_name": "Python 3 (ipykernel)",
   "language": "python",
   "name": "python3"
  },
  "language_info": {
   "codemirror_mode": {
    "name": "ipython",
    "version": 3
   },
   "file_extension": ".py",
   "mimetype": "text/x-python",
   "name": "python",
   "nbconvert_exporter": "python",
   "pygments_lexer": "ipython3",
   "version": "3.10.9"
  }
 },
 "nbformat": 4,
 "nbformat_minor": 5
}

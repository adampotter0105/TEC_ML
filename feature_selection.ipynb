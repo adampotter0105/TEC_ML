{
 "cells": [
  {
   "cell_type": "code",
   "execution_count": 21,
   "id": "initial_id",
   "metadata": {
    "collapsed": true,
    "ExecuteTime": {
     "end_time": "2023-12-06T08:00:40.470721100Z",
     "start_time": "2023-12-06T08:00:40.468717200Z"
    }
   },
   "outputs": [],
   "source": [
    "import numpy as np\n",
    "import matplotlib.pyplot as plt\n",
    "import pandas as pd\n",
    "import scipy.stats"
   ]
  },
  {
   "cell_type": "code",
   "execution_count": 36,
   "outputs": [],
   "source": [
    "labels_df = pd.read_csv(\"labels/labels_reduced.csv\", index_col=0)\n",
    "features_bond_df = pd.read_csv(\"features/features_bond.csv\")\n",
    "features_struc_df = pd.read_csv(\"features/features_structure.csv\")\n",
    "\n",
    "# Features in Dataframe\n",
    "columns_all = features_bond_df.columns[3:-1].to_list()  # ALL FEATURES, exclude file names and bond volume fractions\n",
    "struc_columns = features_struc_df.columns[0:-2].to_list()\n",
    "feature_weights = features_bond_df[features_bond_df.columns[-1]].to_numpy()\n",
    "\n",
    "# The structures for each row in features_bond_df\n",
    "feature_phase_ids = features_bond_df['structure_name'].astype(str).str.split('_super').str[0].to_list()  "
   ],
   "metadata": {
    "collapsed": false,
    "ExecuteTime": {
     "end_time": "2023-12-06T08:10:02.196983900Z",
     "start_time": "2023-12-06T08:09:38.855674500Z"
    }
   },
   "id": "91d65f7f1a9531f3"
  },
  {
   "cell_type": "code",
   "execution_count": 24,
   "outputs": [
    {
     "data": {
      "text/plain": "                    Unnamed: 0   structure_name   structure_path  \\\n0  10004_super.cif_Atom0_Bond0  10004_super.cif  supercells_data   \n1  10004_super.cif_Atom0_Bond1  10004_super.cif  supercells_data   \n2  10004_super.cif_Atom0_Bond2  10004_super.cif  supercells_data   \n3  10004_super.cif_Atom0_Bond3  10004_super.cif  supercells_data   \n4  10004_super.cif_Atom0_Bond4  10004_super.cif  supercells_data   \n\n   site Number_atom1  site Number_atom2  site AtomicWeight_diff  \\\n0               62.0                8.0                134.3606   \n1               62.0                8.0                134.3606   \n2               62.0                8.0                134.3606   \n3               62.0                8.0                134.3606   \n4               62.0                8.0                134.3606   \n\n   site AtomicWeight_atom1  site AtomicWeight_atom2  site Row_atom1  \\\n0                   150.36                  15.9994             6.0   \n1                   150.36                  15.9994             6.0   \n2                   150.36                  15.9994             6.0   \n3                   150.36                  15.9994             6.0   \n4                   150.36                  15.9994             6.0   \n\n   site Row_atom2  ...  G4_0.005_1.0_1.0_atom2  G4_0.005_1.0_-1.0_atom1  \\\n0             2.0  ...                7.729945                 2.356312   \n1             2.0  ...                7.753143                 2.356312   \n2             2.0  ...                7.729945                 2.356312   \n3             2.0  ...                7.729945                 2.356312   \n4             2.0  ...                7.729945                 2.356312   \n\n   G4_0.005_1.0_-1.0_atom2  G4_0.005_4.0_1.0_atom1  G4_0.005_4.0_1.0_atom2  \\\n0                 2.636161                 3.98593                4.035540   \n1                 2.747697                 3.98593                4.025568   \n2                 2.636161                 3.98593                4.035540   \n3                 2.636161                 3.98593                4.035540   \n4                 2.636161                 3.98593                4.035540   \n\n   G4_0.005_4.0_-1.0_atom1  G4_0.005_4.0_-1.0_atom2  coordination_number  \\\n0                 0.183682                 0.274427                    8   \n1                 0.183682                 0.348856                    8   \n2                 0.183682                 0.274427                    8   \n3                 0.183682                 0.274427                    8   \n4                 0.183682                 0.274427                    8   \n\n   bond_length  volume_fraction  \n0     2.348969         0.018402  \n1     2.322674         0.018196  \n2     2.348969         0.018402  \n3     2.581681         0.020225  \n4     2.580842         0.020218  \n\n[5 rows x 52 columns]",
      "text/html": "<div>\n<style scoped>\n    .dataframe tbody tr th:only-of-type {\n        vertical-align: middle;\n    }\n\n    .dataframe tbody tr th {\n        vertical-align: top;\n    }\n\n    .dataframe thead th {\n        text-align: right;\n    }\n</style>\n<table border=\"1\" class=\"dataframe\">\n  <thead>\n    <tr style=\"text-align: right;\">\n      <th></th>\n      <th>Unnamed: 0</th>\n      <th>structure_name</th>\n      <th>structure_path</th>\n      <th>site Number_atom1</th>\n      <th>site Number_atom2</th>\n      <th>site AtomicWeight_diff</th>\n      <th>site AtomicWeight_atom1</th>\n      <th>site AtomicWeight_atom2</th>\n      <th>site Row_atom1</th>\n      <th>site Row_atom2</th>\n      <th>...</th>\n      <th>G4_0.005_1.0_1.0_atom2</th>\n      <th>G4_0.005_1.0_-1.0_atom1</th>\n      <th>G4_0.005_1.0_-1.0_atom2</th>\n      <th>G4_0.005_4.0_1.0_atom1</th>\n      <th>G4_0.005_4.0_1.0_atom2</th>\n      <th>G4_0.005_4.0_-1.0_atom1</th>\n      <th>G4_0.005_4.0_-1.0_atom2</th>\n      <th>coordination_number</th>\n      <th>bond_length</th>\n      <th>volume_fraction</th>\n    </tr>\n  </thead>\n  <tbody>\n    <tr>\n      <th>0</th>\n      <td>10004_super.cif_Atom0_Bond0</td>\n      <td>10004_super.cif</td>\n      <td>supercells_data</td>\n      <td>62.0</td>\n      <td>8.0</td>\n      <td>134.3606</td>\n      <td>150.36</td>\n      <td>15.9994</td>\n      <td>6.0</td>\n      <td>2.0</td>\n      <td>...</td>\n      <td>7.729945</td>\n      <td>2.356312</td>\n      <td>2.636161</td>\n      <td>3.98593</td>\n      <td>4.035540</td>\n      <td>0.183682</td>\n      <td>0.274427</td>\n      <td>8</td>\n      <td>2.348969</td>\n      <td>0.018402</td>\n    </tr>\n    <tr>\n      <th>1</th>\n      <td>10004_super.cif_Atom0_Bond1</td>\n      <td>10004_super.cif</td>\n      <td>supercells_data</td>\n      <td>62.0</td>\n      <td>8.0</td>\n      <td>134.3606</td>\n      <td>150.36</td>\n      <td>15.9994</td>\n      <td>6.0</td>\n      <td>2.0</td>\n      <td>...</td>\n      <td>7.753143</td>\n      <td>2.356312</td>\n      <td>2.747697</td>\n      <td>3.98593</td>\n      <td>4.025568</td>\n      <td>0.183682</td>\n      <td>0.348856</td>\n      <td>8</td>\n      <td>2.322674</td>\n      <td>0.018196</td>\n    </tr>\n    <tr>\n      <th>2</th>\n      <td>10004_super.cif_Atom0_Bond2</td>\n      <td>10004_super.cif</td>\n      <td>supercells_data</td>\n      <td>62.0</td>\n      <td>8.0</td>\n      <td>134.3606</td>\n      <td>150.36</td>\n      <td>15.9994</td>\n      <td>6.0</td>\n      <td>2.0</td>\n      <td>...</td>\n      <td>7.729945</td>\n      <td>2.356312</td>\n      <td>2.636161</td>\n      <td>3.98593</td>\n      <td>4.035540</td>\n      <td>0.183682</td>\n      <td>0.274427</td>\n      <td>8</td>\n      <td>2.348969</td>\n      <td>0.018402</td>\n    </tr>\n    <tr>\n      <th>3</th>\n      <td>10004_super.cif_Atom0_Bond3</td>\n      <td>10004_super.cif</td>\n      <td>supercells_data</td>\n      <td>62.0</td>\n      <td>8.0</td>\n      <td>134.3606</td>\n      <td>150.36</td>\n      <td>15.9994</td>\n      <td>6.0</td>\n      <td>2.0</td>\n      <td>...</td>\n      <td>7.729945</td>\n      <td>2.356312</td>\n      <td>2.636161</td>\n      <td>3.98593</td>\n      <td>4.035540</td>\n      <td>0.183682</td>\n      <td>0.274427</td>\n      <td>8</td>\n      <td>2.581681</td>\n      <td>0.020225</td>\n    </tr>\n    <tr>\n      <th>4</th>\n      <td>10004_super.cif_Atom0_Bond4</td>\n      <td>10004_super.cif</td>\n      <td>supercells_data</td>\n      <td>62.0</td>\n      <td>8.0</td>\n      <td>134.3606</td>\n      <td>150.36</td>\n      <td>15.9994</td>\n      <td>6.0</td>\n      <td>2.0</td>\n      <td>...</td>\n      <td>7.729945</td>\n      <td>2.356312</td>\n      <td>2.636161</td>\n      <td>3.98593</td>\n      <td>4.035540</td>\n      <td>0.183682</td>\n      <td>0.274427</td>\n      <td>8</td>\n      <td>2.580842</td>\n      <td>0.020218</td>\n    </tr>\n  </tbody>\n</table>\n<p>5 rows × 52 columns</p>\n</div>"
     },
     "execution_count": 24,
     "metadata": {},
     "output_type": "execute_result"
    }
   ],
   "source": [
    "features_bond_df.head()"
   ],
   "metadata": {
    "collapsed": false,
    "ExecuteTime": {
     "end_time": "2023-12-06T08:01:22.262575300Z",
     "start_time": "2023-12-06T08:01:22.104331700Z"
    }
   },
   "id": "69f720969e70a3e2"
  },
  {
   "cell_type": "code",
   "execution_count": 25,
   "outputs": [
    {
     "data": {
      "text/plain": "                               Unnamed: 0   structure_name   structure_path  \\\n2384481  86345_super.cif_Atom529_Bond1453  86345_super.cif  supercells_data   \n2384482  86345_super.cif_Atom529_Bond1454  86345_super.cif  supercells_data   \n2384483  86345_super.cif_Atom530_Bond1455  86345_super.cif  supercells_data   \n2384484  86345_super.cif_Atom530_Bond1456  86345_super.cif  supercells_data   \n2384485  86345_super.cif_Atom531_Bond1457  86345_super.cif  supercells_data   \n\n         site Number_atom1  site Number_atom2  site AtomicWeight_diff  \\\n2384481                8.0                8.0                     0.0   \n2384482                8.0                8.0                     0.0   \n2384483                8.0                8.0                     0.0   \n2384484                8.0                8.0                     0.0   \n2384485                8.0                8.0                     0.0   \n\n         site AtomicWeight_atom1  site AtomicWeight_atom2  site Row_atom1  \\\n2384481                  15.9994                  15.9994             2.0   \n2384482                  15.9994                  15.9994             2.0   \n2384483                  15.9994                  15.9994             2.0   \n2384484                  15.9994                  15.9994             2.0   \n2384485                  15.9994                  15.9994             2.0   \n\n         site Row_atom2  ...  G4_0.005_1.0_1.0_atom2  G4_0.005_1.0_-1.0_atom1  \\\n2384481             2.0  ...                3.701065                 1.178408   \n2384482             2.0  ...                3.701065                 1.231454   \n2384483             2.0  ...                3.701282                 1.178247   \n2384484             2.0  ...                3.701282                 1.231488   \n2384485             2.0  ...                3.701284                 1.178241   \n\n         G4_0.005_1.0_-1.0_atom2  G4_0.005_4.0_1.0_atom1  \\\n2384481                 1.157956                1.922302   \n2384482                 1.157956                2.015004   \n2384483                 1.158057                1.922077   \n2384484                 1.158057                2.015068   \n2384485                 1.158054                1.922080   \n\n         G4_0.005_4.0_1.0_atom2  G4_0.005_4.0_-1.0_atom1  \\\n2384481                1.905861                 0.097303   \n2384482                1.905861                 0.103310   \n2384483                1.905949                 0.097272   \n2384484                1.905949                 0.103288   \n2384485                1.905953                 0.097270   \n\n         G4_0.005_4.0_-1.0_atom2  coordination_number  bond_length  \\\n2384481                 0.092867                    6     2.940812   \n2384482                 0.092867                    6     2.992393   \n2384483                 0.092876                    6     2.940812   \n2384484                 0.092876                    6     2.992418   \n2384485                 0.092876                    6     2.940812   \n\n         volume_fraction  \n2384481         0.000789  \n2384482         0.000803  \n2384483         0.000789  \n2384484         0.000803  \n2384485         0.000789  \n\n[5 rows x 52 columns]",
      "text/html": "<div>\n<style scoped>\n    .dataframe tbody tr th:only-of-type {\n        vertical-align: middle;\n    }\n\n    .dataframe tbody tr th {\n        vertical-align: top;\n    }\n\n    .dataframe thead th {\n        text-align: right;\n    }\n</style>\n<table border=\"1\" class=\"dataframe\">\n  <thead>\n    <tr style=\"text-align: right;\">\n      <th></th>\n      <th>Unnamed: 0</th>\n      <th>structure_name</th>\n      <th>structure_path</th>\n      <th>site Number_atom1</th>\n      <th>site Number_atom2</th>\n      <th>site AtomicWeight_diff</th>\n      <th>site AtomicWeight_atom1</th>\n      <th>site AtomicWeight_atom2</th>\n      <th>site Row_atom1</th>\n      <th>site Row_atom2</th>\n      <th>...</th>\n      <th>G4_0.005_1.0_1.0_atom2</th>\n      <th>G4_0.005_1.0_-1.0_atom1</th>\n      <th>G4_0.005_1.0_-1.0_atom2</th>\n      <th>G4_0.005_4.0_1.0_atom1</th>\n      <th>G4_0.005_4.0_1.0_atom2</th>\n      <th>G4_0.005_4.0_-1.0_atom1</th>\n      <th>G4_0.005_4.0_-1.0_atom2</th>\n      <th>coordination_number</th>\n      <th>bond_length</th>\n      <th>volume_fraction</th>\n    </tr>\n  </thead>\n  <tbody>\n    <tr>\n      <th>2384481</th>\n      <td>86345_super.cif_Atom529_Bond1453</td>\n      <td>86345_super.cif</td>\n      <td>supercells_data</td>\n      <td>8.0</td>\n      <td>8.0</td>\n      <td>0.0</td>\n      <td>15.9994</td>\n      <td>15.9994</td>\n      <td>2.0</td>\n      <td>2.0</td>\n      <td>...</td>\n      <td>3.701065</td>\n      <td>1.178408</td>\n      <td>1.157956</td>\n      <td>1.922302</td>\n      <td>1.905861</td>\n      <td>0.097303</td>\n      <td>0.092867</td>\n      <td>6</td>\n      <td>2.940812</td>\n      <td>0.000789</td>\n    </tr>\n    <tr>\n      <th>2384482</th>\n      <td>86345_super.cif_Atom529_Bond1454</td>\n      <td>86345_super.cif</td>\n      <td>supercells_data</td>\n      <td>8.0</td>\n      <td>8.0</td>\n      <td>0.0</td>\n      <td>15.9994</td>\n      <td>15.9994</td>\n      <td>2.0</td>\n      <td>2.0</td>\n      <td>...</td>\n      <td>3.701065</td>\n      <td>1.231454</td>\n      <td>1.157956</td>\n      <td>2.015004</td>\n      <td>1.905861</td>\n      <td>0.103310</td>\n      <td>0.092867</td>\n      <td>6</td>\n      <td>2.992393</td>\n      <td>0.000803</td>\n    </tr>\n    <tr>\n      <th>2384483</th>\n      <td>86345_super.cif_Atom530_Bond1455</td>\n      <td>86345_super.cif</td>\n      <td>supercells_data</td>\n      <td>8.0</td>\n      <td>8.0</td>\n      <td>0.0</td>\n      <td>15.9994</td>\n      <td>15.9994</td>\n      <td>2.0</td>\n      <td>2.0</td>\n      <td>...</td>\n      <td>3.701282</td>\n      <td>1.178247</td>\n      <td>1.158057</td>\n      <td>1.922077</td>\n      <td>1.905949</td>\n      <td>0.097272</td>\n      <td>0.092876</td>\n      <td>6</td>\n      <td>2.940812</td>\n      <td>0.000789</td>\n    </tr>\n    <tr>\n      <th>2384484</th>\n      <td>86345_super.cif_Atom530_Bond1456</td>\n      <td>86345_super.cif</td>\n      <td>supercells_data</td>\n      <td>8.0</td>\n      <td>8.0</td>\n      <td>0.0</td>\n      <td>15.9994</td>\n      <td>15.9994</td>\n      <td>2.0</td>\n      <td>2.0</td>\n      <td>...</td>\n      <td>3.701282</td>\n      <td>1.231488</td>\n      <td>1.158057</td>\n      <td>2.015068</td>\n      <td>1.905949</td>\n      <td>0.103288</td>\n      <td>0.092876</td>\n      <td>6</td>\n      <td>2.992418</td>\n      <td>0.000803</td>\n    </tr>\n    <tr>\n      <th>2384485</th>\n      <td>86345_super.cif_Atom531_Bond1457</td>\n      <td>86345_super.cif</td>\n      <td>supercells_data</td>\n      <td>8.0</td>\n      <td>8.0</td>\n      <td>0.0</td>\n      <td>15.9994</td>\n      <td>15.9994</td>\n      <td>2.0</td>\n      <td>2.0</td>\n      <td>...</td>\n      <td>3.701284</td>\n      <td>1.178241</td>\n      <td>1.158054</td>\n      <td>1.922080</td>\n      <td>1.905953</td>\n      <td>0.097270</td>\n      <td>0.092876</td>\n      <td>6</td>\n      <td>2.940812</td>\n      <td>0.000789</td>\n    </tr>\n  </tbody>\n</table>\n<p>5 rows × 52 columns</p>\n</div>"
     },
     "execution_count": 25,
     "metadata": {},
     "output_type": "execute_result"
    }
   ],
   "source": [
    "features_bond_df.tail()"
   ],
   "metadata": {
    "collapsed": false,
    "ExecuteTime": {
     "end_time": "2023-12-06T08:01:22.281361100Z",
     "start_time": "2023-12-06T08:01:22.265739200Z"
    }
   },
   "id": "9a9147491e36be01"
  },
  {
   "cell_type": "markdown",
   "source": [
    "## Violin Plots of Different Features"
   ],
   "metadata": {
    "collapsed": false
   },
   "id": "548d106a10dcdae5"
  },
  {
   "cell_type": "code",
   "execution_count": 39,
   "outputs": [],
   "source": [
    "# Variables of Interst\n",
    "def violin_plots(variables, units, data):\n",
    "    for v, u in zip(variables, units):\n",
    "        fig, axes = plt.subplots()\n",
    "        axes.violinplot(dataset = data[v].to_numpy() )\n",
    "        axes.set_title('Data Distribution for {}'.format(v))\n",
    "        axes.set_ylabel(u)\n",
    "        axes.set_xlabel(v)\n",
    "        plt.savefig(\"figs/\"+v+\"_violin.png\")\n",
    "        plt.show()"
   ],
   "metadata": {
    "collapsed": false,
    "ExecuteTime": {
     "end_time": "2023-12-06T08:10:11.930359700Z",
     "start_time": "2023-12-06T08:10:11.912399700Z"
    }
   },
   "id": "56cb18dc942dfdf4"
  },
  {
   "cell_type": "code",
   "execution_count": null,
   "outputs": [],
   "source": [
    "    \n",
    "# Bond Data\n",
    "variables = [ 'site AtomicWeight_atom1', 'bond_length', 'site CovalentRadius_atom1', 'site Electronegativity_atom1', 'coordination_number']\n",
    "units = ['amu', 'Angstroms', 'picometers', 'Electronegativity', 'Coord #']\n",
    "violin_plots(variables, units, features_bond_df)\n",
    "\n",
    "# Labels\n",
    "variables = ['thermal_expansion', 'temperature']\n",
    "units = ['10^-6/K', 'Kelvin']\n",
    "violin_plots(variables, units, labels_df)\n",
    "\n",
    "# Structure\n",
    "variables = ['structural complexity per atom', 'jml_density']\n",
    "units = ['bits/atom', 'JarvisML Density (?)']\n",
    "violin_plots(variables, units, features_struc_df)"
   ],
   "metadata": {
    "collapsed": false
   },
   "id": "75195d29640a3a9f"
  },
  {
   "cell_type": "markdown",
   "source": [
    "## Average features for each structure by bond volume fraction"
   ],
   "metadata": {
    "collapsed": false
   },
   "id": "23d19a59b7c91f14"
  },
  {
   "cell_type": "code",
   "execution_count": 8,
   "outputs": [],
   "source": [
    "# Make each structure described by weighted average \n",
    "features_dict = dict()\n",
    "d = len(columns_all)  # Number of features considered\n",
    "i = 0\n",
    "for idx in features_bond_df.index:\n",
    "    if feature_phase_ids[i] not in features_dict.keys():     \n",
    "        features_dict[feature_phase_ids[i]] = np.zeros(d)\n",
    "    # For feature selection, each feature is a weighted sum of its constituent bond features\n",
    "    features_dict[feature_phase_ids[i]] = features_dict[feature_phase_ids[i]] + features_bond_df.loc[idx, columns_all].to_numpy()*feature_weights[i]\n",
    "    i += 1\n"
   ],
   "metadata": {
    "collapsed": false,
    "ExecuteTime": {
     "start_time": "2023-12-06T04:58:26.549393300Z"
    }
   },
   "id": "b6cd54617c29e8f2"
  },
  {
   "cell_type": "markdown",
   "source": [
    "## Copy over features for each label"
   ],
   "metadata": {
    "collapsed": false
   },
   "id": "ad812c23bff37b7f"
  },
  {
   "cell_type": "code",
   "execution_count": 9,
   "outputs": [
    {
     "name": "stdout",
     "output_type": "stream",
     "text": [
      "Phases  13996  not found in structures\n",
      "Phases  131156  not found in structures\n",
      "Phases  130566  not found in structures\n",
      "Phases  71777  not found in structures\n",
      "Phases  71777  not found in structures\n",
      "Phases  71776  not found in structures\n",
      "Phases  71776  not found in structures\n",
      "Phases  142888  not found in structures\n",
      "Phases  127780  not found in structures\n",
      "Phases  122321  not found in structures\n",
      "Phases  59916  not found in structures\n",
      "Phases  9782  not found in structures\n",
      "Phases  12354  not found in structures\n",
      "Phases  70111  not found in structures\n",
      "Phases  70110  not found in structures\n",
      "Phases  70180  not found in structures\n",
      "Phases  70109  not found in structures\n",
      "Phases  70109  not found in structures\n",
      "Phases  77642  not found in structures\n",
      "Phases  128280  not found in structures\n",
      "Phases  70179  not found in structures\n",
      "Phases  15966  not found in structures\n",
      "Phases  15933  not found in structures\n",
      "Phases  120633  not found in structures\n",
      "Phases  120634  not found in structures\n",
      "Phases  26534  not found in structures\n",
      "Phases  123165  not found in structures\n",
      "Phases  128370  not found in structures\n",
      "Phases  128369  not found in structures\n",
      "Phases  175446  not found in structures\n",
      "Phases  123166  not found in structures\n",
      "Phases  86000  not found in structures\n",
      "Phases  86170  not found in structures\n",
      "Phases  86171  not found in structures\n",
      "Phases  86001  not found in structures\n",
      "Phases  129831  not found in structures\n",
      "Phases  129832  not found in structures\n",
      "Phases  129833  not found in structures\n",
      "Phases  26531  not found in structures\n",
      "Phases  27104  not found in structures\n",
      "Phases  9782  not found in structures\n",
      "Phases  138923  not found in structures\n",
      "Phases  139360  not found in structures\n",
      "Phases  139361  not found in structures\n",
      "Phases  77138  not found in structures\n",
      "Phases  12354  not found in structures\n",
      "Phases  12450  not found in structures\n",
      "Phases  13996  not found in structures\n",
      "Phases  15498  not found in structures\n",
      "Phases  15305  not found in structures\n",
      "Phases  33762  not found in structures\n",
      "Phases  33762  not found in structures\n",
      "Phases  34662  not found in structures\n",
      "Phases  34662  not found in structures\n",
      "Phases  34662  not found in structures\n",
      "Phases  91382  not found in structures\n",
      "Phases  91382  not found in structures\n",
      "Phases  91385  not found in structures\n",
      "Phases  91385  not found in structures\n",
      "Phases  91387  not found in structures\n",
      "Phases  91384  not found in structures\n",
      "Phases  91386  not found in structures\n",
      "Phases  170350  not found in structures\n",
      "Phases  130445  not found in structures\n",
      "Phases  128280  not found in structures\n",
      "Phases  97615  not found in structures\n",
      "Phases  100055  not found in structures\n",
      "Phases  100055  not found in structures\n",
      "Phases  88483  not found in structures\n",
      "Phases  88489  not found in structures\n",
      "Phases  95569  not found in structures\n",
      "Phases  95569  not found in structures\n",
      "Phases  95569  not found in structures\n",
      "Phases  95569  not found in structures\n",
      "Phases  83037  not found in structures\n",
      "Phases  83037  not found in structures\n",
      "Phases  94093  not found in structures\n",
      "Phases  94093  not found in structures\n",
      "Phases  94093  not found in structures\n",
      "Phases  94094  not found in structures\n",
      "Phases  94094  not found in structures\n",
      "Phases  94094  not found in structures\n",
      "Phases  77247  not found in structures\n",
      "Phases  77247  not found in structures\n",
      "Phases  77247  not found in structures\n",
      "Phases  106509  not found in structures\n",
      "Phases  106509  not found in structures\n",
      "Phases  106509  not found in structures\n",
      "Phases  107731  not found in structures\n",
      "Phases  107731  not found in structures\n",
      "Phases  107882  not found in structures\n",
      "Phases  107882  not found in structures\n",
      "Phases  59093  not found in structures\n",
      "Phases  109601  not found in structures\n",
      "Phases  95569  not found in structures\n",
      "Phases  13668  not found in structures\n",
      "Phases  13668  not found in structures\n",
      "Phases  13668  not found in structures\n",
      "Phases  11746  not found in structures\n",
      "Phases  37592  not found in structures\n",
      "Phases  100836  not found in structures\n",
      "Phases  68156  not found in structures\n",
      "Phases  7583  not found in structures\n",
      "Phases  27104  not found in structures\n",
      "Phases  5343  not found in structures\n",
      "Phases  5343  not found in structures\n",
      "Phases  5343  not found in structures\n",
      "Phases  5343  not found in structures\n",
      "Phases  26763  not found in structures\n",
      "Phases  100748  not found in structures\n",
      "Phases  87440  not found in structures\n",
      "Phases  87440  not found in structures\n",
      "Phases  45697  not found in structures\n",
      "Phases  95304  not found in structures\n",
      "Phases  47236  not found in structures\n",
      "Phases  129850  not found in structures\n",
      "Phases  172782  not found in structures\n",
      "Phases  141316  not found in structures\n",
      "Phases  141316  not found in structures\n",
      "Phases  141316  not found in structures\n",
      "Phases  34272  not found in structures\n",
      "Phases  34272  not found in structures\n",
      "Phases  34272  not found in structures\n",
      "Phases  78021  not found in structures\n",
      "Phases  78021  not found in structures\n",
      "Phases  78022  not found in structures\n",
      "Phases  78022  not found in structures\n",
      "Phases  88303  not found in structures\n",
      "Phases  9782  not found in structures\n",
      "Phases  55540  not found in structures\n",
      "Phases  143892  not found in structures\n",
      "Phases  130922  not found in structures\n",
      "Phases  77642  not found in structures\n",
      "Phases  77642  not found in structures\n",
      "Phases  77642  not found in structures\n",
      "Phases  12219  not found in structures\n",
      "Phases  129618  not found in structures\n",
      "Phases  12735  not found in structures\n",
      "Phases  15966  not found in structures\n",
      "Phases  15966  not found in structures\n",
      "Phases  138128  not found in structures\n",
      "Phases  98976  not found in structures\n",
      "Phases  99023  not found in structures\n",
      "Phases  127757  not found in structures\n",
      "Phases  127758  not found in structures\n",
      "Phases  127756  not found in structures\n",
      "Phases  26763  not found in structures\n",
      "Phases  168252  not found in structures\n",
      "Phases  168252  not found in structures\n",
      "Phases  18625  not found in structures\n",
      "Phases  13639  not found in structures\n",
      "Phases  14037  not found in structures\n",
      "Phases  15774  not found in structures\n",
      "Phases  37627  not found in structures\n",
      "Phases  37627  not found in structures\n",
      "Phases  12219  not found in structures\n",
      "Phases  129618  not found in structures\n",
      "Phases  5343  not found in structures\n",
      "Phases  7278  not found in structures\n",
      "Total Number of Labels:  1240\n",
      "Labels Skipped Total:  159\n"
     ]
    }
   ],
   "source": [
    "# Copy over labels to each bond (just for correlation)\n",
    "y = list()\n",
    "temps = list()\n",
    "combined_data = dict()\n",
    "labels_skipped = 0\n",
    "i = 0\n",
    "for idx in labels_df.index:\n",
    "    phase = str(int(labels_df.loc[idx, 'phase_id']))\n",
    "    if phase in features_dict.keys():\n",
    "        combined_data[idx] = features_dict[phase]\n",
    "        y.append( labels_df.loc[idx, \"thermal_expansion\"] )\n",
    "        temps.append( labels_df.loc[idx, \"temperature\"] )\n",
    "    else:\n",
    "        print(\"Phases \", phase, \" not found in structures\")\n",
    "        labels_skipped += 1\n",
    "    i += 1\n",
    "\n",
    "print(\"Total Number of Labels: \", len(labels_df))\n",
    "print(\"Labels Skipped Total: \", labels_skipped)\n",
    "# New dataframe with features and labels\n",
    "combined_df = pd.DataFrame.from_dict(combined_data, orient='index', columns=columns_all)\n",
    "combined_df['temperature'] = temps\n",
    "combined_df['thermal_expansion'] = y"
   ],
   "metadata": {
    "collapsed": false,
    "ExecuteTime": {
     "start_time": "2023-12-06T05:13:26.266233300Z"
    }
   },
   "id": "7a24f5d3fde8c3b0"
  },
  {
   "cell_type": "markdown",
   "source": [
    "## Find Correlation Coefficients for Features"
   ],
   "metadata": {
    "collapsed": false
   },
   "id": "5dd5e5095d4e9b83"
  },
  {
   "cell_type": "code",
   "execution_count": null,
   "outputs": [],
   "source": [
    "select_columns = [\"site AtomicWeight_atom1\",  \"site Electronegativity_diff\", \"site CovalentRadius_atom1\", \"AGNI eta=8.00e-01_atom1\", \"AGNI eta=6.80e+00_atom2\", \"G2_0.05_atom1\", \"coordination_number\", \"bond_length\", \"temperature\"]\n",
    "\n",
    "## Generate Heat Map for Correlation Matrix ##\n",
    "select_columns.append(\"thermal_expansion\")\n",
    "\n",
    "## List correlation with TEC for all features\n",
    "for i in range(len(columns_all)):\n",
    "    print(columns_all[i])\n",
    "    print(np.corrcoef(combined_df[[columns_all[i], 'thermal_expansion']].to_numpy().T)[0][1] )\n"
   ],
   "metadata": {
    "collapsed": false,
    "is_executing": true
   },
   "id": "922589298ab63a24"
  },
  {
   "cell_type": "code",
   "execution_count": null,
   "outputs": [],
   "source": [
    "# Pearson for Selected Labels\n",
    "pearson = np.corrcoef(combined_df[select_columns].to_numpy().T)\n",
    "fig, ax = plt.subplots()\n",
    "im = ax.imshow(pearson, aspect='auto')\n",
    "# Show all ticks and label them with the respective list entries\n",
    "ax.set_xticks(np.arange(len(select_columns)), labels=select_columns)\n",
    "ax.set_yticks(np.arange(len(select_columns)), labels=select_columns)\n",
    "plt.setp(ax.get_xticklabels(), rotation=45, ha=\"right\", rotation_mode=\"anchor\")\n",
    "# Loop over data dimensions and create text annotations.\n",
    "for i in range(len(select_columns)):\n",
    "    for j in range(len(select_columns)):\n",
    "        text = ax.text(j, i, np.round(100*pearson[i, j])/100,\n",
    "                       ha=\"center\", va=\"center\", color=\"w\")\n",
    "ax.set_title(\"Pearson Correlation Matrix\")\n",
    "fig.tight_layout()\n",
    "plt.savefig(\"figs/\"+\"pearson.png\")\n",
    "plt.show()\n"
   ],
   "metadata": {
    "collapsed": false,
    "is_executing": true
   },
   "id": "f2b2e5fca19906b7"
  },
  {
   "cell_type": "code",
   "execution_count": null,
   "outputs": [],
   "source": [
    "# Spearman for Selected Labels\n",
    "spearman = scipy.stats.spearmanr(combined_df[select_columns].to_numpy()).statistic\n",
    "fig, ax = plt.subplots()\n",
    "im = ax.imshow(spearman, aspect='auto')\n",
    "# Show all ticks and label them with the respective list entries\n",
    "ax.set_xticks(np.arange(len(select_columns)), labels=select_columns)\n",
    "ax.set_yticks(np.arange(len(select_columns)), labels=select_columns)\n",
    "plt.setp(ax.get_xticklabels(), rotation=45, ha=\"right\", rotation_mode=\"anchor\")\n",
    "# Loop over data dimensions and create text annotations.\n",
    "for i in range(len(select_columns)):\n",
    "    for j in range(len(select_columns)):\n",
    "        text = ax.text(j, i, np.round(100*spearman[i, j])/100,\n",
    "                       ha=\"center\", va=\"center\", color=\"w\")\n",
    "\n",
    "ax.set_title(\"Spearman Correlation Matrix\")\n",
    "fig.tight_layout()\n",
    "plt.savefig(\"figs/\"+\"spearman.png\")\n",
    "plt.show()\n"
   ],
   "metadata": {
    "collapsed": false,
    "is_executing": true
   },
   "id": "93019552127b1381"
  },
  {
   "cell_type": "markdown",
   "source": [
    "## List Common Elements and Space Groups"
   ],
   "metadata": {
    "collapsed": false
   },
   "id": "52ea0ab4b1aee1b"
  },
  {
   "cell_type": "code",
   "execution_count": 2,
   "outputs": [],
   "source": [],
   "metadata": {
    "collapsed": false,
    "ExecuteTime": {
     "start_time": "2023-11-20T23:36:09.140564900Z"
    }
   },
   "id": "3961a4166083dff4"
  },
  {
   "cell_type": "markdown",
   "source": [
    "## Violin Plots of TECs and for different subgroups"
   ],
   "metadata": {
    "collapsed": false
   },
   "id": "1376e26ad6b4aa2d"
  },
  {
   "cell_type": "code",
   "execution_count": null,
   "outputs": [],
   "source": [],
   "metadata": {
    "collapsed": false
   },
   "id": "feea22fc80ab4116"
  }
 ],
 "metadata": {
  "kernelspec": {
   "display_name": "Python 3",
   "language": "python",
   "name": "python3"
  },
  "language_info": {
   "codemirror_mode": {
    "name": "ipython",
    "version": 2
   },
   "file_extension": ".py",
   "mimetype": "text/x-python",
   "name": "python",
   "nbconvert_exporter": "python",
   "pygments_lexer": "ipython2",
   "version": "2.7.6"
  }
 },
 "nbformat": 4,
 "nbformat_minor": 5
}

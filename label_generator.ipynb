{
 "cells": [
  {
   "cell_type": "code",
   "execution_count": 2,
   "id": "b4800d1ebd7c4841",
   "metadata": {
    "collapsed": true,
    "ExecuteTime": {
     "end_time": "2023-10-27T05:47:32.843762700Z",
     "start_time": "2023-10-27T05:47:32.427294Z"
    }
   },
   "outputs": [],
   "source": [
    "import os\n",
    "import json\n",
    "import pandas as pd\n",
    "import numpy as np"
   ]
  },
  {
   "cell_type": "code",
   "execution_count": 3,
   "outputs": [],
   "source": [
    "input_dir = \"raw_oxide_data/\"\n",
    "output_dir = \"labels/\"\n",
    "\n",
    "# Load all CIF files in\n",
    "file_type = \".json\"\n",
    "files = os.listdir(input_dir)\n",
    "json_files = [file for file in files if file.endswith(file_type)]\n",
    "# Make Output Directory if needed\n",
    "if not os.path.isdir(output_dir):\n",
    "    os.mkdir(output_dir)\n",
    "\n",
    "labels = {}\n",
    "for file in json_files:\n",
    "    f = open(input_dir+file)\n",
    "    data = json.load(f)\n",
    "    name = file.split(\".json\")[0]\n",
    "    labels[name] = {\"structure_name\": name}\n",
    "    labels[name].update({\"thermal_expansion\": 1e6*data[\"sample\"][\"measurement\"][0][\"property\"][\"scalar\"]})  # IN 1e-6/K UNITS\n",
    "    if \"scalar\" in data[\"sample\"][\"measurement\"][0][\"condition\"][0].keys():\n",
    "        labels[name].update({\"temperature\": data[\"sample\"][\"measurement\"][0][\"condition\"][0][\"scalar\"]})\n",
    "    else:\n",
    "        labels[name].update({\"temperature\": np.mean(data[\"sample\"][\"measurement\"][0][\"condition\"][0][\"range\"])})\n",
    "        # TODO: dont just use mean of data range\n",
    "    f.close()\n",
    "    \n",
    "# Save to file\n",
    "labels_df = pd.DataFrame.from_dict(labels).T\n",
    "labels_df.to_csv(output_dir+\"labels.csv\")"
   ],
   "metadata": {
    "collapsed": false,
    "ExecuteTime": {
     "end_time": "2023-10-27T05:47:32.859480400Z",
     "start_time": "2023-10-27T05:47:32.848239900Z"
    }
   },
   "id": "initial_id"
  },
  {
   "cell_type": "code",
   "execution_count": null,
   "outputs": [],
   "source": [],
   "metadata": {
    "collapsed": false
   },
   "id": "39d89b4d75db98d7"
  }
 ],
 "metadata": {
  "kernelspec": {
   "display_name": "Python 3",
   "language": "python",
   "name": "python3"
  },
  "language_info": {
   "codemirror_mode": {
    "name": "ipython",
    "version": 2
   },
   "file_extension": ".py",
   "mimetype": "text/x-python",
   "name": "python",
   "nbconvert_exporter": "python",
   "pygments_lexer": "ipython2",
   "version": "2.7.6"
  }
 },
 "nbformat": 4,
 "nbformat_minor": 5
}

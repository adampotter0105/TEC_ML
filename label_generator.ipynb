{
 "cells": [
  {
   "cell_type": "code",
   "execution_count": 1,
   "id": "b4800d1ebd7c4841",
   "metadata": {
    "collapsed": true,
    "ExecuteTime": {
     "end_time": "2023-11-16T20:42:17.192753900Z",
     "start_time": "2023-11-16T20:42:16.765723300Z"
    }
   },
   "outputs": [],
   "source": [
    "import os\n",
    "import json\n",
    "import pandas as pd\n",
    "import numpy as np"
   ]
  },
  {
   "cell_type": "code",
   "execution_count": 3,
   "outputs": [],
   "source": [
    "def generate_labels(file_list, saveto):\n",
    "    labels = {}\n",
    "    for file in file_list:\n",
    "        f = open(input_dir+file)\n",
    "        data = json.load(f)\n",
    "        name = file.split(\".json\")[0]\n",
    "        labels[name] = {\"phase_id\": data[\"sample\"][\"material\"][\"phase_id\"]}\n",
    "        # FIND TEC IN 1e-6/K UNITS\n",
    "        property_name = data[\"sample\"][\"measurement\"][0][\"property\"][\"name\"]\n",
    "        if property_name == \"linear thermal expansion coefficient\":    \n",
    "            labels[name].update({\"thermal_expansion\": 1e6*data[\"sample\"][\"measurement\"][0][\"property\"][\"scalar\"]})  \n",
    "        elif property_name == \"volume thermal expansion coefficient\":\n",
    "            # Convert volume TEC to linear TEC by dividing by 3\n",
    "            labels[name].update({\"thermal_expansion\": (1e6/3)*data[\"sample\"][\"measurement\"][0][\"property\"][\"scalar\"]})\n",
    "        else:\n",
    "            raise Exception(\"Unexpected property found: \", property_name)\n",
    "        \n",
    "        # Save temperature conditions of \n",
    "        if \"scalar\" in data[\"sample\"][\"measurement\"][0][\"condition\"][0].keys():\n",
    "            labels[name].update({\"temperature\": data[\"sample\"][\"measurement\"][0][\"condition\"][0][\"scalar\"]})\n",
    "        else:\n",
    "            # If a range of temperatures is given, record the midpoint \n",
    "            labels[name].update({\"temperature\": np.mean(data[\"sample\"][\"measurement\"][0][\"condition\"][0][\"range\"])})\n",
    "            # TODO: dont just use mean of data range\n",
    "        f.close()\n",
    "        \n",
    "    # Save to file\n",
    "    labels_df = pd.DataFrame.from_dict(labels).T\n",
    "    labels_df.to_csv(saveto)"
   ],
   "metadata": {
    "collapsed": false,
    "ExecuteTime": {
     "end_time": "2023-11-16T20:42:42.942838400Z",
     "start_time": "2023-11-16T20:42:42.929392200Z"
    }
   },
   "id": "initial_id"
  },
  {
   "cell_type": "code",
   "execution_count": 5,
   "outputs": [],
   "source": [
    "# File Management\n",
    "input_dir = \"data_linear/\"  # Input json files\n",
    "output_dir = \"labels/\"  # Output labels\n",
    "filename = \"labels_linear.csv\"  # name of labels file\n",
    "\n",
    "if not os.path.isdir(output_dir):\n",
    "    os.mkdir(output_dir)\n",
    "\n",
    "# Load all CIF files in\n",
    "file_type = \".json\"\n",
    "files = os.listdir(input_dir)\n",
    "json_files = [file for file in files if file.endswith(file_type)]\n",
    "# Make Output Directory if needed\n",
    "if not os.path.isdir(output_dir):\n",
    "    os.mkdir(output_dir)\n",
    "\n",
    "generate_labels(json_files, output_dir+filename)"
   ],
   "metadata": {
    "collapsed": false,
    "ExecuteTime": {
     "end_time": "2023-11-16T20:44:18.599718500Z",
     "start_time": "2023-11-16T20:44:18.327954600Z"
    }
   },
   "id": "39d89b4d75db98d7"
  },
  {
   "cell_type": "code",
   "execution_count": null,
   "outputs": [],
   "source": [],
   "metadata": {
    "collapsed": false
   },
   "id": "d2242ecb8b7300b3"
  }
 ],
 "metadata": {
  "kernelspec": {
   "display_name": "Python 3",
   "language": "python",
   "name": "python3"
  },
  "language_info": {
   "codemirror_mode": {
    "name": "ipython",
    "version": 2
   },
   "file_extension": ".py",
   "mimetype": "text/x-python",
   "name": "python",
   "nbconvert_exporter": "python",
   "pygments_lexer": "ipython2",
   "version": "2.7.6"
  }
 },
 "nbformat": 4,
 "nbformat_minor": 5
}

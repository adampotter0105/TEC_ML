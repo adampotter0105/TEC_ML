{
 "cells": [
  {
   "cell_type": "code",
   "execution_count": 1,
   "id": "d7fafa898d47193d",
   "metadata": {
    "ExecuteTime": {
     "end_time": "2023-12-09T20:43:48.208886300Z",
     "start_time": "2023-12-09T20:43:44.842251900Z"
    }
   },
   "outputs": [],
   "source": [
    "import matplotlib.pyplot as plt\n",
    "import numpy as np\n",
    "import torch\n",
    "import torch.nn as nn\n",
    "import torch.nn.functional as F\n",
    "import torch.optim as optim\n",
    "from torch.nn.utils.rnn import pad_sequence\n",
    "from torch.utils.data import DataLoader, TensorDataset\n",
    "import pandas as pd\n",
    "from sklearn.model_selection import KFold\n",
    "from sklearn.metrics import mean_squared_error, mean_absolute_error, r2_score\n",
    "import random"
   ]
  },
  {
   "cell_type": "code",
   "execution_count": 2,
   "id": "d45af5ddedb017ad",
   "metadata": {
    "ExecuteTime": {
     "start_time": "2023-12-09T20:43:48.208886300Z"
    }
   },
   "outputs": [],
   "source": [
    "class BondExpansionEstimator(nn.Module):\n",
    "    def __init__(self, input_size, hidden_layers, check_weights = True):\n",
    "        super(BondExpansionEstimator, self).__init__()\n",
    "        self.input_size = input_size\n",
    "        self.hidden_layers = hidden_layers\n",
    "        self.check_weights = check_weights\n",
    "        self.hidden1 = nn.Linear(input_size, hidden_layers[0])\n",
    "        self.hidden2 = nn.Linear(hidden_layers[0], hidden_layers[1])\n",
    "        self.hidden3 = nn.Linear(hidden_layers[1], 1)\n",
    "\n",
    "    def forward(self, x):\n",
    "        # Select data related to individual bonds\n",
    "        # Data- 2D   seq x feat\n",
    "        seq_len = x.shape[0]\n",
    "        bond_data = x[:, 0:-1]\n",
    "        bond_data = bond_data.view(-1, self.input_size)\n",
    "        # Assume last column of data is bond weight (fraction of volume)\n",
    "        vol_fracs = x[:, -1]\n",
    "        # Check the bond weights are well normalized\n",
    "        if self.check_weights:\n",
    "            assert torch.abs(torch.sum(vol_fracs) - 1) < 1e-5 \n",
    "        \n",
    "        # Run all hidden layers\n",
    "        out = torch.relu(self.hidden1(bond_data))\n",
    "        out = torch.relu(self.hidden2(out))\n",
    "        out = self.hidden3(out)\n",
    "        out = out.view(-1, seq_len)\n",
    "        # Sum all bonds according to their bond fractions\n",
    "        summed = torch.sum(out*vol_fracs)\n",
    "        return summed\n",
    "\n",
    "class LatticeDistortionEstimator(nn.Module):\n",
    "    def __init__(self, input_size):\n",
    "        super(LatticeDistortionEstimator, self).__init__()\n",
    "        self.input_size = input_size\n",
    "        self.layer1 = nn.Linear(input_size+1, input_size)\n",
    "        self.layer2 = nn.Linear(input_size, input_size)\n",
    "        self.layer3 = nn.Linear(input_size, input_size)\n",
    "        self.layer4 = nn.Linear(input_size, 1)\n",
    "\n",
    "    def forward(self, x):\n",
    "        # Run all hidden layers\n",
    "        out = torch.relu(self.layer1(x))\n",
    "        out = torch.relu(self.layer2(out))  # Previously sigmoid\n",
    "        out = torch.relu(self.layer3(out))\n",
    "        out = torch.relu(self.layer4(out))\n",
    "\n",
    "        return out\n",
    "\n",
    "class CombinedModel(nn.Module):\n",
    "    def __init__(self, model_a, model_b):\n",
    "        super(CombinedModel, self).__init__()\n",
    "        self.model_a = model_a\n",
    "        self.model_b = model_b\n",
    "\n",
    "    def forward(self, x1, x2):\n",
    "        output_a = self.model_a(x1)\n",
    "        input_b = torch.cat((output_a.unsqueeze(0), x2), dim=-1)\n",
    "        output_b = self.model_b(input_b)\n",
    "        \n",
    "        # model_b output is a linear transofrmation on model_a output\n",
    "        #torch.flatten(output_a*torch.select(output_b, 0, 0)+torch.select(output_b, 0, 1)) \n",
    "        return output_b\n"
   ]
  },
  {
   "cell_type": "code",
   "execution_count": 3,
   "id": "ff995f99972e0cd3",
   "metadata": {
    "ExecuteTime": {
     "start_time": "2023-12-09T20:44:01.097609700Z"
    }
   },
   "outputs": [],
   "source": [
    "def score_data(model, X_bond, X_struc, y):\n",
    "    model.eval()\n",
    "    with torch.no_grad():\n",
    "        y_pred = []\n",
    "        for x, x_struc in zip(X_bond, X_struc):\n",
    "            if torch.cuda.is_available():\n",
    "                x, x_struc = x.to('cuda'), x_struc.to('cuda')\n",
    "            y_pred.append(model(x, x_struc).cpu())\n",
    "\n",
    "        y_pred = torch.cat(y_pred, dim=-1)\n",
    "\n",
    "    metric1 = mean_squared_error(y.numpy(), y_pred.numpy())\n",
    "    metric2 = mean_absolute_error(y.numpy(), y_pred.numpy())\n",
    "    metric3 = r2_score(y.numpy(), y_pred.numpy())\n",
    "    metric4 = np.var(np.abs(y.numpy(), y_pred.numpy()))\n",
    "    \n",
    "    return [metric1, metric2, metric3, metric4]"
   ]
  },
  {
   "cell_type": "code",
   "execution_count": 4,
   "id": "be38085f",
   "metadata": {},
   "outputs": [],
   "source": [
    "def label_index_ranked(data_labels, label_type):  # space group:group, class:class, structure:struc\n",
    "    if label_type == \"class\":\n",
    "        idx = 0\n",
    "    elif label_type == \"struc\":\n",
    "        idx = 1\n",
    "    elif label_type == \"group\":\n",
    "        idx = 2\n",
    "    else:\n",
    "        print(\"Label type not found!\")\n",
    "        \n",
    "    label_dict = dict()\n",
    "    for i in range(len(data_labels)):\n",
    "        label = data_labels[i][idx]\n",
    "        if label not in label_dict.keys():\n",
    "            label_dict[label] = [i]\n",
    "        else:\n",
    "            label_dict[label].append(i)\n",
    "    _, sorted_keys = zip(*sorted(zip( [len(x) for x in label_dict.values()],  label_dict.keys())))\n",
    "            \n",
    "    return label_dict, reversed(sorted_keys)\n",
    "    "
   ]
  },
  {
   "cell_type": "markdown",
   "id": "cfce1e5f3dd3f365",
   "metadata": {},
   "source": [
    "## Test Use of Model with Fake Data"
   ]
  },
  {
   "cell_type": "code",
   "execution_count": 5,
   "id": "c8e99cfc2f9e4c92",
   "metadata": {
    "ExecuteTime": {
     "start_time": "2023-12-09T17:28:06.534192200Z"
    }
   },
   "outputs": [
    {
     "name": "stdout",
     "output_type": "stream",
     "text": [
      "Number of parameters:  1450\n",
      "Epoch [10/50], Loss: 10.6318\n",
      "Epoch [20/50], Loss: 10.3963\n",
      "Epoch [30/50], Loss: 10.2863\n",
      "Epoch [40/50], Loss: 10.2375\n",
      "Epoch [50/50], Loss: 10.2084\n"
     ]
    }
   ],
   "source": [
    "# Model Parameters\n",
    "bond_input_size = 48\n",
    "distortion_input_size = 4\n",
    "hidden_layers = [20, 20]\n",
    "\n",
    "# Training Parameters\n",
    "learning_rate = 0.0001\n",
    "num_epochs = 50\n",
    "\n",
    "# Create an instance of the AdditiveSequentialModel\n",
    "expansion_model = BondExpansionEstimator(bond_input_size, hidden_layers, check_weights=False)\n",
    "distortion_model = LatticeDistortionEstimator(distortion_input_size)\n",
    "tec_model = CombinedModel(expansion_model, distortion_model)\n",
    "\n",
    "# Define a loss function and optimizer\n",
    "criterion = nn.MSELoss()\n",
    "optimizer = optim.Adam(tec_model.parameters(), lr=learning_rate)  # That's me!!\n",
    "print(\"Number of parameters: \", sum(p.numel() for p in tec_model.parameters()))\n",
    "\n",
    "# Generate random sequential data for training\n",
    "data_size = 1500\n",
    "seq_length = 5\n",
    "test_bond_fracs = 0.3*torch.rand(data_size, seq_length, 1)\n",
    "input_data1 = torch.rand(data_size, seq_length, bond_input_size)\n",
    "input_data2 = torch.rand(data_size, distortion_input_size)+1\n",
    "target_data =  2*torch.randn(data_size, 1)  # Start with noise\n",
    "hidden_A = torch.rand(bond_input_size, 1) # Hidden model\n",
    "hidden_B = torch.rand(distortion_input_size, 1) # Hidden model\n",
    "perfect_lab = torch.ones(data_size, 1)  # Start with noise\n",
    "for i in range(len(target_data)):\n",
    "    target_data[i] = target_data[i] + torch.matmul( torch.matmul(input_data1[i,:,:], hidden_A).T, test_bond_fracs[i,:]) * torch.matmul(input_data2[i,:], hidden_B)\n",
    "    perfect_lab[i] = torch.matmul( torch.matmul(input_data1[i,:,:], hidden_A).T, test_bond_fracs[i,:]) * torch.matmul(input_data2[i,:], hidden_B)\n",
    "input_data1 = torch.cat((input_data1, test_bond_fracs), dim=2)\n",
    "\n",
    "# Training loop\n",
    "loss_log = []\n",
    "for epoch in range(num_epochs):\n",
    "    # Forward pass\n",
    "    losses = []\n",
    "    for in1, in2, y in zip(input_data1, input_data2, target_data):\n",
    "        outputs = tec_model(in1, in2)\n",
    "        loss = criterion(outputs, y)\n",
    "    \n",
    "        # Backward pass and optimization\n",
    "        optimizer.zero_grad()\n",
    "        loss.backward()\n",
    "        optimizer.step()\n",
    "        losses.append(loss.item())\n",
    "    # Print loss every 10 epochs\n",
    "    if (epoch + 1) % 10 == 0:\n",
    "        print(f'Epoch [{epoch+1}/{num_epochs}], Loss: {loss.item():.4f}')\n",
    "\n",
    "# Example of using the trained model for prediction\n",
    "test_input1 = torch.randn(1, seq_length, bond_input_size+1)\n",
    "test_input2 = torch.randn(1, distortion_input_size)\n",
    "predicted_output = torch.zeros(data_size, 1)\n",
    "for i in range(data_size):\n",
    "    predicted_output[i] = tec_model(input_data1[i], input_data2[i])"
   ]
  },
  {
   "cell_type": "code",
   "execution_count": 6,
   "id": "545307ceb3beffbc",
   "metadata": {
    "ExecuteTime": {
     "start_time": "2023-12-09T17:28:11.418466600Z"
    }
   },
   "outputs": [
    {
     "name": "stdout",
     "output_type": "stream",
     "text": [
      "Input1 shape: torch.Size([1, 5, 49])\n",
      "Input2 shape: torch.Size([1, 4])\n"
     ]
    },
    {
     "data": {
      "image/png": "[encoded data removed]",
      "text/plain": [
       "<Figure size 432x288 with 1 Axes>"
      ]
     },
     "metadata": {
      "needs_background": "light"
     },
     "output_type": "display_data"
    },
    {
     "data": {
      "image/png": "[encoded data removed]",
      "text/plain": [
       "<Figure size 432x288 with 1 Axes>"
      ]
     },
     "metadata": {
      "needs_background": "light"
     },
     "output_type": "display_data"
    }
   ],
   "source": [
    "# Results\n",
    "print(\"Input1 shape:\", test_input1.shape)\n",
    "print(\"Input2 shape:\", test_input2.shape)\n",
    "\n",
    "plt.scatter(perfect_lab.numpy(), target_data.numpy())\n",
    "plt.ylabel(\"Noisy val\")\n",
    "plt.xlabel(\"Perfect Label Val\")\n",
    "plt.show()\n",
    "\n",
    "plt.scatter(target_data.numpy(), predicted_output.detach().numpy())\n",
    "plt.xlabel(\"Noisy val\")\n",
    "plt.ylabel(\"Predicted Val\")\n",
    "plt.show()\n"
   ]
  },
  {
   "cell_type": "markdown",
   "id": "d0671156a3c1fda1",
   "metadata": {},
   "source": [
    "## Now Train on Real Data with SGD"
   ]
  },
  {
   "cell_type": "markdown",
   "id": "983de10ec6f16625",
   "metadata": {},
   "source": [
    "## Create and Train Model"
   ]
  },
  {
   "cell_type": "code",
   "execution_count": 77,
   "id": "dc489254eb0ebb7e",
   "metadata": {
    "ExecuteTime": {
     "end_time": "2023-12-09T23:37:30.286076900Z",
     "start_time": "2023-12-09T23:37:29.682457300Z"
    }
   },
   "outputs": [
    {
     "name": "stdout",
     "output_type": "stream",
     "text": [
      "Number labels: 1078\n",
      "Total Number of Bonds:  2080649\n"
     ]
    }
   ],
   "source": [
    "# Load tensors from the file\n",
    "loaded_data = torch.load('features/data_tensors.pth')\n",
    "X = loaded_data['X']\n",
    "X_struc = loaded_data['X_struc']\n",
    "y = loaded_data['y']\n",
    "\n",
    "# Load Preprocessing Parameters\n",
    "X_mean = loaded_data['X_mean']\n",
    "X_std = loaded_data['X_std']\n",
    "X_struc_mean = loaded_data['X_struc_mean']\n",
    "X_struc_std = loaded_data['X_struc_std']\n",
    "y_mean = loaded_data['y_mean']\n",
    "y_std = loaded_data['y_std']\n",
    "print(\"Number labels:\", len(y))\n",
    "\n",
    "num_bonds = 0\n",
    "for x in X:\n",
    "    num_bonds += len(x)\n",
    "print(\"Total Number of Bonds: \", num_bonds)"
   ]
  },
  {
   "cell_type": "code",
   "execution_count": 78,
   "id": "66a6ca5104bd2097",
   "metadata": {
    "ExecuteTime": {
     "end_time": "2023-12-09T23:37:30.560934200Z",
     "start_time": "2023-12-09T23:37:30.543396900Z"
    }
   },
   "outputs": [
    {
     "name": "stdout",
     "output_type": "stream",
     "text": [
      "GPU not available, using CPU...\n"
     ]
    }
   ],
   "source": [
    "# Model Parameters\n",
    "bond_input_size = len(X[0][0])-1  # Don't count bond length weights\n",
    "distortion_input_size = len(X_struc[0])\n",
    "hidden_layers = [30, 30]\n",
    "\n",
    "# Training Parameters\n",
    "learning_rate = 0.0007\n",
    "num_epochs = 150000\n",
    "batch_size = 1  # True SGD due to data being varying length sequences\n",
    "n_splits = 8\n",
    "break_early = True\n",
    "score_n_it = 1000  # Score every N epochs\n",
    "\n",
    "# Set up Cross Validation with K-Folds\n",
    "kf = KFold(n_splits=n_splits, shuffle=True, random_state=42)\n",
    "\n",
    "# Check GPU Availability\n",
    "if torch.cuda.is_available():\n",
    "    print(\"Available GPU Device:\", torch.cuda.get_device_name(0))\n",
    "else: \n",
    "    print(\"GPU not available, using CPU...\")\n"
   ]
  },
  {
   "cell_type": "markdown",
   "id": "5dbf36608de1c532",
   "metadata": {},
   "source": [
    "## Perform k-fold cross-validation"
   ]
  },
  {
   "cell_type": "code",
   "execution_count": 79,
   "id": "439548b197111e5b",
   "metadata": {
    "ExecuteTime": {
     "end_time": "2023-12-10T00:09:03.869817400Z",
     "start_time": "2023-12-09T23:37:31.441349900Z"
    },
    "scrolled": true
   },
   "outputs": [
    {
     "name": "stdout",
     "output_type": "stream",
     "text": [
      "Starting K Fold 1 out of 8\n",
      "Epoch [1000/150000], Loss: 0.8086\n",
      "Epoch [2000/150000], Loss: 0.7716\n",
      "Epoch [3000/150000], Loss: 0.8563\n",
      "Epoch [4000/150000], Loss: 0.8323\n",
      "Epoch [5000/150000], Loss: 0.6553\n",
      "Epoch [6000/150000], Loss: 0.7493\n",
      "Epoch [7000/150000], Loss: 0.5951\n",
      "Epoch [8000/150000], Loss: 0.7505\n",
      "Epoch [9000/150000], Loss: 0.8023\n",
      "Epoch [10000/150000], Loss: 0.5808\n",
      "Epoch [11000/150000], Loss: 0.7447\n",
      "Epoch [12000/150000], Loss: 0.8718\n",
      "Epoch [13000/150000], Loss: 0.7363\n",
      "Epoch [14000/150000], Loss: 0.7209\n",
      "Epoch [15000/150000], Loss: 0.6882\n",
      "Epoch [16000/150000], Loss: 0.7289\n",
      "Epoch [17000/150000], Loss: 0.6271\n",
      "Epoch [18000/150000], Loss: 0.7633\n",
      "Epoch [19000/150000], Loss: 0.7715\n",
      "Epoch [20000/150000], Loss: 0.7539\n",
      "Epoch [21000/150000], Loss: 0.6163\n",
      "Epoch [22000/150000], Loss: 0.7206\n",
      "Epoch [23000/150000], Loss: 0.7252\n",
      "Epoch [24000/150000], Loss: 0.8052\n",
      "Epoch [25000/150000], Loss: 0.7149\n",
      "Epoch [26000/150000], Loss: 0.5992\n",
      "Epoch [27000/150000], Loss: 0.6838\n",
      "Epoch [28000/150000], Loss: 0.7344\n",
      "Epoch [29000/150000], Loss: 0.6438\n",
      "Epoch [30000/150000], Loss: 0.6792\n",
      "Epoch [31000/150000], Loss: 0.7237\n",
      "Epoch [32000/150000], Loss: 0.6474\n",
      "Epoch [33000/150000], Loss: 0.6568\n",
      "Epoch [34000/150000], Loss: 0.7023\n",
      "Epoch [35000/150000], Loss: 0.6927\n",
      "Epoch [36000/150000], Loss: 0.6891\n",
      "Epoch [37000/150000], Loss: 0.6538\n",
      "Epoch [38000/150000], Loss: 0.7375\n",
      "Epoch [39000/150000], Loss: 0.6288\n",
      "Epoch [40000/150000], Loss: 0.6787\n",
      "Epoch [41000/150000], Loss: 0.6943\n",
      "Epoch [42000/150000], Loss: 0.6410\n",
      "Epoch [43000/150000], Loss: 0.6726\n",
      "Epoch [44000/150000], Loss: 0.6932\n",
      "Epoch [45000/150000], Loss: 0.6993\n",
      "Epoch [46000/150000], Loss: 0.6767\n",
      "Epoch [47000/150000], Loss: 0.6976\n",
      "Epoch [48000/150000], Loss: 0.6661\n",
      "Epoch [49000/150000], Loss: 0.7371\n",
      "Epoch [50000/150000], Loss: 0.6641\n",
      "Epoch [51000/150000], Loss: 0.6465\n",
      "Epoch [52000/150000], Loss: 0.6030\n",
      "Epoch [53000/150000], Loss: 0.6958\n",
      "Epoch [54000/150000], Loss: 0.6958\n",
      "Epoch [55000/150000], Loss: 0.6493\n",
      "Epoch [56000/150000], Loss: 0.7325\n",
      "Epoch [57000/150000], Loss: 0.7146\n",
      "Epoch [58000/150000], Loss: 0.6267\n",
      "Epoch [59000/150000], Loss: 0.6032\n",
      "Epoch [60000/150000], Loss: 0.5737\n",
      "Epoch [61000/150000], Loss: 0.6038\n",
      "Epoch [62000/150000], Loss: 0.7967\n",
      "Epoch [63000/150000], Loss: 0.7202\n",
      "Epoch [64000/150000], Loss: 0.6146\n",
      "Epoch [65000/150000], Loss: 0.5539\n",
      "Epoch [66000/150000], Loss: 0.6578\n",
      "Epoch [67000/150000], Loss: 0.6173\n",
      "Epoch [68000/150000], Loss: 0.6560\n",
      "Epoch [69000/150000], Loss: 0.6258\n",
      "Epoch [70000/150000], Loss: 0.6676\n",
      "Epoch [71000/150000], Loss: 0.5827\n",
      "Epoch [72000/150000], Loss: 0.7169\n",
      "Epoch [73000/150000], Loss: 0.6749\n",
      "Epoch [74000/150000], Loss: 0.5888\n",
      "Epoch [75000/150000], Loss: 0.6251\n",
      "Epoch [76000/150000], Loss: 0.6726\n",
      "Epoch [77000/150000], Loss: 0.6993\n",
      "Epoch [78000/150000], Loss: 0.6186\n",
      "Epoch [79000/150000], Loss: 0.7066\n",
      "Epoch [80000/150000], Loss: 0.6902\n",
      "Epoch [81000/150000], Loss: 0.5985\n",
      "Epoch [82000/150000], Loss: 0.6277\n",
      "Epoch [83000/150000], Loss: 0.6540\n",
      "Epoch [84000/150000], Loss: 0.7288\n",
      "Epoch [85000/150000], Loss: 0.6436\n",
      "Epoch [86000/150000], Loss: 0.5635\n",
      "Epoch [87000/150000], Loss: 0.6808\n",
      "Epoch [88000/150000], Loss: 0.5878\n",
      "Epoch [89000/150000], Loss: 0.5905\n",
      "Epoch [90000/150000], Loss: 0.6183\n",
      "Epoch [91000/150000], Loss: 0.6555\n",
      "Epoch [92000/150000], Loss: 0.5403\n",
      "Epoch [93000/150000], Loss: 0.5313\n",
      "Epoch [94000/150000], Loss: 0.6656\n",
      "Epoch [95000/150000], Loss: 0.6305\n",
      "Epoch [96000/150000], Loss: 0.6829\n",
      "Epoch [97000/150000], Loss: 0.7288\n",
      "Epoch [98000/150000], Loss: 0.6184\n",
      "Epoch [99000/150000], Loss: 0.6604\n",
      "Epoch [100000/150000], Loss: 0.6196\n",
      "Epoch [101000/150000], Loss: 0.6898\n",
      "Epoch [102000/150000], Loss: 0.5953\n",
      "Epoch [103000/150000], Loss: 0.6397\n",
      "Epoch [104000/150000], Loss: 0.6399\n",
      "Epoch [105000/150000], Loss: 0.7918\n",
      "Epoch [106000/150000], Loss: 0.6028\n",
      "Epoch [107000/150000], Loss: 0.6382\n",
      "Epoch [108000/150000], Loss: 0.6096\n",
      "Epoch [109000/150000], Loss: 0.6611\n",
      "Epoch [110000/150000], Loss: 0.6872\n",
      "Epoch [111000/150000], Loss: 0.6183\n",
      "Epoch [112000/150000], Loss: 0.6810\n",
      "Epoch [113000/150000], Loss: 0.5914\n",
      "Epoch [114000/150000], Loss: 0.5848\n",
      "Epoch [115000/150000], Loss: 0.6592\n",
      "Epoch [116000/150000], Loss: 0.6775\n",
      "Epoch [117000/150000], Loss: 0.6096\n",
      "Epoch [118000/150000], Loss: 0.5924\n",
      "Epoch [119000/150000], Loss: 0.5770\n",
      "Epoch [120000/150000], Loss: 0.6121\n",
      "Epoch [121000/150000], Loss: 0.6545\n",
      "Epoch [122000/150000], Loss: 0.6419\n",
      "Epoch [123000/150000], Loss: 0.5723\n",
      "Epoch [124000/150000], Loss: 0.5894\n",
      "Epoch [125000/150000], Loss: 0.6216\n",
      "Epoch [126000/150000], Loss: 0.6285\n",
      "Epoch [127000/150000], Loss: 0.6560\n",
      "Epoch [128000/150000], Loss: 0.5896\n",
      "Epoch [129000/150000], Loss: 0.6662\n",
      "Epoch [130000/150000], Loss: 0.6052\n",
      "Epoch [131000/150000], Loss: 0.6300\n",
      "Epoch [132000/150000], Loss: 0.6356\n",
      "Epoch [133000/150000], Loss: 0.6185\n",
      "Epoch [134000/150000], Loss: 0.5570\n",
      "Epoch [135000/150000], Loss: 0.6588\n",
      "Epoch [136000/150000], Loss: 0.7312\n",
      "Epoch [137000/150000], Loss: 0.5816\n",
      "Epoch [138000/150000], Loss: 0.5730\n",
      "Epoch [139000/150000], Loss: 0.7070\n",
      "Epoch [140000/150000], Loss: 0.6152\n",
      "Epoch [141000/150000], Loss: 0.6279\n",
      "Epoch [142000/150000], Loss: 0.6599\n",
      "Epoch [143000/150000], Loss: 0.5682\n",
      "Epoch [144000/150000], Loss: 0.5596\n",
      "Epoch [145000/150000], Loss: 0.6138\n",
      "Epoch [146000/150000], Loss: 0.6014\n",
      "Epoch [147000/150000], Loss: 0.6082\n",
      "Epoch [148000/150000], Loss: 0.7461\n",
      "Epoch [149000/150000], Loss: 0.6061\n",
      "Epoch [150000/150000], Loss: 0.5454\n"
     ]
    }
   ],
   "source": [
    "loss_log = list()\n",
    "train_scores = list()\n",
    "test_scores = list()\n",
    "fold_num = 0  # Tracking current fold\n",
    "\n",
    "for train_index, test_index in kf.split(X):\n",
    "    train_index = list(train_index)\n",
    "    test_index = list(test_index)\n",
    "    train_scores.append([])\n",
    "    test_scores.append([])\n",
    "    fold_num += 1\n",
    "    \n",
    "    # Create an instance of the model\n",
    "    expansion_model = BondExpansionEstimator(bond_input_size, hidden_layers)\n",
    "    distortion_model = LatticeDistortionEstimator(distortion_input_size)\n",
    "    tec_model = CombinedModel(expansion_model, distortion_model)\n",
    "    \n",
    "    # Define a loss function and optimizer\n",
    "    criterion = nn.MSELoss()\n",
    "    optimizer = optim.Adam(expansion_model.parameters(), lr=learning_rate)  # That's me!!\n",
    "    \n",
    "    # Train on GPU\n",
    "    if torch.cuda.is_available():\n",
    "        tec_model = tec_model.to('cuda') \n",
    "    \n",
    "    print(\"Starting K Fold {} out of {}\".format(fold_num, n_splits))\n",
    "    # Training loop\n",
    "    losses = list()\n",
    "    for epoch in range(num_epochs):\n",
    "        # Sample one data point for SGD\n",
    "        train_idx = random.choice(train_index)\n",
    "        \n",
    "        # Move training to GPU if available\n",
    "        if torch.cuda.is_available():\n",
    "            batch_X, batch_X_struc, batch_y = X[train_idx].to('cuda'), X_struc[train_idx].to('cuda'), y[train_idx].to('cuda')\n",
    "        else:\n",
    "            batch_X, batch_X_struc, batch_y = X[train_idx], X_struc[train_idx], y[train_idx]\n",
    "\n",
    "        # Forward pass\n",
    "        outputs = tec_model(batch_X, batch_X_struc)  \n",
    "        loss = criterion(outputs, batch_y)\n",
    "        # Backward pass and optimization\n",
    "        optimizer.zero_grad()\n",
    "        loss.backward()\n",
    "        optimizer.step()\n",
    "        \n",
    "        # Record loss to make convergence plots\n",
    "        losses.append(loss.item())\n",
    "        \n",
    "        # Evaluate score every N epochs\n",
    "        if (epoch + 1) % score_n_it == 0:\n",
    "            print(f'Epoch [{epoch+1}/{num_epochs}], Loss: {np.mean(losses[-1000:]):.4f}')\n",
    "            train_metrics = score_data(tec_model, [X[i] for i in train_index], [X_struc[i] for i in train_index], torch.cat([y[i] for i in train_index]))\n",
    "            train_scores[-1].append(train_metrics)\n",
    "            test_metrics = score_data(tec_model, [X[i] for i in test_index], [X_struc[i] for i in test_index], torch.cat([y[i] for i in test_index]))\n",
    "            test_scores[-1].append(test_metrics)\n",
    "            \n",
    "    loss_log.append(losses)\n",
    "\n",
    "    # Clear cache on GPU\n",
    "    torch.cuda.empty_cache() \n",
    "    \n",
    "    # If you only want to run once for speed\n",
    "    if break_early:\n",
    "        break\n",
    " "
   ]
  },
  {
   "cell_type": "code",
   "execution_count": 80,
   "id": "b818eea0027cea55",
   "metadata": {
    "ExecuteTime": {
     "end_time": "2023-12-10T00:09:03.885901400Z",
     "start_time": "2023-12-10T00:09:03.874332Z"
    }
   },
   "outputs": [
    {
     "name": "stdout",
     "output_type": "stream",
     "text": [
      "Number of parameters:  3092\n",
      "Original Data Variance:  76.84008\n",
      "\n",
      "TRAINING R2:  0.033549624592349\n",
      "TRAINING Mean Error [10-6/K]:  5.6216712451366675\n",
      "TRAINING Error Variance [10-6/K]:  4.7026981355053294\n",
      "TRAINING MSE [10-12/K^2]:  69.41506627575518\n",
      "\n",
      "TEST R2:  0.065218627720665\n",
      "TEST Mean Error [10-6/K]:  5.789327343931177\n",
      "TEST Error Variance [10-6/K]:  8.876833514185137\n",
      "TEST MSE [10-12/K^2]:  103.54535816599764\n"
     ]
    }
   ],
   "source": [
    "# Report Number of Parameters\n",
    "print(\"Number of parameters: \", sum(p.numel() for p in tec_model.parameters()))\n",
    "n_sel = len(train_scores)  # Can plot metrics for an intermediate epoch if desired\n",
    "\n",
    "# Calculate the average performance across all folds\n",
    "train_scores = np.array(train_scores)\n",
    "print(\"Original Data Variance: \", y_std.numpy()**2)\n",
    "\n",
    "print(\"\\nTRAINING R2: \", np.mean(train_scores[:,n_sel,2]))\n",
    "print(\"TRAINING Mean Error [10-6/K]: \", np.mean(train_scores[:,n_sel,1])*y_std.numpy())\n",
    "print(\"TRAINING Error Variance [10-6/K]: \", np.mean(train_scores[:,n_sel,3]*y_std.numpy()))\n",
    "print(\"TRAINING MSE [10-12/K^2]: \", np.mean(train_scores[:,n_sel,0])*y_std.numpy()**2)\n",
    "\n",
    "test_scores = np.array(test_scores)\n",
    "print(\"\\nTEST R2: \", np.mean(test_scores[:,n_sel,2]))\n",
    "print(\"TEST Mean Error [10-6/K]: \", np.mean(test_scores[:,n_sel,1])*y_std.numpy())\n",
    "print(\"TEST Error Variance [10-6/K]: \", np.mean(test_scores[:,n_sel,3]*y_std.numpy()))\n",
    "print(\"TEST MSE [10-12/K^2]: \", np.mean(test_scores[:,n_sel,0])*y_std.numpy()**2)\n"
   ]
  },
  {
   "cell_type": "markdown",
   "id": "448c4c3b3cee9dd7",
   "metadata": {},
   "source": [
    "# Plot Predictions for train set and Error"
   ]
  },
  {
   "cell_type": "code",
   "execution_count": 81,
   "id": "2dfd656bc4b9dd52",
   "metadata": {
    "ExecuteTime": {
     "end_time": "2023-12-11T22:14:00.888591Z",
     "start_time": "2023-12-11T22:13:58.718619200Z"
    }
   },
   "outputs": [
    {
     "name": "stdout",
     "output_type": "stream",
     "text": [
      "Train R2 Score:  0.34178622154801463\n",
      "Test R2 Score:  0.21760078476800115\n"
     ]
    },
    {
     "data": {
      "image/png": "[encoded data removed]",
      "text/plain": [
       "<Figure size 432x288 with 1 Axes>"
      ]
     },
     "metadata": {
      "needs_background": "light"
     },
     "output_type": "display_data"
    },
    {
     "data": {
      "image/png": "[encoded data removed]",
      "text/plain": [
       "<Figure size 432x288 with 1 Axes>"
      ]
     },
     "metadata": {
      "needs_background": "light"
     },
     "output_type": "display_data"
    },
    {
     "data": {
      "image/png": "[encoded data removed]",
      "text/plain": [
       "<Figure size 432x288 with 1 Axes>"
      ]
     },
     "metadata": {
      "needs_background": "light"
     },
     "output_type": "display_data"
    },
    {
     "data": {
      "image/png": "[encoded data removed]",
      "text/plain": [
       "<Figure size 432x288 with 1 Axes>"
      ]
     },
     "metadata": {
      "needs_background": "light"
     },
     "output_type": "display_data"
    }
   ],
   "source": [
    "# Train Predicions\n",
    "y_train = torch.cat([y[i] for i in train_index])\n",
    "X_train = [X[i] for i in train_index]\n",
    "X_struc_train = [X_struc[i] for i in train_index]\n",
    "y_pred_train = []\n",
    "for x, x_struc in zip(X_train, X_struc_train):\n",
    "    if torch.cuda.is_available():\n",
    "        x, x_struc = x.to('cuda'), x_struc.to('cuda')\n",
    "    y_pred_train.append(tec_model(x, x_struc).cpu())\n",
    "y_pred_train = torch.cat(y_pred_train)\n",
    "# Test Predictions\n",
    "y_test = torch.cat([y[i] for i in test_index])\n",
    "X_test = [X[i] for i in test_index]\n",
    "X_struc_test = [X_struc[i] for i in test_index]\n",
    "y_pred_test = []\n",
    "for x, x_struc in zip(X_test, X_struc_test):\n",
    "    if torch.cuda.is_available():\n",
    "        x, x_struc = x.to('cuda'), x_struc.to('cuda')\n",
    "    y_pred_test.append(tec_model(x, x_struc).cpu())\n",
    "y_pred_test = torch.cat(y_pred_test)\n",
    "\n",
    "# Transform back\n",
    "y_measure_train = (y_train*y_std)+y_mean\n",
    "y_measure_test = (y_test*y_std)+y_mean\n",
    "y_predict_train = (y_pred_train*y_std)+y_mean\n",
    "y_predict_test = (y_pred_test*y_std)+y_mean\n",
    "\n",
    "\n",
    "print(\"Train R2 Score: \", r2_score(y_train.numpy(), y_pred_train.detach().numpy()))\n",
    "print(\"Test R2 Score: \", r2_score(y_measure_test.numpy(), y_predict_test.detach().numpy()))\n",
    "\n",
    "# Plot data\n",
    "plt.scatter(y_measure_train.numpy(), y_predict_train.detach().numpy(), color='blue')\n",
    "plt.scatter(y_measure_test.numpy(), y_predict_test.detach().numpy(), color='green')\n",
    "plt.legend([\"Train\", \"Test\"])\n",
    "plt.xlabel(\"Measured TEC [10e-6/K]\")\n",
    "plt.ylabel(\"Predicted TEC [10e-6/K]\")\n",
    "plt.title(\"Model Performace\")\n",
    "plt.plot([-5, 30], [-5, 30], color='k')\n",
    "plt.savefig(\"figs/model_scatter.png\")\n",
    "plt.show()\n",
    "\n",
    "plt.scatter(y_measure_test.numpy(), np.abs(y_predict_test.detach().numpy()-y_measure_test.numpy()), color='green')\n",
    "plt.title(\"Test Set Absolute Error vs Measured TEC\")\n",
    "plt.xlabel(\"Measured TEC [10e-6/K]\")\n",
    "plt.ylabel(\"Absolute Error [10e-6/K]\")\n",
    "plt.savefig(\"figs/error_vs_tec.png\")\n",
    "plt.show()\n",
    "\n",
    "entropy_mean = X_struc_mean[0]\n",
    "entropy_std = X_struc_std[0]\n",
    "complexity = [(entropy_std*i[0]+entropy_mean) for i in X_struc_test]\n",
    "plt.scatter(complexity, np.abs(y_predict_test.detach().numpy()-y_measure_test.numpy()), color='green')\n",
    "plt.title(\"Test Set Absolute Error vs Structure Complexity\")\n",
    "plt.xlabel(\"Structure Entropy [mean bits/atom]\")\n",
    "plt.ylabel(\"Absolute Error [10e-6/K]\")\n",
    "plt.savefig(\"figs/complexity_vs_tec.png\")\n",
    "plt.show()\n",
    "\n",
    "temp_mean = X_mean[-1]\n",
    "temp_std = X_std[-1]\n",
    "temperatures = [(temp_std*i[0][-1]+temp_mean) for i in X_test]\n",
    "plt.scatter(temperatures, np.abs(y_predict_test.detach().numpy()-y_measure_test.numpy()), color='green')\n",
    "plt.title(\"Test Set Absolute Error vs Temperature\")\n",
    "plt.xlabel(\"Temperature [K]\")\n",
    "plt.ylabel(\"Absolute Error [10e-6/K]\")\n",
    "plt.savefig(\"figs/temperature_vs_tec.png\")\n",
    "plt.show()"
   ]
  },
  {
   "cell_type": "markdown",
   "id": "2be15d4adbef08d",
   "metadata": {},
   "source": [
    "# Plot Error Convergence for train and test"
   ]
  },
  {
   "cell_type": "code",
   "execution_count": 82,
   "id": "ea68e0d188f72cc0",
   "metadata": {
    "ExecuteTime": {
     "end_time": "2023-12-10T00:09:05.473720Z",
     "start_time": "2023-12-10T00:09:05.253873100Z"
    }
   },
   "outputs": [
    {
     "data": {
      "image/png": "[encoded data removed]",
      "text/plain": [
       "<Figure size 432x288 with 1 Axes>"
      ]
     },
     "metadata": {
      "needs_background": "light"
     },
     "output_type": "display_data"
    }
   ],
   "source": [
    "plt.plot( np.arange(len(train_scores[0, :, 1]))*score_n_it, train_scores[0, :, 1]*y_std.numpy(), 'b')\n",
    "plt.plot(np.arange(len(test_scores[0, :, 1]))*score_n_it, test_scores[0, :, 1]*y_std.numpy(), 'g')\n",
    "plt.legend(['Train', 'Test'])\n",
    "for i in range(1,len(train_scores)):\n",
    "    plt.plot( np.arange(len(train_scores[i, :, 1]))*score_n_it, train_scores[i, :, 1]*y_std.numpy(), 'b')\n",
    "for i in range(1,len(train_scores)):\n",
    "    plt.plot( np.arange(len(test_scores[i, :, 1]))*score_n_it, test_scores[i, :, 1]*y_std.numpy(), 'g')\n",
    "plt.xlabel('Epoch')\n",
    "plt.ylabel('Mean Error [10e-6/K]')\n",
    "plt.title('Test and Training Convergence Folds')\n",
    "plt.savefig(\"figs/test_train_convergence.png\")\n",
    "plt.show()"
   ]
  },
  {
   "cell_type": "code",
   "execution_count": 83,
   "id": "d4ec8502356f7935",
   "metadata": {
    "ExecuteTime": {
     "end_time": "2023-12-10T00:09:05.564005100Z",
     "start_time": "2023-12-10T00:09:05.471210400Z"
    }
   },
   "outputs": [
    {
     "data": {
      "image/png": "[encoded data removed]",
      "text/plain": [
       "<Figure size 432x288 with 1 Axes>"
      ]
     },
     "metadata": {
      "needs_background": "light"
     },
     "output_type": "display_data"
    }
   ],
   "source": [
    "plt.plot(np.arange(len(test_scores[0, :, 1]))*score_n_it, np.mean(test_scores[:, :, 1], axis=0)*y_std.numpy(), 'g')\n",
    "plt.title(\"Average Test Loss vs Epoch over all Folds\")\n",
    "plt.show()"
   ]
  },
  {
   "cell_type": "markdown",
   "id": "39bc06894598f687",
   "metadata": {},
   "source": [
    "# Plot Loss over each set of Batches "
   ]
  },
  {
   "cell_type": "code",
   "execution_count": 84,
   "id": "94f0965fac38b407",
   "metadata": {
    "ExecuteTime": {
     "end_time": "2023-12-10T00:09:05.817348500Z",
     "start_time": "2023-12-10T00:09:05.566507800Z"
    }
   },
   "outputs": [
    {
     "data": {
      "image/png": "[encoded data removed]",
      "text/plain": [
       "<Figure size 432x288 with 1 Axes>"
      ]
     },
     "metadata": {
      "needs_background": "light"
     },
     "output_type": "display_data"
    }
   ],
   "source": [
    "k_smooth = 15\n",
    "loss_log = np.array(loss_log)\n",
    "smoothed_loss = []\n",
    "avg_epoch = []\n",
    "n_smooth = int(max(loss_log.shape)/k_smooth) - 1\n",
    "for i in range(k_smooth):\n",
    "    smoothed_loss.append(np.mean(loss_log[:, i*n_smooth:(i+1)*n_smooth], axis=1))\n",
    "    avg_epoch.append((i+0.5)*n_smooth)\n",
    "smoothed_loss = np.array(smoothed_loss)\n",
    "\n",
    "plt.plot(avg_epoch, smoothed_loss)\n",
    "plt.xlabel('Epoch')\n",
    "plt.ylabel('Loss')\n",
    "plt.title('Smoothed Training Convergence')\n",
    "plt.legend(['Fold {}'.format(i) for i in range(1,n_splits+1)])\n",
    "plt.savefig(\"figs/convergence.png\")\n",
    "plt.show()"
   ]
  },
  {
   "cell_type": "markdown",
   "id": "5b27ee0b",
   "metadata": {},
   "source": [
    "## Print out model Parameters"
   ]
  },
  {
   "cell_type": "code",
   "execution_count": 23,
   "id": "22d972abec2b8b94",
   "metadata": {
    "ExecuteTime": {
     "end_time": "2023-12-10T00:09:05.873766500Z",
     "start_time": "2023-12-10T00:09:05.818365300Z"
    }
   },
   "outputs": [
    {
     "name": "stdout",
     "output_type": "stream",
     "text": [
      "model_a.hidden1.weight tensor([[ 0.2771,  0.2220,  0.4595,  ...,  0.1378, -0.0639, -0.7982],\n",
      "        [-0.1087, -0.0391, -0.1430,  ..., -0.2727,  0.3732,  1.1594],\n",
      "        [-0.1296,  0.3211, -0.1852,  ..., -0.1298, -0.5429,  0.4490],\n",
      "        ...,\n",
      "        [-0.5428, -0.1010, -0.4034,  ..., -0.0757,  0.3834,  1.4308],\n",
      "        [-0.2976, -0.3317, -0.2991,  ...,  0.1530,  0.2815, -1.2793],\n",
      "        [-0.3216,  0.0050, -0.4238,  ..., -0.1261,  0.6209,  0.7809]])\n",
      "model_a.hidden1.bias tensor([-0.0906, -0.1494,  0.1068, -0.2368,  0.2151,  0.3291, -0.8218, -0.3787,\n",
      "        -0.3962, -0.5568, -0.2194, -0.0462, -0.2828, -0.0893, -0.0447, -0.2563,\n",
      "        -0.0279, -0.4502,  0.0127, -0.4406,  0.1301, -0.1925, -0.5671,  0.0572,\n",
      "         0.0179, -0.5673,  0.1068, -0.1016, -0.3035, -0.4532])\n",
      "model_a.hidden2.weight tensor([[ 1.5449e-01,  2.3747e-01, -4.6567e-02, -5.2282e-01,  2.7142e-01,\n",
      "          5.9037e-01,  1.2612e-01, -3.6941e-01, -1.7508e-01, -8.3800e-01,\n",
      "         -1.3445e-01,  1.0505e-01,  3.1462e-01, -1.7723e-01, -5.2079e-01,\n",
      "         -1.2736e+00,  3.9490e-02, -1.4746e-01, -1.7153e+00, -1.3306e+00,\n",
      "         -2.2718e+00,  1.9369e-01, -7.1368e-02, -7.9038e-01,  2.1826e-01,\n",
      "          2.3992e-01,  6.4431e-01,  5.2275e-01, -1.6792e+00, -6.6316e-02],\n",
      "        [ 4.5147e-01, -4.3499e-01, -4.2062e-01,  4.2878e-01,  3.6849e-01,\n",
      "          4.4918e-01, -5.8153e-01,  6.4769e-02, -5.9167e-01, -8.5463e-01,\n",
      "         -3.9386e-01,  1.2714e-02,  1.8141e-01,  4.7176e-01,  3.6355e-01,\n",
      "         -2.9962e-01,  4.0274e-01, -1.6779e-01,  5.4172e-01, -3.4620e-01,\n",
      "          3.6669e-01,  4.7376e-01, -2.3560e-02, -9.1132e-01,  3.6824e-01,\n",
      "         -1.1289e+00, -1.5240e-02, -9.5035e-01,  5.9075e-01, -1.0905e+00],\n",
      "        [ 4.2094e-01, -4.5129e-01, -2.5473e-01,  9.7295e-02,  4.6868e-01,\n",
      "          4.4977e-01, -3.6613e-01, -2.3011e-01, -3.6288e-01,  3.1786e-01,\n",
      "         -9.2054e-01, -6.8808e-01,  7.7861e-01,  8.4218e-01,  2.5169e-01,\n",
      "          8.8714e-02, -7.8012e-02, -4.2662e-01,  4.0134e-01,  1.8768e-01,\n",
      "         -3.2947e-01, -1.2402e-01,  9.1136e-02, -1.2688e-01,  5.1803e-01,\n",
      "         -1.7806e+00,  2.7143e-02, -3.3394e-01,  5.1554e-01, -1.7684e-01],\n",
      "        [-1.5755e-01, -1.4894e-01,  5.6288e-03, -1.8887e-01, -5.1928e-01,\n",
      "         -4.9243e-01,  1.1528e-01, -1.0018e-01, -2.0780e-01,  5.9712e-02,\n",
      "          1.1026e-01,  1.6477e-01, -6.3937e-01, -7.3039e-01, -5.7687e-01,\n",
      "          7.8361e-02,  2.0212e-01,  6.5121e-02, -3.7550e-01,  2.5319e-01,\n",
      "          2.5146e-01,  3.4179e-01, -2.7108e-01,  2.0820e-01, -4.0607e-01,\n",
      "         -1.3156e-01,  1.4388e-01, -4.7379e-01, -2.3279e-01, -2.8178e-01],\n",
      "        [-1.9989e-01,  8.4862e-02, -1.8200e-01, -2.8432e-02,  5.2908e-02,\n",
      "          1.6747e-02, -1.0647e-01,  2.0010e-01,  1.5368e-01, -1.0244e-01,\n",
      "         -3.1330e-02,  3.5813e-01, -1.2394e+00, -1.0639e+00, -1.6074e-01,\n",
      "         -2.6894e-01, -5.7105e-02,  1.9655e-01, -1.9087e-01,  2.7815e-03,\n",
      "         -4.7525e-02, -1.0486e-01,  1.0866e-01,  3.2637e-02,  4.7727e-01,\n",
      "         -2.8910e-01,  3.4593e-01, -3.7558e-01, -4.2550e-01, -1.0028e-01],\n",
      "        [ 2.4170e-01, -2.1855e-01,  1.5698e-01,  5.7180e-01,  3.1879e-01,\n",
      "          3.8188e-01, -7.8213e-01, -7.3152e-01, -4.6617e-01, -1.1435e+00,\n",
      "         -1.7053e-01,  2.3996e-01,  3.3311e-01,  6.8189e-02,  3.9151e-01,\n",
      "         -9.4613e-01,  3.1696e-01, -2.0686e-01,  2.4523e-01, -9.7146e-01,\n",
      "          2.6623e-01,  3.1916e-01,  1.8976e-02, -3.5894e-02,  3.5897e-01,\n",
      "         -6.5572e-01,  1.7803e-01, -1.4916e-01,  3.7447e-01, -5.5302e-01],\n",
      "        [ 2.1042e-01,  1.6382e-02, -9.8538e-01, -2.2800e-01,  3.0191e-01,\n",
      "          2.2248e-01,  4.5490e-02, -1.0659e+00, -4.3707e-02, -2.5790e-01,\n",
      "          2.1357e-02, -1.2693e+00,  7.2718e-01, -4.9135e-01, -4.2556e-01,\n",
      "         -5.8055e-01,  5.6375e-01,  1.1840e-01, -5.1529e-01, -8.0020e-01,\n",
      "         -7.6722e-02, -2.4265e-02,  1.7399e-01,  3.2969e-01, -2.5108e-01,\n",
      "          4.7797e-02,  8.3864e-01,  6.6450e-01, -4.1281e-01,  9.2509e-02],\n",
      "        [ 4.0366e-01, -6.1750e-01, -1.8209e-01,  9.0137e-02,  9.7577e-02,\n",
      "          3.0495e-01, -9.2673e-01, -1.4573e-01, -6.6663e-01, -1.1940e+00,\n",
      "         -3.0150e-01,  2.8198e-02,  5.7317e-01,  4.1277e-01,  4.8582e-01,\n",
      "         -8.1748e-01,  4.9885e-01, -3.6305e-02,  6.5692e-01, -1.0173e+00,\n",
      "          3.0953e-01,  5.0266e-01, -2.7220e-01, -3.4738e-01,  3.7291e-01,\n",
      "         -9.1248e-01,  1.6851e-01, -4.2133e-01,  5.1608e-01, -7.4795e-01],\n",
      "        [-7.4035e-01,  1.3456e-01,  4.8715e-01, -1.2122e-01,  2.6193e-04,\n",
      "         -2.0347e-01, -3.4233e-01, -3.8663e-02,  1.4052e-01, -7.1597e-02,\n",
      "         -3.4754e-01,  7.6692e-01, -4.4392e-01, -1.3861e-01, -1.9468e-02,\n",
      "          9.9989e-02, -4.7636e-01, -1.5549e-01, -4.8934e-01,  8.6637e-02,\n",
      "         -4.7637e-01,  1.4657e-01, -8.4099e-02,  1.8124e-01,  2.1784e-02,\n",
      "         -3.2481e-01,  5.2817e-02, -2.8332e-01, -1.1756e-01,  1.6325e-01],\n",
      "        [ 3.9964e-01, -4.8911e-01, -1.1293e-01,  1.6454e-01,  4.0583e-01,\n",
      "          3.9207e-01, -1.0871e+00, -4.4512e-01, -6.9983e-01, -1.2201e+00,\n",
      "         -3.4359e-01, -7.1261e-02,  7.1839e-01,  3.2022e-01,  5.0464e-01,\n",
      "         -1.2246e+00,  5.0146e-01, -2.5622e-01,  6.3511e-01, -1.1430e+00,\n",
      "          2.5927e-01,  4.2343e-01,  5.8819e-02, -4.7056e-01,  5.1536e-01,\n",
      "         -8.2659e-01,  2.0149e-01, -6.1620e-01,  4.3588e-01, -5.6339e-01],\n",
      "        [ 2.9490e-01, -4.4114e-02, -9.3950e-01, -2.3436e-01,  2.3129e-01,\n",
      "          1.7305e-01, -4.7241e-02, -1.0846e+00, -8.6376e-02,  3.2113e-02,\n",
      "          7.4137e-02, -1.2702e+00,  7.3333e-01, -5.5101e-01, -3.9770e-01,\n",
      "         -7.5061e-01,  5.8567e-01,  2.3781e-01, -5.8145e-01, -6.4135e-01,\n",
      "         -1.3863e-01,  7.8452e-02, -1.9027e-02,  3.9065e-01, -3.4418e-02,\n",
      "          3.2529e-02,  8.5711e-01,  6.7625e-01, -6.5047e-01, -6.8378e-02],\n",
      "        [ 1.5988e-01,  1.8075e-01, -4.5241e-01, -3.4797e-01,  4.1181e-02,\n",
      "          1.1971e-01,  2.8291e-03, -8.2261e-02, -6.7234e-02,  3.0943e-01,\n",
      "          2.4603e-01, -1.4602e+00,  3.2126e-01,  3.3179e-01, -2.8889e-01,\n",
      "          2.7754e-01, -8.5920e-01,  9.5794e-02, -1.2398e-01,  3.1487e-01,\n",
      "         -6.2419e-01, -4.6653e-01,  3.7275e-01,  2.3141e-01, -2.2886e-01,\n",
      "         -6.1073e-01, -7.6660e-02,  5.7200e-02, -8.2330e-01,  4.0354e-01],\n",
      "        [ 1.0957e-01, -1.5874e-01, -4.1744e-01, -6.9219e-02,  5.8615e-02,\n",
      "          1.7165e-01, -2.8266e-01, -6.0051e-01, -5.9413e-02, -7.8692e-01,\n",
      "          1.5155e-01, -7.1860e-01,  5.6961e-01, -3.7185e-01, -4.7219e-01,\n",
      "         -8.9110e-01,  2.3239e-01,  1.4834e-01, -9.8103e-01, -1.0098e+00,\n",
      "         -4.9930e-01,  1.9635e-01, -6.5843e-02,  5.4075e-01, -2.2462e-02,\n",
      "          1.9272e-01,  4.6590e-01,  6.4974e-01, -7.2922e-01, -2.8750e-02],\n",
      "        [ 3.5370e-01, -4.7561e-01, -1.2737e-01,  3.2279e-01,  2.3470e-01,\n",
      "          1.3609e-01,  2.7396e-01, -3.9452e-01, -4.4803e-01, -2.9020e-01,\n",
      "         -1.7157e+00, -5.6487e-01,  5.2163e-01,  3.4031e-01, -2.5354e-01,\n",
      "         -3.2816e-01, -1.0319e-01, -3.1508e-01,  6.5655e-01, -1.1426e-01,\n",
      "          9.5753e-02,  5.2031e-01, -3.6656e-03, -3.8689e-01,  5.7083e-01,\n",
      "         -1.2008e+00,  2.1197e-01, -7.7690e-01,  4.1319e-01, -3.1161e-01],\n",
      "        [ 2.0536e-01, -2.9234e-01, -2.3210e-01,  6.9039e-02,  3.1446e-01,\n",
      "          3.5906e-01, -8.2077e-01, -6.3319e-01, -5.7990e-01, -8.4885e-01,\n",
      "         -2.8708e-01,  1.3734e-01,  3.1058e-01,  2.7813e-01,  2.6333e-01,\n",
      "         -1.1961e+00,  3.6680e-01,  4.8220e-02,  3.8365e-01, -1.1727e+00,\n",
      "          4.3354e-01,  2.7710e-01, -1.4942e-01, -2.7855e-01,  1.7039e-01,\n",
      "         -4.4263e-01, -6.3046e-02, -5.8073e-01,  5.4394e-01, -4.5982e-01],\n",
      "        [-2.0165e-02, -3.2890e-01,  4.6721e-02,  1.5457e-01,  1.8176e-01,\n",
      "          2.5130e-01, -2.7094e-01,  4.3458e-01,  3.1400e-01, -1.1965e+00,\n",
      "          7.2991e-02, -1.0041e-01, -1.1315e+00,  9.7157e-02,  1.2683e-01,\n",
      "         -5.1429e-01, -1.5351e-01,  1.0185e-01, -4.7003e-01, -4.7210e-01,\n",
      "         -1.7228e+00,  8.9622e-02,  2.8134e-01, -5.8838e-01, -2.3436e-01,\n",
      "         -1.2557e-01,  2.1703e-02, -1.8327e+00, -9.9473e-02, -1.2457e+00],\n",
      "        [-6.4618e-02, -1.1519e-01, -1.1051e+00, -2.7419e-01, -7.6903e-02,\n",
      "          2.4401e-01,  9.3942e-02, -3.5873e-01,  1.2394e-01, -2.5775e-01,\n",
      "         -3.9527e-02, -6.6391e-01,  4.2241e-01, -1.4053e+00, -1.3998e+00,\n",
      "          2.8680e-02,  3.3048e-01,  2.6795e-01, -3.4510e-02, -2.5071e-02,\n",
      "          2.9899e-01,  1.7711e-01,  1.7661e-01,  1.9159e-01, -6.0993e-01,\n",
      "          1.5495e-01,  3.6611e-01,  5.8921e-01, -5.2385e-01,  1.6692e-01],\n",
      "        [ 4.4870e-01, -5.7628e-01, -3.5863e-01,  3.2056e-01,  4.8405e-01,\n",
      "          4.6862e-01, -1.1828e+00,  8.3657e-02, -6.9051e-01, -1.0425e+00,\n",
      "         -2.6970e-01,  1.2220e-01,  3.7803e-01,  4.7481e-01,  4.5599e-01,\n",
      "         -3.8298e-01,  4.7403e-01, -3.5129e-01,  4.1042e-01, -6.3565e-01,\n",
      "          3.4527e-01,  6.0537e-01, -2.1774e-01, -9.4878e-01,  5.7573e-01,\n",
      "         -7.2902e-01,  1.0451e-01, -9.4079e-01,  4.6781e-01, -9.4398e-01],\n",
      "        [ 2.5029e-01, -4.1624e-01, -9.1991e-01, -2.4717e-01,  1.4528e-01,\n",
      "          3.3927e-01, -1.5958e-01, -1.0493e+00, -3.7872e-01, -3.2404e-01,\n",
      "          9.7455e-02, -1.2493e+00,  6.7856e-01, -7.2984e-01, -3.6285e-01,\n",
      "         -7.9342e-01,  5.9001e-01,  1.9012e-01, -8.9618e-01, -8.1321e-01,\n",
      "         -1.9646e-01,  1.8540e-01,  1.7879e-01,  6.5103e-01, -2.4602e-01,\n",
      "          1.3870e-01,  8.8264e-01,  7.7832e-01, -6.8803e-01,  3.5425e-03],\n",
      "        [-5.9334e-01,  2.4530e-02,  3.6023e-01, -3.2123e-01, -5.3684e-01,\n",
      "         -5.1579e-01, -2.1484e-01,  4.1488e-01,  1.6234e-01,  4.1399e-02,\n",
      "         -4.3086e-02,  3.1464e-01, -3.7108e-01,  1.5271e-02,  1.4363e-01,\n",
      "          2.7792e-01, -5.5154e-01, -4.9218e-02,  2.1216e-01,  1.1173e-01,\n",
      "          9.9122e-02, -2.7378e-01,  2.1477e-02,  9.9165e-02, -6.1145e-02,\n",
      "          8.7151e-02, -9.5892e-01, -5.7202e-02, -1.9271e-01, -9.9240e-02],\n",
      "        [-3.7305e-01, -1.6390e+00, -9.5411e-01,  2.0542e-02,  2.8575e-01,\n",
      "          8.4668e-02,  1.0350e-02, -4.0338e-01, -2.6501e+00,  1.8926e-01,\n",
      "          2.8880e-03, -1.1772e+00,  6.9284e-01, -2.7202e-01, -4.2252e-01,\n",
      "         -3.8323e-02,  1.1723e-01,  7.0790e-02, -2.7079e-01,  3.4626e-01,\n",
      "         -1.6532e-01,  2.4374e-01,  2.1112e-01,  5.4997e-01, -3.4746e-01,\n",
      "          1.5103e-01,  8.6212e-01,  4.3195e-01, -3.3309e-01,  1.4345e-01],\n",
      "        [-1.4753e-01,  1.3424e-02,  2.4984e-01, -3.6749e-01, -4.3189e-01,\n",
      "         -3.5204e-01, -3.8523e-01, -5.1081e-02,  2.0448e-01, -5.9004e-01,\n",
      "         -8.3976e-02,  3.3225e-01, -3.4872e-01, -2.9741e-02, -1.0889e-01,\n",
      "         -2.3975e-01, -3.3568e-01, -8.0367e-02,  1.1717e-01, -1.3844e-01,\n",
      "          2.0824e-02,  1.0352e-01, -1.3897e-01, -2.4621e-01,  1.4132e-01,\n",
      "         -1.6706e-02,  8.8741e-02, -8.9229e-02, -6.7619e-01, -2.5515e-01],\n",
      "        [-2.3962e-01, -4.3798e-02,  3.0078e-02, -9.5468e-02, -1.3524e-01,\n",
      "         -2.3538e-01,  2.0491e-02, -1.3622e-01, -1.4378e-01,  9.6483e-02,\n",
      "         -1.4564e-01, -1.0675e-01, -3.4903e-02,  6.1701e-02, -2.0731e-01,\n",
      "          1.1027e-01, -1.4188e-01, -2.4158e-01, -1.9583e-01,  2.5349e-02,\n",
      "         -6.6533e-02,  1.5457e-02,  1.0445e-01, -1.1196e-01, -1.7950e-01,\n",
      "          7.3990e-03, -1.0340e-01, -3.1742e-02,  2.6992e-02, -1.2557e-01],\n",
      "        [ 4.9171e-02, -2.1293e-01, -8.3032e-01, -1.9152e-01,  1.4907e-01,\n",
      "          4.6720e-01,  1.1299e-01, -9.3199e-01, -5.1792e-02, -6.2053e-01,\n",
      "          2.1083e-01, -4.2643e-01,  6.4870e-01, -6.7118e-01, -4.3491e-01,\n",
      "         -9.3431e-01,  4.2139e-01,  4.1941e-02, -1.1457e+00, -7.7654e-01,\n",
      "         -2.2890e-01,  1.1900e-02,  1.3300e-01,  6.6065e-01, -2.5181e-01,\n",
      "          6.5959e-02,  6.7970e-01,  7.7416e-01, -8.1435e-01, -1.6321e-01],\n",
      "        [-3.1656e-01,  2.7938e-01,  4.1617e-01,  6.8088e-02, -5.0741e-01,\n",
      "         -4.7278e-01,  4.9899e-02,  2.8392e-01,  3.3079e-01,  1.9852e-03,\n",
      "         -2.1618e-01,  7.5224e-01, -7.1702e-01,  1.6235e-01,  1.4722e-01,\n",
      "          1.0157e-01, -2.6250e-01, -3.9993e-01,  1.5149e-01,  2.4959e-01,\n",
      "          1.0897e-01, -8.6541e-02, -4.1550e-01, -5.7742e-02,  3.4216e-01,\n",
      "          2.1946e-01, -5.5953e-01, -5.9066e-01,  2.8712e-01, -6.0405e-02],\n",
      "        [-4.5414e-01, -1.8855e-01,  4.1327e-02, -3.1450e-01, -2.8335e-01,\n",
      "         -1.2644e-01, -3.7338e-02,  7.6409e-02, -2.1653e-01,  2.2295e-01,\n",
      "          1.1141e-01, -6.8787e-01,  6.7821e-01, -4.3899e-01, -4.6950e-01,\n",
      "          3.7830e-01,  1.8405e-01,  1.4094e-01, -9.2351e-01,  4.5537e-01,\n",
      "         -3.1641e-01,  2.2662e-01,  2.1576e-01,  3.5330e-01, -6.3149e-01,\n",
      "         -1.0716e-01,  2.8379e-01,  8.4803e-03, -3.7481e-01,  8.5516e-02],\n",
      "        [-8.4997e-02, -1.2106e-01, -1.8988e-01, -5.6771e-01, -2.9745e-01,\n",
      "         -7.8036e-02, -2.1459e-01, -2.2921e-01,  6.8000e-02, -2.9498e-01,\n",
      "          1.1443e-01, -4.0531e-01,  1.4011e-01, -9.3414e-01,  3.9070e-01,\n",
      "         -1.0555e-01,  2.7608e-01, -1.0727e-01, -1.4445e-01,  1.0075e-01,\n",
      "          4.3215e-01,  7.3183e-02, -7.5791e-02,  2.4571e-01, -1.1632e+00,\n",
      "          2.1212e-01,  4.0866e-01,  1.0951e-03, -1.1427e+00, -1.6333e-02],\n",
      "        [-7.9507e-01,  1.6543e-01,  5.3892e-01, -3.0271e-01, -1.4186e-01,\n",
      "         -5.8012e-02, -3.2281e-01, -4.3952e-02, -1.9419e-02, -6.1249e-02,\n",
      "         -2.3576e-01,  6.4838e-01, -3.0859e-01, -1.6469e-01, -1.1150e-01,\n",
      "          1.0872e-02, -7.4119e-02, -1.2758e-01, -3.8219e-01,  2.3574e-01,\n",
      "         -2.4337e-01, -9.9908e-02, -1.8614e-01,  1.9890e-01, -3.2960e-01,\n",
      "         -1.7826e-01,  4.1850e-01,  1.4951e-01, -8.7606e-02, -5.5453e-02],\n",
      "        [-5.5348e-02,  1.6989e-01, -8.8114e-01, -1.5055e-01,  2.3189e-02,\n",
      "          3.7205e-01,  7.3137e-02, -8.1403e-01, -2.6306e-01, -1.3333e-01,\n",
      "         -6.6767e-02, -3.2577e-01,  6.7268e-01, -5.4080e-01, -3.0133e-01,\n",
      "         -1.9517e-01,  4.1699e-01,  1.7248e-01, -6.5526e-01, -1.0308e-01,\n",
      "         -3.3865e-01, -1.2686e-01,  9.6154e-02,  6.8890e-01, -4.1266e-01,\n",
      "          1.6435e-01,  7.2939e-01,  7.1660e-01, -1.0373e+00,  1.6195e-01],\n",
      "        [ 2.6619e-01,  1.9800e-01,  7.1379e-02, -2.9936e-01,  5.0370e-01,\n",
      "          5.1472e-01,  7.8414e-02, -4.7099e-01, -2.4953e-02, -6.1808e-01,\n",
      "         -8.3924e-02,  9.1879e-02,  2.9487e-01, -3.9067e-01, -4.3370e-01,\n",
      "         -1.2962e+00, -6.0560e-02, -2.4118e-01, -1.7166e+00, -1.3705e+00,\n",
      "         -2.8400e+00,  1.9935e-01,  2.7964e-02, -1.2103e+00, -8.7034e-03,\n",
      "          2.3259e-01,  6.7504e-01,  5.1995e-01, -1.9278e+00, -3.8980e-01]])\n",
      "model_a.hidden2.bias tensor([-0.0150,  0.3904,  0.1300, -0.4085, -0.2374,  0.4496,  0.2272,  0.3172,\n",
      "        -0.1117,  0.2250,  0.3004, -0.1280,  0.0882,  0.1924,  0.2812,  0.0847,\n",
      "         0.2283,  0.3571,  0.2583, -0.1112,  0.3590, -0.0755, -0.0889,  0.0622,\n",
      "        -0.2096, -0.2610, -0.1570, -0.1895,  0.0326, -0.0958])\n",
      "model_a.hidden3.weight tensor([[-1.0261,  1.0696,  0.7174, -0.4109,  0.2162,  0.6545, -1.0043,  0.8805,\n",
      "         -0.6564,  1.0766, -0.9958,  0.5755, -0.8313,  1.1504,  0.7386,  0.3394,\n",
      "         -0.5305,  0.9830, -1.2502, -0.0535, -1.3498, -0.3329, -0.0060, -0.8347,\n",
      "         -0.4162, -0.3882, -0.1651, -0.4880, -0.7481, -1.3654]])\n",
      "model_a.hidden3.bias tensor([0.2231])\n",
      "model_b.layer1.weight tensor([[-0.1248, -0.0322,  0.1183, -0.0734, -0.0262, -0.1957,  0.1034, -0.1408,\n",
      "         -0.1530, -0.1895,  0.2135,  0.1107, -0.0861,  0.1099, -0.2093, -0.1998],\n",
      "        [ 0.1480,  0.0445, -0.0288, -0.1325,  0.0141, -0.0604,  0.0502,  0.0025,\n",
      "          0.1345, -0.0651,  0.2452, -0.0580,  0.2413,  0.2453,  0.1321,  0.0073],\n",
      "        [-0.0374, -0.1500, -0.2412,  0.0980,  0.0280,  0.1485, -0.2245, -0.0491,\n",
      "          0.2060, -0.0933,  0.1525,  0.2007,  0.2063,  0.1874,  0.1156, -0.0302],\n",
      "        [ 0.2052, -0.0605,  0.0428, -0.1605, -0.2351, -0.0066, -0.0812, -0.0325,\n",
      "         -0.1987, -0.1377,  0.0047,  0.1049,  0.1809, -0.1626, -0.0493,  0.0179],\n",
      "        [ 0.1067, -0.1618,  0.2180,  0.2243, -0.0274,  0.0318,  0.2160,  0.2433,\n",
      "          0.2079, -0.0043, -0.1167,  0.2334,  0.0468,  0.0157, -0.2298, -0.0637],\n",
      "        [-0.1265, -0.1737, -0.2238, -0.2045, -0.0060, -0.1344, -0.0758, -0.1837,\n",
      "          0.0101, -0.0814, -0.0194, -0.0938, -0.2433,  0.0014,  0.1444, -0.1878],\n",
      "        [-0.1450,  0.1719,  0.1506, -0.1318,  0.1035,  0.2285,  0.0423, -0.2194,\n",
      "         -0.0598, -0.0595, -0.0558,  0.1963, -0.0278, -0.1115,  0.0911,  0.2494],\n",
      "        [-0.0555, -0.0974, -0.2330, -0.2187, -0.1244, -0.0188,  0.0795, -0.2317,\n",
      "         -0.1654,  0.2204, -0.2347,  0.1442,  0.0420,  0.1304,  0.0789,  0.0655],\n",
      "        [-0.2412, -0.0946, -0.0416, -0.0618, -0.1728,  0.0684,  0.1349,  0.1782,\n",
      "          0.2152,  0.0325,  0.1355,  0.2277,  0.0759,  0.0066, -0.2435, -0.0143],\n",
      "        [-0.0521, -0.0032,  0.2306,  0.0580,  0.0573, -0.0634,  0.0612, -0.0972,\n",
      "         -0.1312, -0.1889, -0.1315,  0.0677, -0.1362,  0.2008, -0.1343,  0.1076],\n",
      "        [ 0.1576, -0.1479, -0.0908,  0.2393,  0.1599, -0.0610,  0.1066,  0.1257,\n",
      "         -0.1536,  0.0144, -0.0390,  0.1104,  0.0571, -0.1025, -0.1897,  0.2477],\n",
      "        [-0.1826, -0.0464, -0.1252,  0.2262, -0.0742,  0.2289,  0.2001, -0.0704,\n",
      "         -0.1427, -0.1867, -0.2072,  0.1681,  0.0318,  0.0810,  0.1476,  0.0081],\n",
      "        [-0.1457,  0.2261, -0.0147, -0.1547,  0.0680, -0.0314, -0.0320, -0.2207,\n",
      "          0.1326, -0.0581,  0.0322,  0.0580, -0.0904,  0.0675, -0.0031, -0.1622],\n",
      "        [ 0.1102,  0.2467,  0.0123, -0.0520,  0.1599,  0.0947,  0.0300, -0.1154,\n",
      "         -0.1273, -0.0627,  0.0924, -0.1021, -0.1513, -0.1729,  0.0846,  0.0506],\n",
      "        [ 0.0684, -0.0914,  0.2023, -0.1463,  0.0811, -0.0813,  0.0082,  0.0237,\n",
      "          0.2136,  0.1355,  0.1281, -0.1830,  0.0994,  0.0780,  0.1778, -0.1768]])\n",
      "model_b.layer1.bias tensor([ 0.0450,  0.0582,  0.2194,  0.2313,  0.0719, -0.1786,  0.1518,  0.1603,\n",
      "        -0.0126,  0.1314,  0.2379,  0.0867,  0.1761,  0.1376, -0.2154])\n",
      "model_b.layer2.weight tensor([[-0.2315, -0.0166,  0.2128, -0.1771, -0.0084,  0.2273, -0.0585, -0.2207,\n",
      "         -0.2410, -0.1964, -0.1841,  0.1980, -0.0540,  0.2159, -0.1336]])\n",
      "model_b.layer2.bias tensor([0.1701])\n"
     ]
    }
   ],
   "source": [
    "for name, param in tec_model.named_parameters():\n",
    "    if param.requires_grad:\n",
    "        print(name, param.data)"
   ]
  },
  {
   "cell_type": "code",
   "execution_count": null,
   "id": "22921ca8cf1fb6a7",
   "metadata": {
    "ExecuteTime": {
     "start_time": "2023-12-09T17:28:11.434081900Z"
    }
   },
   "outputs": [],
   "source": []
  }
 ],
 "metadata": {
  "kernelspec": {
   "display_name": "Python 3 (ipykernel)",
   "language": "python",
   "name": "python3"
  },
  "language_info": {
   "codemirror_mode": {
    "name": "ipython",
    "version": 3
   },
   "file_extension": ".py",
   "mimetype": "text/x-python",
   "name": "python",
   "nbconvert_exporter": "python",
   "pygments_lexer": "ipython3",
   "version": "3.9.0"
  }
 },
 "nbformat": 4,
 "nbformat_minor": 5
}

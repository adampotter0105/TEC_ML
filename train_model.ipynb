{
 "cells": [
  {
   "cell_type": "code",
   "execution_count": 39,
   "outputs": [],
   "source": [
    "import matplotlib.pyplot as plt\n",
    "import numpy as np\n",
    "import torch\n",
    "import torch.nn as nn\n",
    "import torch.nn.functional as F\n",
    "import torch.optim as optim\n",
    "from torch.nn.utils.rnn import pad_sequence\n",
    "from torch.utils.data import DataLoader, TensorDataset\n",
    "import pandas as pd\n",
    "from sklearn.model_selection import KFold\n",
    "from sklearn.metrics import mean_squared_error, mean_absolute_error, r2_score\n",
    "import random"
   ],
   "metadata": {
    "collapsed": false,
    "ExecuteTime": {
     "end_time": "2023-12-07T18:21:27.388571500Z",
     "start_time": "2023-12-07T18:21:27.371718Z"
    }
   },
   "id": "d7fafa898d47193d"
  },
  {
   "cell_type": "code",
   "execution_count": 40,
   "outputs": [],
   "source": [
    "class BondExpansionEstimator(nn.Module):\n",
    "    def __init__(self, input_size, hidden_layers, check_weights = True):\n",
    "        super(BondExpansionEstimator, self).__init__()\n",
    "        self.input_size = input_size\n",
    "        self.hidden_layers = hidden_layers\n",
    "        self.check_weights = check_weights\n",
    "        self.hidden1 = nn.Linear(input_size, hidden_layers[0])\n",
    "        self.hidden2 = nn.Linear(input_size, hidden_layers[1])\n",
    "        self.hidden3 = nn.Linear(hidden_layers[0], 1)\n",
    "\n",
    "    def forward(self, x):\n",
    "        # Select data related to individual bonds\n",
    "        # Data- 2D   seq x feat\n",
    "        seq_len = x.shape[0]\n",
    "        bond_data = x[:, 0:-1]\n",
    "        bond_data = bond_data.view(-1, self.input_size)\n",
    "        # Assume last column of data is bond weight (fraction of volume)\n",
    "        vol_fracs = x[:, -1]\n",
    "        # Check the bond weights are well normalized\n",
    "        if self.check_weights:\n",
    "            assert torch.abs(torch.sum(vol_fracs) - 1) < 1e-5 \n",
    "        \n",
    "        # Run all hidden layers\n",
    "        out = torch.relu(self.hidden1(bond_data))\n",
    "        out = torch.relu(self.hidden2(bond_data))\n",
    "        out = self.hidden3(out)\n",
    "        out = out.view(-1, seq_len)\n",
    "        # Sum all bonds according to their bond fractions\n",
    "        summed = torch.sum(out*vol_fracs)\n",
    "        return summed\n",
    "\n",
    "class LatticeDistortionEstimator(nn.Module):\n",
    "    def __init__(self, input_size):\n",
    "        super(LatticeDistortionEstimator, self).__init__()\n",
    "        self.input_size = input_size\n",
    "        self.layer1 = nn.Linear(input_size, 1)\n",
    "\n",
    "    def forward(self, x):\n",
    "        # Run all hidden layers\n",
    "        out = torch.tanh(self.layer1(x))\n",
    "\n",
    "        return out\n",
    "\n",
    "class CombinedModel(nn.Module):\n",
    "    def __init__(self, model_a, model_b):\n",
    "        super(CombinedModel, self).__init__()\n",
    "        self.model_a = model_a\n",
    "        self.model_b = model_b\n",
    "\n",
    "    def forward(self, x1, x2):\n",
    "        output_a = self.model_a(x1)\n",
    "        output_b = self.model_b(x2)\n",
    "\n",
    "        return output_a*output_b\n"
   ],
   "metadata": {
    "collapsed": false,
    "ExecuteTime": {
     "end_time": "2023-12-07T18:21:27.971746100Z",
     "start_time": "2023-12-07T18:21:27.946684Z"
    }
   },
   "id": "d45af5ddedb017ad"
  },
  {
   "cell_type": "markdown",
   "source": [
    "## Test Use of Model with Fake Data"
   ],
   "metadata": {
    "collapsed": false
   },
   "id": "cfce1e5f3dd3f365"
  },
  {
   "cell_type": "code",
   "execution_count": 3,
   "outputs": [
    {
     "name": "stdout",
     "output_type": "stream",
     "text": [
      "Number of parameters:  1986\n",
      "Epoch [10/50], Loss: 1386.0701\n",
      "Epoch [20/50], Loss: 1385.9746\n",
      "Epoch [30/50], Loss: 1385.9740\n",
      "Epoch [40/50], Loss: 1385.9740\n",
      "Epoch [50/50], Loss: 1385.9740\n"
     ]
    }
   ],
   "source": [
    "# Model Parameters\n",
    "bond_input_size = 48\n",
    "distortion_input_size = 4\n",
    "hidden_layers = [20, 20]\n",
    "\n",
    "# Training Parameters\n",
    "learning_rate = 0.0001\n",
    "num_epochs = 50\n",
    "\n",
    "# Create an instance of the AdditiveSequentialModel\n",
    "expansion_model = BondExpansionEstimator(bond_input_size, hidden_layers, check_weights=False)\n",
    "distortion_model = LatticeDistortionEstimator(distortion_input_size)\n",
    "tec_model = CombinedModel(expansion_model, distortion_model)\n",
    "\n",
    "# Define a loss function and optimizer\n",
    "criterion = nn.MSELoss()\n",
    "optimizer = optim.Adam(tec_model.parameters(), lr=learning_rate)  # That's me!!\n",
    "print(\"Number of parameters: \", sum(p.numel() for p in tec_model.parameters()))\n",
    "\n",
    "# Generate random sequential data for training\n",
    "data_size = 1500\n",
    "seq_length = 5\n",
    "test_bond_fracs = 0.3*torch.rand(data_size, seq_length, 1)\n",
    "input_data1 = torch.rand(data_size, seq_length, bond_input_size)\n",
    "input_data2 = torch.rand(data_size, distortion_input_size)+1\n",
    "target_data =  2*torch.randn(data_size, 1)  # Start with noise\n",
    "hidden_A = torch.rand(bond_input_size, 1) # Hidden model\n",
    "hidden_B = torch.rand(distortion_input_size, 1) # Hidden model\n",
    "perfect_lab = torch.ones(data_size, 1)  # Start with noise\n",
    "for i in range(len(target_data)):\n",
    "    target_data[i] = target_data[i] + torch.matmul( torch.matmul(input_data1[i,:,:], hidden_A).T, test_bond_fracs[i,:]) * torch.matmul(input_data2[i,:], hidden_B)\n",
    "    perfect_lab[i] = torch.matmul( torch.matmul(input_data1[i,:,:], hidden_A).T, test_bond_fracs[i,:]) * torch.matmul(input_data2[i,:], hidden_B)\n",
    "input_data1 = torch.cat((input_data1, test_bond_fracs), dim=2)\n",
    "\n",
    "# Training loop\n",
    "loss_log = []\n",
    "for epoch in range(num_epochs):\n",
    "    # Forward pass\n",
    "    losses = []\n",
    "    for in1, in2, y in zip(input_data1, input_data2, target_data):\n",
    "        outputs = tec_model(in1, in2)\n",
    "        loss = criterion(outputs, y)\n",
    "    \n",
    "        # Backward pass and optimization\n",
    "        optimizer.zero_grad()\n",
    "        loss.backward()\n",
    "        optimizer.step()\n",
    "        losses.append(loss.item())\n",
    "    # Print loss every 10 epochs\n",
    "    if (epoch + 1) % 10 == 0:\n",
    "        print(f'Epoch [{epoch+1}/{num_epochs}], Loss: {loss.item():.4f}')\n",
    "\n",
    "# Example of using the trained model for prediction\n",
    "test_input1 = torch.randn(1, seq_length, bond_input_size+1)\n",
    "test_input2 = torch.randn(1, distortion_input_size)\n",
    "predicted_output = torch.zeros(data_size, 1)\n",
    "for i in range(data_size):\n",
    "    predicted_output[i] = tec_model(input_data1[i], input_data2[i])"
   ],
   "metadata": {
    "collapsed": false,
    "ExecuteTime": {
     "end_time": "2023-12-07T17:24:38.362150Z",
     "start_time": "2023-12-07T17:23:26.714322800Z"
    }
   },
   "id": "c8e99cfc2f9e4c92"
  },
  {
   "cell_type": "code",
   "execution_count": 4,
   "outputs": [
    {
     "name": "stdout",
     "output_type": "stream",
     "text": [
      "Input1 shape: torch.Size([1, 5, 49])\n",
      "Input2 shape: torch.Size([1, 4])\n"
     ]
    },
    {
     "data": {
      "text/plain": "<Figure size 640x480 with 1 Axes>",
      "image/png": "[encoded data removed]"
     },
     "metadata": {},
     "output_type": "display_data"
    },
    {
     "data": {
      "text/plain": "<Figure size 640x480 with 1 Axes>",
      "image/png": "[encoded data removed]"
     },
     "metadata": {},
     "output_type": "display_data"
    }
   ],
   "source": [
    "# Results\n",
    "print(\"Input1 shape:\", test_input1.shape)\n",
    "print(\"Input2 shape:\", test_input2.shape)\n",
    "\n",
    "plt.scatter(perfect_lab.numpy(), target_data.numpy())\n",
    "plt.ylabel(\"Noisy val\")\n",
    "plt.xlabel(\"Perfect Label Val\")\n",
    "plt.show()\n",
    "\n",
    "plt.scatter(target_data.numpy(), predicted_output.detach().numpy())\n",
    "plt.xlabel(\"Noisy val\")\n",
    "plt.ylabel(\"Predicted Val\")\n",
    "plt.show()\n"
   ],
   "metadata": {
    "collapsed": false,
    "ExecuteTime": {
     "end_time": "2023-12-07T17:24:38.627335400Z",
     "start_time": "2023-12-07T17:24:38.363148800Z"
    }
   },
   "id": "545307ceb3beffbc"
  },
  {
   "cell_type": "markdown",
   "source": [
    "## Now Train on Real Data with SGD"
   ],
   "metadata": {
    "collapsed": false
   },
   "id": "d0671156a3c1fda1"
  },
  {
   "cell_type": "markdown",
   "source": [
    "## Load in Data"
   ],
   "metadata": {
    "collapsed": false
   },
   "id": "d5302456fd01a87b"
  },
  {
   "cell_type": "code",
   "execution_count": 41,
   "outputs": [
    {
     "name": "stdout",
     "output_type": "stream",
     "text": [
      "Phases  13996.0  not found in features data\n",
      "Phases  131156.0  not found in features data\n",
      "Phases  130566.0  not found in features data\n",
      "Phases  71777.0  not found in features data\n",
      "Phases  71777.0  not found in features data\n",
      "Phases  71776.0  not found in features data\n",
      "Phases  71776.0  not found in features data\n",
      "Phases  142888.0  not found in features data\n",
      "Phases  127780.0  not found in features data\n",
      "Phases  122321.0  not found in features data\n",
      "Phases  59916.0  not found in features data\n",
      "Phases  9782.0  not found in features data\n",
      "Phases  12354.0  not found in features data\n",
      "Phases  70111.0  not found in features data\n",
      "Phases  70110.0  not found in features data\n",
      "Phases  70180.0  not found in features data\n",
      "Phases  70109.0  not found in features data\n",
      "Phases  70109.0  not found in features data\n",
      "Phases  77642.0  not found in features data\n",
      "Phases  128280.0  not found in features data\n",
      "Phases  70179.0  not found in features data\n",
      "Phases  15966.0  not found in features data\n",
      "Phases  15933.0  not found in features data\n",
      "Phases  120633.0  not found in features data\n",
      "Phases  120634.0  not found in features data\n",
      "Phases  26534.0  not found in features data\n",
      "Phases  123165.0  not found in features data\n",
      "Phases  128370.0  not found in features data\n",
      "Phases  128369.0  not found in features data\n",
      "Phases  175446.0  not found in features data\n",
      "Phases  123166.0  not found in features data\n",
      "Phases  86000.0  not found in features data\n",
      "Phases  86170.0  not found in features data\n",
      "Phases  86171.0  not found in features data\n",
      "Phases  86001.0  not found in features data\n",
      "Phases  129831.0  not found in features data\n",
      "Phases  129832.0  not found in features data\n",
      "Phases  129833.0  not found in features data\n",
      "Phases  26531.0  not found in features data\n",
      "Phases  27104.0  not found in features data\n",
      "Phases  9782.0  not found in features data\n",
      "Phases  139360.0  not found in features data\n",
      "Phases  139361.0  not found in features data\n",
      "Phases  77138.0  not found in features data\n",
      "Phases  12354.0  not found in features data\n",
      "Phases  12450.0  not found in features data\n",
      "Phases  13996.0  not found in features data\n",
      "Phases  15498.0  not found in features data\n",
      "Phases  15305.0  not found in features data\n",
      "Phases  34662.0  not found in features data\n",
      "Phases  34662.0  not found in features data\n",
      "Phases  34662.0  not found in features data\n",
      "Phases  91382.0  not found in features data\n",
      "Phases  91382.0  not found in features data\n",
      "Phases  91385.0  not found in features data\n",
      "Phases  91385.0  not found in features data\n",
      "Phases  91387.0  not found in features data\n",
      "Phases  91384.0  not found in features data\n",
      "Phases  91386.0  not found in features data\n",
      "Phases  170350.0  not found in features data\n",
      "Phases  130445.0  not found in features data\n",
      "Phases  128280.0  not found in features data\n",
      "Phases  97615.0  not found in features data\n",
      "Phases  100055.0  not found in features data\n",
      "Phases  100055.0  not found in features data\n",
      "Phases  88483.0  not found in features data\n",
      "Phases  88489.0  not found in features data\n",
      "Phases  95569.0  not found in features data\n",
      "Phases  95569.0  not found in features data\n",
      "Phases  95569.0  not found in features data\n",
      "Phases  95569.0  not found in features data\n",
      "Phases  83037.0  not found in features data\n",
      "Phases  83037.0  not found in features data\n",
      "Phases  94093.0  not found in features data\n",
      "Phases  94093.0  not found in features data\n",
      "Phases  94093.0  not found in features data\n",
      "Phases  94094.0  not found in features data\n",
      "Phases  94094.0  not found in features data\n",
      "Phases  94094.0  not found in features data\n",
      "Phases  77247.0  not found in features data\n",
      "Phases  77247.0  not found in features data\n",
      "Phases  77247.0  not found in features data\n",
      "Phases  106509.0  not found in features data\n",
      "Phases  106509.0  not found in features data\n",
      "Phases  106509.0  not found in features data\n",
      "Phases  77246.0  not found in features data\n",
      "Phases  77246.0  not found in features data\n",
      "Phases  107731.0  not found in features data\n",
      "Phases  107731.0  not found in features data\n",
      "Phases  107882.0  not found in features data\n",
      "Phases  107882.0  not found in features data\n",
      "Phases  59093.0  not found in features data\n",
      "Phases  109601.0  not found in features data\n",
      "Phases  95569.0  not found in features data\n",
      "Phases  13668.0  not found in features data\n",
      "Phases  13668.0  not found in features data\n",
      "Phases  13668.0  not found in features data\n",
      "Phases  11746.0  not found in features data\n",
      "Phases  37592.0  not found in features data\n",
      "Phases  100836.0  not found in features data\n",
      "Phases  68156.0  not found in features data\n",
      "Phases  7583.0  not found in features data\n",
      "Phases  27104.0  not found in features data\n",
      "Phases  5343.0  not found in features data\n",
      "Phases  5343.0  not found in features data\n",
      "Phases  5343.0  not found in features data\n",
      "Phases  5343.0  not found in features data\n",
      "Phases  26763.0  not found in features data\n",
      "Phases  100748.0  not found in features data\n",
      "Phases  87440.0  not found in features data\n",
      "Phases  87440.0  not found in features data\n",
      "Phases  45697.0  not found in features data\n",
      "Phases  95304.0  not found in features data\n",
      "Phases  47236.0  not found in features data\n",
      "Phases  129850.0  not found in features data\n",
      "Phases  172782.0  not found in features data\n",
      "Phases  141316.0  not found in features data\n",
      "Phases  141316.0  not found in features data\n",
      "Phases  141316.0  not found in features data\n",
      "Phases  34272.0  not found in features data\n",
      "Phases  34272.0  not found in features data\n",
      "Phases  34272.0  not found in features data\n",
      "Phases  78021.0  not found in features data\n",
      "Phases  78021.0  not found in features data\n",
      "Phases  78022.0  not found in features data\n",
      "Phases  78022.0  not found in features data\n",
      "Phases  88303.0  not found in features data\n",
      "Phases  9782.0  not found in features data\n",
      "Phases  55540.0  not found in features data\n",
      "Phases  143892.0  not found in features data\n",
      "Phases  130922.0  not found in features data\n",
      "Phases  77642.0  not found in features data\n",
      "Phases  77642.0  not found in features data\n",
      "Phases  77642.0  not found in features data\n",
      "Phases  12219.0  not found in features data\n",
      "Phases  129618.0  not found in features data\n",
      "Phases  12735.0  not found in features data\n",
      "Phases  15966.0  not found in features data\n",
      "Phases  15966.0  not found in features data\n",
      "Phases  138128.0  not found in features data\n",
      "Phases  98976.0  not found in features data\n",
      "Phases  99023.0  not found in features data\n",
      "Phases  127757.0  not found in features data\n",
      "Phases  127758.0  not found in features data\n",
      "Phases  127756.0  not found in features data\n",
      "Phases  26763.0  not found in features data\n",
      "Phases  168252.0  not found in features data\n",
      "Phases  168252.0  not found in features data\n",
      "Phases  18625.0  not found in features data\n",
      "Phases  13639.0  not found in features data\n",
      "Phases  14037.0  not found in features data\n",
      "Phases  15774.0  not found in features data\n",
      "Phases  37627.0  not found in features data\n",
      "Phases  37627.0  not found in features data\n",
      "Phases  12219.0  not found in features data\n",
      "Phases  129618.0  not found in features data\n",
      "Phases  5343.0  not found in features data\n",
      "Phases  7278.0  not found in features data\n",
      "Total Number of Labels:  1068\n",
      "Skipped 158 structures\n",
      "Total Unique structures 529\n",
      "Max Number of Bonds:  50176\n"
     ]
    }
   ],
   "source": [
    "labels_df = pd.read_csv(\"labels/labels_reduced.csv\", index_col=0)\n",
    "features_bond_df = pd.read_csv(\"features/features_bond.csv\", index_col=0)\n",
    "features_struc_df = pd.read_csv(\"features/features_structure.csv\", index_col=0)\n",
    "\n",
    "# Choose Features\n",
    "columns_all = features_bond_df.columns[2:-1].to_list()  # ALL FEATURES, exclude file names and bond volume fractions\n",
    "feature_weights = features_bond_df[features_bond_df.columns[-1]].to_numpy()\n",
    "struc_columns = features_struc_df.columns[2:].to_list()\n",
    "\n",
    "# Copy over labels to each bond (just for correlation)\n",
    "y = list()\n",
    "combined_data = list()\n",
    "weights = list()\n",
    "struc_data = list()\n",
    "labels_skipped = 0\n",
    "max_length = 0\n",
    "all_phases = set()\n",
    "for idx in labels_df.index:\n",
    "    phase = labels_df.loc[idx, 'phase_id']\n",
    "    feat = features_bond_df[features_bond_df['structure_name'] == str(int(phase))+'_super.cif']  # Select all rows applicable to \n",
    "    feat_struc = features_struc_df[features_struc_df['structure_name'] == str(int(phase))+'_super.cif']\n",
    "    if len(feat) > 0 and len(feat_struc) > 0:\n",
    "        weights.append(torch.Tensor(feat['volume_fraction'].values).to(torch.float).view(len(feat),1))\n",
    "        feat = feat[columns_all]\n",
    "        feat['temperature'] = labels_df.loc[idx, \"temperature\"]  # add temperature as a feature\n",
    "        max_length = max(max_length, len(feat))\n",
    "        combined_data.append(torch.Tensor(feat.values).to(torch.float))\n",
    "        feat_struc = feat_struc[struc_columns]\n",
    "        try:\n",
    "            struc_data.append(torch.Tensor(feat_struc.values).to(torch.float))\n",
    "        except:\n",
    "            print(feat_struc.values)\n",
    "        y.append( labels_df.loc[idx, \"thermal_expansion\"] )\n",
    "        all_phases.add(phase)\n",
    "    else:\n",
    "        print(\"Phases \", phase, \" not found in features data\")\n",
    "        labels_skipped += 1\n",
    "\n",
    "print(\"Total Number of Labels: \", len(y))\n",
    "print(\"Skipped {} structures\".format(labels_skipped))\n",
    "print(\"Total Unique structures\", len(all_phases))\n",
    "print(\"Max Number of Bonds: \", max_length)\n",
    "# Recast y as a torch tensor\n",
    "y = torch.Tensor(y)\n",
    "y = y.view(-1,1)"
   ],
   "metadata": {
    "collapsed": false,
    "ExecuteTime": {
     "end_time": "2023-12-07T18:24:01.669651900Z",
     "start_time": "2023-12-07T18:21:33.120872600Z"
    }
   },
   "id": "298233e29bc81c0f"
  },
  {
   "cell_type": "code",
   "execution_count": 42,
   "outputs": [],
   "source": [
    "# Make sure all weights are normalized\n",
    "# TODO: figure out why this is necessary\n",
    "for i in range(len(weights)):\n",
    "    s = torch.sum(weights[i])\n",
    "    if abs(s-1) > 1e-6:\n",
    "        weights[i] = weights[i]/s"
   ],
   "metadata": {
    "collapsed": false,
    "ExecuteTime": {
     "end_time": "2023-12-07T18:24:01.745714500Z",
     "start_time": "2023-12-07T18:24:01.675331Z"
    }
   },
   "id": "282a2e550077b42c"
  },
  {
   "cell_type": "code",
   "execution_count": 43,
   "outputs": [],
   "source": [
    "# Build and Normalize X\n",
    "X_mean = torch.mean(torch.cat(combined_data),dim=0)\n",
    "X_std = torch.std(torch.cat(combined_data),dim=0)\n",
    "X = []\n",
    "for x,w in zip(combined_data, weights):\n",
    "    X.append(torch.cat(((x-X_mean)/X_std, w), dim=1))"
   ],
   "metadata": {
    "collapsed": false,
    "ExecuteTime": {
     "end_time": "2023-12-07T18:24:02.690985600Z",
     "start_time": "2023-12-07T18:24:01.748722100Z"
    }
   },
   "id": "249b13253c48a7cc"
  },
  {
   "cell_type": "code",
   "execution_count": 44,
   "outputs": [],
   "source": [
    "# Build and Normalize X_struc\n",
    "X_struc_mean = torch.mean(torch.cat(struc_data),dim=0)\n",
    "X_struc_std = torch.std(torch.cat(struc_data),dim=0)\n",
    "X_struc = []\n",
    "for x in struc_data:\n",
    "    X_struc.append(torch.Tensor((x-X_struc_mean)/X_struc_std) )\n",
    "X_struc = torch.cat(X_struc)"
   ],
   "metadata": {
    "collapsed": false,
    "ExecuteTime": {
     "end_time": "2023-12-07T18:24:02.724291Z",
     "start_time": "2023-12-07T18:24:02.695594700Z"
    }
   },
   "id": "b632d7b70c2db71e"
  },
  {
   "cell_type": "code",
   "execution_count": 45,
   "outputs": [],
   "source": [
    "# Normalize Y\n",
    "y_mean = torch.mean(y)\n",
    "y_std = torch.std(y)\n",
    "y = (y-y_mean)/y_std"
   ],
   "metadata": {
    "collapsed": false,
    "ExecuteTime": {
     "end_time": "2023-12-07T18:24:02.738012Z",
     "start_time": "2023-12-07T18:24:02.721185700Z"
    }
   },
   "id": "556d4475c9b9f8e9"
  },
  {
   "cell_type": "code",
   "execution_count": 46,
   "outputs": [
    {
     "data": {
      "text/plain": "tensor(7.4929)"
     },
     "execution_count": 46,
     "metadata": {},
     "output_type": "execute_result"
    }
   ],
   "source": [
    "y_std"
   ],
   "metadata": {
    "collapsed": false,
    "ExecuteTime": {
     "end_time": "2023-12-07T18:24:02.790385Z",
     "start_time": "2023-12-07T18:24:02.741056300Z"
    }
   },
   "id": "ec0d6fa25ab45ce3"
  },
  {
   "cell_type": "code",
   "execution_count": 47,
   "outputs": [
    {
     "data": {
      "text/plain": "tensor(10.2382)"
     },
     "execution_count": 47,
     "metadata": {},
     "output_type": "execute_result"
    }
   ],
   "source": [
    "y_mean"
   ],
   "metadata": {
    "collapsed": false,
    "ExecuteTime": {
     "end_time": "2023-12-07T18:24:02.828066600Z",
     "start_time": "2023-12-07T18:24:02.782955700Z"
    }
   },
   "id": "55255247f4f5dac5"
  },
  {
   "cell_type": "code",
   "execution_count": 48,
   "outputs": [],
   "source": [
    "# Save tensors to a file\n",
    "torch.save({'X': X, 'y': y, 'X_struc': X_struc, 'X_mean':X_mean, 'X_std':X_std, 'X_struc_mean':X_struc_mean, 'X_struc_std':X_struc_std,'y_mean':y_mean, 'y_std':y_std}, 'features/data_tensors.pth')"
   ],
   "metadata": {
    "collapsed": false,
    "ExecuteTime": {
     "end_time": "2023-12-07T18:24:03.366212900Z",
     "start_time": "2023-12-07T18:24:02.800409900Z"
    }
   },
   "id": "af7421263e3ab2c"
  },
  {
   "cell_type": "markdown",
   "source": [
    "## Create and Train Model"
   ],
   "metadata": {
    "collapsed": false
   },
   "id": "983de10ec6f16625"
  },
  {
   "cell_type": "code",
   "execution_count": 137,
   "outputs": [
    {
     "name": "stdout",
     "output_type": "stream",
     "text": [
      "Number labels: 1068\n",
      "Total Number of Bonds:  3385536\n"
     ]
    }
   ],
   "source": [
    "# Load tensors from the file\n",
    "loaded_data = torch.load('features/data_tensors.pth')\n",
    "X = loaded_data['X']\n",
    "X_struc = loaded_data['X_struc']\n",
    "y = loaded_data['y']\n",
    "\n",
    "# Load Preprocessing Parameters\n",
    "X_mean = loaded_data['X_mean']\n",
    "X_std = loaded_data['X_std']\n",
    "X_struc_mean = loaded_data['X_struc_mean']\n",
    "X_struc_std = loaded_data['X_struc_std']\n",
    "y_mean = loaded_data['y_mean']\n",
    "y_std = loaded_data['y_std']\n",
    "print(\"Number labels:\", len(y))\n",
    "\n",
    "num_bonds = 0\n",
    "for x in X:\n",
    "    num_bonds += len(x)\n",
    "print(\"Total Number of Bonds: \", num_bonds)"
   ],
   "metadata": {
    "collapsed": false,
    "ExecuteTime": {
     "end_time": "2023-12-07T22:30:34.778342Z",
     "start_time": "2023-12-07T22:30:34.230853600Z"
    }
   },
   "id": "dc489254eb0ebb7e"
  },
  {
   "cell_type": "code",
   "execution_count": 138,
   "outputs": [
    {
     "name": "stdout",
     "output_type": "stream",
     "text": [
      "Available GPU Device: NVIDIA GeForce RTX 3060 Laptop GPU\n"
     ]
    }
   ],
   "source": [
    "# Model Parameters\n",
    "bond_input_size = len(X[0][0])-1  # Don't count bond length weights\n",
    "distortion_input_size = len(X_struc[0])\n",
    "hidden_layers = [30, 30]\n",
    "\n",
    "# Training Parameters\n",
    "learning_rate = 0.0005\n",
    "num_epochs = 400000\n",
    "batch_size = 1  # True SGD due to data being varying length sequences\n",
    "n_splits = 10\n",
    "break_early = True\n",
    "score_n_it = 1000  # Score every N epochs\n",
    "\n",
    "# Set up Cross Validation with K-Folds\n",
    "kf = KFold(n_splits=n_splits, shuffle=True, random_state=42)\n",
    "\n",
    "# Check GPU Availability\n",
    "if torch.cuda.is_available():\n",
    "    print(\"Available GPU Device:\", torch.cuda.get_device_name(0))\n",
    "else: \n",
    "    print(\"GPU not available, using CPU...\")\n"
   ],
   "metadata": {
    "collapsed": false,
    "ExecuteTime": {
     "end_time": "2023-12-07T22:30:34.823070800Z",
     "start_time": "2023-12-07T22:30:34.781917100Z"
    }
   },
   "id": "66a6ca5104bd2097"
  },
  {
   "cell_type": "markdown",
   "source": [
    "## Perform k-fold cross-validation"
   ],
   "metadata": {
    "collapsed": false
   },
   "id": "5dbf36608de1c532"
  },
  {
   "cell_type": "code",
   "execution_count": 139,
   "outputs": [],
   "source": [
    "def score_data(model, X_bond, X_struc, y):\n",
    "    model.eval()\n",
    "    with torch.no_grad():\n",
    "        y_pred = []\n",
    "        for x, x_struc in zip(X_bond, X_struc):\n",
    "            if torch.cuda.is_available():\n",
    "                x, x_struc = x.to('cuda'), x_struc.to('cuda')\n",
    "            y_pred.append(model(x, x_struc).cpu())\n",
    "        y_pred = torch.cat(y_pred)\n",
    "\n",
    "    metric1 = mean_squared_error(y.numpy(), y_pred.numpy())\n",
    "    metric2 = mean_absolute_error(y.numpy(), y_pred.numpy())\n",
    "    metric3 = r2_score(y.numpy(), y_pred.numpy())\n",
    "    metric4 = np.var(np.abs(y.numpy(), y_pred.numpy()))\n",
    "    \n",
    "    return [metric1, metric2, metric3, metric4]"
   ],
   "metadata": {
    "collapsed": false,
    "ExecuteTime": {
     "end_time": "2023-12-07T22:30:35.689771400Z",
     "start_time": "2023-12-07T22:30:35.677399400Z"
    }
   },
   "id": "ff995f99972e0cd3"
  },
  {
   "cell_type": "code",
   "execution_count": null,
   "outputs": [
    {
     "name": "stdout",
     "output_type": "stream",
     "text": [
      "Starting K Fold 1 out of 10\n",
      "Epoch [1000/400000], Loss: 1.0018\n",
      "Epoch [2000/400000], Loss: 0.8033\n"
     ]
    }
   ],
   "source": [
    "loss_log = list()\n",
    "train_scores = list()\n",
    "test_scores = list()\n",
    "fold_num = 0  # Tracking current fold\n",
    "\n",
    "for train_index, test_index in kf.split(X):\n",
    "    train_index = list(train_index)\n",
    "    test_index = list(test_index)\n",
    "    train_scores.append([])\n",
    "    test_scores.append([])\n",
    "    fold_num += 1\n",
    "    \n",
    "    # Create an instance of the model\n",
    "    expansion_model = BondExpansionEstimator(bond_input_size, hidden_layers)\n",
    "    distortion_model = LatticeDistortionEstimator(distortion_input_size)\n",
    "    tec_model = CombinedModel(expansion_model, distortion_model)\n",
    "    \n",
    "    # Define a loss function and optimizer\n",
    "    criterion = nn.MSELoss()\n",
    "    optimizer = optim.Adam(expansion_model.parameters(), lr=learning_rate)  # That's me!!\n",
    "    \n",
    "    # Train on GPU\n",
    "    if torch.cuda.is_available():\n",
    "        tec_model = tec_model.to('cuda') \n",
    "    \n",
    "    print(\"Starting K Fold {} out of {}\".format(fold_num, n_splits))\n",
    "    # Training loop\n",
    "    losses = list()\n",
    "    for epoch in range(num_epochs):\n",
    "        # Sample one data point for SGD\n",
    "        train_idx = random.choice(train_index)\n",
    "        \n",
    "        # Move training to GPU if available\n",
    "        if torch.cuda.is_available():\n",
    "            batch_X, batch_X_struc, batch_y = X[train_idx].to('cuda'), X_struc[train_idx].to('cuda'), y[train_idx].to('cuda')\n",
    "        else:\n",
    "            batch_X, batch_X_struc, batch_y = X[train_idx], X_struc[train_idx], y[train_idx]\n",
    "\n",
    "        # Forward pass\n",
    "        outputs = tec_model(batch_X, batch_X_struc)  \n",
    "        loss = criterion(outputs, batch_y)\n",
    "        # Backward pass and optimization\n",
    "        optimizer.zero_grad()\n",
    "        loss.backward()\n",
    "        optimizer.step()\n",
    "        \n",
    "        # Record loss to make convergence plots\n",
    "        losses.append(loss.item())\n",
    "        \n",
    "        # Evaluate score every N epochs\n",
    "        if (epoch + 1) % score_n_it == 0:\n",
    "            print(f'Epoch [{epoch+1}/{num_epochs}], Loss: {np.mean(losses[-1000:]):.4f}')\n",
    "            train_metrics = score_data(tec_model, [X[i] for i in train_index], [X_struc[i] for i in train_index], torch.cat([y[i] for i in train_index]))\n",
    "            train_scores[-1].append(train_metrics)\n",
    "            test_metrics = score_data(tec_model, [X[i] for i in test_index], [X_struc[i] for i in test_index], torch.cat([y[i] for i in test_index]))\n",
    "            test_scores[-1].append(test_metrics)\n",
    "            \n",
    "    loss_log.append(losses)\n",
    "\n",
    "    # Clear cache on GPU\n",
    "    torch.cuda.empty_cache() \n",
    "    \n",
    "    # If you only want to run once for speed\n",
    "    if break_early:\n",
    "        break\n",
    " "
   ],
   "metadata": {
    "collapsed": false,
    "is_executing": true,
    "ExecuteTime": {
     "start_time": "2023-12-07T22:30:35.688769Z"
    }
   },
   "id": "439548b197111e5b"
  },
  {
   "cell_type": "code",
   "execution_count": null,
   "outputs": [],
   "source": [
    "# Report Number of Parameters\n",
    "print(\"Number of parameters: \", sum(p.numel() for p in tec_model.parameters()))\n",
    "n_sel = 245\n",
    "# Calculate the average performance across all folds\n",
    "train_scores = np.array(train_scores)\n",
    "print(\"TRAINING R2: \", np.mean(train_scores[:,n_sel,2]))\n",
    "print(\"TRAINING Mean Error [10-6/K]: \", np.mean(train_scores[:,n_sel,1])*y_std.numpy())\n",
    "print(\"TRAINING Error Variance [10-6/K]: \", np.mean(train_scores[:,n_sel,3]*y_std.numpy()))\n",
    "print(\"TRAINING MSE [10-12/K^2]: \", np.mean(train_scores[:,n_sel,0])*y_std.numpy())\n",
    "\n",
    "test_scores = np.array(test_scores)\n",
    "print(\"TEST R2: \", np.mean(test_scores[:,n_sel,2]))\n",
    "print(\"TEST Mean Error [10-6/K]: \", np.mean(test_scores[:,n_sel,1])*y_std.numpy())\n",
    "print(\"TEST Error Variance [10-6/K]: \", np.mean(test_scores[:,n_sel,3]*y_std.numpy()))\n",
    "print(\"TEST MSE [10-12/K^2]: \", np.mean(test_scores[:,n_sel,0])*y_std.numpy())"
   ],
   "metadata": {
    "collapsed": false,
    "is_executing": true
   },
   "id": "b818eea0027cea55"
  },
  {
   "cell_type": "code",
   "execution_count": null,
   "outputs": [],
   "source": [
    "# Prediction for train set (last fold)\n",
    "# Train\n",
    "y_train = torch.cat([y[i] for i in train_index])\n",
    "X_train = [X[i] for i in train_index]\n",
    "X_struc_train = [X_struc[i] for i in train_index]\n",
    "y_pred_train = []\n",
    "for x, x_struc in zip(X_train, X_struc_train):\n",
    "    if torch.cuda.is_available():\n",
    "        x, x_struc = x.to('cuda'), x_struc.to('cuda')\n",
    "    y_pred_train.append(tec_model(x, x_struc).cpu())\n",
    "y_pred_train = torch.cat(y_pred_train)\n",
    "# Test\n",
    "y_test = torch.cat([y[i] for i in test_index])\n",
    "X_test = [X[i] for i in test_index]\n",
    "X_struc_test = [X_struc[i] for i in test_index]\n",
    "y_pred_test = []\n",
    "for x, x_struc in zip(X_test, X_struc_test):\n",
    "    if torch.cuda.is_available():\n",
    "        x, x_struc = x.to('cuda'), x_struc.to('cuda')\n",
    "    y_pred_test.append(tec_model(x, x_struc).cpu())\n",
    "y_pred_test = torch.cat(y_pred_test)\n",
    "\n",
    "# Transform back\n",
    "y_measure_train = (y_train*y_std)+y_mean\n",
    "y_measure_test = (y_test*y_std)+y_mean\n",
    "y_predict_train = (y_pred_train*y_std)+y_mean\n",
    "y_predict_test = (y_pred_test*y_std)+y_mean\n",
    "\n",
    "\n",
    "print(\"Train R2 Score: \", r2_score(y_train.numpy(), y_pred_train.detach().numpy()))\n",
    "print(\"Test R2 Score: \", r2_score(y_measure_test.numpy(), y_predict_test.detach().numpy()))\n",
    "\n",
    "# Plot data\n",
    "plt.scatter(y_measure_train.numpy(), y_predict_train.detach().numpy())\n",
    "plt.scatter(y_measure_test.numpy(), y_predict_test.detach().numpy())\n",
    "plt.legend([\"Train\", \"Test\"])\n",
    "plt.xlabel(\"Measured TEC\")\n",
    "plt.ylabel(\"Predicted TEC\")\n",
    "plt.plot([-5, 30], [-5, 30], color='k')\n",
    "plt.savefig(\"figs/model_scatter.png\")\n",
    "plt.show()"
   ],
   "metadata": {
    "collapsed": false,
    "is_executing": true
   },
   "id": "2dfd656bc4b9dd52"
  },
  {
   "cell_type": "code",
   "execution_count": null,
   "outputs": [],
   "source": [
    "plt.plot( np.arange(len(train_scores[0, :, 1]))*score_n_it, train_scores[0, :, 1]*y_std.numpy())\n",
    "plt.plot(np.arange(len(test_scores[0, :, 1]))*score_n_it, test_scores[0, :, 1]*y_std.numpy())\n",
    "plt.xlabel('Epoch')\n",
    "plt.ylabel('Mean Error [10e-6/K]')\n",
    "plt.title('Test and Training Convergence Fold 1')\n",
    "plt.legend(['Train', 'Test'])\n",
    "plt.savefig(\"figs/test_train_convergence.png\")\n",
    "plt.show()"
   ],
   "metadata": {
    "collapsed": false,
    "is_executing": true
   },
   "id": "ea68e0d188f72cc0"
  },
  {
   "cell_type": "code",
   "execution_count": null,
   "outputs": [],
   "source": [
    "# Graph the Loss after each set of Batches \n",
    "k_smooth = 15\n",
    "loss_log = np.array(loss_log)\n",
    "smoothed_loss = []\n",
    "avg_epoch = []\n",
    "n_smooth = int(max(loss_log.shape)/k_smooth) - 1\n",
    "for i in range(k_smooth):\n",
    "    smoothed_loss.append(np.mean(loss_log[:, i*n_smooth:(i+1)*n_smooth], axis=1))\n",
    "    avg_epoch.append((i+0.5)*n_smooth)\n",
    "smoothed_loss = np.array(smoothed_loss)\n",
    "\n",
    "plt.plot(avg_epoch, smoothed_loss)\n",
    "plt.xlabel('Epoch')\n",
    "plt.ylabel('Loss')\n",
    "plt.title('Training Convergence')\n",
    "plt.legend(['Fold {}'.format(i) for i in range(1,n_splits+1)])\n",
    "plt.savefig(\"figs/convergence.png\")\n",
    "plt.show()"
   ],
   "metadata": {
    "collapsed": false,
    "is_executing": true
   },
   "id": "94f0965fac38b407"
  },
  {
   "cell_type": "markdown",
   "source": [
    "## Train on whole Data set (for model testing)"
   ],
   "metadata": {
    "collapsed": false
   },
   "id": "b3e5be7f1a663f28"
  },
  {
   "cell_type": "code",
   "execution_count": null,
   "outputs": [],
   "source": [
    "learning_rate = 0.0005\n",
    "num_epochs = 500000\n",
    "\n",
    "loss_log = list()\n",
    "\n",
    "# Create an instance of the model\n",
    "expansion_model = BondExpansionEstimator(bond_input_size, hidden_layers)\n",
    "distortion_model = LatticeDistortionEstimator(distortion_input_size)\n",
    "tec_model = CombinedModel(expansion_model, distortion_model)\n",
    "\n",
    "# Define a loss function and optimizer\n",
    "criterion = nn.MSELoss()\n",
    "optimizer = optim.Adam(expansion_model.parameters(), lr=learning_rate)  # That's me!!\n",
    "\n",
    "# Train on GPU\n",
    "if torch.cuda.is_available():\n",
    "    tec_model = tec_model.to('cuda')\n",
    "\n",
    "# Training loop\n",
    "losses = list()\n",
    "train_index = np.arange(len(X))\n",
    "for epoch in range(num_epochs):\n",
    "    # Sample one data point for SGD\n",
    "    train_idx = random.choice(train_index)\n",
    "\n",
    "    # Move training to GPU if available\n",
    "    if torch.cuda.is_available():\n",
    "        batch_X, batch_X_struc, batch_y = X[train_idx].to('cuda'), X_struc[train_idx].to('cuda'), y[train_idx].to('cuda')\n",
    "    else:\n",
    "        batch_X, batch_X_struc, batch_y = X[train_idx], X_struc[train_idx], y[train_idx]\n",
    "\n",
    "    # Forward pass\n",
    "    outputs = tec_model(batch_X, batch_X_struc)\n",
    "    loss = criterion(outputs, batch_y)\n",
    "    # Backward pass and optimization\n",
    "    optimizer.zero_grad()\n",
    "    loss.backward()\n",
    "    optimizer.step()\n",
    "\n",
    "    # Record loss to make convergence plots\n",
    "    losses.append(loss.item())\n",
    "\n",
    "    # Print loss every N epochs\n",
    "    if (epoch + 1) % 1000 == 0:\n",
    "        print(f'Epoch [{epoch+1}/{num_epochs}], Loss: {np.mean(losses[-1000:]):.4f}')\n",
    "\n",
    "loss_log.append(losses)\n",
    "# Clear cache on GPU\n",
    "torch.cuda.empty_cache()\n"
   ],
   "metadata": {
    "collapsed": false,
    "ExecuteTime": {
     "start_time": "2023-12-07T22:30:29.444689400Z"
    }
   },
   "id": "7f66d548a88d26ff"
  },
  {
   "cell_type": "code",
   "execution_count": 74,
   "outputs": [
    {
     "data": {
      "text/plain": "<Figure size 640x480 with 1 Axes>",
      "image/png": "[encoded data removed]"
     },
     "metadata": {},
     "output_type": "display_data"
    },
    {
     "name": "stdout",
     "output_type": "stream",
     "text": [
      "R2 Score:  0.22924976092768534\n"
     ]
    }
   ],
   "source": [
    "# Prediction for train set\n",
    "y_train = torch.cat([y[i] for i in train_index])\n",
    "X_train = [X[i] for i in train_index]\n",
    "X_struc_train = [X_struc[i] for i in train_index]\n",
    "y_pred_train = []\n",
    "for x, x_struc in zip(X_train, X_struc_train):\n",
    "    if torch.cuda.is_available():\n",
    "        x, x_struc = x.to('cuda'), x_struc.to('cuda')\n",
    "    y_pred_train.append(tec_model(x, x_struc).cpu())\n",
    "y_pred_train = torch.cat(y_pred_train)\n",
    "\n",
    "# Transform back\n",
    "y_measure_train = (y_train*y_std)+y_mean\n",
    "y_pred_train = (y_pred_train*y_std)+y_mean\n",
    "\n",
    "# Plot data\n",
    "plt.scatter(y_measure_train.numpy(), y_pred_train.detach().numpy())\n",
    "plt.legend([\"Train\", \"Test\"])\n",
    "plt.xlabel(\"Measured TEC\")\n",
    "plt.ylabel(\"Predicted TEC\")\n",
    "plt.plot([0, 20], [0, 20])\n",
    "plt.ylim([-5, 22])\n",
    "plt.savefig(\"figs/model_scatter_train.png\")\n",
    "plt.show()\n",
    "\n",
    "print(\"R2 Score: \", r2_score(y_measure_train.numpy(), y_pred_train.detach().numpy()))"
   ],
   "metadata": {
    "collapsed": false,
    "ExecuteTime": {
     "end_time": "2023-12-06T22:38:24.017524400Z",
     "start_time": "2023-12-06T22:38:22.907370700Z"
    }
   },
   "id": "1eb0e1d39640a255"
  },
  {
   "cell_type": "code",
   "execution_count": 75,
   "outputs": [
    {
     "data": {
      "text/plain": "<Figure size 640x480 with 1 Axes>",
      "image/png": "[encoded data removed]"
     },
     "metadata": {},
     "output_type": "display_data"
    }
   ],
   "source": [
    "# Graph the Loss after each set of Batches \n",
    "k_smooth = 10\n",
    "loss_log = np.array(loss_log)\n",
    "smoothed_loss = []\n",
    "avg_epoch = []\n",
    "n_smooth = int(max(loss_log.shape)/k_smooth) - 1\n",
    "for i in range(k_smooth):\n",
    "    smoothed_loss.append(np.mean(loss_log[:, i*n_smooth:(i+1)*n_smooth], axis=1))\n",
    "    avg_epoch.append((i+0.5)*n_smooth)\n",
    "smoothed_loss = np.array(smoothed_loss)\n",
    "\n",
    "plt.plot(avg_epoch, smoothed_loss)\n",
    "plt.xlabel('Epoch')\n",
    "plt.ylabel('Loss')\n",
    "plt.title('Training Convergence')\n",
    "plt.legend(['Fold {}'.format(i) for i in range(1,n_splits+1)])\n",
    "plt.savefig(\"figs/convergence_train.png\")\n",
    "plt.show()"
   ],
   "metadata": {
    "collapsed": false,
    "ExecuteTime": {
     "end_time": "2023-12-06T22:38:24.660481200Z",
     "start_time": "2023-12-06T22:38:24.477634300Z"
    }
   },
   "id": "985ef570963e64ce"
  },
  {
   "cell_type": "code",
   "execution_count": null,
   "outputs": [],
   "source": [],
   "metadata": {
    "collapsed": false
   },
   "id": "22921ca8cf1fb6a7"
  }
 ],
 "metadata": {
  "kernelspec": {
   "display_name": "Python 3",
   "language": "python",
   "name": "python3"
  },
  "language_info": {
   "codemirror_mode": {
    "name": "ipython",
    "version": 2
   },
   "file_extension": ".py",
   "mimetype": "text/x-python",
   "name": "python",
   "nbconvert_exporter": "python",
   "pygments_lexer": "ipython2",
   "version": "2.7.6"
  }
 },
 "nbformat": 4,
 "nbformat_minor": 5
}
